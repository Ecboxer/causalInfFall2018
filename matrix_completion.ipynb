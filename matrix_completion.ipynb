{
 "cells": [
  {
   "cell_type": "code",
   "execution_count": 1,
   "metadata": {},
   "outputs": [],
   "source": [
    "import tensorflow as tf\n",
    "\n",
    "import numpy as np\n",
    "\n",
    "units = 5000\n",
    "time_steps = 52\n",
    "\n",
    "# data generating process is translated from jim savage's version!\n",
    "\n",
    "a_trend = np.arange(0, time_steps, 1)\n",
    "individual_effects = np.random.normal(size=units)\n",
    "A_trend = np.tile(a_trend, units).reshape(units, time_steps)\n",
    "A_indiv = np.tile(individual_effects, time_steps).reshape(time_steps, units).T\n",
    "A = A_trend + A_indiv\n",
    "\n",
    "X_observed = []\n",
    "for row in A.tolist():\n",
    "    current_row = []\n",
    "    for val in row:\n",
    "        val = val if np.random.rand() > 0.1 else np.nan\n",
    "        current_row.append(val)\n",
    "    X_observed.append(current_row)\n",
    "X_observed = np.array(X_observed)"
   ]
  },
  {
   "cell_type": "code",
   "execution_count": 6,
   "metadata": {},
   "outputs": [],
   "source": [
    "import tensorflow as tf\n",
    "import numpy as np\n",
    "\n",
    "\n",
    "class MCNNM(object):\n",
    "    def __init__(self, num_cores=8, GPU=False, CPU=True, learning_rate=1.):\n",
    "        self.train_op = None\n",
    "        self.learning_rate = learning_rate\n",
    "\n",
    "        # some boilerplate for enabling/disabling GPU\n",
    "        if GPU:\n",
    "            num_GPU = 1\n",
    "            num_CPU = 1\n",
    "        if CPU:\n",
    "            num_CPU = 1\n",
    "            num_GPU = 0\n",
    "\n",
    "        self.tf_config = tf.ConfigProto(intra_op_parallelism_threads=num_cores,\\\n",
    "                inter_op_parallelism_threads=num_cores, allow_soft_placement=True,\\\n",
    "                device_count = {'CPU' : num_CPU, 'GPU' : num_GPU})\n",
    "        \n",
    "    def build_tf_graph(self, X, lambd):\n",
    "        tf.reset_default_graph()\n",
    "        input_shape = X.shape\n",
    "        num_observed = float((~np.isnan(X)).sum())\n",
    "        \n",
    "        self.observed =  tf.constant((~np.isnan(X)) * 1, dtype=tf.float64)\n",
    "        X = tf.constant(X, tf.float64)\n",
    "        self.X_completed_tensor = tf.get_variable(\"x_completed\", \n",
    "                                                  input_shape, \n",
    "                                                  dtype=tf.float64)\n",
    "        self.l = self.loss(X, self.X_completed_tensor, num_observed, lambd)\n",
    "        return tf.train.AdamOptimizer(self.learning_rate).minimize(self.l)\n",
    "        \n",
    "    def loss(self, X_observed, X_completed, num_observed, lambd):\n",
    "        delta = self.project_A(X_observed - X_completed)\n",
    "        self.normalized_frobenius = tf.norm(delta) / num_observed\n",
    "        s, _, _ = tf.svd(X_completed)\n",
    "        self.nuclear_norm = tf.reduce_sum(s)\n",
    "        return self.normalized_frobenius + lambd * self.nuclear_norm\n",
    "    \n",
    "    def project_A(self, A):\n",
    "        return tf.multiply(tf.where(tf.is_nan(A), tf.zeros_like(A), A), self.observed)\n",
    "    \n",
    "    def fit_predict(self, X, lambd=0.0001, iterations=1000, verbose=True):\n",
    "        self.train_op = self.build_tf_graph(X, lambd)\n",
    "        with tf.Session(config=self.tf_config) as sess:\n",
    "            sess.run(tf.global_variables_initializer())\n",
    "            loss, frob, nn = sess.run([self.l, self.normalized_frobenius, self.nuclear_norm])\n",
    "            if verbose:\n",
    "                print(\"initial loss is {}. Frob norm is {}. NN is {}.\".format(loss, frob, nn))\n",
    "            for i in range(iterations):\n",
    "                _, loss = sess.run([self.train_op, self.l])\n",
    "                if i > 0 and i % 100 == 0 and verbose:\n",
    "                    print(\"current loss at step {} is: {}\".format(i, loss))\n",
    "            self.X_completed, self.current_loss = sess.run([self.X_completed_tensor, self.l])\n",
    "            if verbose:\n",
    "                print(\"final loss is {}\".format(self.current_loss))\n",
    "            return self.X_completed\n",
    "\n",
    "    def pick_lambdas(self, start=1, end=-9, count=10, power=True):\n",
    "        lambdas = np.arange(start, end, (end - start) / float(count))\n",
    "        if power:\n",
    "            lambdas = np.power(10, lambdas)\n",
    "        return lambdas\n",
    "    \n",
    "    def get_crossvalidation_loss(self, X_test, X_completed):\n",
    "        r = [(x_t - x_c)**2. for x_t, x_c in zip(X_test.flatten(), X_completed.flatten()) if not np.isnan(x_t)] \n",
    "        r = sum(r) / ((~np.isnan(X_test)).sum())\n",
    "        return r\n",
    "        \n",
    "    def cross_validate(self, X, lambdas=[], folds=5, kwargs={}, verbose=True):\n",
    "        if len(lambdas) == 0:\n",
    "            lambdas = self.pick_lambdas()\n",
    "        results = np.zeros(shape=(folds, len(lambdas)))\n",
    "        for i in range(folds):\n",
    "            X_train, X_test = self.split_data(X)\n",
    "            for j, lambd in enumerate(lambdas):\n",
    "                X_completed = self.fit_predict(X, lambd=lambd, verbose=False, **kwargs)\n",
    "                results[i][j] = self.get_crossvalidation_loss(X_test, X_completed)\n",
    "        results = np.median(results, axis=0)\n",
    "        if verbose:\n",
    "            print(\"lambdas:\", lambdas)\n",
    "            print(\"Median MSEs:\", results)\n",
    "        best_lambda = lambdas[np.argmin(results)]\n",
    "        return best_lambda\n",
    "        \n",
    "    def split_data(self, X):\n",
    "        number_observed = (~np.isnan(X_observed)).sum() \n",
    "        fraction_observed = number_observed / (X_observed.shape[0]*X_observed.shape[1])\n",
    "        number_to_select = int(np.ceil(fraction_observed * number_observed))\n",
    "        selected = np.random.choice(range(number_observed), size=number_to_select, replace=False)\n",
    "\n",
    "        X_train = []; X_test = []\n",
    "        for i, row in enumerate(X_observed.tolist()):\n",
    "            current_train_row = []\n",
    "            current_test_row = []\n",
    "            for j, val in enumerate(row):\n",
    "                if i + j in selected:\n",
    "                    current_train_row.append(val)\n",
    "                    current_test_row.append(np.nan)\n",
    "                else:\n",
    "                    current_train_row.append(np.nan)\n",
    "                    current_test_row.append(val)\n",
    "            X_train.append(current_train_row)\n",
    "            X_test.append(current_test_row)\n",
    "        X_train = np.array(X_train)\n",
    "        X_test = np.array(X_test)\n",
    "        return X_train, X_test"
   ]
  },
  {
   "cell_type": "code",
   "execution_count": 7,
   "metadata": {
    "scrolled": true
   },
   "outputs": [
    {
     "name": "stdout",
     "output_type": "stream",
     "text": [
      "initial loss is 0.061217783099648475. Frob norm is 0.06121048376737203. NN is 72.99332276442651.\n",
      "current loss at step 100 is: 0.03385654440099862\n",
      "current loss at step 200 is: 0.0026624741769605944\n",
      "current loss at step 300 is: 0.0018161797565133951\n",
      "current loss at step 400 is: 0.0015610925804993951\n",
      "final loss is 0.0015617183019356355\n"
     ]
    },
    {
     "data": {
      "text/plain": [
       "array([[-1.53635097, -0.53241162,  0.4666322 , ..., 47.47191515,\n",
       "        48.46528351, 49.45837831],\n",
       "       [-0.25671383,  0.74574557,  1.70734204, ..., 48.73569856,\n",
       "        49.73728772, 50.7358575 ],\n",
       "       [ 0.62897124,  1.64319631,  2.64757711, ..., 49.63582123,\n",
       "        50.63525461, 51.65707341],\n",
       "       ...,\n",
       "       [-2.46721051, -1.47652256, -0.47907954, ..., 46.5183322 ,\n",
       "        47.52154028, 48.52198505],\n",
       "       [-1.42512265, -0.43172244,  0.54887283, ..., 47.57060248,\n",
       "        48.56804265, 49.56963451],\n",
       "       [ 0.30190312,  1.30677794,  2.29937274, ..., 49.30762759,\n",
       "        50.29933079, 51.3009217 ]])"
      ]
     },
     "execution_count": 7,
     "metadata": {},
     "output_type": "execute_result"
    }
   ],
   "source": [
    "model = MCNNM()\n",
    "model.fit_predict(X_observed, iterations=500, lambd=1e-7)"
   ]
  },
  {
   "cell_type": "code",
   "execution_count": 8,
   "metadata": {},
   "outputs": [
    {
     "name": "stdout",
     "output_type": "stream",
     "text": [
      "lambdas: [1.e+01 1.e+00 1.e-01 1.e-02 1.e-03 1.e-04 1.e-05 1.e-06 1.e-07 1.e-08]\n",
      "Median MSEs: [8.74476848e+02 8.74519463e+02 8.74510827e+02 8.74504882e+02\n",
      " 8.74482450e+02 8.74466176e+02 8.74319237e+02 3.66621217e-04\n",
      " 9.10393502e-05 1.10589859e-04]\n"
     ]
    },
    {
     "data": {
      "text/plain": [
       "1e-07"
      ]
     },
     "execution_count": 8,
     "metadata": {},
     "output_type": "execute_result"
    }
   ],
   "source": [
    "lambd = model.cross_validate(X_observed, folds=3, kwargs={'iterations': 500})\n",
    "lambd"
   ]
  },
  {
   "cell_type": "code",
   "execution_count": 9,
   "metadata": {},
   "outputs": [
    {
     "name": "stdout",
     "output_type": "stream",
     "text": [
      "initial loss is 0.06128357602487604. Frob norm is 0.061210531446904096. NN is 73.04457797194394.\n",
      "current loss at step 100 is: 0.0464511584991518\n",
      "current loss at step 200 is: 0.023976601480258913\n",
      "current loss at step 300 is: 0.015457361665983767\n",
      "current loss at step 400 is: 0.015446730855401332\n",
      "current loss at step 500 is: 0.01544309509180137\n",
      "current loss at step 600 is: 0.01544212085522212\n",
      "current loss at step 700 is: 0.015442117787439329\n",
      "current loss at step 800 is: 0.015442367614257492\n",
      "current loss at step 900 is: 0.015442718219936577\n",
      "final loss is 0.015443150405275791\n"
     ]
    },
    {
     "data": {
      "text/plain": [
       "array([[-1.52355107, -0.5372075 ,  0.4659409 , ..., 47.4454591 ,\n",
       "        48.45111517, 49.44839559],\n",
       "       [-0.27066193,  0.75124867,  1.74130792, ..., 48.73297055,\n",
       "        49.72362367, 50.73003127],\n",
       "       [ 0.62201849,  1.62113617,  2.62492045, ..., 49.62687984,\n",
       "        50.62424393, 51.62259981],\n",
       "       ...,\n",
       "       [-2.45450328, -1.4649343 , -0.45360128, ..., 46.55554822,\n",
       "        47.47705725, 48.50694786],\n",
       "       [-1.44075926, -0.40896247,  0.5626034 , ..., 47.53997254,\n",
       "        48.53994925, 49.55376806],\n",
       "       [ 0.29568001,  1.26412352,  2.29720692, ..., 49.30814378,\n",
       "        50.30428848, 51.28134894]])"
      ]
     },
     "execution_count": 9,
     "metadata": {},
     "output_type": "execute_result"
    }
   ],
   "source": [
    "model.fit_predict(X_observed, iterations=1000, lambd=lambd)"
   ]
  },
  {
   "cell_type": "code",
   "execution_count": 10,
   "metadata": {},
   "outputs": [],
   "source": [
    "import pandas as pd\n",
    "df = pd.DataFrame({'X_observed': X_observed.flatten(), \n",
    "                   'X_completed': model.X_completed.flatten(), \n",
    "                   'observed': ~np.isnan(X_observed.flatten()), \n",
    "                   'a': A.flatten()})"
   ]
  },
  {
   "cell_type": "code",
   "execution_count": 11,
   "metadata": {},
   "outputs": [
    {
     "data": {
      "text/plain": [
       "<matplotlib.axes._subplots.AxesSubplot at 0x7eff04465358>"
      ]
     },
     "execution_count": 11,
     "metadata": {},
     "output_type": "execute_result"
    },
    {
     "data": {
      "image/png": "[encoded data removed]",
      "text/plain": [
       "<Figure size 432x288 with 1 Axes>"
      ]
     },
     "metadata": {},
     "output_type": "display_data"
    }
   ],
   "source": [
    "%matplotlib inline\n",
    "\n",
    "# How well do we fit the training data?\n",
    "\n",
    "df[df.observed == True].plot(x='X_observed', y='X_completed', kind='scatter')"
   ]
  },
  {
   "cell_type": "code",
   "execution_count": 12,
   "metadata": {},
   "outputs": [
    {
     "data": {
      "text/plain": [
       "<matplotlib.axes._subplots.AxesSubplot at 0x7efeecf3b7b8>"
      ]
     },
     "execution_count": 12,
     "metadata": {},
     "output_type": "execute_result"
    },
    {
     "data": {
      "image/png": "[encoded data removed]",
      "text/plain": [
       "<Figure size 432x288 with 1 Axes>"
      ]
     },
     "metadata": {},
     "output_type": "display_data"
    }
   ],
   "source": [
    "# How well do we complete the matrix on the unobserved entries?\n",
    "\n",
    "df[df.observed == False].plot(x='a', y='X_completed', kind='scatter')"
   ]
  },
  {
   "cell_type": "code",
   "execution_count": null,
   "metadata": {},
   "outputs": [],
   "source": []
  },
  {
   "cell_type": "code",
   "execution_count": null,
   "metadata": {},
   "outputs": [],
   "source": []
  }
 ],
 "metadata": {
  "kernelspec": {
   "display_name": "Python 3",
   "language": "python",
   "name": "python3"
  },
  "language_info": {
   "codemirror_mode": {
    "name": "ipython",
    "version": 3
   },
   "file_extension": ".py",
   "mimetype": "text/x-python",
   "name": "python",
   "nbconvert_exporter": "python",
   "pygments_lexer": "ipython3",
   "version": "3.6.5"
  },
  "toc": {
   "base_numbering": 1,
   "nav_menu": {},
   "number_sections": true,
   "sideBar": true,
   "skip_h1_title": false,
   "title_cell": "Table of Contents",
   "title_sidebar": "Contents",
   "toc_cell": false,
   "toc_position": {},
   "toc_section_display": true,
   "toc_window_display": false
  }
 },
 "nbformat": 4,
 "nbformat_minor": 2
}
