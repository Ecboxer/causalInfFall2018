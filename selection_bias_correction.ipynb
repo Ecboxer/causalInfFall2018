{
 "cells": [
  {
   "cell_type": "code",
   "execution_count": 13,
   "metadata": {},
   "outputs": [],
   "source": [
    "%matplotlib inline"
   ]
  },
  {
   "cell_type": "code",
   "execution_count": 1,
   "metadata": {},
   "outputs": [],
   "source": [
    "import pandas as pd\n",
    "import numpy as np"
   ]
  },
  {
   "cell_type": "code",
   "execution_count": 57,
   "metadata": {},
   "outputs": [],
   "source": [
    "N = 5000\n",
    "\n",
    "d = np.random.normal(size=N)\n",
    "\n",
    "epsilon = np.random.normal(size=N)\n",
    "y = d + epsilon\n",
    "\n",
    "p_s = 1. / (1. + np.exp(-5.*y))\n",
    "s = np.random.binomial(1., p=p_s)\n",
    "\n",
    "X = pd.DataFrame({'D': d, 'Y': y, 'S': s})\n",
    "X_sampled = X[X['S'] == 1]"
   ]
  },
  {
   "cell_type": "code",
   "execution_count": 58,
   "metadata": {},
   "outputs": [
    {
     "data": {
      "text/html": [
       "<div>\n",
       "<style scoped>\n",
       "    .dataframe tbody tr th:only-of-type {\n",
       "        vertical-align: middle;\n",
       "    }\n",
       "\n",
       "    .dataframe tbody tr th {\n",
       "        vertical-align: top;\n",
       "    }\n",
       "\n",
       "    .dataframe thead th {\n",
       "        text-align: right;\n",
       "    }\n",
       "</style>\n",
       "<table border=\"1\" class=\"dataframe\">\n",
       "  <thead>\n",
       "    <tr style=\"text-align: right;\">\n",
       "      <th></th>\n",
       "      <th>D</th>\n",
       "      <th>S</th>\n",
       "      <th>Y</th>\n",
       "    </tr>\n",
       "  </thead>\n",
       "  <tbody>\n",
       "    <tr>\n",
       "      <th>0</th>\n",
       "      <td>-1.153989</td>\n",
       "      <td>0</td>\n",
       "      <td>-0.701370</td>\n",
       "    </tr>\n",
       "    <tr>\n",
       "      <th>1</th>\n",
       "      <td>0.073366</td>\n",
       "      <td>0</td>\n",
       "      <td>-0.551148</td>\n",
       "    </tr>\n",
       "    <tr>\n",
       "      <th>2</th>\n",
       "      <td>-0.552886</td>\n",
       "      <td>1</td>\n",
       "      <td>0.543580</td>\n",
       "    </tr>\n",
       "    <tr>\n",
       "      <th>3</th>\n",
       "      <td>0.041570</td>\n",
       "      <td>0</td>\n",
       "      <td>-0.696925</td>\n",
       "    </tr>\n",
       "    <tr>\n",
       "      <th>4</th>\n",
       "      <td>0.568853</td>\n",
       "      <td>0</td>\n",
       "      <td>-0.511785</td>\n",
       "    </tr>\n",
       "  </tbody>\n",
       "</table>\n",
       "</div>"
      ],
      "text/plain": [
       "          D  S         Y\n",
       "0 -1.153989  0 -0.701370\n",
       "1  0.073366  0 -0.551148\n",
       "2 -0.552886  1  0.543580\n",
       "3  0.041570  0 -0.696925\n",
       "4  0.568853  0 -0.511785"
      ]
     },
     "execution_count": 58,
     "metadata": {},
     "output_type": "execute_result"
    }
   ],
   "source": [
    "X.head()"
   ]
  },
  {
   "cell_type": "code",
   "execution_count": 59,
   "metadata": {},
   "outputs": [
    {
     "data": {
      "text/html": [
       "<div>\n",
       "<style scoped>\n",
       "    .dataframe tbody tr th:only-of-type {\n",
       "        vertical-align: middle;\n",
       "    }\n",
       "\n",
       "    .dataframe tbody tr th {\n",
       "        vertical-align: top;\n",
       "    }\n",
       "\n",
       "    .dataframe thead th {\n",
       "        text-align: right;\n",
       "    }\n",
       "</style>\n",
       "<table border=\"1\" class=\"dataframe\">\n",
       "  <thead>\n",
       "    <tr style=\"text-align: right;\">\n",
       "      <th></th>\n",
       "      <th>D</th>\n",
       "      <th>S</th>\n",
       "      <th>Y</th>\n",
       "    </tr>\n",
       "  </thead>\n",
       "  <tbody>\n",
       "    <tr>\n",
       "      <th>2</th>\n",
       "      <td>-0.552886</td>\n",
       "      <td>1</td>\n",
       "      <td>0.543580</td>\n",
       "    </tr>\n",
       "    <tr>\n",
       "      <th>5</th>\n",
       "      <td>0.735751</td>\n",
       "      <td>1</td>\n",
       "      <td>1.265191</td>\n",
       "    </tr>\n",
       "    <tr>\n",
       "      <th>6</th>\n",
       "      <td>1.648369</td>\n",
       "      <td>1</td>\n",
       "      <td>1.630948</td>\n",
       "    </tr>\n",
       "    <tr>\n",
       "      <th>10</th>\n",
       "      <td>0.348982</td>\n",
       "      <td>1</td>\n",
       "      <td>2.127916</td>\n",
       "    </tr>\n",
       "    <tr>\n",
       "      <th>11</th>\n",
       "      <td>1.188942</td>\n",
       "      <td>1</td>\n",
       "      <td>0.481489</td>\n",
       "    </tr>\n",
       "  </tbody>\n",
       "</table>\n",
       "</div>"
      ],
      "text/plain": [
       "           D  S         Y\n",
       "2  -0.552886  1  0.543580\n",
       "5   0.735751  1  1.265191\n",
       "6   1.648369  1  1.630948\n",
       "10  0.348982  1  2.127916\n",
       "11  1.188942  1  0.481489"
      ]
     },
     "execution_count": 59,
     "metadata": {},
     "output_type": "execute_result"
    }
   ],
   "source": [
    "X_sampled.head()"
   ]
  },
  {
   "cell_type": "code",
   "execution_count": 60,
   "metadata": {},
   "outputs": [
    {
     "data": {
      "text/plain": [
       "<matplotlib.axes._subplots.AxesSubplot at 0x7fa2b3843e10>"
      ]
     },
     "execution_count": 60,
     "metadata": {},
     "output_type": "execute_result"
    },
    {
     "data": {
      "image/png": "[encoded data removed]",
      "text/plain": [
       "<Figure size 432x288 with 1 Axes>"
      ]
     },
     "metadata": {},
     "output_type": "display_data"
    }
   ],
   "source": [
    "X.plot(x='D', y='Y', style='bo', alpha=0.3, xlim=(-5,5), ylim=(-5, 5))"
   ]
  },
  {
   "cell_type": "code",
   "execution_count": 63,
   "metadata": {},
   "outputs": [
    {
     "data": {
      "text/plain": [
       "<matplotlib.axes._subplots.AxesSubplot at 0x7fa2abfa1898>"
      ]
     },
     "execution_count": 63,
     "metadata": {},
     "output_type": "execute_result"
    },
    {
     "data": {
      "image/png": "[encoded data removed]",
      "text/plain": [
       "<Figure size 432x288 with 1 Axes>"
      ]
     },
     "metadata": {},
     "output_type": "display_data"
    }
   ],
   "source": [
    "X_sampled.plot(x='D', y='Y', style='bo', alpha=0.3, xlim=(-5,5), ylim=(-5, 5))"
   ]
  },
  {
   "cell_type": "code",
   "execution_count": null,
   "metadata": {},
   "outputs": [],
   "source": [
    "from statsmodels.nonparametric.kernel_regression import KernelReg\n",
    "import matplotlib.pyplot as pp"
   ]
  },
  {
   "cell_type": "code",
   "execution_count": 76,
   "metadata": {},
   "outputs": [
    {
     "data": {
      "text/plain": [
       "Text(0,0.5,'Y')"
      ]
     },
     "execution_count": 76,
     "metadata": {},
     "output_type": "execute_result"
    },
    {
     "data": {
      "image/png": "[encoded data removed]",
      "text/plain": [
       "<Figure size 432x288 with 1 Axes>"
      ]
     },
     "metadata": {},
     "output_type": "display_data"
    }
   ],
   "source": [
    "model = KernelReg(X['Y'], X['D'], 'c')\n",
    "result = model.fit(X['D'])[0]\n",
    "\n",
    "pp.plot(X['D'], result, 'b.'); pp.xlim(-5,5); pp.ylim(-5,5); pp.title(\"Conditional mean of population data\"); pp.xlabel('D'); pp.ylabel(\"Y\")"
   ]
  },
  {
   "cell_type": "code",
   "execution_count": 77,
   "metadata": {},
   "outputs": [
    {
     "data": {
      "text/plain": [
       "Text(0,0.5,'Y')"
      ]
     },
     "execution_count": 77,
     "metadata": {},
     "output_type": "execute_result"
    },
    {
     "data": {
      "image/png": "[encoded data removed]",
      "text/plain": [
       "<Figure size 432x288 with 1 Axes>"
      ]
     },
     "metadata": {},
     "output_type": "display_data"
    }
   ],
   "source": [
    "model = KernelReg(X_sampled['Y'], X_sampled['D'], 'c')\n",
    "result = model.fit(X_sampled['D'])[0]\n",
    "\n",
    "pp.plot(X_sampled['D'], result, 'b.'); pp.xlim(-5,5); pp.ylim(-5,5); pp.title(\"Conditional mean of sampled data\"); pp.xlabel('D'); pp.ylabel(\"Y\")"
   ]
  },
  {
   "cell_type": "markdown",
   "metadata": {},
   "source": [
    "## The sampled conditional mean is biased due to conditioning on a descendant of a collider involving an error term!! "
   ]
  },
  {
   "cell_type": "markdown",
   "metadata": {},
   "source": [
    "## Now, let's do the estimation for the article translation problem."
   ]
  },
  {
   "cell_type": "code",
   "execution_count": 95,
   "metadata": {},
   "outputs": [],
   "source": [
    "d = np.random.choice(range(5), size=N)\n",
    "\n",
    "q = np.random.normal(d)\n",
    "\n",
    "y = 100* np.random.normal(q)\n",
    "\n",
    "p_s = 1. / (1. + np.exp(-(y - 200)/200))\n",
    "s = np.random.binomial(1, p=p_s)\n",
    "\n",
    "yt = 100*np.random.normal(q)\n",
    "\n",
    "X = pd.DataFrame({'D': d, 'Y': y, 'Yt': yt, 'S': s})"
   ]
  },
  {
   "cell_type": "code",
   "execution_count": 96,
   "metadata": {},
   "outputs": [
    {
     "data": {
      "text/html": [
       "<div>\n",
       "<style scoped>\n",
       "    .dataframe tbody tr th:only-of-type {\n",
       "        vertical-align: middle;\n",
       "    }\n",
       "\n",
       "    .dataframe tbody tr th {\n",
       "        vertical-align: top;\n",
       "    }\n",
       "\n",
       "    .dataframe thead th {\n",
       "        text-align: right;\n",
       "    }\n",
       "</style>\n",
       "<table border=\"1\" class=\"dataframe\">\n",
       "  <thead>\n",
       "    <tr style=\"text-align: right;\">\n",
       "      <th></th>\n",
       "      <th>D</th>\n",
       "      <th>S</th>\n",
       "      <th>Y</th>\n",
       "      <th>Yt</th>\n",
       "    </tr>\n",
       "  </thead>\n",
       "  <tbody>\n",
       "    <tr>\n",
       "      <th>0</th>\n",
       "      <td>3</td>\n",
       "      <td>1</td>\n",
       "      <td>259.256570</td>\n",
       "      <td>93.277309</td>\n",
       "    </tr>\n",
       "    <tr>\n",
       "      <th>1</th>\n",
       "      <td>1</td>\n",
       "      <td>0</td>\n",
       "      <td>-33.135337</td>\n",
       "      <td>298.229415</td>\n",
       "    </tr>\n",
       "    <tr>\n",
       "      <th>2</th>\n",
       "      <td>0</td>\n",
       "      <td>0</td>\n",
       "      <td>-57.907072</td>\n",
       "      <td>-76.446788</td>\n",
       "    </tr>\n",
       "    <tr>\n",
       "      <th>3</th>\n",
       "      <td>4</td>\n",
       "      <td>1</td>\n",
       "      <td>275.986449</td>\n",
       "      <td>387.190582</td>\n",
       "    </tr>\n",
       "    <tr>\n",
       "      <th>4</th>\n",
       "      <td>0</td>\n",
       "      <td>0</td>\n",
       "      <td>6.603954</td>\n",
       "      <td>59.294716</td>\n",
       "    </tr>\n",
       "  </tbody>\n",
       "</table>\n",
       "</div>"
      ],
      "text/plain": [
       "   D  S           Y          Yt\n",
       "0  3  1  259.256570   93.277309\n",
       "1  1  0  -33.135337  298.229415\n",
       "2  0  0  -57.907072  -76.446788\n",
       "3  4  1  275.986449  387.190582\n",
       "4  0  0    6.603954   59.294716"
      ]
     },
     "execution_count": 96,
     "metadata": {},
     "output_type": "execute_result"
    }
   ],
   "source": [
    "X.head()"
   ]
  },
  {
   "cell_type": "code",
   "execution_count": 97,
   "metadata": {},
   "outputs": [],
   "source": [
    "X_sampled = X[X['S'] == 1]"
   ]
  },
  {
   "cell_type": "markdown",
   "metadata": {},
   "source": [
    "## Now that we have our data, let's compare the sample E[Yt|D] with the population E[Yt|D]. We wouldn't normally be able to make this comparison, but since we generated the data we have the population E[Yt|D]."
   ]
  },
  {
   "cell_type": "code",
   "execution_count": 103,
   "metadata": {},
   "outputs": [
    {
     "data": {
      "text/plain": [
       "<matplotlib.axes._subplots.AxesSubplot at 0x7fa2ab8bf5f8>"
      ]
     },
     "execution_count": 103,
     "metadata": {},
     "output_type": "execute_result"
    },
    {
     "data": {
      "image/png": "[encoded data removed]",
      "text/plain": [
       "<Figure size 432x288 with 1 Axes>"
      ]
     },
     "metadata": {},
     "output_type": "display_data"
    }
   ],
   "source": [
    "# first the sample means\n",
    "\n",
    "X_sampled.groupby('D').mean().reset_index().plot(x='D', y='Yt', kind='bar')"
   ]
  },
  {
   "cell_type": "code",
   "execution_count": 168,
   "metadata": {},
   "outputs": [
    {
     "data": {
      "text/html": [
       "<div>\n",
       "<style scoped>\n",
       "    .dataframe tbody tr th:only-of-type {\n",
       "        vertical-align: middle;\n",
       "    }\n",
       "\n",
       "    .dataframe tbody tr th {\n",
       "        vertical-align: top;\n",
       "    }\n",
       "\n",
       "    .dataframe thead th {\n",
       "        text-align: right;\n",
       "    }\n",
       "</style>\n",
       "<table border=\"1\" class=\"dataframe\">\n",
       "  <thead>\n",
       "    <tr style=\"text-align: right;\">\n",
       "      <th></th>\n",
       "      <th>Yt</th>\n",
       "    </tr>\n",
       "    <tr>\n",
       "      <th>D</th>\n",
       "      <th></th>\n",
       "    </tr>\n",
       "  </thead>\n",
       "  <tbody>\n",
       "    <tr>\n",
       "      <th>0</th>\n",
       "      <td>40.990550</td>\n",
       "    </tr>\n",
       "    <tr>\n",
       "      <th>1</th>\n",
       "      <td>134.658688</td>\n",
       "    </tr>\n",
       "    <tr>\n",
       "      <th>2</th>\n",
       "      <td>220.891312</td>\n",
       "    </tr>\n",
       "    <tr>\n",
       "      <th>3</th>\n",
       "      <td>316.190018</td>\n",
       "    </tr>\n",
       "    <tr>\n",
       "      <th>4</th>\n",
       "      <td>414.573617</td>\n",
       "    </tr>\n",
       "  </tbody>\n",
       "</table>\n",
       "</div>"
      ],
      "text/plain": [
       "           Yt\n",
       "D            \n",
       "0   40.990550\n",
       "1  134.658688\n",
       "2  220.891312\n",
       "3  316.190018\n",
       "4  414.573617"
      ]
     },
     "execution_count": 168,
     "metadata": {},
     "output_type": "execute_result"
    }
   ],
   "source": [
    "X_sampled.groupby('D').mean()[['Yt']]"
   ]
  },
  {
   "cell_type": "code",
   "execution_count": 101,
   "metadata": {},
   "outputs": [
    {
     "data": {
      "text/plain": [
       "<matplotlib.axes._subplots.AxesSubplot at 0x7fa2ab931198>"
      ]
     },
     "execution_count": 101,
     "metadata": {},
     "output_type": "execute_result"
    },
    {
     "data": {
      "image/png": "[encoded data removed]",
      "text/plain": [
       "<Figure size 432x288 with 1 Axes>"
      ]
     },
     "metadata": {},
     "output_type": "display_data"
    }
   ],
   "source": [
    "# and now the (usually unmeasured) population means.\n",
    "\n",
    "X.groupby('D').mean().reset_index().plot(x='D', y='Yt', kind='bar')"
   ]
  },
  {
   "cell_type": "code",
   "execution_count": 170,
   "metadata": {},
   "outputs": [
    {
     "data": {
      "text/html": [
       "<div>\n",
       "<style scoped>\n",
       "    .dataframe tbody tr th:only-of-type {\n",
       "        vertical-align: middle;\n",
       "    }\n",
       "\n",
       "    .dataframe tbody tr th {\n",
       "        vertical-align: top;\n",
       "    }\n",
       "\n",
       "    .dataframe thead th {\n",
       "        text-align: right;\n",
       "    }\n",
       "</style>\n",
       "<table border=\"1\" class=\"dataframe\">\n",
       "  <thead>\n",
       "    <tr style=\"text-align: right;\">\n",
       "      <th></th>\n",
       "      <th>Yt</th>\n",
       "    </tr>\n",
       "    <tr>\n",
       "      <th>D</th>\n",
       "      <th></th>\n",
       "    </tr>\n",
       "  </thead>\n",
       "  <tbody>\n",
       "    <tr>\n",
       "      <th>0</th>\n",
       "      <td>3.854319</td>\n",
       "    </tr>\n",
       "    <tr>\n",
       "      <th>1</th>\n",
       "      <td>97.179741</td>\n",
       "    </tr>\n",
       "    <tr>\n",
       "      <th>2</th>\n",
       "      <td>195.800158</td>\n",
       "    </tr>\n",
       "    <tr>\n",
       "      <th>3</th>\n",
       "      <td>298.337302</td>\n",
       "    </tr>\n",
       "    <tr>\n",
       "      <th>4</th>\n",
       "      <td>402.939388</td>\n",
       "    </tr>\n",
       "  </tbody>\n",
       "</table>\n",
       "</div>"
      ],
      "text/plain": [
       "           Yt\n",
       "D            \n",
       "0    3.854319\n",
       "1   97.179741\n",
       "2  195.800158\n",
       "3  298.337302\n",
       "4  402.939388"
      ]
     },
     "execution_count": 170,
     "metadata": {},
     "output_type": "execute_result"
    }
   ],
   "source": [
    "X.groupby('D').mean()[['Yt']]"
   ]
  },
  {
   "cell_type": "markdown",
   "metadata": {},
   "source": [
    "## We can see there's a good bit of bias in the expected values!"
   ]
  },
  {
   "cell_type": "markdown",
   "metadata": {},
   "source": [
    "## Now, let's use the estimator to get corrected expectations. \n",
    "We want to estimate\n",
    "\n",
    "$E_{population}[Yt|D] = \\sum_{Y}E[Yt|Y, D, S=1]P(Y|D)$, \n",
    "\n",
    "or, changing notation slightly, \n",
    "\n",
    "$E_{population}[Yt|D] = \\sum_{Y}E_{sample}[Yt|Y, D]P_{population}(Y|D)$\n",
    "\n",
    "But $Y$ is continuous! We actually need to take the integral over $Y$,\n",
    "\n",
    "$E_{population}[Yt|D] = \\int E_{sample}[Yt|Y, D]P_{population}(Y|D) dY$\n",
    "\n",
    "The problem is actually pretty tricky, since we really need to estimate $P_{population}(Y|D)$ as well. We've only done the binary case until now. Let's tackle the whole problem.\n",
    "\n",
    "We'll estimate $P_{population}(Y|D)$ with a kernel density estimator, and then actually perform the integral numerically using scipy."
   ]
  },
  {
   "cell_type": "code",
   "execution_count": 183,
   "metadata": {},
   "outputs": [
    {
     "name": "stderr",
     "output_type": "stream",
     "text": [
      "/home/akelleh/.virtualenvs/data/lib/python3.5/site-packages/statsmodels/nonparametric/kernel_density.py:477: RuntimeWarning: invalid value encountered in log\n",
      "  L += func(f_i)\n"
     ]
    },
    {
     "data": {
      "text/plain": [
       "array([0.00279812, 0.00184942, 0.00245432, ..., 0.00260634, 0.00248156,\n",
       "       0.00238504])"
      ]
     },
     "execution_count": 183,
     "metadata": {},
     "output_type": "execute_result"
    }
   ],
   "source": [
    "# estimate the density, $P_{population}(Y|D)$\n",
    "\n",
    "from statsmodels.nonparametric.kernel_density import KDEMultivariateConditional\n",
    "\n",
    "conditional_model = KDEMultivariateConditional(X['Y'], X['D'], 'c', 'o', 'cv_ml')\n",
    "conditional_model.pdf(X['Y'], X['D'])"
   ]
  },
  {
   "cell_type": "code",
   "execution_count": 184,
   "metadata": {},
   "outputs": [],
   "source": [
    "p_y_given_d = conditional_model.pdf(X['Y'], [0.]*len(X))"
   ]
  },
  {
   "cell_type": "code",
   "execution_count": 185,
   "metadata": {},
   "outputs": [
    {
     "data": {
      "text/plain": [
       "Text(0.5,1,'Conditional Density Plot for P(Y|D=0)')"
      ]
     },
     "execution_count": 185,
     "metadata": {},
     "output_type": "execute_result"
    },
    {
     "data": {
      "image/png": "[encoded data removed]",
      "text/plain": [
       "<Figure size 432x288 with 1 Axes>"
      ]
     },
     "metadata": {},
     "output_type": "display_data"
    }
   ],
   "source": [
    "pp.plot(X['Y'], p_y_given_d, 'bo'); pp.xlabel('Y'); pp.ylabel('$P(Y|D=0)$'); pp.title(\"Conditional Density Plot for P(Y|D=0)\")"
   ]
  },
  {
   "cell_type": "code",
   "execution_count": 186,
   "metadata": {},
   "outputs": [
    {
     "data": {
      "text/plain": [
       "Text(0.5,1,'Conditional Density Plot for P(Y|D=4)')"
      ]
     },
     "execution_count": 186,
     "metadata": {},
     "output_type": "execute_result"
    },
    {
     "data": {
      "image/png": "[encoded data removed]",
      "text/plain": [
       "<Figure size 432x288 with 1 Axes>"
      ]
     },
     "metadata": {},
     "output_type": "display_data"
    }
   ],
   "source": [
    "p_y_given_d = conditional_model.pdf(X['Y'], [4.]*len(X))\n",
    "pp.plot(X['Y'], p_y_given_d, 'bo'); pp.xlabel('Y'); pp.ylabel('$P(Y|D=4)$'); pp.title(\"Conditional Density Plot for P(Y|D=4)\")"
   ]
  },
  {
   "cell_type": "markdown",
   "metadata": {},
   "source": [
    "## The conditional plots look pretty good!\n",
    "\n",
    "Now that we have $P_{population}(Y|D)$, we need the expected value, $E_{sample}[Yt|Y, D]$. It's linear, so let's just use a linear model."
   ]
  },
  {
   "cell_type": "code",
   "execution_count": 187,
   "metadata": {},
   "outputs": [],
   "source": [
    "from sklearn.linear_model import LinearRegression\n",
    "\n",
    "expectation_model = LinearRegression()\n",
    "expectation_model = expectation_model.fit(X_sampled[['Y', 'D']], X_sampled['Yt'])"
   ]
  },
  {
   "cell_type": "code",
   "execution_count": 188,
   "metadata": {},
   "outputs": [
    {
     "data": {
      "text/plain": [
       "[<matplotlib.lines.Line2D at 0x7fa2a6ae2c88>]"
      ]
     },
     "execution_count": 188,
     "metadata": {},
     "output_type": "execute_result"
    },
    {
     "data": {
      "image/png": "[encoded data removed]",
      "text/plain": [
       "<Figure size 432x288 with 1 Axes>"
      ]
     },
     "metadata": {},
     "output_type": "display_data"
    }
   ],
   "source": [
    "df = X_sampled.copy()\n",
    "df['D'] = 4\n",
    "E_yt_given_d_x = expectation_model.predict(df[['Y', 'D']])\n",
    "pp.plot(df['Y'], E_yt_given_d_x, 'bo')"
   ]
  },
  {
   "cell_type": "markdown",
   "metadata": {},
   "source": [
    "## Time to integrate!\n",
    "\n",
    "Again, we're estimating \n",
    "$E_{population}[Yt|D] = \\int E_{sample}[Yt|Y, D]P_{population}(Y|D) dY$\n",
    "\n",
    "For more reference on the integrator, check out https://docs.scipy.org/doc/scipy/reference/generated/scipy.integrate.quad.html#scipy.integrate.quad\n",
    "\n",
    "The arguments are the integrand (a function), and the upper and lower bounds for the integration. We'll integrate from the min to the max of the observed Y values.\n",
    "\n"
   ]
  },
  {
   "cell_type": "code",
   "execution_count": 189,
   "metadata": {},
   "outputs": [],
   "source": [
    "from scipy.integrate import quad\n",
    "\n",
    "y_min = X['Y'].min()\n",
    "y_max = X['Y'].max()\n",
    "\n",
    "def integrand(Y, D):\n",
    "    return (expectation_model.predict([[Y, D]]) * conditional_model.pdf([Y], [D]))[0]"
   ]
  },
  {
   "cell_type": "code",
   "execution_count": 190,
   "metadata": {},
   "outputs": [
    {
     "data": {
      "text/plain": [
       "0.12613300982650508"
      ]
     },
     "execution_count": 190,
     "metadata": {},
     "output_type": "execute_result"
    }
   ],
   "source": [
    "integrand(100, 0)"
   ]
  },
  {
   "cell_type": "code",
   "execution_count": 193,
   "metadata": {},
   "outputs": [
    {
     "data": {
      "text/plain": [
       "(398.51751760868905, 2.897577824563231e-06)"
      ]
     },
     "execution_count": 193,
     "metadata": {},
     "output_type": "execute_result"
    }
   ],
   "source": [
    "D = 4\n",
    "quad(integrand, y_min, y_max, args=(D,))"
   ]
  },
  {
   "cell_type": "code",
   "execution_count": null,
   "metadata": {},
   "outputs": [],
   "source": []
  }
 ],
 "metadata": {
  "kernelspec": {
   "display_name": "Python 3",
   "language": "python",
   "name": "python3"
  },
  "language_info": {
   "codemirror_mode": {
    "name": "ipython",
    "version": 3
   },
   "file_extension": ".py",
   "mimetype": "text/x-python",
   "name": "python",
   "nbconvert_exporter": "python",
   "pygments_lexer": "ipython3",
   "version": "3.5.2"
  }
 },
 "nbformat": 4,
 "nbformat_minor": 2
}