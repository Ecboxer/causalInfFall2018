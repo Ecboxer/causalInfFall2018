{
 "cells": [
  {
   "cell_type": "markdown",
   "metadata": {},
   "source": [
    "Morgan and Winship Chapter 11  \n",
    "Repeated Observations and the Estimation of Causal Effects"
   ]
  },
  {
   "cell_type": "code",
   "execution_count": 1,
   "metadata": {
    "ExecuteTime": {
     "end_time": "2018-12-18T21:37:29.470563Z",
     "start_time": "2018-12-18T21:37:29.082208Z"
    }
   },
   "outputs": [],
   "source": [
    "import numpy as np\n",
    "import pandas as pd\n",
    "import matplotlib.pyplot as plt\n",
    "\n",
    "%matplotlib inline"
   ]
  },
  {
   "cell_type": "markdown",
   "metadata": {},
   "source": [
    "If potential outcomes evolve in predictable ways, then it may be possible to predict counterfactual outcomes for individuals with longitudinal data."
   ]
  },
  {
   "cell_type": "markdown",
   "metadata": {},
   "source": [
    "#### Interrupted Time Series Models  \n",
    "$Y_t = f(t) + D_tb + e_t$  \n",
    "$Y_t$ some function in time, represented by $f(t)$ on the right  \n",
    "$D_t$ a dummy variable indicating whether the treatment is in effect at time $t$  \n",
    "$e_t$ time-varying noise  \n",
    "Use the observed trajectory of $Y_t$ prior to treatment to predict the future trajectory had there not been a treatment."
   ]
  },
  {
   "cell_type": "markdown",
   "metadata": {},
   "source": [
    "Braga et al. (2001) offer four types of supplemental analysis for ITS designs:  \n",
    "1. Consider additional dependent variables of the causal state. One can consider dependent variables that the causal state should not have affected very much. Evidence of an impact here would provide strong evidence for the presence of factors other than the causal state.  \n",
    "2. Focus the hypothesis and consider it within meaningful subgroups. For example, consider the effect of the causal state on a sample with extreme prior levels of the outcome variable. If possible, it would be useful to compare such an effect with that of a sample with similarly extreme levels but which did not experience the treatment.\n",
    "3. Include additional adjustment variables in the time series models to capture underlying time trends as well as year-by-year variability before and after the introduction of the treatment.\n",
    "4. Compare the time trend in the data with data from samples where the treatment had not been implemented.  \n",
    "Another strategy is to consider the effect of halting the treatment. If a perceived effect in the outcome variable is reversed this would provide support for a causal effect."
   ]
  },
  {
   "cell_type": "markdown",
   "metadata": {},
   "source": [
    "1. Assess the effect of the cause on multiple outcomes that should be affected by\n",
    "the cause.\n",
    "2. Assess the effect of the cause on outcomes that should not be affected by the\n",
    "cause.\n",
    "3. Assess the effect of the cause within subgroups across which the causal effect\n",
    "should vary in predictable ways.\n",
    "4. Adjust for trends in other variables that may affect or be related to the underlying\n",
    "time series of interest.\n",
    "5. Compare the focal time trend with the time trend for other units or populations\n",
    "to determine whether breaks in the time series are likely to occur in the absence\n",
    "of the cause.\n",
    "6. Assess the impact of the termination of the cause in addition to its initiation."
   ]
  },
  {
   "cell_type": "markdown",
   "metadata": {},
   "source": [
    "#### Regression Discontinuity"
   ]
  },
  {
   "cell_type": "markdown",
   "metadata": {},
   "source": []
  }
 ],
 "metadata": {
  "kernelspec": {
   "display_name": "Python 3",
   "language": "python",
   "name": "python3"
  },
  "language_info": {
   "codemirror_mode": {
    "name": "ipython",
    "version": 3
   },
   "file_extension": ".py",
   "mimetype": "text/x-python",
   "name": "python",
   "nbconvert_exporter": "python",
   "pygments_lexer": "ipython3",
   "version": "3.6.5"
  },
  "toc": {
   "base_numbering": 1,
   "nav_menu": {},
   "number_sections": true,
   "sideBar": true,
   "skip_h1_title": false,
   "title_cell": "Table of Contents",
   "title_sidebar": "Contents",
   "toc_cell": false,
   "toc_position": {},
   "toc_section_display": true,
   "toc_window_display": false
  }
 },
 "nbformat": 4,
 "nbformat_minor": 2
}
