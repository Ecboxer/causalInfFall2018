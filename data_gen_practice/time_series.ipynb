{
 "cells": [
  {
   "cell_type": "markdown",
   "metadata": {},
   "source": [
    "Morgan and Winship Chapter 11  \n",
    "Repeated Observations and the Estimation of Causal Effects"
   ]
  },
  {
   "cell_type": "code",
   "execution_count": 1,
   "metadata": {
    "ExecuteTime": {
     "end_time": "2018-12-18T21:37:29.470563Z",
     "start_time": "2018-12-18T21:37:29.082208Z"
    }
   },
   "outputs": [],
   "source": [
    "import numpy as np\n",
    "import pandas as pd\n",
    "import matplotlib.pyplot as plt\n",
    "\n",
    "%matplotlib inline"
   ]
  },
  {
   "cell_type": "markdown",
   "metadata": {},
   "source": [
    "If potential outcomes evolve in predictable ways, then it may be possible to predict counterfactual outcomes for individuals with longitudinal data."
   ]
  },
  {
   "cell_type": "markdown",
   "metadata": {},
   "source": [
    "#### Interrupted Time Series Models  \n",
    "$Y_t = f(t) + D_tb + e_t$  \n",
    "$Y_t$ some function in time, represented by $f(t)$ on the right  \n",
    "$D_t$ a dummy variable indicating whether the treatment is in effect at time $t$  \n",
    "$e_t$ time-varying noise  \n",
    "Use the observed trajectory of $Y_t$ prior to treatment to predict the future trajectory had there not been a treatment."
   ]
  },
  {
   "cell_type": "markdown",
   "metadata": {},
   "source": [
    "Braga et al. (2001) offer four types of supplemental analysis for ITS designs:  \n",
    "1. Consider additional dependent variables of the causal state. One can consider dependent variables that the causal state should not have affected very much. Evidence of an impact here would provide strong evidence for the presence of factors other than the causal state.  \n",
    "2. Focus the hypothesis and consider it within meaningful subgroups. For example, consider the effect of the causal state on a sample with extreme prior levels of the outcome variable. If possible, it would be useful to compare such an effect with that of a sample with similarly extreme levels but which did not experience the treatment.\n",
    "3. Include additional adjustment variables in the time series models to capture underlying time trends as well as year-by-year variability before and after the introduction of the treatment.\n",
    "4. Compare the time trend in the data with data from samples where the treatment had not been implemented.  \n",
    "Another strategy is to consider the effect of halting the treatment. If a perceived effect in the outcome variable is reversed this would provide support for a causal effect."
   ]
  },
  {
   "cell_type": "markdown",
   "metadata": {},
   "source": [
    "1. Assess the effect of the cause on multiple outcomes that should be affected by\n",
    "the cause.\n",
    "2. Assess the effect of the cause on outcomes that should not be affected by the\n",
    "cause.\n",
    "3. Assess the effect of the cause within subgroups across which the causal effect\n",
    "should vary in predictable ways.\n",
    "4. Adjust for trends in other variables that may affect or be related to the underlying\n",
    "time series of interest.\n",
    "5. Compare the focal time trend with the time trend for other units or populations\n",
    "to determine whether breaks in the time series are likely to occur in the absence\n",
    "of the cause.\n",
    "6. Assess the impact of the termination of the cause in addition to its initiation."
   ]
  },
  {
   "cell_type": "markdown",
   "metadata": {},
   "source": [
    "#### Regression Discontinuity"
   ]
  },
  {
   "cell_type": "markdown",
   "metadata": {},
   "source": [
    "Similar to ITS, but treatment assignment pattern is a function of variable values, not of time. It is appropriate when the treatment assignment is sharply discontinuous with the values of the variable."
   ]
  },
  {
   "cell_type": "markdown",
   "metadata": {},
   "source": [
    "Fuzzy RD design: The treatment variable is a function of an assignment process in which there is error associated with Y.  \n",
    "In the process below, the assignment is imperfect since other determinants of $D$, namely $U_D$, cannot be assumed to be independent of the unobserved determinants of $Y$, $U_Y$.  \n",
    "For fuzzy RD design, the assignment rule is not deterministic since $D$ is a function of $f(Z)$ and $U_D$ and because $U_D$ and $U_Y$ are associated by common causes. One conditions on $Z$ so that $f(Z)$ can be used as an instrument. It is only possible if $f(Z)$ is some nonlinear function of $Z$ so that the two are not linearly dependent."
   ]
  },
  {
   "cell_type": "code",
   "execution_count": 3,
   "metadata": {
    "ExecuteTime": {
     "end_time": "2018-12-19T00:40:03.651877Z",
     "start_time": "2018-12-19T00:40:03.591370Z"
    }
   },
   "outputs": [
    {
     "data": {
      "image/svg+xml": [
       "<?xml version=\"1.0\" encoding=\"UTF-8\" standalone=\"no\"?>\n",
       "<!DOCTYPE svg PUBLIC \"-//W3C//DTD SVG 1.1//EN\"\n",
       " \"http://www.w3.org/Graphics/SVG/1.1/DTD/svg11.dtd\">\n",
       "<!-- Generated by graphviz version 2.40.1 (20161225.0304)\n",
       " -->\n",
       "<!-- Title: %3 Pages: 1 -->\n",
       "<svg width=\"205pt\" height=\"260pt\"\n",
       " viewBox=\"0.00 0.00 204.95 260.00\" xmlns=\"http://www.w3.org/2000/svg\" xmlns:xlink=\"http://www.w3.org/1999/xlink\">\n",
       "<g id=\"graph0\" class=\"graph\" transform=\"scale(1 1) rotate(0) translate(4 256)\">\n",
       "<title>%3</title>\n",
       "<polygon fill=\"#ffffff\" stroke=\"transparent\" points=\"-4,4 -4,-256 200.9475,-256 200.9475,4 -4,4\"/>\n",
       "<!-- U_D -->\n",
       "<g id=\"node1\" class=\"node\">\n",
       "<title>U_D</title>\n",
       "<ellipse fill=\"none\" stroke=\"#000000\" cx=\"127\" cy=\"-162\" rx=\"27.8951\" ry=\"18\"/>\n",
       "<text text-anchor=\"middle\" x=\"127\" y=\"-158.3\" font-family=\"Times,serif\" font-size=\"14.00\" fill=\"#000000\">U_D</text>\n",
       "</g>\n",
       "<!-- D -->\n",
       "<g id=\"node6\" class=\"node\">\n",
       "<title>D</title>\n",
       "<ellipse fill=\"none\" stroke=\"#000000\" cx=\"82\" cy=\"-90\" rx=\"27\" ry=\"18\"/>\n",
       "<text text-anchor=\"middle\" x=\"82\" y=\"-86.3\" font-family=\"Times,serif\" font-size=\"14.00\" fill=\"#000000\">D</text>\n",
       "</g>\n",
       "<!-- U_D&#45;&gt;D -->\n",
       "<g id=\"edge5\" class=\"edge\">\n",
       "<title>U_D&#45;&gt;D</title>\n",
       "<path fill=\"none\" stroke=\"#000000\" d=\"M116.563,-145.3008C111.0765,-136.5224 104.2314,-125.5703 98.0837,-115.7339\"/>\n",
       "<polygon fill=\"#000000\" stroke=\"#000000\" points=\"100.9609,-113.7336 92.6929,-107.1086 95.0249,-117.4436 100.9609,-113.7336\"/>\n",
       "</g>\n",
       "<!-- Z -->\n",
       "<g id=\"node2\" class=\"node\">\n",
       "<title>Z</title>\n",
       "<ellipse fill=\"none\" stroke=\"#000000\" cx=\"27\" cy=\"-234\" rx=\"27\" ry=\"18\"/>\n",
       "<text text-anchor=\"middle\" x=\"27\" y=\"-230.3\" font-family=\"Times,serif\" font-size=\"14.00\" fill=\"#000000\">Z</text>\n",
       "</g>\n",
       "<!-- Y -->\n",
       "<g id=\"node3\" class=\"node\">\n",
       "<title>Y</title>\n",
       "<ellipse fill=\"none\" stroke=\"#000000\" cx=\"82\" cy=\"-18\" rx=\"27\" ry=\"18\"/>\n",
       "<text text-anchor=\"middle\" x=\"82\" y=\"-14.3\" font-family=\"Times,serif\" font-size=\"14.00\" fill=\"#000000\">Y</text>\n",
       "</g>\n",
       "<!-- Z&#45;&gt;Y -->\n",
       "<g id=\"edge2\" class=\"edge\">\n",
       "<title>Z&#45;&gt;Y</title>\n",
       "<path fill=\"none\" stroke=\"#000000\" d=\"M22.198,-215.9412C18.0412,-197.6767 13.3674,-168.6939 18,-144 24.3308,-110.2541 30.1618,-102.4634 46,-72 51.1455,-62.103 57.6952,-51.785 63.7934,-42.8516\"/>\n",
       "<polygon fill=\"#000000\" stroke=\"#000000\" points=\"66.8087,-44.6472 69.6724,-34.4467 61.0726,-40.6349 66.8087,-44.6472\"/>\n",
       "</g>\n",
       "<!-- f(Z) -->\n",
       "<g id=\"node4\" class=\"node\">\n",
       "<title>f(Z)</title>\n",
       "<ellipse fill=\"none\" stroke=\"#000000\" cx=\"54\" cy=\"-162\" rx=\"27\" ry=\"18\"/>\n",
       "<text text-anchor=\"middle\" x=\"54\" y=\"-158.3\" font-family=\"Times,serif\" font-size=\"14.00\" fill=\"#000000\">f(Z)</text>\n",
       "</g>\n",
       "<!-- Z&#45;&gt;f(Z) -->\n",
       "<g id=\"edge1\" class=\"edge\">\n",
       "<title>Z&#45;&gt;f(Z)</title>\n",
       "<path fill=\"none\" stroke=\"#000000\" d=\"M33.6742,-216.2022C36.7476,-208.0064 40.4616,-198.1024 43.8695,-189.0145\"/>\n",
       "<polygon fill=\"#000000\" stroke=\"#000000\" points=\"47.1685,-190.1853 47.4026,-179.593 40.6142,-187.7274 47.1685,-190.1853\"/>\n",
       "</g>\n",
       "<!-- f(Z)&#45;&gt;D -->\n",
       "<g id=\"edge3\" class=\"edge\">\n",
       "<title>f(Z)&#45;&gt;D</title>\n",
       "<path fill=\"none\" stroke=\"#000000\" d=\"M60.778,-144.5708C63.9872,-136.3187 67.8935,-126.2738 71.4758,-117.0623\"/>\n",
       "<polygon fill=\"#000000\" stroke=\"#000000\" points=\"74.8248,-118.1069 75.1874,-107.5182 68.3008,-115.5697 74.8248,-118.1069\"/>\n",
       "</g>\n",
       "<!-- U_Y -->\n",
       "<g id=\"node5\" class=\"node\">\n",
       "<title>U_Y</title>\n",
       "<ellipse fill=\"none\" stroke=\"#000000\" cx=\"169\" cy=\"-90\" rx=\"27.8951\" ry=\"18\"/>\n",
       "<text text-anchor=\"middle\" x=\"169\" y=\"-86.3\" font-family=\"Times,serif\" font-size=\"14.00\" fill=\"#000000\">U_Y</text>\n",
       "</g>\n",
       "<!-- U_Y&#45;&gt;Y -->\n",
       "<g id=\"edge6\" class=\"edge\">\n",
       "<title>U_Y&#45;&gt;Y</title>\n",
       "<path fill=\"none\" stroke=\"#000000\" d=\"M151.8116,-75.7751C139.0616,-65.2234 121.481,-50.674 107.1523,-38.8157\"/>\n",
       "<polygon fill=\"#000000\" stroke=\"#000000\" points=\"109.0882,-35.8747 99.1527,-32.1953 104.6252,-41.2674 109.0882,-35.8747\"/>\n",
       "</g>\n",
       "<!-- D&#45;&gt;Y -->\n",
       "<g id=\"edge4\" class=\"edge\">\n",
       "<title>D&#45;&gt;Y</title>\n",
       "<path fill=\"none\" stroke=\"#000000\" d=\"M82,-71.8314C82,-64.131 82,-54.9743 82,-46.4166\"/>\n",
       "<polygon fill=\"#000000\" stroke=\"#000000\" points=\"85.5001,-46.4132 82,-36.4133 78.5001,-46.4133 85.5001,-46.4132\"/>\n",
       "</g>\n",
       "<!-- Unobserved_0 -->\n",
       "<g id=\"node7\" class=\"node\">\n",
       "<title>Unobserved_0</title>\n",
       "<ellipse fill=\"#000000\" stroke=\"#000000\" cx=\"155\" cy=\"-234\" rx=\"1.8\" ry=\"1.8\"/>\n",
       "</g>\n",
       "<!-- Unobserved_0&#45;&gt;U_D -->\n",
       "<g id=\"edge7\" class=\"edge\">\n",
       "<title>Unobserved_0&#45;&gt;U_D</title>\n",
       "<path fill=\"none\" stroke=\"#000000\" stroke-dasharray=\"5,2\" d=\"M154.3079,-232.2202C151.9847,-226.2465 144.2377,-206.3255 137.5858,-189.2206\"/>\n",
       "<polygon fill=\"#000000\" stroke=\"#000000\" points=\"140.7316,-187.6531 133.8451,-179.6017 134.2076,-190.1903 140.7316,-187.6531\"/>\n",
       "</g>\n",
       "<!-- Unobserved_0&#45;&gt;U_Y -->\n",
       "<g id=\"edge8\" class=\"edge\">\n",
       "<title>Unobserved_0&#45;&gt;U_Y</title>\n",
       "<path fill=\"none\" stroke=\"#000000\" stroke-dasharray=\"5,2\" d=\"M155.425,-231.9514C156.8864,-224.8198 161.7397,-200.4045 164,-180 166.2794,-159.4232 167.5382,-136.0788 168.2225,-118.3222\"/>\n",
       "<polygon fill=\"#000000\" stroke=\"#000000\" points=\"171.7206,-118.4358 168.5704,-108.3202 164.7248,-118.1924 171.7206,-118.4358\"/>\n",
       "</g>\n",
       "</g>\n",
       "</svg>\n"
      ],
      "text/plain": [
       "<graphviz.dot.Digraph at 0x7f1fe9a23048>"
      ]
     },
     "execution_count": 3,
     "metadata": {},
     "output_type": "execute_result"
    }
   ],
   "source": [
    "from causalgraphicalmodels import CausalGraphicalModel\n",
    "\n",
    "G = CausalGraphicalModel(\n",
    "    nodes=['Z', 'f(Z)', 'D', 'U_D', 'Y', 'U_Y'],\n",
    "    edges=[\n",
    "        ('Z', 'f(Z)'),\n",
    "        ('Z', 'Y'),\n",
    "        ('f(Z)', 'D'),\n",
    "        ('U_D', 'D'),\n",
    "        ('D', 'Y'),\n",
    "        ('U_Y', 'Y')\n",
    "    ],\n",
    "    latent_edges=[\n",
    "        ('U_D', 'U_Y')\n",
    "    ]\n",
    ")\n",
    "\n",
    "G.draw()"
   ]
  },
  {
   "cell_type": "code",
   "execution_count": 6,
   "metadata": {
    "ExecuteTime": {
     "end_time": "2018-12-19T00:45:45.676047Z",
     "start_time": "2018-12-19T00:45:45.633584Z"
    },
    "scrolled": true
   },
   "outputs": [
    {
     "data": {
      "image/svg+xml": [
       "<?xml version=\"1.0\" encoding=\"UTF-8\" standalone=\"no\"?>\n",
       "<!DOCTYPE svg PUBLIC \"-//W3C//DTD SVG 1.1//EN\"\n",
       " \"http://www.w3.org/Graphics/SVG/1.1/DTD/svg11.dtd\">\n",
       "<!-- Generated by graphviz version 2.40.1 (20161225.0304)\n",
       " -->\n",
       "<!-- Title: %3 Pages: 1 -->\n",
       "<svg width=\"208pt\" height=\"236pt\"\n",
       " viewBox=\"0.00 0.00 207.95 235.60\" xmlns=\"http://www.w3.org/2000/svg\" xmlns:xlink=\"http://www.w3.org/1999/xlink\">\n",
       "<g id=\"graph0\" class=\"graph\" transform=\"scale(1 1) rotate(0) translate(4 231.6)\">\n",
       "<title>%3</title>\n",
       "<polygon fill=\"#ffffff\" stroke=\"transparent\" points=\"-4,4 -4,-231.6 203.9475,-231.6 203.9475,4 -4,4\"/>\n",
       "<!-- U_D -->\n",
       "<g id=\"node1\" class=\"node\">\n",
       "<title>U_D</title>\n",
       "<ellipse fill=\"none\" stroke=\"#000000\" cx=\"36\" cy=\"-166\" rx=\"27.8951\" ry=\"18\"/>\n",
       "<text text-anchor=\"middle\" x=\"36\" y=\"-162.3\" font-family=\"Times,serif\" font-size=\"14.00\" fill=\"#000000\">U_D</text>\n",
       "</g>\n",
       "<!-- D -->\n",
       "<g id=\"node6\" class=\"node\">\n",
       "<title>D</title>\n",
       "<ellipse fill=\"none\" stroke=\"#000000\" cx=\"99\" cy=\"-90\" rx=\"27\" ry=\"18\"/>\n",
       "<text text-anchor=\"middle\" x=\"99\" y=\"-86.3\" font-family=\"Times,serif\" font-size=\"14.00\" fill=\"#000000\">D</text>\n",
       "</g>\n",
       "<!-- U_D&#45;&gt;D -->\n",
       "<g id=\"edge1\" class=\"edge\">\n",
       "<title>U_D&#45;&gt;D</title>\n",
       "<path fill=\"none\" stroke=\"#000000\" d=\"M49.3607,-149.8824C58.1061,-139.3324 69.6811,-125.3688 79.4538,-113.5795\"/>\n",
       "<polygon fill=\"#000000\" stroke=\"#000000\" points=\"82.1873,-115.7663 85.8746,-105.8338 76.7981,-111.2989 82.1873,-115.7663\"/>\n",
       "</g>\n",
       "<!-- Z -->\n",
       "<g id=\"node2\" class=\"node\">\n",
       "<title>Z</title>\n",
       "<ellipse fill=\"none\" stroke=\"#000000\" cx=\"27\" cy=\"-90\" rx=\"27\" ry=\"18\"/>\n",
       "<text text-anchor=\"middle\" x=\"27\" y=\"-86.3\" font-family=\"Times,serif\" font-size=\"14.00\" fill=\"#000000\">Z</text>\n",
       "</g>\n",
       "<!-- Y -->\n",
       "<g id=\"node3\" class=\"node\">\n",
       "<title>Y</title>\n",
       "<ellipse fill=\"none\" stroke=\"#000000\" cx=\"99\" cy=\"-18\" rx=\"27\" ry=\"18\"/>\n",
       "<text text-anchor=\"middle\" x=\"99\" y=\"-14.3\" font-family=\"Times,serif\" font-size=\"14.00\" fill=\"#000000\">Y</text>\n",
       "</g>\n",
       "<!-- Z&#45;&gt;Y -->\n",
       "<g id=\"edge2\" class=\"edge\">\n",
       "<title>Z&#45;&gt;Y</title>\n",
       "<path fill=\"none\" stroke=\"#000000\" d=\"M42.2693,-74.7307C52.197,-64.803 65.3153,-51.6847 76.4363,-40.5637\"/>\n",
       "<polygon fill=\"#000000\" stroke=\"#000000\" points=\"79.1564,-42.7933 83.7527,-33.2473 74.2067,-37.8436 79.1564,-42.7933\"/>\n",
       "</g>\n",
       "<!-- f(Z) -->\n",
       "<g id=\"node4\" class=\"node\">\n",
       "<title>f(Z)</title>\n",
       "<ellipse fill=\"none\" stroke=\"#000000\" cx=\"113\" cy=\"-166\" rx=\"27\" ry=\"18\"/>\n",
       "<ellipse fill=\"none\" stroke=\"#000000\" cx=\"113\" cy=\"-166\" rx=\"31\" ry=\"22\"/>\n",
       "<text text-anchor=\"middle\" x=\"113\" y=\"-162.3\" font-family=\"Times,serif\" font-size=\"14.00\" fill=\"#000000\">f(Z)</text>\n",
       "</g>\n",
       "<!-- f(Z)&#45;&gt;D -->\n",
       "<g id=\"edge3\" class=\"edge\">\n",
       "<title>f(Z)&#45;&gt;D</title>\n",
       "<path fill=\"none\" stroke=\"#000000\" d=\"M108.9506,-144.0177C107.4579,-135.9142 105.746,-126.6213 104.1678,-118.054\"/>\n",
       "<polygon fill=\"#000000\" stroke=\"#000000\" points=\"107.5866,-117.2927 102.3328,-108.0923 100.7024,-118.5609 107.5866,-117.2927\"/>\n",
       "</g>\n",
       "<!-- U_Y -->\n",
       "<g id=\"node5\" class=\"node\">\n",
       "<title>U_Y</title>\n",
       "<ellipse fill=\"none\" stroke=\"#000000\" cx=\"172\" cy=\"-90\" rx=\"27.8951\" ry=\"18\"/>\n",
       "<text text-anchor=\"middle\" x=\"172\" y=\"-86.3\" font-family=\"Times,serif\" font-size=\"14.00\" fill=\"#000000\">U_Y</text>\n",
       "</g>\n",
       "<!-- U_Y&#45;&gt;Y -->\n",
       "<g id=\"edge4\" class=\"edge\">\n",
       "<title>U_Y&#45;&gt;Y</title>\n",
       "<path fill=\"none\" stroke=\"#000000\" d=\"M156.5186,-74.7307C146.453,-64.803 133.1525,-51.6847 121.877,-40.5637\"/>\n",
       "<polygon fill=\"#000000\" stroke=\"#000000\" points=\"124.0366,-37.7776 114.4591,-33.2473 119.121,-42.7614 124.0366,-37.7776\"/>\n",
       "</g>\n",
       "<!-- D&#45;&gt;Y -->\n",
       "<g id=\"edge5\" class=\"edge\">\n",
       "<title>D&#45;&gt;Y</title>\n",
       "<path fill=\"none\" stroke=\"#000000\" d=\"M99,-71.8314C99,-64.131 99,-54.9743 99,-46.4166\"/>\n",
       "<polygon fill=\"#000000\" stroke=\"#000000\" points=\"102.5001,-46.4132 99,-36.4133 95.5001,-46.4133 102.5001,-46.4132\"/>\n",
       "</g>\n",
       "<!-- Unobserved_0 -->\n",
       "<g id=\"node7\" class=\"node\">\n",
       "<title>Unobserved_0</title>\n",
       "<ellipse fill=\"#000000\" stroke=\"#000000\" cx=\"104\" cy=\"-225.8\" rx=\"1.8\" ry=\"1.8\"/>\n",
       "</g>\n",
       "<!-- Unobserved_0&#45;&gt;U_D -->\n",
       "<g id=\"edge6\" class=\"edge\">\n",
       "<title>Unobserved_0&#45;&gt;U_D</title>\n",
       "<path fill=\"none\" stroke=\"#000000\" stroke-dasharray=\"5,2\" d=\"M102.5797,-224.551C97.1382,-219.7656 77.0863,-202.1318 60.3971,-187.4551\"/>\n",
       "<polygon fill=\"#000000\" stroke=\"#000000\" points=\"62.3738,-184.5326 52.5531,-180.557 57.7512,-189.7891 62.3738,-184.5326\"/>\n",
       "</g>\n",
       "<!-- Unobserved_0&#45;&gt;U_Y -->\n",
       "<g id=\"edge7\" class=\"edge\">\n",
       "<title>Unobserved_0&#45;&gt;U_Y</title>\n",
       "<path fill=\"none\" stroke=\"#000000\" stroke-dasharray=\"5,2\" d=\"M105.8984,-224.9613C113.3227,-221.5746 140.5927,-208.1187 153,-188 165.9371,-167.0223 170.364,-139.1092 171.7435,-118.4396\"/>\n",
       "<polygon fill=\"#000000\" stroke=\"#000000\" points=\"175.2435,-118.5192 172.216,-108.3662 168.2512,-118.1911 175.2435,-118.5192\"/>\n",
       "</g>\n",
       "</g>\n",
       "</svg>\n"
      ],
      "text/plain": [
       "<graphviz.dot.Digraph at 0x7f1fe99f2e80>"
      ]
     },
     "execution_count": 6,
     "metadata": {},
     "output_type": "execute_result"
    }
   ],
   "source": [
    "G_do_fZ = G.do('f(Z)')\n",
    "G_do_fZ.draw()"
   ]
  },
  {
   "cell_type": "markdown",
   "metadata": {},
   "source": [
    "Angrist and Lavy (1999) study of the effects of class size on student test performance. An additional class was added to a grade within a school when existing classes crossed a threshold size of 40 students. Such a discontinuity allows one to create a nonlinear function of enrollment to be used as an instrument for class size."
   ]
  }
 ],
 "metadata": {
  "kernelspec": {
   "display_name": "Python 3",
   "language": "python",
   "name": "python3"
  },
  "language_info": {
   "codemirror_mode": {
    "name": "ipython",
    "version": 3
   },
   "file_extension": ".py",
   "mimetype": "text/x-python",
   "name": "python",
   "nbconvert_exporter": "python",
   "pygments_lexer": "ipython3",
   "version": "3.6.5"
  },
  "toc": {
   "base_numbering": 1,
   "nav_menu": {},
   "number_sections": true,
   "sideBar": true,
   "skip_h1_title": false,
   "title_cell": "Table of Contents",
   "title_sidebar": "Contents",
   "toc_cell": false,
   "toc_position": {},
   "toc_section_display": true,
   "toc_window_display": false
  }
 },
 "nbformat": 4,
 "nbformat_minor": 2
}
