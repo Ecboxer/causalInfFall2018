{
 "cells": [
  {
   "cell_type": "code",
   "execution_count": 5,
   "metadata": {
    "ExecuteTime": {
     "end_time": "2018-12-20T14:05:59.007379Z",
     "start_time": "2018-12-20T14:05:59.005000Z"
    }
   },
   "outputs": [],
   "source": [
    "import numpy as np\n",
    "import pandas as pd"
   ]
  },
  {
   "cell_type": "markdown",
   "metadata": {},
   "source": [
    "### Generate Data"
   ]
  },
  {
   "cell_type": "code",
   "execution_count": 6,
   "metadata": {
    "ExecuteTime": {
     "end_time": "2018-12-20T14:05:59.166744Z",
     "start_time": "2018-12-20T14:05:59.012602Z"
    },
    "scrolled": true
   },
   "outputs": [
    {
     "data": {
      "text/html": [
       "<div>\n",
       "<style scoped>\n",
       "    .dataframe tbody tr th:only-of-type {\n",
       "        vertical-align: middle;\n",
       "    }\n",
       "\n",
       "    .dataframe tbody tr th {\n",
       "        vertical-align: top;\n",
       "    }\n",
       "\n",
       "    .dataframe thead th {\n",
       "        text-align: right;\n",
       "    }\n",
       "</style>\n",
       "<table border=\"1\" class=\"dataframe\">\n",
       "  <thead>\n",
       "    <tr style=\"text-align: right;\">\n",
       "      <th></th>\n",
       "      <th>treatment</th>\n",
       "      <th>recovery</th>\n",
       "    </tr>\n",
       "  </thead>\n",
       "  <tbody>\n",
       "    <tr>\n",
       "      <th>0</th>\n",
       "      <td>0</td>\n",
       "      <td>1</td>\n",
       "    </tr>\n",
       "    <tr>\n",
       "      <th>1</th>\n",
       "      <td>1</td>\n",
       "      <td>1</td>\n",
       "    </tr>\n",
       "    <tr>\n",
       "      <th>2</th>\n",
       "      <td>1</td>\n",
       "      <td>0</td>\n",
       "    </tr>\n",
       "    <tr>\n",
       "      <th>3</th>\n",
       "      <td>0</td>\n",
       "      <td>0</td>\n",
       "    </tr>\n",
       "    <tr>\n",
       "      <th>4</th>\n",
       "      <td>0</td>\n",
       "      <td>0</td>\n",
       "    </tr>\n",
       "  </tbody>\n",
       "</table>\n",
       "</div>"
      ],
      "text/plain": [
       "   treatment  recovery\n",
       "0          0         1\n",
       "1          1         1\n",
       "2          1         0\n",
       "3          0         0\n",
       "4          0         0"
      ]
     },
     "execution_count": 6,
     "metadata": {},
     "output_type": "execute_result"
    }
   ],
   "source": [
    "N = 1000000\n",
    "n = 1\n",
    "\n",
    "p_treated = 0.5\n",
    "treatment = np.random.binomial(n, p_treated, size=N)\n",
    "\n",
    "p_recovery = (0.5 + treatment) / 2. # = 0.25 + 0.5 * treatment\n",
    "recovery = np.random.binomial(n, p_recovery)\n",
    "\n",
    "X = pd.DataFrame({'treatment': treatment, \n",
    "                  'recovery': recovery})[['treatment', 'recovery']]\n",
    "X.head()"
   ]
  },
  {
   "cell_type": "markdown",
   "metadata": {},
   "source": [
    "Treatment causes recovery directly, so the effect of treatment on recovery is just the coefficient, 0.5. That will be the correct ATE. Let's explore with the naive estimator. Treatment is assigned at random, so it should be unbiased for the ATE!\n",
    "\n",
    "We can estimate $E[Y|D=1]$ and $E[Y|D=0]$ using a quick trick. The groupby operation is handy on discrete data:"
   ]
  },
  {
   "cell_type": "code",
   "execution_count": 7,
   "metadata": {
    "ExecuteTime": {
     "end_time": "2018-12-20T14:05:59.232815Z",
     "start_time": "2018-12-20T14:05:59.169905Z"
    }
   },
   "outputs": [
    {
     "data": {
      "text/html": [
       "<div>\n",
       "<style scoped>\n",
       "    .dataframe tbody tr th:only-of-type {\n",
       "        vertical-align: middle;\n",
       "    }\n",
       "\n",
       "    .dataframe tbody tr th {\n",
       "        vertical-align: top;\n",
       "    }\n",
       "\n",
       "    .dataframe thead th {\n",
       "        text-align: right;\n",
       "    }\n",
       "</style>\n",
       "<table border=\"1\" class=\"dataframe\">\n",
       "  <thead>\n",
       "    <tr style=\"text-align: right;\">\n",
       "      <th></th>\n",
       "      <th>recovery</th>\n",
       "    </tr>\n",
       "    <tr>\n",
       "      <th>treatment</th>\n",
       "      <th></th>\n",
       "    </tr>\n",
       "  </thead>\n",
       "  <tbody>\n",
       "    <tr>\n",
       "      <th>0</th>\n",
       "      <td>0.250296</td>\n",
       "    </tr>\n",
       "    <tr>\n",
       "      <th>1</th>\n",
       "      <td>0.750623</td>\n",
       "    </tr>\n",
       "  </tbody>\n",
       "</table>\n",
       "</div>"
      ],
      "text/plain": [
       "           recovery\n",
       "treatment          \n",
       "0          0.250296\n",
       "1          0.750623"
      ]
     },
     "execution_count": 7,
     "metadata": {},
     "output_type": "execute_result"
    }
   ],
   "source": [
    "X.groupby('treatment').mean()"
   ]
  },
  {
   "cell_type": "markdown",
   "metadata": {},
   "source": [
    "### Estimate the ATE"
   ]
  },
  {
   "cell_type": "markdown",
   "metadata": {},
   "source": [
    "#### Since we're using random assignment, we can assume $Y^1$ and $Y^0$ as independent of $D$. Then \n",
    "#### $E[\\delta] = E[Y^1|D=1] - E[Y^0|D=0] = E[Y|D=1] - E[Y|D=0]$\n",
    "#### and the naive estimator is unbiased.\n",
    "\n",
    "#### First, we can estimate the conditionals,"
   ]
  },
  {
   "cell_type": "code",
   "execution_count": 8,
   "metadata": {
    "ExecuteTime": {
     "end_time": "2018-12-20T14:05:59.267293Z",
     "start_time": "2018-12-20T14:05:59.234741Z"
    }
   },
   "outputs": [
    {
     "data": {
      "text/html": [
       "<div>\n",
       "<style scoped>\n",
       "    .dataframe tbody tr th:only-of-type {\n",
       "        vertical-align: middle;\n",
       "    }\n",
       "\n",
       "    .dataframe tbody tr th {\n",
       "        vertical-align: top;\n",
       "    }\n",
       "\n",
       "    .dataframe thead th {\n",
       "        text-align: right;\n",
       "    }\n",
       "</style>\n",
       "<table border=\"1\" class=\"dataframe\">\n",
       "  <thead>\n",
       "    <tr style=\"text-align: right;\">\n",
       "      <th></th>\n",
       "      <th>recovery</th>\n",
       "    </tr>\n",
       "    <tr>\n",
       "      <th>treatment</th>\n",
       "      <th></th>\n",
       "    </tr>\n",
       "  </thead>\n",
       "  <tbody>\n",
       "    <tr>\n",
       "      <th>0</th>\n",
       "      <td>0.250296</td>\n",
       "    </tr>\n",
       "    <tr>\n",
       "      <th>1</th>\n",
       "      <td>0.750623</td>\n",
       "    </tr>\n",
       "  </tbody>\n",
       "</table>\n",
       "</div>"
      ],
      "text/plain": [
       "           recovery\n",
       "treatment          \n",
       "0          0.250296\n",
       "1          0.750623"
      ]
     },
     "execution_count": 8,
     "metadata": {},
     "output_type": "execute_result"
    }
   ],
   "source": [
    "X.groupby(('treatment')).mean()[['recovery']]"
   ]
  },
  {
   "cell_type": "markdown",
   "metadata": {},
   "source": [
    "#### and then take the difference at each level of the treatment:"
   ]
  },
  {
   "cell_type": "code",
   "execution_count": 9,
   "metadata": {
    "ExecuteTime": {
     "end_time": "2018-12-20T14:05:59.331080Z",
     "start_time": "2018-12-20T14:05:59.269424Z"
    }
   },
   "outputs": [
    {
     "data": {
      "text/plain": [
       "array([0.50032682])"
      ]
     },
     "execution_count": 9,
     "metadata": {},
     "output_type": "execute_result"
    }
   ],
   "source": [
    "X.groupby(('treatment')).mean()[['recovery']].values[1] - X.groupby(('treatment')).mean()[['recovery']].values[0]"
   ]
  },
  {
   "cell_type": "markdown",
   "metadata": {},
   "source": [
    "#### So we get\n",
    "#### $E[Y^1|D=1] = 0.75$\n",
    "#### $E[Y^0|D=0] = 0.25$\n",
    "#### and the difference is 0.5, the result we can read off from the data generating process!"
   ]
  },
  {
   "cell_type": "markdown",
   "metadata": {},
   "source": [
    "## Question 4: Estimate the ATE, ATT, ATC when the naive estimator is unbiased.\n",
    "\n",
    "For this data we've generated, the naive estimator is unbiased. That's because here, $Y^1, Y^0 \\perp D$, so \n",
    "\n",
    "$$E[Y^1 - Y^0] = E[Y^1] - E[Y^0] = E[Y^1|D=1] - E[Y^0|D=0]$$,\n",
    "\n",
    "where the last equality comes from this independence assumption, and gives us the naive estimator.\n",
    "\n",
    "We've already estimated the ATE. How do we get the ATT and ATC?\n",
    "\n",
    "Since the potential outcomes are independent of $D$, we could condition on any $D$ we like! We could say\n",
    "\n",
    "$$E[Y^1 - Y^0] = E[Y^1] - E[Y^0] = E[Y^1|D=1] - E[Y^0|D=1]$$\n",
    "\n",
    "or\n",
    "\n",
    "$$E[Y^1 - Y^0] = E[Y^1] - E[Y^0] = E[Y^1|D=0] - E[Y^0|D=0]$$.\n",
    "\n",
    "The first is the ATT, the second is the ATC. They're both equal to the ATE, so ATT = ATC = ATE = 0.5\n",
    "\n"
   ]
  },
  {
   "cell_type": "markdown",
   "metadata": {},
   "source": [
    "### How can we break it? That is, how can we make the naive estimator biased for the ATE?\n",
    "\n",
    "#### First, let's try adding extra noise to the recovery (compare this with the process above):"
   ]
  },
  {
   "cell_type": "code",
   "execution_count": 10,
   "metadata": {
    "ExecuteTime": {
     "end_time": "2018-12-20T14:05:59.538384Z",
     "start_time": "2018-12-20T14:05:59.333227Z"
    }
   },
   "outputs": [
    {
     "data": {
      "text/html": [
       "<div>\n",
       "<style scoped>\n",
       "    .dataframe tbody tr th:only-of-type {\n",
       "        vertical-align: middle;\n",
       "    }\n",
       "\n",
       "    .dataframe tbody tr th {\n",
       "        vertical-align: top;\n",
       "    }\n",
       "\n",
       "    .dataframe thead th {\n",
       "        text-align: right;\n",
       "    }\n",
       "</style>\n",
       "<table border=\"1\" class=\"dataframe\">\n",
       "  <thead>\n",
       "    <tr style=\"text-align: right;\">\n",
       "      <th></th>\n",
       "      <th>treatment</th>\n",
       "      <th>recovery</th>\n",
       "      <th>contaminated</th>\n",
       "    </tr>\n",
       "  </thead>\n",
       "  <tbody>\n",
       "    <tr>\n",
       "      <th>0</th>\n",
       "      <td>1</td>\n",
       "      <td>0</td>\n",
       "      <td>1</td>\n",
       "    </tr>\n",
       "    <tr>\n",
       "      <th>1</th>\n",
       "      <td>1</td>\n",
       "      <td>0</td>\n",
       "      <td>1</td>\n",
       "    </tr>\n",
       "    <tr>\n",
       "      <th>2</th>\n",
       "      <td>1</td>\n",
       "      <td>1</td>\n",
       "      <td>1</td>\n",
       "    </tr>\n",
       "    <tr>\n",
       "      <th>3</th>\n",
       "      <td>1</td>\n",
       "      <td>1</td>\n",
       "      <td>0</td>\n",
       "    </tr>\n",
       "    <tr>\n",
       "      <th>4</th>\n",
       "      <td>0</td>\n",
       "      <td>0</td>\n",
       "      <td>0</td>\n",
       "    </tr>\n",
       "  </tbody>\n",
       "</table>\n",
       "</div>"
      ],
      "text/plain": [
       "   treatment  recovery  contaminated\n",
       "0          1         0             1\n",
       "1          1         0             1\n",
       "2          1         1             1\n",
       "3          1         1             0\n",
       "4          0         0             0"
      ]
     },
     "execution_count": 10,
     "metadata": {},
     "output_type": "execute_result"
    }
   ],
   "source": [
    "n = 1\n",
    "\n",
    "p_contaminated = 0.5\n",
    "contaminated = np.random.binomial(n, p_contaminated, size=N)\n",
    "\n",
    "p_treated = 0.5\n",
    "treatment = np.random.binomial(n, p_treated, size=N)\n",
    "\n",
    "p_recovery = (0.5 + treatment - 0.5 * contaminated) / 2. # = 0.25 + 0.5 * treatment\n",
    "recovery = np.random.binomial(n, p_recovery)\n",
    "\n",
    "X = pd.DataFrame({'treatment': treatment, \n",
    "                  'recovery': recovery,\n",
    "                  'contaminated': contaminated})[['treatment', 'recovery', 'contaminated']]\n",
    "X.head()"
   ]
  },
  {
   "cell_type": "markdown",
   "metadata": {},
   "source": [
    "#### Then, the conditionals change!"
   ]
  },
  {
   "cell_type": "code",
   "execution_count": 11,
   "metadata": {
    "ExecuteTime": {
     "end_time": "2018-12-20T14:05:59.625439Z",
     "start_time": "2018-12-20T14:05:59.540634Z"
    }
   },
   "outputs": [
    {
     "data": {
      "text/html": [
       "<div>\n",
       "<style scoped>\n",
       "    .dataframe tbody tr th:only-of-type {\n",
       "        vertical-align: middle;\n",
       "    }\n",
       "\n",
       "    .dataframe tbody tr th {\n",
       "        vertical-align: top;\n",
       "    }\n",
       "\n",
       "    .dataframe thead th {\n",
       "        text-align: right;\n",
       "    }\n",
       "</style>\n",
       "<table border=\"1\" class=\"dataframe\">\n",
       "  <thead>\n",
       "    <tr style=\"text-align: right;\">\n",
       "      <th></th>\n",
       "      <th>recovery</th>\n",
       "    </tr>\n",
       "    <tr>\n",
       "      <th>treatment</th>\n",
       "      <th></th>\n",
       "    </tr>\n",
       "  </thead>\n",
       "  <tbody>\n",
       "    <tr>\n",
       "      <th>0</th>\n",
       "      <td>0.125739</td>\n",
       "    </tr>\n",
       "    <tr>\n",
       "      <th>1</th>\n",
       "      <td>0.625179</td>\n",
       "    </tr>\n",
       "  </tbody>\n",
       "</table>\n",
       "</div>"
      ],
      "text/plain": [
       "           recovery\n",
       "treatment          \n",
       "0          0.125739\n",
       "1          0.625179"
      ]
     },
     "execution_count": 11,
     "metadata": {},
     "output_type": "execute_result"
    }
   ],
   "source": [
    "X.groupby(('treatment')).mean()[['recovery']]"
   ]
  },
  {
   "cell_type": "markdown",
   "metadata": {},
   "source": [
    "### But the treatment effect stays the same!!!"
   ]
  },
  {
   "cell_type": "code",
   "execution_count": 12,
   "metadata": {
    "ExecuteTime": {
     "end_time": "2018-12-20T14:05:59.702186Z",
     "start_time": "2018-12-20T14:05:59.633854Z"
    }
   },
   "outputs": [
    {
     "data": {
      "text/plain": [
       "array([0.49943935])"
      ]
     },
     "execution_count": 12,
     "metadata": {},
     "output_type": "execute_result"
    }
   ],
   "source": [
    "X.groupby(('treatment')).mean()[['recovery']].values[1] - X.groupby(('treatment')).mean()[['recovery']].values[0]"
   ]
  },
  {
   "cell_type": "markdown",
   "metadata": {},
   "source": [
    "#### The chances someone in the treatment group is contaminated is the same as for someone in the control group, so, from\n",
    "#### p_recovery = (0.5 + treatment - 0.5 * contaminated) / 2. # = 0.25 + 0.5 * treatment\n",
    "\n",
    "#### we can see\n",
    "\n",
    "#### $E[Y^1|D=1] = E[Y^1|D=0]$\n",
    "#### and\n",
    "#### $E[Y^0|D=1] = E[Y^0|D=0]$\n",
    "\n",
    "#### We need to make treatment and being contaminated associated with each other to create bias! In other words, treatment and outcome have to share a common cause! (what would this causal graph look like?)"
   ]
  },
  {
   "cell_type": "code",
   "execution_count": 13,
   "metadata": {
    "ExecuteTime": {
     "end_time": "2018-12-20T14:05:59.758830Z",
     "start_time": "2018-12-20T14:05:59.703909Z"
    }
   },
   "outputs": [
    {
     "data": {
      "image/svg+xml": [
       "<?xml version=\"1.0\" encoding=\"UTF-8\" standalone=\"no\"?>\n",
       "<!DOCTYPE svg PUBLIC \"-//W3C//DTD SVG 1.1//EN\"\n",
       " \"http://www.w3.org/Graphics/SVG/1.1/DTD/svg11.dtd\">\n",
       "<!-- Generated by graphviz version 2.40.1 (20161225.0304)\n",
       " -->\n",
       "<!-- Title: %3 Pages: 1 -->\n",
       "<svg width=\"150pt\" height=\"188pt\"\n",
       " viewBox=\"0.00 0.00 149.94 188.00\" xmlns=\"http://www.w3.org/2000/svg\" xmlns:xlink=\"http://www.w3.org/1999/xlink\">\n",
       "<g id=\"graph0\" class=\"graph\" transform=\"scale(1 1) rotate(0) translate(4 184)\">\n",
       "<title>%3</title>\n",
       "<polygon fill=\"#ffffff\" stroke=\"transparent\" points=\"-4,4 -4,-184 145.9406,-184 145.9406,4 -4,4\"/>\n",
       "<!-- contamination -->\n",
       "<g id=\"node1\" class=\"node\">\n",
       "<title>contamination</title>\n",
       "<ellipse fill=\"none\" stroke=\"#000000\" cx=\"61.7445\" cy=\"-162\" rx=\"61.99\" ry=\"18\"/>\n",
       "<text text-anchor=\"middle\" x=\"61.7445\" y=\"-158.3\" font-family=\"Times,serif\" font-size=\"14.00\" fill=\"#000000\">contamination</text>\n",
       "</g>\n",
       "<!-- outcome -->\n",
       "<g id=\"node2\" class=\"node\">\n",
       "<title>outcome</title>\n",
       "<ellipse fill=\"none\" stroke=\"#000000\" cx=\"61.7445\" cy=\"-18\" rx=\"41.6928\" ry=\"18\"/>\n",
       "<text text-anchor=\"middle\" x=\"61.7445\" y=\"-14.3\" font-family=\"Times,serif\" font-size=\"14.00\" fill=\"#000000\">outcome</text>\n",
       "</g>\n",
       "<!-- contamination&#45;&gt;outcome -->\n",
       "<g id=\"edge2\" class=\"edge\">\n",
       "<title>contamination&#45;&gt;outcome</title>\n",
       "<path fill=\"none\" stroke=\"#000000\" d=\"M54.5007,-143.8366C50.7733,-133.513 46.6257,-120.2403 44.7445,-108 42.314,-92.1857 42.314,-87.8143 44.7445,-72 46.0819,-63.2979 48.5649,-54.074 51.2279,-45.759\"/>\n",
       "<polygon fill=\"#000000\" stroke=\"#000000\" points=\"54.5851,-46.7579 54.5007,-36.1634 47.9599,-44.4982 54.5851,-46.7579\"/>\n",
       "</g>\n",
       "<!-- treatment -->\n",
       "<g id=\"node3\" class=\"node\">\n",
       "<title>treatment</title>\n",
       "<ellipse fill=\"none\" stroke=\"#000000\" cx=\"97.7445\" cy=\"-90\" rx=\"44.393\" ry=\"18\"/>\n",
       "<text text-anchor=\"middle\" x=\"97.7445\" y=\"-86.3\" font-family=\"Times,serif\" font-size=\"14.00\" fill=\"#000000\">treatment</text>\n",
       "</g>\n",
       "<!-- contamination&#45;&gt;treatment -->\n",
       "<g id=\"edge3\" class=\"edge\">\n",
       "<title>contamination&#45;&gt;treatment</title>\n",
       "<path fill=\"none\" stroke=\"#000000\" d=\"M70.8288,-143.8314C74.9101,-135.6688 79.8095,-125.87 84.3032,-116.8827\"/>\n",
       "<polygon fill=\"#000000\" stroke=\"#000000\" points=\"87.4461,-118.423 88.7878,-107.9134 81.1851,-115.2924 87.4461,-118.423\"/>\n",
       "</g>\n",
       "<!-- treatment&#45;&gt;outcome -->\n",
       "<g id=\"edge1\" class=\"edge\">\n",
       "<title>treatment&#45;&gt;outcome</title>\n",
       "<path fill=\"none\" stroke=\"#000000\" d=\"M88.8456,-72.2022C84.7041,-63.9192 79.6903,-53.8915 75.1069,-44.7248\"/>\n",
       "<polygon fill=\"#000000\" stroke=\"#000000\" points=\"78.1437,-42.972 70.541,-35.593 71.8827,-46.1026 78.1437,-42.972\"/>\n",
       "</g>\n",
       "</g>\n",
       "</svg>\n"
      ],
      "text/plain": [
       "<graphviz.dot.Digraph at 0x7fc3e03c1710>"
      ]
     },
     "execution_count": 13,
     "metadata": {},
     "output_type": "execute_result"
    }
   ],
   "source": [
    "from causalgraphicalmodels import CausalGraphicalModel\n",
    "\n",
    "G = CausalGraphicalModel(\n",
    "    nodes=['treatment', 'contamination', 'outcome'],\n",
    "    edges=[\n",
    "        ('treatment', 'outcome'),\n",
    "        ('contamination', 'outcome'),\n",
    "        ('contamination', 'treatment')\n",
    "    ]\n",
    ")\n",
    "\n",
    "G.draw()"
   ]
  },
  {
   "cell_type": "code",
   "execution_count": 24,
   "metadata": {
    "ExecuteTime": {
     "end_time": "2018-12-20T14:06:25.608186Z",
     "start_time": "2018-12-20T14:06:25.426888Z"
    },
    "scrolled": true
   },
   "outputs": [
    {
     "data": {
      "text/html": [
       "<div>\n",
       "<style scoped>\n",
       "    .dataframe tbody tr th:only-of-type {\n",
       "        vertical-align: middle;\n",
       "    }\n",
       "\n",
       "    .dataframe tbody tr th {\n",
       "        vertical-align: top;\n",
       "    }\n",
       "\n",
       "    .dataframe thead th {\n",
       "        text-align: right;\n",
       "    }\n",
       "</style>\n",
       "<table border=\"1\" class=\"dataframe\">\n",
       "  <thead>\n",
       "    <tr style=\"text-align: right;\">\n",
       "      <th></th>\n",
       "      <th>treatment</th>\n",
       "      <th>recovery</th>\n",
       "      <th>contaminated</th>\n",
       "    </tr>\n",
       "  </thead>\n",
       "  <tbody>\n",
       "    <tr>\n",
       "      <th>0</th>\n",
       "      <td>1</td>\n",
       "      <td>0</td>\n",
       "      <td>1</td>\n",
       "    </tr>\n",
       "    <tr>\n",
       "      <th>1</th>\n",
       "      <td>1</td>\n",
       "      <td>1</td>\n",
       "      <td>0</td>\n",
       "    </tr>\n",
       "    <tr>\n",
       "      <th>2</th>\n",
       "      <td>1</td>\n",
       "      <td>0</td>\n",
       "      <td>1</td>\n",
       "    </tr>\n",
       "    <tr>\n",
       "      <th>3</th>\n",
       "      <td>1</td>\n",
       "      <td>1</td>\n",
       "      <td>1</td>\n",
       "    </tr>\n",
       "    <tr>\n",
       "      <th>4</th>\n",
       "      <td>0</td>\n",
       "      <td>0</td>\n",
       "      <td>0</td>\n",
       "    </tr>\n",
       "  </tbody>\n",
       "</table>\n",
       "</div>"
      ],
      "text/plain": [
       "   treatment  recovery  contaminated\n",
       "0          1         0             1\n",
       "1          1         1             0\n",
       "2          1         0             1\n",
       "3          1         1             1\n",
       "4          0         0             0"
      ]
     },
     "execution_count": 24,
     "metadata": {},
     "output_type": "execute_result"
    }
   ],
   "source": [
    "n = 1\n",
    "\n",
    "p_contaminated = 0.7\n",
    "contaminated = np.random.binomial(n, p_contaminated, size=N)\n",
    "\n",
    "p_treated = (0.5 + 0.5 * contaminated) / 2.\n",
    "treatment = np.random.binomial(n, p_treated)\n",
    "\n",
    "p_recovery = (0.5 + treatment - 0.5 * contaminated) / 2. # = 0.25 + 0.5 * treatment - 0.25 * contaminated\n",
    "recovery = np.random.binomial(n, p_recovery)\n",
    "\n",
    "X = pd.DataFrame({'treatment': treatment, \n",
    "                  'recovery': recovery,\n",
    "                  'contaminated': contaminated})[['treatment', 'recovery', 'contaminated']]\n",
    "X.head()"
   ]
  },
  {
   "cell_type": "markdown",
   "metadata": {},
   "source": [
    "#### We can estimate the conditionals again,"
   ]
  },
  {
   "cell_type": "code",
   "execution_count": 15,
   "metadata": {
    "ExecuteTime": {
     "end_time": "2018-12-20T14:06:00.032288Z",
     "start_time": "2018-12-20T14:05:59.985413Z"
    }
   },
   "outputs": [
    {
     "data": {
      "text/html": [
       "<div>\n",
       "<style scoped>\n",
       "    .dataframe tbody tr th:only-of-type {\n",
       "        vertical-align: middle;\n",
       "    }\n",
       "\n",
       "    .dataframe tbody tr th {\n",
       "        vertical-align: top;\n",
       "    }\n",
       "\n",
       "    .dataframe thead th {\n",
       "        text-align: right;\n",
       "    }\n",
       "</style>\n",
       "<table border=\"1\" class=\"dataframe\">\n",
       "  <thead>\n",
       "    <tr style=\"text-align: right;\">\n",
       "      <th></th>\n",
       "      <th>recovery</th>\n",
       "    </tr>\n",
       "    <tr>\n",
       "      <th>treatment</th>\n",
       "      <th></th>\n",
       "    </tr>\n",
       "  </thead>\n",
       "  <tbody>\n",
       "    <tr>\n",
       "      <th>0</th>\n",
       "      <td>0.097131</td>\n",
       "    </tr>\n",
       "    <tr>\n",
       "      <th>1</th>\n",
       "      <td>0.545076</td>\n",
       "    </tr>\n",
       "  </tbody>\n",
       "</table>\n",
       "</div>"
      ],
      "text/plain": [
       "           recovery\n",
       "treatment          \n",
       "0          0.097131\n",
       "1          0.545076"
      ]
     },
     "execution_count": 15,
     "metadata": {},
     "output_type": "execute_result"
    }
   ],
   "source": [
    "X.groupby(('treatment')).mean()[['recovery']]"
   ]
  },
  {
   "cell_type": "markdown",
   "metadata": {},
   "source": [
    "#### and the naive estimator, which is now biased!"
   ]
  },
  {
   "cell_type": "code",
   "execution_count": 16,
   "metadata": {
    "ExecuteTime": {
     "end_time": "2018-12-20T14:06:00.112801Z",
     "start_time": "2018-12-20T14:06:00.035960Z"
    }
   },
   "outputs": [
    {
     "data": {
      "text/plain": [
       "array([0.44794473])"
      ]
     },
     "execution_count": 16,
     "metadata": {},
     "output_type": "execute_result"
    }
   ],
   "source": [
    "X.groupby(('treatment')).mean()[['recovery']].values[1] - X.groupby(('treatment')).mean()[['recovery']].values[0]"
   ]
  },
  {
   "cell_type": "markdown",
   "metadata": {
    "collapsed": true
   },
   "source": [
    "#### We now have a small (roughly 10%) bias for the ATE!"
   ]
  },
  {
   "cell_type": "markdown",
   "metadata": {
    "collapsed": true
   },
   "source": [
    "# Question 5\n",
    "\n",
    "First, let's add the right kind of bias. This will be much easier if we use the potential outcomes style data generating process. First, let's rewrite the data generating process:\n",
    "\n"
   ]
  },
  {
   "cell_type": "code",
   "execution_count": 25,
   "metadata": {
    "ExecuteTime": {
     "end_time": "2018-12-20T14:07:19.659708Z",
     "start_time": "2018-12-20T14:07:19.436515Z"
    }
   },
   "outputs": [
    {
     "data": {
      "text/html": [
       "<div>\n",
       "<style scoped>\n",
       "    .dataframe tbody tr th:only-of-type {\n",
       "        vertical-align: middle;\n",
       "    }\n",
       "\n",
       "    .dataframe tbody tr th {\n",
       "        vertical-align: top;\n",
       "    }\n",
       "\n",
       "    .dataframe thead th {\n",
       "        text-align: right;\n",
       "    }\n",
       "</style>\n",
       "<table border=\"1\" class=\"dataframe\">\n",
       "  <thead>\n",
       "    <tr style=\"text-align: right;\">\n",
       "      <th></th>\n",
       "      <th>treatment</th>\n",
       "      <th>recovery</th>\n",
       "      <th>contaminated</th>\n",
       "    </tr>\n",
       "  </thead>\n",
       "  <tbody>\n",
       "    <tr>\n",
       "      <th>0</th>\n",
       "      <td>1</td>\n",
       "      <td>0</td>\n",
       "      <td>1</td>\n",
       "    </tr>\n",
       "    <tr>\n",
       "      <th>1</th>\n",
       "      <td>0</td>\n",
       "      <td>0</td>\n",
       "      <td>1</td>\n",
       "    </tr>\n",
       "    <tr>\n",
       "      <th>2</th>\n",
       "      <td>0</td>\n",
       "      <td>0</td>\n",
       "      <td>0</td>\n",
       "    </tr>\n",
       "    <tr>\n",
       "      <th>3</th>\n",
       "      <td>0</td>\n",
       "      <td>1</td>\n",
       "      <td>0</td>\n",
       "    </tr>\n",
       "    <tr>\n",
       "      <th>4</th>\n",
       "      <td>1</td>\n",
       "      <td>1</td>\n",
       "      <td>0</td>\n",
       "    </tr>\n",
       "  </tbody>\n",
       "</table>\n",
       "</div>"
      ],
      "text/plain": [
       "   treatment  recovery  contaminated\n",
       "0          1         0             1\n",
       "1          0         0             1\n",
       "2          0         0             0\n",
       "3          0         1             0\n",
       "4          1         1             0"
      ]
     },
     "execution_count": 25,
     "metadata": {},
     "output_type": "execute_result"
    }
   ],
   "source": [
    "n = 1\n",
    "\n",
    "p_contaminated = 0.7\n",
    "contaminated = np.random.binomial(n, p_contaminated, size=N)\n",
    "\n",
    "p_treated = (0.5 + 0.5 * contaminated) / 2.\n",
    "treatment = np.random.binomial(n, p_treated)\n",
    "\n",
    "p_recovery = (0.5 - 0.5 * contaminated) / 2. # = 0.25 - 0.25 * contaminated\n",
    "recovery_0 = np.random.binomial(n, p_recovery)\n",
    "recovery_1 = np.random.binomial(n, p_recovery + 0.5)\n",
    "recovery = (treatment == 1) * recovery_1 + (treatment == 0) * recovery_0\n",
    "\n",
    "X = pd.DataFrame({'treatment': treatment, \n",
    "                  'recovery': recovery,\n",
    "                  'contaminated': contaminated})[['treatment', 'recovery', 'contaminated']]\n",
    "X.head()"
   ]
  },
  {
   "cell_type": "markdown",
   "metadata": {},
   "source": [
    "Statistical dependence between the potential outcomes, `recovery_0` and `recovery_1` and `treatment` comes from their common dependence on `contaminated`. As it's written, both potential outcomes will be dependent with `treatment`. If we change it so that only one is statistically dependent with `treatment`, we can make the naive estimator unbiased for the ATC, but not the others. Which one?\n",
    "\n",
    "Comparing the expressions for the ATT and ATC, we want to know when the naive estimator, $E[Y|D=1] - E[Y|D=0]$ is unbiased for each.\n",
    "\n",
    "$$ATT = E[Y^1|D=1] - E[Y^0|D=1]$$\n",
    "\n",
    "and\n",
    "\n",
    "$$ATC = E[Y^1|D=0] - E[Y^0|D=0]$$.\n",
    "\n",
    "The ATT's second term is counterfactual, so we need to make assumptions to measure it (we can't just change $Y^0$ to $Y$ like we can with $Y^1$ in the first term). The same is true for the first term in the ATC. We can estimate the ATC if \n",
    "\n",
    "$$E[Y^1|D=0] = E[Y^1|D=1] (= E[Y|D=1])$$, \n",
    "\n",
    "because then we can use the naive estimator to estimate it. We can do the same for the ATT if \n",
    "\n",
    "$$E[Y^0|D=1] = E[Y^0|D=0] (= E[Y|D=0])$$.\n",
    "\n",
    "To make the naive estimator unbiased for the ATC, we make the first assumption, but not the second. Let's enforce this in our data generating process. We need to make $Y^1$ independent of treatment assignment, but $Y^0$ dependent on treatment assignment. We can do that by removing `contaminated` as a cause of `recovery_1`, but not `recovery_0`. Let's save the potential outcome variables so we can check our answers. I have to reduce the treatment effect so the recovery probability isn't 1. for the treatment group.:"
   ]
  },
  {
   "cell_type": "code",
   "execution_count": 30,
   "metadata": {
    "ExecuteTime": {
     "end_time": "2018-12-20T14:29:33.103684Z",
     "start_time": "2018-12-20T14:29:32.922676Z"
    }
   },
   "outputs": [
    {
     "data": {
      "text/html": [
       "<div>\n",
       "<style scoped>\n",
       "    .dataframe tbody tr th:only-of-type {\n",
       "        vertical-align: middle;\n",
       "    }\n",
       "\n",
       "    .dataframe tbody tr th {\n",
       "        vertical-align: top;\n",
       "    }\n",
       "\n",
       "    .dataframe thead th {\n",
       "        text-align: right;\n",
       "    }\n",
       "</style>\n",
       "<table border=\"1\" class=\"dataframe\">\n",
       "  <thead>\n",
       "    <tr style=\"text-align: right;\">\n",
       "      <th></th>\n",
       "      <th>treatment</th>\n",
       "      <th>recovery</th>\n",
       "      <th>contaminated</th>\n",
       "      <th>recovery_0</th>\n",
       "      <th>recovery_1</th>\n",
       "    </tr>\n",
       "  </thead>\n",
       "  <tbody>\n",
       "    <tr>\n",
       "      <th>0</th>\n",
       "      <td>0</td>\n",
       "      <td>0</td>\n",
       "      <td>0</td>\n",
       "      <td>0</td>\n",
       "      <td>0</td>\n",
       "    </tr>\n",
       "    <tr>\n",
       "      <th>1</th>\n",
       "      <td>1</td>\n",
       "      <td>0</td>\n",
       "      <td>0</td>\n",
       "      <td>0</td>\n",
       "      <td>0</td>\n",
       "    </tr>\n",
       "    <tr>\n",
       "      <th>2</th>\n",
       "      <td>0</td>\n",
       "      <td>0</td>\n",
       "      <td>1</td>\n",
       "      <td>0</td>\n",
       "      <td>0</td>\n",
       "    </tr>\n",
       "    <tr>\n",
       "      <th>3</th>\n",
       "      <td>0</td>\n",
       "      <td>0</td>\n",
       "      <td>1</td>\n",
       "      <td>0</td>\n",
       "      <td>0</td>\n",
       "    </tr>\n",
       "    <tr>\n",
       "      <th>4</th>\n",
       "      <td>0</td>\n",
       "      <td>0</td>\n",
       "      <td>1</td>\n",
       "      <td>0</td>\n",
       "      <td>0</td>\n",
       "    </tr>\n",
       "  </tbody>\n",
       "</table>\n",
       "</div>"
      ],
      "text/plain": [
       "   treatment  recovery  contaminated  recovery_0  recovery_1\n",
       "0          0         0             0           0           0\n",
       "1          1         0             0           0           0\n",
       "2          0         0             1           0           0\n",
       "3          0         0             1           0           0\n",
       "4          0         0             1           0           0"
      ]
     },
     "execution_count": 30,
     "metadata": {},
     "output_type": "execute_result"
    }
   ],
   "source": [
    "n = 1\n",
    "\n",
    "p_contaminated = 0.7\n",
    "contaminated = np.random.binomial(n, p_contaminated, size=N)\n",
    "\n",
    "p_treated = (0.5 + 0.5 * contaminated) / 2.\n",
    "treatment = np.random.binomial(n, p_treated)\n",
    "\n",
    "p_recovery_0 = (0.5 - 0.5 * contaminated) / 2. # = 0.25 - 0.25 * treatment\n",
    "p_recovery_1 = (0.5) / 2. # = 0.25\n",
    "\n",
    "recovery_0 = np.random.binomial(n, p_recovery_0)\n",
    "recovery_1 = np.random.binomial(n, p_recovery_1 + 0.4)\n",
    "recovery = (treatment == 1) * recovery_1 + (treatment == 0) * recovery_0\n",
    "\n",
    "X = pd.DataFrame({'treatment': treatment, \n",
    "                  'recovery': recovery,\n",
    "                  'contaminated': contaminated,\n",
    "                  'recovery_0': recovery_0,\n",
    "                  'recovery_1': recovery_1})\n",
    "X.head()"
   ]
  },
  {
   "cell_type": "markdown",
   "metadata": {},
   "source": [
    "Let's check the treatment effects now. First, the true ATE:"
   ]
  },
  {
   "cell_type": "code",
   "execution_count": 19,
   "metadata": {
    "ExecuteTime": {
     "end_time": "2018-12-20T14:06:00.643772Z",
     "start_time": "2018-12-20T14:06:00.618072Z"
    }
   },
   "outputs": [
    {
     "data": {
      "text/plain": [
       "-0.075183"
      ]
     },
     "execution_count": 19,
     "metadata": {},
     "output_type": "execute_result"
    }
   ],
   "source": [
    "(X['recovery_1'] - X['recovery_0']).mean()"
   ]
  },
  {
   "cell_type": "markdown",
   "metadata": {},
   "source": [
    "and the true ATT:"
   ]
  },
  {
   "cell_type": "code",
   "execution_count": 20,
   "metadata": {
    "ExecuteTime": {
     "end_time": "2018-12-20T14:06:00.683761Z",
     "start_time": "2018-12-20T14:06:00.648023Z"
    }
   },
   "outputs": [
    {
     "data": {
      "text/plain": [
       "-0.04422661587307556"
      ]
     },
     "execution_count": 20,
     "metadata": {},
     "output_type": "execute_result"
    }
   ],
   "source": [
    "treated = X[X['treatment'] == 1]\n",
    "\n",
    "(treated['recovery_1'] - treated['recovery_0']).mean()"
   ]
  },
  {
   "cell_type": "markdown",
   "metadata": {},
   "source": [
    "and the true ATC:"
   ]
  },
  {
   "cell_type": "code",
   "execution_count": 21,
   "metadata": {
    "ExecuteTime": {
     "end_time": "2018-12-20T14:06:00.724458Z",
     "start_time": "2018-12-20T14:06:00.685955Z"
    }
   },
   "outputs": [
    {
     "data": {
      "text/plain": [
       "-0.09811188068659517"
      ]
     },
     "execution_count": 21,
     "metadata": {},
     "output_type": "execute_result"
    }
   ],
   "source": [
    "control = X[X['treatment'] == 0]\n",
    "\n",
    "(control['recovery_1'] - control['recovery_0']).mean()"
   ]
  },
  {
   "cell_type": "markdown",
   "metadata": {},
   "source": [
    "Let's compare these with the naive estimator. We're hoping it'll be equal to the ATC, and not the others."
   ]
  },
  {
   "cell_type": "code",
   "execution_count": 22,
   "metadata": {
    "ExecuteTime": {
     "end_time": "2018-12-20T14:06:00.798436Z",
     "start_time": "2018-12-20T14:06:00.726756Z"
    }
   },
   "outputs": [
    {
     "data": {
      "text/plain": [
       "-0.09811188068659517"
      ]
     },
     "execution_count": 22,
     "metadata": {},
     "output_type": "execute_result"
    }
   ],
   "source": [
    "X[X['treatment'] == 1]['recovery'].mean() - X[X['treatment'] == 0]['recovery'].mean()"
   ]
  },
  {
   "cell_type": "markdown",
   "metadata": {},
   "source": [
    "And it worked!"
   ]
  },
  {
   "cell_type": "code",
   "execution_count": null,
   "metadata": {},
   "outputs": [],
   "source": []
  }
 ],
 "metadata": {
  "kernelspec": {
   "display_name": "Python 3",
   "language": "python",
   "name": "python3"
  },
  "language_info": {
   "codemirror_mode": {
    "name": "ipython",
    "version": 3
   },
   "file_extension": ".py",
   "mimetype": "text/x-python",
   "name": "python",
   "nbconvert_exporter": "python",
   "pygments_lexer": "ipython3",
   "version": "3.6.5"
  }
 },
 "nbformat": 4,
 "nbformat_minor": 1
}
