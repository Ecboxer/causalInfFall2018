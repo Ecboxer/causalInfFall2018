{
 "cells": [
  {
   "cell_type": "code",
   "execution_count": 1,
   "metadata": {},
   "outputs": [],
   "source": [
    "import numpy as np\n",
    "import pandas as pd"
   ]
  },
  {
   "cell_type": "markdown",
   "metadata": {},
   "source": [
    "### Generate Data"
   ]
  },
  {
   "cell_type": "code",
   "execution_count": 3,
   "metadata": {
    "scrolled": true
   },
   "outputs": [
    {
     "data": {
      "text/html": [
       "<div>\n",
       "<style scoped>\n",
       "    .dataframe tbody tr th:only-of-type {\n",
       "        vertical-align: middle;\n",
       "    }\n",
       "\n",
       "    .dataframe tbody tr th {\n",
       "        vertical-align: top;\n",
       "    }\n",
       "\n",
       "    .dataframe thead th {\n",
       "        text-align: right;\n",
       "    }\n",
       "</style>\n",
       "<table border=\"1\" class=\"dataframe\">\n",
       "  <thead>\n",
       "    <tr style=\"text-align: right;\">\n",
       "      <th></th>\n",
       "      <th>treatment</th>\n",
       "      <th>recovery</th>\n",
       "    </tr>\n",
       "  </thead>\n",
       "  <tbody>\n",
       "    <tr>\n",
       "      <th>0</th>\n",
       "      <td>1</td>\n",
       "      <td>1</td>\n",
       "    </tr>\n",
       "    <tr>\n",
       "      <th>1</th>\n",
       "      <td>0</td>\n",
       "      <td>1</td>\n",
       "    </tr>\n",
       "    <tr>\n",
       "      <th>2</th>\n",
       "      <td>1</td>\n",
       "      <td>1</td>\n",
       "    </tr>\n",
       "    <tr>\n",
       "      <th>3</th>\n",
       "      <td>0</td>\n",
       "      <td>0</td>\n",
       "    </tr>\n",
       "    <tr>\n",
       "      <th>4</th>\n",
       "      <td>0</td>\n",
       "      <td>1</td>\n",
       "    </tr>\n",
       "  </tbody>\n",
       "</table>\n",
       "</div>"
      ],
      "text/plain": [
       "   treatment  recovery\n",
       "0          1         1\n",
       "1          0         1\n",
       "2          1         1\n",
       "3          0         0\n",
       "4          0         1"
      ]
     },
     "execution_count": 3,
     "metadata": {},
     "output_type": "execute_result"
    }
   ],
   "source": [
    "N = 1000000\n",
    "n = 1\n",
    "\n",
    "p_treated = 0.5\n",
    "treatment = np.random.binomial(n, p_treated, size=N)\n",
    "\n",
    "p_recovery = (0.5 + treatment) / 2. # = 0.25 + 0.5 * treatment\n",
    "recovery = np.random.binomial(n, p_recovery)\n",
    "\n",
    "X = pd.DataFrame({'treatment': treatment, \n",
    "                  'recovery': recovery})[['treatment', 'recovery']]\n",
    "X.head()"
   ]
  },
  {
   "cell_type": "markdown",
   "metadata": {},
   "source": [
    "Treatment causes recovery directly, so the effect of treatment on recovery is just the coefficient, 0.5. That will be the correct ATE. Let's explore with the naive estimator. Treatment is assigned at random, so it should be unbiased for the ATE!\n",
    "\n",
    "We can estimate $E[Y|D=1]$ and $E[Y|D=0]$ using a quick trick. The groupby operation is handy on discrete data:"
   ]
  },
  {
   "cell_type": "code",
   "execution_count": 4,
   "metadata": {},
   "outputs": [
    {
     "data": {
      "text/html": [
       "<div>\n",
       "<style scoped>\n",
       "    .dataframe tbody tr th:only-of-type {\n",
       "        vertical-align: middle;\n",
       "    }\n",
       "\n",
       "    .dataframe tbody tr th {\n",
       "        vertical-align: top;\n",
       "    }\n",
       "\n",
       "    .dataframe thead th {\n",
       "        text-align: right;\n",
       "    }\n",
       "</style>\n",
       "<table border=\"1\" class=\"dataframe\">\n",
       "  <thead>\n",
       "    <tr style=\"text-align: right;\">\n",
       "      <th></th>\n",
       "      <th>recovery</th>\n",
       "    </tr>\n",
       "    <tr>\n",
       "      <th>treatment</th>\n",
       "      <th></th>\n",
       "    </tr>\n",
       "  </thead>\n",
       "  <tbody>\n",
       "    <tr>\n",
       "      <th>0</th>\n",
       "      <td>0.249591</td>\n",
       "    </tr>\n",
       "    <tr>\n",
       "      <th>1</th>\n",
       "      <td>0.750601</td>\n",
       "    </tr>\n",
       "  </tbody>\n",
       "</table>\n",
       "</div>"
      ],
      "text/plain": [
       "           recovery\n",
       "treatment          \n",
       "0          0.249591\n",
       "1          0.750601"
      ]
     },
     "execution_count": 4,
     "metadata": {},
     "output_type": "execute_result"
    }
   ],
   "source": [
    "X.groupby('treatment').mean()"
   ]
  },
  {
   "cell_type": "markdown",
   "metadata": {},
   "source": [
    "### Estimate the ATE"
   ]
  },
  {
   "cell_type": "markdown",
   "metadata": {},
   "source": [
    "#### Since we're using random assignment, we can assume $Y^1$ and $Y^0$ as independent of $D$. Then \n",
    "#### $E[\\delta] = E[Y^1|D=1] - E[Y^0|D=0] = E[Y|D=1] - E[Y|D=0]$\n",
    "#### and the naive estimator is unbiased.\n",
    "\n",
    "#### First, we can estimate the conditionals,"
   ]
  },
  {
   "cell_type": "code",
   "execution_count": 5,
   "metadata": {},
   "outputs": [
    {
     "data": {
      "text/html": [
       "<div>\n",
       "<style scoped>\n",
       "    .dataframe tbody tr th:only-of-type {\n",
       "        vertical-align: middle;\n",
       "    }\n",
       "\n",
       "    .dataframe tbody tr th {\n",
       "        vertical-align: top;\n",
       "    }\n",
       "\n",
       "    .dataframe thead th {\n",
       "        text-align: right;\n",
       "    }\n",
       "</style>\n",
       "<table border=\"1\" class=\"dataframe\">\n",
       "  <thead>\n",
       "    <tr style=\"text-align: right;\">\n",
       "      <th></th>\n",
       "      <th>recovery</th>\n",
       "    </tr>\n",
       "    <tr>\n",
       "      <th>treatment</th>\n",
       "      <th></th>\n",
       "    </tr>\n",
       "  </thead>\n",
       "  <tbody>\n",
       "    <tr>\n",
       "      <th>0</th>\n",
       "      <td>0.249591</td>\n",
       "    </tr>\n",
       "    <tr>\n",
       "      <th>1</th>\n",
       "      <td>0.750601</td>\n",
       "    </tr>\n",
       "  </tbody>\n",
       "</table>\n",
       "</div>"
      ],
      "text/plain": [
       "           recovery\n",
       "treatment          \n",
       "0          0.249591\n",
       "1          0.750601"
      ]
     },
     "execution_count": 5,
     "metadata": {},
     "output_type": "execute_result"
    }
   ],
   "source": [
    "X.groupby(('treatment')).mean()[['recovery']]"
   ]
  },
  {
   "cell_type": "markdown",
   "metadata": {},
   "source": [
    "#### and then take the difference at each level of the treatment:"
   ]
  },
  {
   "cell_type": "code",
   "execution_count": 6,
   "metadata": {},
   "outputs": [
    {
     "data": {
      "text/plain": [
       "array([0.50101011])"
      ]
     },
     "execution_count": 6,
     "metadata": {},
     "output_type": "execute_result"
    }
   ],
   "source": [
    "X.groupby(('treatment')).mean()[['recovery']].values[1] - X.groupby(('treatment')).mean()[['recovery']].values[0]"
   ]
  },
  {
   "cell_type": "markdown",
   "metadata": {},
   "source": [
    "#### So we get\n",
    "#### $E[Y^1|D=1] = 0.75$\n",
    "#### $E[Y^0|D=0] = 0.25$\n",
    "#### and the difference is 0.5, the result we can read off from the data generating process!"
   ]
  },
  {
   "cell_type": "markdown",
   "metadata": {},
   "source": [
    "## Question 4: Estimate the ATE, ATT, ATC when the naive estimator is unbiased.\n",
    "\n",
    "For this data we've generated, the naive estimator is unbiased. That's because here, $Y^1, Y^0 \\perp D$, so \n",
    "\n",
    "$$E[Y^1 - Y^0] = E[Y^1] - E[Y^0] = E[Y^1|D=1] - E[Y^0|D=0]$$,\n",
    "\n",
    "where the last equality comes from this independence assumption, and gives us the naive estimator.\n",
    "\n",
    "We've already estimated the ATE. How do we get the ATT and ATC?\n",
    "\n",
    "Since the potential outcomes are independent of $D$, we could condition on any $D$ we like! We could say\n",
    "\n",
    "$$E[Y^1 - Y^0] = E[Y^1] - E[Y^0] = E[Y^1|D=1] - E[Y^0|D=1]$$\n",
    "\n",
    "or\n",
    "\n",
    "$$E[Y^1 - Y^0] = E[Y^1] - E[Y^0] = E[Y^1|D=0] - E[Y^0|D=0]$$.\n",
    "\n",
    "The first is the ATT, the second is the ATC. They're both equal to the ATE, so ATT = ATC = ATE = 0.5\n",
    "\n"
   ]
  },
  {
   "cell_type": "markdown",
   "metadata": {},
   "source": [
    "### How can we break it? That is, how can we make the naive estimator biased for the ATE?\n",
    "\n",
    "#### First, let's try adding extra noise to the recovery (compare this with the process above):"
   ]
  },
  {
   "cell_type": "code",
   "execution_count": 10,
   "metadata": {},
   "outputs": [
    {
     "data": {
      "text/html": [
       "<div>\n",
       "<style scoped>\n",
       "    .dataframe tbody tr th:only-of-type {\n",
       "        vertical-align: middle;\n",
       "    }\n",
       "\n",
       "    .dataframe tbody tr th {\n",
       "        vertical-align: top;\n",
       "    }\n",
       "\n",
       "    .dataframe thead th {\n",
       "        text-align: right;\n",
       "    }\n",
       "</style>\n",
       "<table border=\"1\" class=\"dataframe\">\n",
       "  <thead>\n",
       "    <tr style=\"text-align: right;\">\n",
       "      <th></th>\n",
       "      <th>treatment</th>\n",
       "      <th>recovery</th>\n",
       "      <th>contaminated</th>\n",
       "    </tr>\n",
       "  </thead>\n",
       "  <tbody>\n",
       "    <tr>\n",
       "      <th>0</th>\n",
       "      <td>1</td>\n",
       "      <td>1</td>\n",
       "      <td>1</td>\n",
       "    </tr>\n",
       "    <tr>\n",
       "      <th>1</th>\n",
       "      <td>0</td>\n",
       "      <td>0</td>\n",
       "      <td>0</td>\n",
       "    </tr>\n",
       "    <tr>\n",
       "      <th>2</th>\n",
       "      <td>1</td>\n",
       "      <td>1</td>\n",
       "      <td>0</td>\n",
       "    </tr>\n",
       "    <tr>\n",
       "      <th>3</th>\n",
       "      <td>1</td>\n",
       "      <td>1</td>\n",
       "      <td>1</td>\n",
       "    </tr>\n",
       "    <tr>\n",
       "      <th>4</th>\n",
       "      <td>1</td>\n",
       "      <td>1</td>\n",
       "      <td>1</td>\n",
       "    </tr>\n",
       "  </tbody>\n",
       "</table>\n",
       "</div>"
      ],
      "text/plain": [
       "   treatment  recovery  contaminated\n",
       "0          1         1             1\n",
       "1          0         0             0\n",
       "2          1         1             0\n",
       "3          1         1             1\n",
       "4          1         1             1"
      ]
     },
     "execution_count": 10,
     "metadata": {},
     "output_type": "execute_result"
    }
   ],
   "source": [
    "n = 1\n",
    "\n",
    "p_contaminated = 0.5\n",
    "contaminated = np.random.binomial(n, p_contaminated, size=N)\n",
    "\n",
    "p_treated = 0.5\n",
    "treatment = np.random.binomial(n, p_treated, size=N)\n",
    "\n",
    "p_recovery = (0.5 + treatment - 0.5 * contaminated) / 2. # = 0.25 + 0.5 * treatment\n",
    "recovery = np.random.binomial(n, p_recovery)\n",
    "\n",
    "X = pd.DataFrame({'treatment': treatment, \n",
    "                  'recovery': recovery,\n",
    "                  'contaminated': contaminated})[['treatment', 'recovery', 'contaminated']]\n",
    "X.head()"
   ]
  },
  {
   "cell_type": "markdown",
   "metadata": {},
   "source": [
    "#### Then, the conditionals change!"
   ]
  },
  {
   "cell_type": "code",
   "execution_count": 17,
   "metadata": {},
   "outputs": [
    {
     "data": {
      "text/html": [
       "<div>\n",
       "<style scoped>\n",
       "    .dataframe tbody tr th:only-of-type {\n",
       "        vertical-align: middle;\n",
       "    }\n",
       "\n",
       "    .dataframe tbody tr th {\n",
       "        vertical-align: top;\n",
       "    }\n",
       "\n",
       "    .dataframe thead th {\n",
       "        text-align: right;\n",
       "    }\n",
       "</style>\n",
       "<table border=\"1\" class=\"dataframe\">\n",
       "  <thead>\n",
       "    <tr style=\"text-align: right;\">\n",
       "      <th></th>\n",
       "      <th>recovery</th>\n",
       "    </tr>\n",
       "    <tr>\n",
       "      <th>treatment</th>\n",
       "      <th></th>\n",
       "    </tr>\n",
       "  </thead>\n",
       "  <tbody>\n",
       "    <tr>\n",
       "      <th>0</th>\n",
       "      <td>0.125363</td>\n",
       "    </tr>\n",
       "    <tr>\n",
       "      <th>1</th>\n",
       "      <td>0.624909</td>\n",
       "    </tr>\n",
       "  </tbody>\n",
       "</table>\n",
       "</div>"
      ],
      "text/plain": [
       "           recovery\n",
       "treatment          \n",
       "0          0.125363\n",
       "1          0.624909"
      ]
     },
     "execution_count": 17,
     "metadata": {},
     "output_type": "execute_result"
    }
   ],
   "source": [
    "X.groupby(('treatment')).mean()[['recovery']]"
   ]
  },
  {
   "cell_type": "markdown",
   "metadata": {},
   "source": [
    "### But the treatment effect stays the same!!!"
   ]
  },
  {
   "cell_type": "code",
   "execution_count": 18,
   "metadata": {},
   "outputs": [
    {
     "data": {
      "text/plain": [
       "array([0.49954517])"
      ]
     },
     "execution_count": 18,
     "metadata": {},
     "output_type": "execute_result"
    }
   ],
   "source": [
    "X.groupby(('treatment')).mean()[['recovery']].values[1] - X.groupby(('treatment')).mean()[['recovery']].values[0]"
   ]
  },
  {
   "cell_type": "markdown",
   "metadata": {},
   "source": [
    "#### The chances someone in the treatment group is contaminated is the same as for someone in the control group, so, from\n",
    "#### p_recovery = (0.5 + treatment - 0.5 * contaminated) / 2. # = 0.25 + 0.5 * treatment\n",
    "\n",
    "#### we can see\n",
    "\n",
    "#### $E[Y^1|D=1] = E[Y^1|D=0]$\n",
    "#### and\n",
    "#### $E[Y^0|D=1] = E[Y^0|D=0]$\n",
    "\n",
    "#### We need to make treatment and being contaminated associated with each other to create bias! In other words, treatment and outcome have to share a common cause! (what would this causal graph look like?)"
   ]
  },
  {
   "cell_type": "code",
   "execution_count": 19,
   "metadata": {},
   "outputs": [
    {
     "data": {
      "text/html": [
       "<div>\n",
       "<style scoped>\n",
       "    .dataframe tbody tr th:only-of-type {\n",
       "        vertical-align: middle;\n",
       "    }\n",
       "\n",
       "    .dataframe tbody tr th {\n",
       "        vertical-align: top;\n",
       "    }\n",
       "\n",
       "    .dataframe thead th {\n",
       "        text-align: right;\n",
       "    }\n",
       "</style>\n",
       "<table border=\"1\" class=\"dataframe\">\n",
       "  <thead>\n",
       "    <tr style=\"text-align: right;\">\n",
       "      <th></th>\n",
       "      <th>treatment</th>\n",
       "      <th>recovery</th>\n",
       "      <th>contaminated</th>\n",
       "    </tr>\n",
       "  </thead>\n",
       "  <tbody>\n",
       "    <tr>\n",
       "      <th>0</th>\n",
       "      <td>1</td>\n",
       "      <td>0</td>\n",
       "      <td>1</td>\n",
       "    </tr>\n",
       "    <tr>\n",
       "      <th>1</th>\n",
       "      <td>1</td>\n",
       "      <td>1</td>\n",
       "      <td>0</td>\n",
       "    </tr>\n",
       "    <tr>\n",
       "      <th>2</th>\n",
       "      <td>1</td>\n",
       "      <td>0</td>\n",
       "      <td>1</td>\n",
       "    </tr>\n",
       "    <tr>\n",
       "      <th>3</th>\n",
       "      <td>0</td>\n",
       "      <td>0</td>\n",
       "      <td>1</td>\n",
       "    </tr>\n",
       "    <tr>\n",
       "      <th>4</th>\n",
       "      <td>0</td>\n",
       "      <td>1</td>\n",
       "      <td>0</td>\n",
       "    </tr>\n",
       "  </tbody>\n",
       "</table>\n",
       "</div>"
      ],
      "text/plain": [
       "   treatment  recovery  contaminated\n",
       "0          1         0             1\n",
       "1          1         1             0\n",
       "2          1         0             1\n",
       "3          0         0             1\n",
       "4          0         1             0"
      ]
     },
     "execution_count": 19,
     "metadata": {},
     "output_type": "execute_result"
    }
   ],
   "source": [
    "n = 1\n",
    "\n",
    "p_contaminated = 0.7\n",
    "contaminated = np.random.binomial(n, p_contaminated, size=N)\n",
    "\n",
    "p_treated = (0.5 + 0.5 * contaminated) / 2.\n",
    "treatment = np.random.binomial(n, p_treated)\n",
    "\n",
    "p_recovery = (0.5 + treatment - 0.5 * contaminated) / 2. # = 0.25 + 0.5 * treatment\n",
    "recovery = np.random.binomial(n, p_recovery)\n",
    "\n",
    "X = pd.DataFrame({'treatment': treatment, \n",
    "                  'recovery': recovery,\n",
    "                  'contaminated': contaminated})[['treatment', 'recovery', 'contaminated']]\n",
    "X.head()"
   ]
  },
  {
   "cell_type": "markdown",
   "metadata": {},
   "source": [
    "#### We can estimate the conditionals again,"
   ]
  },
  {
   "cell_type": "code",
   "execution_count": 20,
   "metadata": {},
   "outputs": [
    {
     "data": {
      "text/html": [
       "<div>\n",
       "<style scoped>\n",
       "    .dataframe tbody tr th:only-of-type {\n",
       "        vertical-align: middle;\n",
       "    }\n",
       "\n",
       "    .dataframe tbody tr th {\n",
       "        vertical-align: top;\n",
       "    }\n",
       "\n",
       "    .dataframe thead th {\n",
       "        text-align: right;\n",
       "    }\n",
       "</style>\n",
       "<table border=\"1\" class=\"dataframe\">\n",
       "  <thead>\n",
       "    <tr style=\"text-align: right;\">\n",
       "      <th></th>\n",
       "      <th>recovery</th>\n",
       "    </tr>\n",
       "    <tr>\n",
       "      <th>treatment</th>\n",
       "      <th></th>\n",
       "    </tr>\n",
       "  </thead>\n",
       "  <tbody>\n",
       "    <tr>\n",
       "      <th>0</th>\n",
       "      <td>0.097154</td>\n",
       "    </tr>\n",
       "    <tr>\n",
       "      <th>1</th>\n",
       "      <td>0.543177</td>\n",
       "    </tr>\n",
       "  </tbody>\n",
       "</table>\n",
       "</div>"
      ],
      "text/plain": [
       "           recovery\n",
       "treatment          \n",
       "0          0.097154\n",
       "1          0.543177"
      ]
     },
     "execution_count": 20,
     "metadata": {},
     "output_type": "execute_result"
    }
   ],
   "source": [
    "X.groupby(('treatment')).mean()[['recovery']]"
   ]
  },
  {
   "cell_type": "markdown",
   "metadata": {},
   "source": [
    "#### and the naive estimator, which is now biased!"
   ]
  },
  {
   "cell_type": "code",
   "execution_count": 21,
   "metadata": {},
   "outputs": [
    {
     "data": {
      "text/plain": [
       "array([0.44602345])"
      ]
     },
     "execution_count": 21,
     "metadata": {},
     "output_type": "execute_result"
    }
   ],
   "source": [
    "X.groupby(('treatment')).mean()[['recovery']].values[1] - X.groupby(('treatment')).mean()[['recovery']].values[0]"
   ]
  },
  {
   "cell_type": "markdown",
   "metadata": {
    "collapsed": true
   },
   "source": [
    "#### We now have a small (roughly 10%) bias for the ATE!"
   ]
  },
  {
   "cell_type": "markdown",
   "metadata": {
    "collapsed": true
   },
   "source": [
    "# Question 5\n",
    "\n",
    "First, let's add the right kind of bias. This will be much easier if we use the potential outcomes style data generating process. First, let's rewrite the data generating process:\n",
    "\n"
   ]
  },
  {
   "cell_type": "code",
   "execution_count": 22,
   "metadata": {},
   "outputs": [
    {
     "data": {
      "text/html": [
       "<div>\n",
       "<style scoped>\n",
       "    .dataframe tbody tr th:only-of-type {\n",
       "        vertical-align: middle;\n",
       "    }\n",
       "\n",
       "    .dataframe tbody tr th {\n",
       "        vertical-align: top;\n",
       "    }\n",
       "\n",
       "    .dataframe thead th {\n",
       "        text-align: right;\n",
       "    }\n",
       "</style>\n",
       "<table border=\"1\" class=\"dataframe\">\n",
       "  <thead>\n",
       "    <tr style=\"text-align: right;\">\n",
       "      <th></th>\n",
       "      <th>treatment</th>\n",
       "      <th>recovery</th>\n",
       "      <th>contaminated</th>\n",
       "    </tr>\n",
       "  </thead>\n",
       "  <tbody>\n",
       "    <tr>\n",
       "      <th>0</th>\n",
       "      <td>0</td>\n",
       "      <td>0</td>\n",
       "      <td>0</td>\n",
       "    </tr>\n",
       "    <tr>\n",
       "      <th>1</th>\n",
       "      <td>1</td>\n",
       "      <td>1</td>\n",
       "      <td>1</td>\n",
       "    </tr>\n",
       "    <tr>\n",
       "      <th>2</th>\n",
       "      <td>0</td>\n",
       "      <td>0</td>\n",
       "      <td>0</td>\n",
       "    </tr>\n",
       "    <tr>\n",
       "      <th>3</th>\n",
       "      <td>0</td>\n",
       "      <td>0</td>\n",
       "      <td>1</td>\n",
       "    </tr>\n",
       "    <tr>\n",
       "      <th>4</th>\n",
       "      <td>0</td>\n",
       "      <td>1</td>\n",
       "      <td>0</td>\n",
       "    </tr>\n",
       "  </tbody>\n",
       "</table>\n",
       "</div>"
      ],
      "text/plain": [
       "   treatment  recovery  contaminated\n",
       "0          0         0             0\n",
       "1          1         1             1\n",
       "2          0         0             0\n",
       "3          0         0             1\n",
       "4          0         1             0"
      ]
     },
     "execution_count": 22,
     "metadata": {},
     "output_type": "execute_result"
    }
   ],
   "source": [
    "n = 1\n",
    "\n",
    "p_contaminated = 0.7\n",
    "contaminated = np.random.binomial(n, p_contaminated, size=N)\n",
    "\n",
    "p_treated = (0.5 + 0.5 * contaminated) / 2.\n",
    "treatment = np.random.binomial(n, p_treated)\n",
    "\n",
    "p_recovery = (0.5 - 0.5 * contaminated) / 2. # = 0.25 + 0.5 * treatment\n",
    "recovery_0 = np.random.binomial(n, p_recovery)\n",
    "recovery_1 = np.random.binomial(n, p_recovery + 0.5)\n",
    "recovery = (treatment == 1) * recovery_1 + (treatment == 0) * recovery_0\n",
    "\n",
    "X = pd.DataFrame({'treatment': treatment, \n",
    "                  'recovery': recovery,\n",
    "                  'contaminated': contaminated})[['treatment', 'recovery', 'contaminated']]\n",
    "X.head()"
   ]
  },
  {
   "cell_type": "markdown",
   "metadata": {},
   "source": [
    "Statistical dependence between the potential outcomes, `recovery_0` and `recovery_1` and `treatment` comes from their common dependence on `contaminated`. As it's written, both potential outcomes will be dependent with `treatment`. If we change it so that only one is statistically dependent with `treatment`, we can make the naive estimator unbiased for the ATC, but not the others. Which one?\n",
    "\n",
    "Comparing the expressions for the ATT and ATC, we want to know when the naive estimator, $E[Y|D=1] - E[Y|D=0]$ is unbiased for each.\n",
    "\n",
    "$$ATT = E[Y^1|D=1] - E[Y^0|D=1]$$\n",
    "\n",
    "and\n",
    "\n",
    "$$ATC = E[Y^1|D=0] - E[Y^0|D=0]$$.\n",
    "\n",
    "The ATT's second term is counterfactual, so we need to make assumptions to measure it (we can't just change $Y^0$ to $Y$ like we can with $Y^1$ in the first term). The same is true for the first term in the ATC. We can estimate the ATC if \n",
    "\n",
    "$$E[Y^1|D=0] = E[Y^1|D=1] (= E[Y|D=1])$$, \n",
    "\n",
    "because then we can use the naive estimator to estimate it. We can do the same for the ATT if \n",
    "\n",
    "$$E[Y^0|D=1] = E[Y^0|D=0] (= E[Y|D=0])$$.\n",
    "\n",
    "To make the naive estimator unbiased for the ATC, we make the first assumption, but not the second. Let's enforce this in our data generating process. We need to make $Y^1$ independent of treatment assignment, but $Y^0$ dependent on treatment assignment. We can do that by removing `contaminated` as a cause of `recovery_1`, but not `recovery_0`. Let's save the potential outcome variables so we can check out answers. I have the reduce the treatment effect so the recovery probability isn't 1. for the treatment group.:"
   ]
  },
  {
   "cell_type": "code",
   "execution_count": 23,
   "metadata": {},
   "outputs": [
    {
     "data": {
      "text/html": [
       "<div>\n",
       "<style scoped>\n",
       "    .dataframe tbody tr th:only-of-type {\n",
       "        vertical-align: middle;\n",
       "    }\n",
       "\n",
       "    .dataframe tbody tr th {\n",
       "        vertical-align: top;\n",
       "    }\n",
       "\n",
       "    .dataframe thead th {\n",
       "        text-align: right;\n",
       "    }\n",
       "</style>\n",
       "<table border=\"1\" class=\"dataframe\">\n",
       "  <thead>\n",
       "    <tr style=\"text-align: right;\">\n",
       "      <th></th>\n",
       "      <th>treatment</th>\n",
       "      <th>recovery</th>\n",
       "      <th>contaminated</th>\n",
       "      <th>recovery_0</th>\n",
       "      <th>recovery_1</th>\n",
       "    </tr>\n",
       "  </thead>\n",
       "  <tbody>\n",
       "    <tr>\n",
       "      <th>0</th>\n",
       "      <td>1</td>\n",
       "      <td>1</td>\n",
       "      <td>1</td>\n",
       "      <td>0</td>\n",
       "      <td>1</td>\n",
       "    </tr>\n",
       "    <tr>\n",
       "      <th>1</th>\n",
       "      <td>0</td>\n",
       "      <td>0</td>\n",
       "      <td>1</td>\n",
       "      <td>0</td>\n",
       "      <td>1</td>\n",
       "    </tr>\n",
       "    <tr>\n",
       "      <th>2</th>\n",
       "      <td>0</td>\n",
       "      <td>0</td>\n",
       "      <td>1</td>\n",
       "      <td>0</td>\n",
       "      <td>1</td>\n",
       "    </tr>\n",
       "    <tr>\n",
       "      <th>3</th>\n",
       "      <td>0</td>\n",
       "      <td>0</td>\n",
       "      <td>1</td>\n",
       "      <td>0</td>\n",
       "      <td>1</td>\n",
       "    </tr>\n",
       "    <tr>\n",
       "      <th>4</th>\n",
       "      <td>1</td>\n",
       "      <td>1</td>\n",
       "      <td>1</td>\n",
       "      <td>0</td>\n",
       "      <td>1</td>\n",
       "    </tr>\n",
       "  </tbody>\n",
       "</table>\n",
       "</div>"
      ],
      "text/plain": [
       "   treatment  recovery  contaminated  recovery_0  recovery_1\n",
       "0          1         1             1           0           1\n",
       "1          0         0             1           0           1\n",
       "2          0         0             1           0           1\n",
       "3          0         0             1           0           1\n",
       "4          1         1             1           0           1"
      ]
     },
     "execution_count": 23,
     "metadata": {},
     "output_type": "execute_result"
    }
   ],
   "source": [
    "n = 1\n",
    "\n",
    "p_contaminated = 0.7\n",
    "contaminated = np.random.binomial(n, p_contaminated, size=N)\n",
    "\n",
    "p_treated = (0.5 + 0.5 * contaminated) / 2.\n",
    "treatment = np.random.binomial(n, p_treated)\n",
    "\n",
    "p_recovery_0 = (0.5 - 0.5 * contaminated) / 2. # = 0.25 + 0.5 * treatment\n",
    "p_recovery_1 = (0.5) / 2. # = 0.25 + 0.5 * treatment\n",
    "\n",
    "recovery_0 = np.random.binomial(n, p_recovery_0)\n",
    "recovery_1 = np.random.binomial(n, p_recovery_1 + 0.4)\n",
    "recovery = (treatment == 1) * recovery_1 + (treatment == 0) * recovery_0\n",
    "\n",
    "X = pd.DataFrame({'treatment': treatment, \n",
    "                  'recovery': recovery,\n",
    "                  'contaminated': contaminated,\n",
    "                  'recovery_0': recovery_0,\n",
    "                  'recovery_1': recovery_1})\n",
    "X.head()"
   ]
  },
  {
   "cell_type": "markdown",
   "metadata": {},
   "source": [
    "Let's check the treatment effects now. First, the true ATE:"
   ]
  },
  {
   "cell_type": "code",
   "execution_count": 24,
   "metadata": {},
   "outputs": [
    {
     "data": {
      "text/plain": [
       "0.925275"
      ]
     },
     "execution_count": 24,
     "metadata": {},
     "output_type": "execute_result"
    }
   ],
   "source": [
    "(X['recovery_1'] - X['recovery_0']).mean()"
   ]
  },
  {
   "cell_type": "markdown",
   "metadata": {},
   "source": [
    "and the true ATT:"
   ]
  },
  {
   "cell_type": "code",
   "execution_count": 25,
   "metadata": {},
   "outputs": [
    {
     "data": {
      "text/plain": [
       "0.9560864078879038"
      ]
     },
     "execution_count": 25,
     "metadata": {},
     "output_type": "execute_result"
    }
   ],
   "source": [
    "treated = X[X['treatment'] == 1]\n",
    "\n",
    "(treated['recovery_1'] - treated['recovery_0']).mean()"
   ]
  },
  {
   "cell_type": "markdown",
   "metadata": {},
   "source": [
    "and the true ATC:"
   ]
  },
  {
   "cell_type": "code",
   "execution_count": 26,
   "metadata": {},
   "outputs": [
    {
     "data": {
      "text/plain": [
       "0.902448832509048"
      ]
     },
     "execution_count": 26,
     "metadata": {},
     "output_type": "execute_result"
    }
   ],
   "source": [
    "control = X[X['treatment'] == 0]\n",
    "\n",
    "(control['recovery_1'] - control['recovery_0']).mean()"
   ]
  },
  {
   "cell_type": "markdown",
   "metadata": {},
   "source": [
    "Let's compare these with the naive estimator. We're hoping it'll be equal to the ATC, and not the others."
   ]
  },
  {
   "cell_type": "code",
   "execution_count": 27,
   "metadata": {},
   "outputs": [
    {
     "data": {
      "text/plain": [
       "0.902448832509048"
      ]
     },
     "execution_count": 27,
     "metadata": {},
     "output_type": "execute_result"
    }
   ],
   "source": [
    "X[X['treatment'] == 1]['recovery'].mean() - X[X['treatment'] == 0]['recovery'].mean()"
   ]
  },
  {
   "cell_type": "markdown",
   "metadata": {},
   "source": [
    "And it worked!"
   ]
  },
  {
   "cell_type": "code",
   "execution_count": null,
   "metadata": {},
   "outputs": [],
   "source": []
  }
 ],
 "metadata": {
  "kernelspec": {
   "display_name": "Python 3",
   "language": "python",
   "name": "python3"
  },
  "language_info": {
   "codemirror_mode": {
    "name": "ipython",
    "version": 3
   },
   "file_extension": ".py",
   "mimetype": "text/x-python",
   "name": "python",
   "nbconvert_exporter": "python",
   "pygments_lexer": "ipython3",
   "version": "3.6.5"
  }
 },
 "nbformat": 4,
 "nbformat_minor": 1
}
