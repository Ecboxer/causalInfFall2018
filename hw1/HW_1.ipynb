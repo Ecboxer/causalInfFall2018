{
 "cells": [
  {
   "cell_type": "markdown",
   "metadata": {},
   "source": [
    "Eric Boxer  \n",
    "UNI ecb2198  \n",
    "#### HW 1"
   ]
  },
  {
   "cell_type": "markdown",
   "metadata": {},
   "source": [
    "(1) What is a causal state? What does it mean for a causal state to be finely articulated?"
   ]
  },
  {
   "cell_type": "markdown",
   "metadata": {},
   "source": [
    "A causal state in an experiment is the treatment, or lack of treatment (indicating a control), assigned to participants in the experiment. In an observational study, a causal state is the treatment, or lack of treatment, selected by members of the population under observation. More generally, a causal state defines the conditions for a population of interest.  These conditions have the potential to affect one or more measurable outcomes.  \n",
    "Finely articulated causal states are those conditions which can be captured in a single measurement. For example, in an experiment of the effects of college enrollment on starting salary, causal states could be finely articulated as \"enrolled in college\" and \"did not enroll in college\". A similar study with poor articulation could aim to assess the effects of college on starting salary. With the more general objective causal states are unclear, would it be appropriate to differentiate between college dropouts and graduates, public or state college attendees, students who go on to higher-education?"
   ]
  },
  {
   "cell_type": "markdown",
   "metadata": {},
   "source": [
    "(2) Why can’t we measure individual level treatment effects, $Y^1 - Y^0$, in practice?"
   ]
  },
  {
   "cell_type": "markdown",
   "metadata": {},
   "source": [
    "On the individual level, for individual i only $Y_i^0$ **or** $Y_i^1$ is measurable. The existence of an outcome in a given causal state excludes the possibility of having a measurement from that individual in another causal state, for well-defined states.  \n",
    "The impossibility of measuring individual outcomes in multiple causal states gives rise to the problem of how to move beyond $\\delta_{Naive} = \\mathbb{E}(Y^1 | d = 1) - \\mathbb{E}(Y^0 | d = 0)$ to the Average Treatment Effect or otherwise understanding the casual relationships within observational data."
   ]
  },
  {
   "cell_type": "markdown",
   "metadata": {},
   "source": [
    "(3) Do you think the SUTVA might be violated (why? Why not? ) for the causal effect of X on Y\n",
    "when:  \n",
    "(a) X = “Having a college degree” and Y = “Future earnings”  \n",
    "(b) X = “Vaccinating individual i in a local population” and Y = “person i’s chances of\n",
    "getting sick abroad”"
   ]
  },
  {
   "cell_type": "markdown",
   "metadata": {},
   "source": [
    "(a) Yes, SUTVA might be violated. Dilution of the positive salary effects of having a college degree could result from a greater number of job-seekers with degrees. We can also imagine a study being performed on a very large scale, in which the population of one city is incentivized to get a degree whereas a control city is left alone. There could then be a concentration effect in which the treatment city with its educated workforce develops into an attractive location for high-paying businesses and wages rise for all residents, with or without a college degree.  \n",
    "(b) No, SUTVA would not be violated. By measuring the incidences of sickness abroad you would not have to worry about herd immunity, which would violate SUTVA if you measured incidences of sickness in the local population. When traveling, whether individual was vaccinated would not affect the likelihood that other subjects would contract a sickness, in general."
   ]
  },
  {
   "cell_type": "markdown",
   "metadata": {},
   "source": [
    "(4) Use the notebook posted for this assignment from class to measure the ATE, ATC and ATT\n",
    "in the population when the naive estimator is unbiased."
   ]
  },
  {
   "cell_type": "markdown",
   "metadata": {},
   "source": [
    "When $\\delta_{Naive}$ is unbiased, $\\mathbb{E}[Y^1 | D = 1] - \\mathbb{E}[Y^0 | D = 0] = \\mathbb{E}[\\delta] = ATE$  \n",
    "The naive estimator is equal to the ATE, if sources of bias are removed (baseline bias and differential treatment bias). The naive estimator is unbiased if two assumptions hold:  \n",
    "A1 $\\mathbb{E}[Y^1 | D = 1] = \\mathbb{E}[Y^1 | D = 0]$, and  \n",
    "A2 $\\mathbb{E}[Y^0 | D = 1] = \\mathbb{E}[Y^0 | D = 0]$  \n",
    "These equalities hold if there is no difference in the expected outcome of the treatment, or control, population from the causal state. This is reasonable if the treatment is independent of $Y^1, Y^0$ like in the case of a randomized trial.  \n",
    "If the naive estimator is unbiased, not only is it equal to the ATE, but also (by subsitution using A2 and A1 respectively) to the ATT $\\mathbb{E}[Y^1 | D = 1] - \\mathbb{E}[Y^0 | D = 1]$ and the ATC $\\mathbb{E}[Y^1 | D = 0] - \\mathbb{E}[Y^0 | D = 0]$, since $Y^1, Y^0$ are independent of $D$."
   ]
  },
  {
   "cell_type": "code",
   "execution_count": 1,
   "metadata": {},
   "outputs": [],
   "source": [
    "import numpy as np\n",
    "import pandas as pd"
   ]
  },
  {
   "cell_type": "code",
   "execution_count": 2,
   "metadata": {
    "scrolled": true
   },
   "outputs": [
    {
     "data": {
      "text/html": [
       "<div>\n",
       "<style scoped>\n",
       "    .dataframe tbody tr th:only-of-type {\n",
       "        vertical-align: middle;\n",
       "    }\n",
       "\n",
       "    .dataframe tbody tr th {\n",
       "        vertical-align: top;\n",
       "    }\n",
       "\n",
       "    .dataframe thead th {\n",
       "        text-align: right;\n",
       "    }\n",
       "</style>\n",
       "<table border=\"1\" class=\"dataframe\">\n",
       "  <thead>\n",
       "    <tr style=\"text-align: right;\">\n",
       "      <th></th>\n",
       "      <th>treatment</th>\n",
       "      <th>recovery</th>\n",
       "    </tr>\n",
       "  </thead>\n",
       "  <tbody>\n",
       "    <tr>\n",
       "      <th>0</th>\n",
       "      <td>0</td>\n",
       "      <td>0</td>\n",
       "    </tr>\n",
       "    <tr>\n",
       "      <th>1</th>\n",
       "      <td>0</td>\n",
       "      <td>0</td>\n",
       "    </tr>\n",
       "    <tr>\n",
       "      <th>2</th>\n",
       "      <td>1</td>\n",
       "      <td>1</td>\n",
       "    </tr>\n",
       "    <tr>\n",
       "      <th>3</th>\n",
       "      <td>0</td>\n",
       "      <td>0</td>\n",
       "    </tr>\n",
       "    <tr>\n",
       "      <th>4</th>\n",
       "      <td>0</td>\n",
       "      <td>0</td>\n",
       "    </tr>\n",
       "  </tbody>\n",
       "</table>\n",
       "</div>"
      ],
      "text/plain": [
       "   treatment  recovery\n",
       "0          0         0\n",
       "1          0         0\n",
       "2          1         1\n",
       "3          0         0\n",
       "4          0         0"
      ]
     },
     "execution_count": 2,
     "metadata": {},
     "output_type": "execute_result"
    }
   ],
   "source": [
    "N = 1000000\n",
    "n = 1\n",
    "\n",
    "p_treated = 0.5\n",
    "treatment = np.random.binomial(n, p_treated, size=N)\n",
    "\n",
    "p_recovery = (0.5 + treatment) / 2. # = 0.25 + 0.5 * treatment \n",
    "# If treatment_i = 1, p_recovery_i = .75 and if treatment_i = 0, p_recovery_i = .25\n",
    "recovery = np.random.binomial(n, p_recovery)\n",
    "\n",
    "X = pd.DataFrame({'treatment': treatment, \n",
    "                  'recovery': recovery})[['treatment', 'recovery']]\n",
    "X.head()"
   ]
  },
  {
   "cell_type": "code",
   "execution_count": 3,
   "metadata": {},
   "outputs": [
    {
     "data": {
      "text/html": [
       "<div>\n",
       "<style scoped>\n",
       "    .dataframe tbody tr th:only-of-type {\n",
       "        vertical-align: middle;\n",
       "    }\n",
       "\n",
       "    .dataframe tbody tr th {\n",
       "        vertical-align: top;\n",
       "    }\n",
       "\n",
       "    .dataframe thead th {\n",
       "        text-align: right;\n",
       "    }\n",
       "</style>\n",
       "<table border=\"1\" class=\"dataframe\">\n",
       "  <thead>\n",
       "    <tr style=\"text-align: right;\">\n",
       "      <th></th>\n",
       "      <th>recovery</th>\n",
       "    </tr>\n",
       "    <tr>\n",
       "      <th>treatment</th>\n",
       "      <th></th>\n",
       "    </tr>\n",
       "  </thead>\n",
       "  <tbody>\n",
       "    <tr>\n",
       "      <th>0</th>\n",
       "      <td>0.249309</td>\n",
       "    </tr>\n",
       "    <tr>\n",
       "      <th>1</th>\n",
       "      <td>0.749671</td>\n",
       "    </tr>\n",
       "  </tbody>\n",
       "</table>\n",
       "</div>"
      ],
      "text/plain": [
       "           recovery\n",
       "treatment          \n",
       "0          0.249309\n",
       "1          0.749671"
      ]
     },
     "execution_count": 3,
     "metadata": {},
     "output_type": "execute_result"
    }
   ],
   "source": [
    "X.groupby('treatment').mean()"
   ]
  },
  {
   "cell_type": "code",
   "execution_count": 4,
   "metadata": {},
   "outputs": [
    {
     "name": "stdout",
     "output_type": "stream",
     "text": [
      "ATE = 0.5003626896857405\n"
     ]
    }
   ],
   "source": [
    "ATE = X.groupby(('treatment')).mean()[['recovery']].values[1] - X.groupby(('treatment')).mean()[['recovery']].values[0]\n",
    "print('ATE = {}'.format(ATE[0]))"
   ]
  },
  {
   "cell_type": "code",
   "execution_count": 5,
   "metadata": {},
   "outputs": [
    {
     "name": "stdout",
     "output_type": "stream",
     "text": [
      "ATT = ATC = 0.5003626896857405\n"
     ]
    }
   ],
   "source": [
    "print('ATT = ATC = {}'.format(ATE[0]))"
   ]
  },
  {
   "cell_type": "markdown",
   "metadata": {},
   "source": [
    "In this example from ATE_demo.ipynb the naive estimator is assumed to be unbiased because treatment was randomly assigned as treatment = np.random.binomial()"
   ]
  },
  {
   "cell_type": "markdown",
   "metadata": {},
   "source": [
    "(5) Let’s explore bias with simulated data:  \n",
    "(a)\n",
    "Copy and modify the data generating process to introduce bias in the ATT and ATE, but\n",
    "leave the ATC unbiased (hint: define the [usually unmeasured] $Y^0$ and $Y^1$ for each unit,\n",
    "then examine the assumptions A1 and A2).  \n",
    "(b)\n",
    "Use naive estimators to measure the (potentially biased) ATE, ATC and ATT.  \n",
    "(c)\n",
    "Which estimates are biased? Is the bias baseline bias, differential treatment effect bias,\n",
    "or both?"
   ]
  },
  {
   "cell_type": "markdown",
   "metadata": {},
   "source": [
    "Need $Y^1$ to be independent of $D$ and $Y^0$ to be dependent."
   ]
  },
  {
   "cell_type": "code",
   "execution_count": 6,
   "metadata": {},
   "outputs": [
    {
     "data": {
      "text/html": [
       "<div>\n",
       "<style scoped>\n",
       "    .dataframe tbody tr th:only-of-type {\n",
       "        vertical-align: middle;\n",
       "    }\n",
       "\n",
       "    .dataframe tbody tr th {\n",
       "        vertical-align: top;\n",
       "    }\n",
       "\n",
       "    .dataframe thead th {\n",
       "        text-align: right;\n",
       "    }\n",
       "</style>\n",
       "<table border=\"1\" class=\"dataframe\">\n",
       "  <thead>\n",
       "    <tr style=\"text-align: right;\">\n",
       "      <th></th>\n",
       "      <th>treatment</th>\n",
       "      <th>recovery</th>\n",
       "      <th>recovery_cf</th>\n",
       "    </tr>\n",
       "  </thead>\n",
       "  <tbody>\n",
       "    <tr>\n",
       "      <th>0</th>\n",
       "      <td>0</td>\n",
       "      <td>0</td>\n",
       "      <td>0</td>\n",
       "    </tr>\n",
       "    <tr>\n",
       "      <th>1</th>\n",
       "      <td>0</td>\n",
       "      <td>0</td>\n",
       "      <td>0</td>\n",
       "    </tr>\n",
       "    <tr>\n",
       "      <th>2</th>\n",
       "      <td>0</td>\n",
       "      <td>0</td>\n",
       "      <td>1</td>\n",
       "    </tr>\n",
       "    <tr>\n",
       "      <th>3</th>\n",
       "      <td>1</td>\n",
       "      <td>1</td>\n",
       "      <td>0</td>\n",
       "    </tr>\n",
       "    <tr>\n",
       "      <th>4</th>\n",
       "      <td>1</td>\n",
       "      <td>0</td>\n",
       "      <td>1</td>\n",
       "    </tr>\n",
       "  </tbody>\n",
       "</table>\n",
       "</div>"
      ],
      "text/plain": [
       "   treatment  recovery  recovery_cf\n",
       "0          0         0            0\n",
       "1          0         0            0\n",
       "2          0         0            1\n",
       "3          1         1            0\n",
       "4          1         0            1"
      ]
     },
     "execution_count": 6,
     "metadata": {},
     "output_type": "execute_result"
    }
   ],
   "source": [
    "N = 1000000\n",
    "n = 1\n",
    "\n",
    "p_treated = 0.5\n",
    "treatment = np.random.binomial(n, p_treated, size=N)\n",
    "\n",
    "p_recovery = 0.75 - (1. - treatment) / 2.\n",
    "recovery = np.random.binomial(n, p_recovery, size=N)\n",
    "\n",
    "p_recovery_cf = 0.75\n",
    "recovery_cf = np.random.binomial(n, p_recovery_cf, size=N)\n",
    "\n",
    "X = pd.DataFrame({'treatment': treatment, \n",
    "                  'recovery': recovery,\n",
    "                  'recovery_cf': recovery_cf})[['treatment', 'recovery', 'recovery_cf']]\n",
    "X.head()"
   ]
  },
  {
   "cell_type": "code",
   "execution_count": 7,
   "metadata": {},
   "outputs": [
    {
     "data": {
      "text/html": [
       "<div>\n",
       "<style scoped>\n",
       "    .dataframe tbody tr th:only-of-type {\n",
       "        vertical-align: middle;\n",
       "    }\n",
       "\n",
       "    .dataframe tbody tr th {\n",
       "        vertical-align: top;\n",
       "    }\n",
       "\n",
       "    .dataframe thead th {\n",
       "        text-align: right;\n",
       "    }\n",
       "</style>\n",
       "<table border=\"1\" class=\"dataframe\">\n",
       "  <thead>\n",
       "    <tr style=\"text-align: right;\">\n",
       "      <th></th>\n",
       "      <th>treatment</th>\n",
       "      <th>recovery</th>\n",
       "      <th>recovery_cf</th>\n",
       "    </tr>\n",
       "  </thead>\n",
       "  <tbody>\n",
       "    <tr>\n",
       "      <th>0</th>\n",
       "      <td>1</td>\n",
       "      <td>1</td>\n",
       "      <td>1</td>\n",
       "    </tr>\n",
       "    <tr>\n",
       "      <th>1</th>\n",
       "      <td>1</td>\n",
       "      <td>0</td>\n",
       "      <td>1</td>\n",
       "    </tr>\n",
       "    <tr>\n",
       "      <th>2</th>\n",
       "      <td>1</td>\n",
       "      <td>1</td>\n",
       "      <td>0</td>\n",
       "    </tr>\n",
       "    <tr>\n",
       "      <th>3</th>\n",
       "      <td>0</td>\n",
       "      <td>1</td>\n",
       "      <td>1</td>\n",
       "    </tr>\n",
       "    <tr>\n",
       "      <th>4</th>\n",
       "      <td>1</td>\n",
       "      <td>1</td>\n",
       "      <td>0</td>\n",
       "    </tr>\n",
       "  </tbody>\n",
       "</table>\n",
       "</div>"
      ],
      "text/plain": [
       "   treatment  recovery  recovery_cf\n",
       "0          1         1            1\n",
       "1          1         0            1\n",
       "2          1         1            0\n",
       "3          0         1            1\n",
       "4          1         1            0"
      ]
     },
     "execution_count": 7,
     "metadata": {},
     "output_type": "execute_result"
    }
   ],
   "source": [
    "N = 1000000\n",
    "n = 1\n",
    "\n",
    "p_treated = 0.5\n",
    "treatment = np.random.binomial(n, p_treated, size=N)\n",
    "\n",
    "p_recovery = 0.75 - (1 - treatment) / 2.\n",
    "recovery = np.random.binomial(n, p_recovery, size=N)\n",
    "\n",
    "p_recovery_cf = 0.75\n",
    "recovery_cf = np.random.binomial(n, p_recovery_cf, size=N)\n",
    "\n",
    "X = pd.DataFrame({'treatment': treatment, \n",
    "                  'recovery': recovery,\n",
    "                  'recovery_cf': recovery_cf})[['treatment', 'recovery', 'recovery_cf']]\n",
    "X.head()"
   ]
  },
  {
   "cell_type": "code",
   "execution_count": 8,
   "metadata": {},
   "outputs": [
    {
     "data": {
      "text/html": [
       "<div>\n",
       "<style scoped>\n",
       "    .dataframe tbody tr th:only-of-type {\n",
       "        vertical-align: middle;\n",
       "    }\n",
       "\n",
       "    .dataframe tbody tr th {\n",
       "        vertical-align: top;\n",
       "    }\n",
       "\n",
       "    .dataframe thead th {\n",
       "        text-align: right;\n",
       "    }\n",
       "</style>\n",
       "<table border=\"1\" class=\"dataframe\">\n",
       "  <thead>\n",
       "    <tr style=\"text-align: right;\">\n",
       "      <th></th>\n",
       "      <th>recovery</th>\n",
       "      <th>recovery_cf</th>\n",
       "    </tr>\n",
       "    <tr>\n",
       "      <th>treatment</th>\n",
       "      <th></th>\n",
       "      <th></th>\n",
       "    </tr>\n",
       "  </thead>\n",
       "  <tbody>\n",
       "    <tr>\n",
       "      <th>0</th>\n",
       "      <td>0.250069</td>\n",
       "      <td>0.748357</td>\n",
       "    </tr>\n",
       "    <tr>\n",
       "      <th>1</th>\n",
       "      <td>0.749597</td>\n",
       "      <td>0.750245</td>\n",
       "    </tr>\n",
       "  </tbody>\n",
       "</table>\n",
       "</div>"
      ],
      "text/plain": [
       "           recovery  recovery_cf\n",
       "treatment                       \n",
       "0          0.250069     0.748357\n",
       "1          0.749597     0.750245"
      ]
     },
     "execution_count": 8,
     "metadata": {},
     "output_type": "execute_result"
    }
   ],
   "source": [
    "X.groupby('treatment').mean()"
   ]
  },
  {
   "cell_type": "markdown",
   "metadata": {},
   "source": [
    "$\\mathbb{E}[Y^1|D = 1]$"
   ]
  },
  {
   "cell_type": "code",
   "execution_count": 9,
   "metadata": {},
   "outputs": [
    {
     "data": {
      "text/plain": [
       "0.7495969854914777"
      ]
     },
     "execution_count": 9,
     "metadata": {},
     "output_type": "execute_result"
    }
   ],
   "source": [
    "X[X['treatment'] == 1]['recovery'].mean()"
   ]
  },
  {
   "cell_type": "markdown",
   "metadata": {},
   "source": [
    "$\\mathbb{E}[Y^1|D = 0]$"
   ]
  },
  {
   "cell_type": "code",
   "execution_count": 10,
   "metadata": {},
   "outputs": [
    {
     "data": {
      "text/plain": [
       "0.7483570591458707"
      ]
     },
     "execution_count": 10,
     "metadata": {},
     "output_type": "execute_result"
    }
   ],
   "source": [
    "X[X['treatment'] == 0]['recovery_cf'].mean()"
   ]
  },
  {
   "cell_type": "markdown",
   "metadata": {},
   "source": [
    "$\\mathbb{E}[Y^0|D = 1]$"
   ]
  },
  {
   "cell_type": "code",
   "execution_count": 11,
   "metadata": {},
   "outputs": [
    {
     "data": {
      "text/plain": [
       "0.7502450088203175"
      ]
     },
     "execution_count": 11,
     "metadata": {},
     "output_type": "execute_result"
    }
   ],
   "source": [
    "X[X['treatment'] == 1]['recovery_cf'].mean()"
   ]
  },
  {
   "cell_type": "markdown",
   "metadata": {},
   "source": [
    "$\\mathbb{E}[Y^0|D = 0]$"
   ]
  },
  {
   "cell_type": "code",
   "execution_count": 12,
   "metadata": {},
   "outputs": [
    {
     "data": {
      "text/plain": [
       "0.2500689975160894"
      ]
     },
     "execution_count": 12,
     "metadata": {},
     "output_type": "execute_result"
    }
   ],
   "source": [
    "X[X['treatment'] == 0]['recovery'].mean()"
   ]
  },
  {
   "cell_type": "markdown",
   "metadata": {},
   "source": [
    "Assumptions:  \n",
    "A1 $\\mathbb{E}[Y^1 | D = 1] = \\mathbb{E}[Y^1 | D = 0]$, and  \n",
    "A2 $\\mathbb{E}[Y^0 | D = 1] = \\mathbb{E}[Y^0 | D = 0]$  "
   ]
  },
  {
   "cell_type": "code",
   "execution_count": 13,
   "metadata": {},
   "outputs": [
    {
     "name": "stdout",
     "output_type": "stream",
     "text": [
      "A1 is True\n"
     ]
    }
   ],
   "source": [
    "A1 = abs(X[X['treatment'] == 1]['recovery'].mean() - X[X['treatment'] == 0]['recovery_cf'].mean()) < 0.01\n",
    "print('A1 is {}'.format(A1))"
   ]
  },
  {
   "cell_type": "code",
   "execution_count": 14,
   "metadata": {},
   "outputs": [
    {
     "name": "stdout",
     "output_type": "stream",
     "text": [
      "A2 is False\n"
     ]
    }
   ],
   "source": [
    "A2 = abs(X[X['treatment'] == 1]['recovery_cf'].mean() - X[X['treatment'] == 0]['recovery'].mean()) < 0.01\n",
    "print('A2 is {}'.format(A2))"
   ]
  },
  {
   "cell_type": "code",
   "execution_count": 15,
   "metadata": {},
   "outputs": [
    {
     "name": "stdout",
     "output_type": "stream",
     "text": [
      "delta = 0.4995279879753883\n"
     ]
    }
   ],
   "source": [
    "delta = X[X['treatment'] == 1]['recovery'].mean() - X[X['treatment'] == 0]['recovery'].mean()\n",
    "print('delta = {}'.format(delta))"
   ]
  },
  {
   "cell_type": "code",
   "execution_count": 16,
   "metadata": {},
   "outputs": [
    {
     "name": "stdout",
     "output_type": "stream",
     "text": [
      "ATE = 0.24882001915047072\n"
     ]
    }
   ],
   "source": [
    "ATE = p_treated * (X[X['treatment'] == 1]['recovery'].mean() - X[X['treatment'] == 1]['recovery_cf'].mean()) + (1 - p_treated) * (X[X['treatment'] == 0]['recovery_cf'].mean() - X[X['treatment'] == 0]['recovery'].mean())\n",
    "print('ATE = {}'.format(ATE))"
   ]
  },
  {
   "cell_type": "code",
   "execution_count": 17,
   "metadata": {},
   "outputs": [
    {
     "name": "stdout",
     "output_type": "stream",
     "text": [
      "ATT = -0.0006480233288398418\n"
     ]
    }
   ],
   "source": [
    "ATT = X[X['treatment'] == 1]['recovery'].mean() - X[X['treatment'] == 1]['recovery_cf'].mean()\n",
    "print('ATT = {}'.format(ATT))"
   ]
  },
  {
   "cell_type": "code",
   "execution_count": 18,
   "metadata": {},
   "outputs": [
    {
     "name": "stdout",
     "output_type": "stream",
     "text": [
      "ATC = 0.4982880616297813\n"
     ]
    }
   ],
   "source": [
    "ATC = X[X['treatment'] == 0]['recovery_cf'].mean() - X[X['treatment'] == 0]['recovery'].mean()\n",
    "print('ATC = {}'.format(ATC))"
   ]
  },
  {
   "cell_type": "markdown",
   "metadata": {},
   "source": [
    "(a)(b) $\\delta_{Naive} = ATC$ but $\\ne ATE$ and $\\ne ATT$.  \n",
    "Assumption A1 is true but A2 is false, which was to be expected because $Y^1$ is independent of treatment but $Y^0$ is dependent."
   ]
  },
  {
   "cell_type": "markdown",
   "metadata": {},
   "source": [
    "(c) $\\delta_{Naive}$ is biased for the $ATE$ and $ATT$ but unbiased for the $ATC$."
   ]
  },
  {
   "cell_type": "markdown",
   "metadata": {},
   "source": [
    "Baseline Bias $= \\mathbb{E}[Y^0 | D = 1] - \\mathbb{E}[Y^0 | D = 0]$  \n",
    "Since Assumption A2 is false we must have some amount of baseline bias"
   ]
  },
  {
   "cell_type": "code",
   "execution_count": 19,
   "metadata": {},
   "outputs": [
    {
     "name": "stdout",
     "output_type": "stream",
     "text": [
      "Baseline Bias = 0.5001760113042282\n"
     ]
    }
   ],
   "source": [
    "BB = X[X['treatment'] == 1]['recovery_cf'].mean() - X[X['treatment'] == 0]['recovery'].mean()\n",
    "print('Baseline Bias = {}'.format(BB))"
   ]
  },
  {
   "cell_type": "markdown",
   "metadata": {},
   "source": [
    "Differential Treatment Bias $= (1 - \\pi)\\{\\mathbb{E}[\\delta | D = 1] - \\mathbb{E}[\\delta | D = 0]\\}$"
   ]
  },
  {
   "cell_type": "code",
   "execution_count": 20,
   "metadata": {},
   "outputs": [
    {
     "name": "stdout",
     "output_type": "stream",
     "text": [
      "Differential Treatment Bias = -0.24946804247931056\n"
     ]
    }
   ],
   "source": [
    "DTB = (1 - p_treated) * (ATT - ATC)\n",
    "print('Differential Treatment Bias = {}'.format(DTB))"
   ]
  },
  {
   "cell_type": "markdown",
   "metadata": {},
   "source": [
    "$\\delta_{Naive} = $ ATE + Baseline Bias + Differential Treatment Bias"
   ]
  },
  {
   "cell_type": "code",
   "execution_count": 21,
   "metadata": {},
   "outputs": [
    {
     "data": {
      "text/plain": [
       "True"
      ]
     },
     "execution_count": 21,
     "metadata": {},
     "output_type": "execute_result"
    }
   ],
   "source": [
    "abs(delta - ATE - BB - DTB) < 0.01"
   ]
  },
  {
   "cell_type": "markdown",
   "metadata": {},
   "source": [
    "There is Baseline Bias and Differential Treatment Bias"
   ]
  }
 ],
 "metadata": {
  "kernelspec": {
   "display_name": "Python 3",
   "language": "python",
   "name": "python3"
  },
  "language_info": {
   "codemirror_mode": {
    "name": "ipython",
    "version": 3
   },
   "file_extension": ".py",
   "mimetype": "text/x-python",
   "name": "python",
   "nbconvert_exporter": "python",
   "pygments_lexer": "ipython3",
   "version": "3.7.0"
  }
 },
 "nbformat": 4,
 "nbformat_minor": 2
}
