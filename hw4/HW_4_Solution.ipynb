{
 "cells": [
  {
   "cell_type": "code",
   "execution_count": 57,
   "metadata": {
    "ExecuteTime": {
     "end_time": "2018-12-20T17:17:25.145424Z",
     "start_time": "2018-12-20T17:17:25.131907Z"
    }
   },
   "outputs": [],
   "source": [
    "%matplotlib inline\n",
    "import numpy as np\n",
    "import pandas as pd\n",
    "\n",
    "units = 1000\n",
    "time_steps = 52\n",
    "\n",
    "Z = np.random.normal(size=units)\n",
    "\n",
    "a_trend = np.arange(0, time_steps, 1)\n",
    "individual_effects = Z\n",
    "A_trend = np.tile(a_trend, units).reshape(units, time_steps)\n",
    "A_indiv = np.tile(individual_effects, time_steps).reshape(time_steps, units).T\n",
    "Y_0 = A_trend + A_indiv\n"
   ]
  },
  {
   "cell_type": "code",
   "execution_count": 58,
   "metadata": {
    "ExecuteTime": {
     "end_time": "2018-12-20T17:17:25.152764Z",
     "start_time": "2018-12-20T17:17:25.148175Z"
    }
   },
   "outputs": [
    {
     "data": {
      "text/plain": [
       "array([ 0,  1,  2,  3,  4,  5,  6,  7,  8,  9, 10, 11, 12, 13, 14, 15, 16,\n",
       "       17, 18, 19, 20, 21, 22, 23, 24, 25, 26, 27, 28, 29, 30, 31, 32, 33,\n",
       "       34, 35, 36, 37, 38, 39, 40, 41, 42, 43, 44, 45, 46, 47, 48, 49, 50,\n",
       "       51])"
      ]
     },
     "execution_count": 58,
     "metadata": {},
     "output_type": "execute_result"
    }
   ],
   "source": [
    "# we have a linear time trend\n",
    "a_trend"
   ]
  },
  {
   "cell_type": "code",
   "execution_count": 59,
   "metadata": {
    "ExecuteTime": {
     "end_time": "2018-12-20T17:17:25.166467Z",
     "start_time": "2018-12-20T17:17:25.154867Z"
    }
   },
   "outputs": [
    {
     "data": {
      "text/plain": [
       "array([[ 0,  1,  2, ..., 49, 50, 51],\n",
       "       [ 0,  1,  2, ..., 49, 50, 51],\n",
       "       [ 0,  1,  2, ..., 49, 50, 51],\n",
       "       ...,\n",
       "       [ 0,  1,  2, ..., 49, 50, 51],\n",
       "       [ 0,  1,  2, ..., 49, 50, 51],\n",
       "       [ 0,  1,  2, ..., 49, 50, 51]])"
      ]
     },
     "execution_count": 59,
     "metadata": {},
     "output_type": "execute_result"
    }
   ],
   "source": [
    "A_trend # the same time trend for all units"
   ]
  },
  {
   "cell_type": "code",
   "execution_count": 60,
   "metadata": {
    "ExecuteTime": {
     "end_time": "2018-12-20T17:17:25.188785Z",
     "start_time": "2018-12-20T17:17:25.168697Z"
    }
   },
   "outputs": [
    {
     "data": {
      "text/plain": [
       "array([ 1.58895205e+00,  1.36604367e+00,  4.64607524e-01, -2.31929763e-01,\n",
       "       -4.76288582e-02, -1.37533830e+00, -1.10411175e+00,  5.13440633e-01,\n",
       "       -5.13139877e-01,  6.98399914e-01, -7.12068419e-01,  1.54246734e-01,\n",
       "       -1.69542102e+00, -5.02175894e-01, -4.46214290e-02, -1.71152370e-01,\n",
       "        1.35029196e-01,  4.95164664e-02, -2.04523814e+00,  8.97115493e-01,\n",
       "        5.50662212e-01,  9.54079224e-01, -1.19957311e+00, -1.45185968e+00,\n",
       "       -2.04131289e+00, -1.61518379e-01, -1.47207630e+00, -1.22271309e+00,\n",
       "       -2.25410007e+00, -9.91601369e-01,  2.19032033e+00, -4.96023264e-01,\n",
       "        5.53683580e-02, -1.18489211e+00,  3.12489655e-01, -1.72812698e+00,\n",
       "       -5.25514177e-01, -2.26476469e-01,  7.86182060e-01, -3.58966530e-01,\n",
       "       -1.64757755e-01, -6.26176833e-01,  2.78272172e-01,  1.17043670e+00,\n",
       "        3.45831141e-01,  6.03392535e-01,  1.04195004e-01, -1.14987176e+00,\n",
       "       -1.18841630e+00, -2.60037958e-01,  2.64142658e+00,  1.39860624e+00,\n",
       "        3.21762287e-01,  1.70499037e+00,  8.34051907e-01,  9.50313416e-01,\n",
       "        1.43798628e+00,  2.57041973e-01,  1.58413682e+00,  1.50528047e+00,\n",
       "       -9.73736612e-01,  5.19768408e-01, -1.10238282e+00,  9.05289601e-01,\n",
       "       -7.85035445e-01,  2.07661164e-01,  1.03556946e+00,  2.08687734e-01,\n",
       "        1.49971574e+00,  3.46199917e-01,  3.75216214e-02, -1.82431814e+00,\n",
       "       -9.84171883e-02, -1.65909243e+00,  7.03558529e-01, -9.59985746e-01,\n",
       "       -1.02412835e+00,  7.93145097e-01,  9.72716635e-01, -9.51366378e-01,\n",
       "        6.91471246e-02, -8.21620740e-01,  8.01739218e-01, -5.38623234e-01,\n",
       "        2.77210225e-01,  6.09727669e-01,  4.50265665e-01,  5.73781451e-01,\n",
       "        1.42122961e+00, -2.17033127e+00, -2.94052023e-01,  1.55135623e+00,\n",
       "       -1.49001419e+00,  8.40086550e-01,  1.06388447e+00, -5.69825218e-02,\n",
       "       -1.27251372e+00,  1.13390157e+00,  1.60010710e+00,  1.08993840e+00,\n",
       "       -6.12912508e-01,  2.65686727e-01,  6.58954399e-01, -2.23082453e-01,\n",
       "        6.78707953e-01, -5.17939231e-01,  2.02941064e-01, -6.24259709e-02,\n",
       "        1.86880953e+00,  1.11338089e+00,  2.21453550e+00, -8.56449440e-01,\n",
       "       -1.53478604e+00, -1.09660500e+00,  1.82308254e+00, -1.08729345e+00,\n",
       "       -7.50723008e-01,  5.76978410e-01, -1.11580770e+00, -2.95024899e-01,\n",
       "       -5.26749964e-01, -1.34312551e+00, -1.62077045e+00,  1.50735566e+00,\n",
       "       -6.95042797e-01,  8.77444855e-01,  1.53723645e+00,  7.11537606e-01,\n",
       "       -7.86007231e-01, -3.20216344e-01, -1.12992767e+00,  2.05023369e-01,\n",
       "        7.34170952e-01, -3.47347397e-01,  8.87710781e-02, -8.21791333e-02,\n",
       "        4.32620936e-01, -1.02997142e+00, -5.53678468e-01,  1.40011115e+00,\n",
       "       -8.98028938e-01, -5.01257816e-02,  1.06979857e+00, -2.17480074e-01,\n",
       "       -4.53199472e-01,  5.15994622e-01,  2.12615374e+00,  1.02243708e-01,\n",
       "        8.03211447e-01,  1.52535495e+00,  5.98532143e-01,  2.74553310e-01,\n",
       "        1.18600159e+00, -1.29338737e+00, -3.71051282e-01,  1.62947617e+00,\n",
       "       -6.87949446e-01, -9.97473924e-01, -1.39774801e-01,  1.37976009e+00,\n",
       "       -3.45792072e-01, -1.44326185e+00,  6.62210483e-01, -2.13800984e-01,\n",
       "       -8.66197014e-02, -2.14978586e+00, -8.06909190e-01, -1.49268042e-01,\n",
       "        3.27257564e-01,  1.53559366e-01,  8.07724586e-01, -1.19751778e+00,\n",
       "        5.21353590e-01, -4.57629582e-02, -7.32321847e-02,  1.05354021e+00,\n",
       "        6.06930024e-02, -2.49936001e-01,  1.75427623e+00, -7.06929429e-01,\n",
       "       -1.01306735e+00,  9.76590378e-01,  1.92062268e+00, -1.55538522e-01,\n",
       "       -7.62147993e-01,  4.92911114e-01,  1.03023064e+00,  2.39404862e+00,\n",
       "        9.01893334e-01,  1.29108649e+00, -5.33490877e-02,  7.37083623e-04,\n",
       "        2.10744737e-01,  3.59622065e-01, -1.75551052e+00,  7.97599157e-01,\n",
       "       -2.48258131e-01,  9.36422808e-02, -1.04433720e+00,  1.30164967e+00,\n",
       "       -5.45349299e-01,  7.27887616e-01, -9.30417180e-01,  6.63129281e-02,\n",
       "        6.89607902e-01, -1.45003531e+00, -3.80429919e-01, -2.92969430e-01,\n",
       "        1.16940502e+00,  5.61351397e-01,  1.57488791e+00, -2.07497109e-01,\n",
       "       -1.26578752e-01,  6.68419410e-01,  1.00185320e+00,  2.03097509e+00,\n",
       "        8.40879210e-02,  6.85822061e-01,  2.41829263e-01,  1.35440589e+00,\n",
       "       -3.02458491e-01, -1.10278627e-01, -7.73544643e-01,  5.46353668e-01,\n",
       "        1.77201972e+00,  1.06397764e+00,  5.90306879e-01, -6.63611105e-01,\n",
       "        5.51347323e-01,  8.42664961e-01,  5.63945414e-01, -1.98320327e+00,\n",
       "       -1.61869597e-01, -1.03470768e+00,  1.77370644e-01, -1.26240732e+00,\n",
       "        1.10649461e+00,  1.49154237e+00, -1.09464454e+00, -6.12555613e-01,\n",
       "        8.07244487e-01, -2.42963929e-01, -4.60535220e-01,  5.08126596e-01,\n",
       "       -8.19261938e-01,  7.60821758e-01,  4.81448676e-02,  6.97904119e-02,\n",
       "        3.33468421e-01, -1.94974871e+00, -1.11607350e+00, -4.52161346e-02,\n",
       "        7.41311630e-01, -2.02296502e-01,  8.17838756e-01, -3.69691523e-01,\n",
       "       -4.85044689e-01,  2.62642596e-01, -1.08651063e+00,  2.84675317e-01,\n",
       "        8.49012955e-01, -2.27725911e-01,  5.43684725e-01,  9.52819189e-01,\n",
       "       -2.94051270e-03, -2.49348737e-01, -1.05837811e+00, -8.99544530e-02,\n",
       "       -9.50021222e-01, -1.35432758e+00, -2.24964237e-01, -2.34735480e+00,\n",
       "        1.05063187e-01,  6.76988662e-01,  6.49766072e-01, -1.62644189e+00,\n",
       "       -2.12723281e-01, -3.39951572e-01, -2.75577961e-01, -7.50387951e-01,\n",
       "        1.34151191e+00,  1.07753725e+00,  1.30161186e+00, -7.96095854e-01,\n",
       "       -1.05621753e+00,  5.50516950e-01,  1.54154711e+00,  1.35850747e+00,\n",
       "        6.61823694e-01,  1.77221638e+00, -1.61811413e-02, -4.27438152e-02,\n",
       "        4.86532481e-01, -3.33017893e+00, -7.95236862e-01, -3.36541531e-01,\n",
       "        1.53996618e-01, -7.66581257e-01, -2.43226867e-01, -8.87178817e-01,\n",
       "        1.11392963e+00, -9.11765689e-01, -7.00731240e-03,  6.54232423e-01,\n",
       "        4.57002908e-01, -1.78357133e+00, -5.97348814e-01, -2.83271903e-01,\n",
       "        5.67744707e-01, -1.99121981e+00,  2.63533834e+00,  7.37895312e-01,\n",
       "        3.63009374e-01, -3.79763111e-01, -2.32869860e-01,  2.10821277e-01,\n",
       "        7.67806740e-01,  4.59560145e-01,  5.48460576e-01,  7.92270671e-01,\n",
       "        4.19829920e-01,  7.77330015e-01,  5.87384689e-01,  6.08724115e-01,\n",
       "       -4.04532750e-01, -2.76551325e+00, -6.07249896e-01,  4.92820110e-01,\n",
       "        7.28755135e-01,  9.30583693e-01, -8.87738928e-01,  7.33961173e-01,\n",
       "       -1.40781262e+00,  7.30047224e-01, -2.12532561e-01, -1.27078932e-02,\n",
       "       -7.18844214e-01,  1.17973738e+00,  1.50077425e-01,  3.34270180e-01,\n",
       "        4.97313378e-01,  1.80078131e-01, -5.11181473e-01,  8.70735763e-01,\n",
       "       -1.19287704e+00,  4.00258944e-01,  1.37410299e+00,  1.14877793e-01,\n",
       "       -9.58724771e-01,  2.01034818e+00,  1.50073153e+00, -3.14745961e-01,\n",
       "       -1.79478791e+00,  1.11766132e+00,  1.60635939e-01,  1.24062424e+00,\n",
       "        3.04722265e+00,  2.92241041e-01, -3.63237482e-01,  1.13692750e+00,\n",
       "        1.42084312e+00,  1.32946749e+00,  5.09527270e-01, -2.07608473e-01,\n",
       "        1.54002039e-02, -1.37257327e-01, -1.46055071e+00,  1.05998868e+00,\n",
       "        1.14123247e+00,  2.37229972e-01,  6.59522338e-01, -8.93889454e-01,\n",
       "       -4.69875886e-01,  3.96734265e-01,  1.18427650e+00, -1.61874620e+00,\n",
       "        9.45591384e-01,  1.43119244e-01, -1.49201023e+00, -3.94906461e-01,\n",
       "        1.52113936e-01, -7.89887295e-01, -1.18474319e-01, -1.45041362e+00,\n",
       "        1.43656781e-01, -5.94946373e-01, -1.85976881e+00,  8.74319471e-02,\n",
       "        4.77561704e-01,  1.25517830e+00, -2.63768781e-01,  1.04117586e+00,\n",
       "        1.44903856e-01,  2.91500326e-01, -5.40298241e-01, -2.28520119e+00,\n",
       "        6.57741412e-01,  1.23556920e+00,  1.72966409e-01,  6.68797616e-01,\n",
       "        6.46092088e-01, -6.12562609e-01,  7.85480368e-01, -1.43395776e+00,\n",
       "       -8.23641070e-01,  1.85199973e-01,  8.73837570e-01,  2.18420787e+00,\n",
       "        2.84777550e-03,  2.62422159e-01,  1.16519391e+00,  1.91143378e+00,\n",
       "        2.28343899e-02,  1.83291582e+00, -6.22211033e-01,  9.56994922e-01,\n",
       "       -9.58105733e-01,  1.55362502e+00, -7.22503642e-01,  9.21560603e-01,\n",
       "        2.42011045e-02,  5.93145996e-01,  1.55689433e+00,  1.65324253e+00,\n",
       "        1.11645083e+00, -6.56569270e-01, -9.51420010e-01,  5.07131311e-01,\n",
       "       -3.12915927e-02, -6.28778601e-01,  1.44175505e+00,  4.51527095e-01,\n",
       "       -9.10288291e-01,  1.10998042e+00, -2.74826959e-01, -9.39874965e-01,\n",
       "       -1.38479666e+00,  1.77342239e-01,  7.15538221e-01,  7.07556455e-01,\n",
       "        2.87240679e-02, -5.37967597e-02, -8.42983785e-01,  1.32509791e+00,\n",
       "       -7.91741015e-01, -4.75980393e-01,  8.52741106e-01,  5.80736019e-03,\n",
       "        5.79410681e-01,  3.71888201e-01, -1.09681194e+00,  2.11251883e-01,\n",
       "        2.40498115e-01, -6.20967939e-01,  7.06788551e-01,  1.23851459e+00,\n",
       "        6.70412019e-01, -1.22266841e+00, -8.06686604e-01,  2.17399859e+00,\n",
       "        6.91435472e-01,  7.66153703e-01, -7.26086338e-01,  1.08495419e+00,\n",
       "        9.58582128e-01,  1.35177671e+00,  1.82463368e+00,  6.29254746e-01,\n",
       "       -2.44368498e-01, -1.03533853e+00, -1.67090080e-01, -1.21697119e+00,\n",
       "        6.50461469e-01, -3.12675358e-01, -5.38938668e-01, -4.23455729e-01,\n",
       "       -9.57443479e-01,  4.98246096e-01, -2.04589990e-01,  3.96869832e-01,\n",
       "        4.92749221e-01,  2.42962802e+00,  1.05646801e-01, -2.24698631e-01,\n",
       "        3.88607569e-01, -6.65956769e-02, -1.34891932e+00,  3.06231295e-02,\n",
       "       -2.81886088e-01, -1.69687092e-01,  5.52566212e-01,  8.57056511e-02,\n",
       "        1.14460610e+00, -1.32705219e+00, -1.59088521e-01,  1.28562142e-01,\n",
       "        7.59302479e-01,  1.08767780e+00, -2.27479021e-01,  5.26764235e-01,\n",
       "       -8.50958017e-01, -3.90426283e-01,  1.87751806e+00,  1.13924351e+00,\n",
       "       -1.93228833e-01, -6.80759806e-01,  9.34745347e-01,  4.04084517e-01,\n",
       "        1.79202754e+00,  2.72751637e-01,  1.25381428e+00,  3.33462690e-01,\n",
       "       -1.39585803e-01,  1.36205512e+00,  1.46450612e+00,  5.27110346e-01,\n",
       "       -4.85397197e-01,  7.13689773e-01,  7.05014431e-01,  5.96415986e-01,\n",
       "        5.49034319e-01,  2.58516775e-01, -1.25467633e+00,  7.30064342e-02,\n",
       "       -1.72727664e+00, -9.20055268e-01,  3.64420602e-01,  1.30895930e+00,\n",
       "       -1.41548818e+00,  1.34755209e+00, -2.86709306e+00,  3.51227811e-01,\n",
       "        2.36826310e-01, -3.89964151e-01,  1.40536144e+00, -7.78028095e-01,\n",
       "        7.88111928e-01, -4.51264691e-01,  7.02527257e-01,  1.28799835e+00,\n",
       "       -8.40731259e-01, -1.50093769e+00,  5.01939621e-01,  8.46338482e-02,\n",
       "        2.12642449e+00,  2.77193144e-01, -5.82837858e-01, -1.29654723e+00,\n",
       "        8.11341357e-01, -5.05300442e-01,  3.25738326e-01, -2.28431085e+00,\n",
       "       -1.13481399e+00, -5.39999752e-01, -5.78420629e-01, -4.10895947e-01,\n",
       "       -1.24722037e+00,  5.39150303e-02,  6.87383445e-01, -1.44547302e+00,\n",
       "       -1.06805162e+00, -8.86736295e-01, -2.91588454e-01,  2.24570731e+00,\n",
       "       -1.09160669e+00,  1.20861289e+00,  1.78884897e+00, -3.14916018e-02,\n",
       "        2.09710137e-01, -7.94939295e-01, -5.17093417e-01, -5.60025994e-01,\n",
       "        5.03503622e-01,  6.64363415e-01,  4.34191139e-01, -1.71032747e+00,\n",
       "        3.59415245e-01,  2.84806898e-01, -3.37444909e-03,  3.88800420e-01,\n",
       "       -2.11956693e-01,  8.15798616e-01, -9.98990885e-01, -2.03476267e+00,\n",
       "        4.73723690e-02,  2.25567938e-02,  4.54814808e-01,  1.46085886e+00,\n",
       "       -4.22380354e-01, -1.09717161e-02,  1.71376068e-01,  1.95007551e-01,\n",
       "        7.49796474e-01,  5.91993950e-02, -2.09635300e-01, -2.32692175e+00,\n",
       "       -7.40407830e-01, -1.81613770e+00, -7.78536028e-01,  7.00648516e-01,\n",
       "        6.02500058e-01, -5.66888623e-01,  4.98227159e-02, -1.12470356e+00,\n",
       "       -2.73995652e-01,  1.81439295e+00,  6.43305131e-01, -1.16790680e-01,\n",
       "        8.54069788e-02, -1.03508241e+00, -7.57848635e-01, -2.14047983e+00,\n",
       "        6.00826806e-01, -9.86740808e-01,  4.67979484e-01,  4.40771226e-01,\n",
       "       -1.79856854e+00,  1.62340550e+00,  9.41625520e-01, -5.51066309e-01,\n",
       "       -1.80301010e+00,  1.72084654e+00,  3.42679077e-01,  3.54372705e-02,\n",
       "        7.81036335e-02, -1.24764058e+00, -1.12969013e+00, -1.48458801e+00,\n",
       "        1.10763886e+00,  6.32837464e-01, -1.19729770e+00, -8.99638307e-01,\n",
       "       -9.56561401e-01, -3.82048628e-01,  8.37205730e-01,  5.85109541e-01,\n",
       "        3.79294611e-01, -2.09806619e+00,  1.88451884e-01, -6.43579247e-01,\n",
       "       -1.09873870e+00,  6.42962165e-01,  8.37857091e-03, -1.90788214e-01,\n",
       "        1.19212158e+00,  1.58010405e+00, -2.00884265e+00,  1.25294976e+00,\n",
       "        1.00786963e+00,  5.20853930e-01, -4.18371900e-01,  8.61526149e-02,\n",
       "       -3.07940411e-01, -1.67650165e+00,  4.86489241e-01, -9.50731969e-02,\n",
       "       -8.66452695e-01,  1.73230447e+00, -1.16656631e+00, -1.17300818e-01,\n",
       "        1.30750385e+00,  7.92404578e-01, -1.41428759e-01, -3.24042884e+00,\n",
       "        1.28420057e+00,  1.81708381e-01,  5.29753171e-02,  8.36373292e-01,\n",
       "        4.84210696e-01, -6.70963513e-01,  3.56579655e-01,  9.34633611e-01,\n",
       "        5.92605049e-01,  3.96565313e-01, -7.26469640e-01, -1.06225120e+00,\n",
       "       -2.96628431e-01, -2.87754100e-01, -2.85914399e-01,  1.20775748e+00,\n",
       "        1.30620435e+00,  1.25962920e-01,  5.19035154e-01,  1.25036215e+00,\n",
       "        2.42700413e-01, -1.01875462e+00,  1.42623723e+00,  5.93235496e-01,\n",
       "        1.38443470e+00,  3.64523604e-01,  2.50648915e+00, -5.07086250e-01,\n",
       "        6.56586677e-01,  2.27471469e+00, -4.22710503e-01, -1.41509026e+00,\n",
       "       -1.10491895e-01, -7.36412367e-01,  1.14668681e+00,  5.44703107e-01,\n",
       "        5.27324233e-01,  1.18821873e+00,  1.16810568e+00,  7.51889946e-02,\n",
       "        1.26976163e+00,  1.22898780e+00, -7.65826988e-01, -4.47633439e-01,\n",
       "       -1.16781472e+00, -3.42688450e-01, -6.45491436e-01, -4.13881452e-01,\n",
       "       -1.55235276e+00,  9.12561343e-01, -1.46295675e+00,  2.87255695e-01,\n",
       "        6.07721860e-01, -1.53878166e+00, -1.15441710e-01,  2.40801222e-01,\n",
       "       -8.09370886e-01, -2.01292388e-01,  2.63659295e-01, -1.60847612e+00,\n",
       "       -7.80095858e-01,  3.79485049e-01, -3.06420741e-01,  1.52133279e-01,\n",
       "        3.06543386e-01,  1.73137035e+00, -1.47530718e-01,  5.04558003e-01,\n",
       "        6.43237715e-01,  7.49321945e-01, -8.78911849e-01,  2.64145319e-01,\n",
       "       -2.18251707e+00, -1.18808690e+00,  3.43392952e-01,  2.96143020e-01,\n",
       "       -1.36278366e+00,  5.05261752e-01, -2.67026417e-01,  1.62537935e+00,\n",
       "       -6.34916988e-01,  7.07796649e-02, -2.13361319e+00, -1.16819596e-01,\n",
       "       -2.92167840e-01, -3.14593867e-01,  2.11895702e-01, -6.17523304e-01,\n",
       "        1.22912664e+00,  1.36723189e+00,  6.27214752e-01,  6.27710757e-01,\n",
       "        8.91503093e-01,  3.35901629e-01, -1.98064668e-01,  2.31211033e+00,\n",
       "       -8.94017353e-01,  9.18824357e-01, -7.65973285e-01, -3.45834240e-01,\n",
       "        1.93361194e-01,  3.28273861e-01,  7.61761818e-01, -6.19040214e-01,\n",
       "        1.77307965e+00, -8.85162984e-02, -1.09718777e-01,  9.12785602e-01,\n",
       "       -1.03106900e+00,  6.04097069e-01,  1.57311422e+00,  4.07748540e-01,\n",
       "       -8.71136399e-01,  2.95079417e-01,  5.68690100e-01,  1.81664270e+00,\n",
       "       -3.97686917e-01, -1.58082107e+00, -5.66713442e-01,  4.66376129e-01,\n",
       "        1.02729687e+00, -2.15468350e+00, -7.62020485e-01, -8.39887347e-01,\n",
       "       -1.01481182e+00, -5.72371303e-01,  1.28273930e+00, -1.30931704e+00,\n",
       "        1.98475410e-01,  1.77904853e+00, -8.07298383e-01,  1.24824293e+00,\n",
       "        3.22968499e-01, -1.68523367e-01,  1.71161764e+00,  2.16247709e+00,\n",
       "       -4.25398184e-01, -3.48826323e-03,  1.15524402e+00,  9.10393121e-02,\n",
       "       -1.40595662e-01,  3.31140998e-01,  7.11624539e-01,  1.50680335e-01,\n",
       "        1.68889149e+00,  3.68322246e-01,  1.18042510e+00,  1.83527243e+00,\n",
       "        2.22237708e-01,  1.44447784e+00,  1.49092303e-01, -8.58487828e-01,\n",
       "       -6.22729851e-01,  2.96423505e-01,  9.41592676e-03,  1.10494838e-01,\n",
       "       -9.64578812e-01,  6.71709316e-01,  1.85804098e-01,  1.14325958e+00,\n",
       "        1.11448125e+00, -6.91811649e-01,  2.54930395e-02, -1.67147516e-01,\n",
       "       -5.65897866e-01, -1.43447345e+00, -1.73603546e+00,  2.15769042e-01,\n",
       "        1.85571573e+00, -1.45635766e-02,  4.57561330e-01, -9.67836508e-01,\n",
       "       -1.00870364e+00, -5.04386997e-02, -2.94117571e-01,  1.25556554e+00,\n",
       "        7.58539627e-01,  1.15163687e+00,  1.36151244e+00, -5.35023833e-01,\n",
       "        9.61127822e-01, -3.52320496e-01, -1.14939036e+00, -2.14058753e-01,\n",
       "        5.04377669e-01, -4.41937276e-01, -7.32279378e-01,  4.36970275e-03,\n",
       "        2.38402770e+00,  1.83491564e-01,  1.46668330e-01, -2.77624234e-01,\n",
       "       -1.77539105e-01, -7.23892941e-01,  4.94036016e-01, -5.13217169e-01,\n",
       "       -7.04932971e-01,  6.94152728e-01, -1.22277160e+00, -2.46440563e+00,\n",
       "       -1.12810336e+00,  1.16356101e+00,  2.50083559e+00, -2.41129233e-01,\n",
       "       -3.98961159e-01, -2.77335679e+00, -4.69928707e-01, -5.13032509e-01,\n",
       "       -9.78512854e-01,  1.79822855e-02,  1.14786051e+00, -5.16238589e-01,\n",
       "       -9.99778107e-02, -5.37635589e-01, -4.32909965e-01, -4.47431584e-01,\n",
       "       -5.55921220e-01, -2.35549298e+00, -2.93788988e-01, -6.60752373e-01,\n",
       "       -1.20868525e+00,  4.30412577e-01, -2.83001503e-01, -1.43461636e-01,\n",
       "        4.07690862e-02, -4.29361562e-01, -1.34675422e+00,  7.57315398e-01,\n",
       "        1.77369194e+00, -1.35656241e+00,  1.21818010e+00, -1.07602757e-01,\n",
       "        2.20953883e+00,  3.71647167e-01,  4.53848703e-01,  2.10828729e-01,\n",
       "       -4.25813437e-01, -2.28987119e+00,  1.46413650e-01, -3.10649930e-01,\n",
       "        3.22737721e-01,  1.59654204e-01, -5.18336630e-01,  1.71259353e-01,\n",
       "       -2.33024174e-01,  4.05163601e-01,  5.10408754e-01, -1.33627057e+00,\n",
       "        2.00283077e+00,  6.45946828e-01, -3.76229974e-01,  1.63209221e+00,\n",
       "        2.11474343e+00,  1.39413334e+00, -5.67597736e-02,  7.63762799e-01,\n",
       "        1.35683899e+00, -9.72573013e-01,  7.47724749e-01, -6.77146475e-01,\n",
       "        1.50327044e+00,  1.80423848e+00, -2.03534024e-01, -5.04259598e-01,\n",
       "        9.53968608e-01,  6.39114554e-02, -1.67008821e-01, -3.99909597e-01,\n",
       "        1.68356921e+00, -9.60576191e-01, -4.04446282e-01, -5.37310560e-01,\n",
       "       -5.23752756e-01,  6.34509655e-01, -6.64727771e-01,  8.82851676e-01,\n",
       "       -1.07995343e+00, -2.24118449e-01, -3.11193050e-01,  3.04527183e-01,\n",
       "        1.75779070e+00,  1.21288358e+00,  1.61246964e+00,  7.84372973e-01,\n",
       "        1.51037693e+00,  1.60999791e+00,  7.74014155e-01,  7.97671372e-02,\n",
       "       -1.20780558e+00, -3.65183895e-01,  2.06879715e-01,  1.38121000e+00,\n",
       "       -1.33811299e+00,  1.42450176e+00,  1.20292549e+00, -1.94580914e+00,\n",
       "        9.42546064e-01,  1.75832426e+00,  1.10664045e-01, -1.29663134e+00,\n",
       "        3.48350188e-01, -2.88868086e-01,  2.96941491e-01,  7.16953327e-01,\n",
       "       -5.46909215e-01, -1.28334031e+00,  3.43060550e-01,  5.80151242e-01,\n",
       "        1.67532100e-01,  1.25473535e+00,  1.23513144e+00, -8.51720864e-01,\n",
       "        5.63396145e-01, -1.48690103e+00, -3.98635514e-01, -1.91281055e-01,\n",
       "        2.73307952e+00,  6.72724526e-01, -1.08674470e+00,  3.69700069e-01,\n",
       "       -2.04051118e+00,  1.12456228e+00, -8.32337276e-01,  5.94170700e-01,\n",
       "        2.05500696e-01,  1.75559259e-01, -4.46873855e-01, -1.29308974e+00,\n",
       "       -7.23944710e-01, -1.05437202e+00, -6.76489773e-01,  1.12229880e-01,\n",
       "        1.06134553e+00,  6.56137516e-01,  1.75253158e+00,  9.15216719e-02])"
      ]
     },
     "execution_count": 60,
     "metadata": {},
     "output_type": "execute_result"
    }
   ],
   "source": [
    "# we have individual offsets\n",
    "individual_effects"
   ]
  },
  {
   "cell_type": "code",
   "execution_count": 61,
   "metadata": {
    "ExecuteTime": {
     "end_time": "2018-12-20T17:17:25.213196Z",
     "start_time": "2018-12-20T17:17:25.191017Z"
    }
   },
   "outputs": [
    {
     "data": {
      "text/plain": [
       "array([[1.58895205, 1.58895205, 1.58895205, ..., 1.58895205, 1.58895205,\n",
       "        1.58895205],\n",
       "       [1.36604367, 1.36604367, 1.36604367, ..., 1.36604367, 1.36604367,\n",
       "        1.36604367],\n",
       "       [0.46460752, 0.46460752, 0.46460752, ..., 0.46460752, 0.46460752,\n",
       "        0.46460752],\n",
       "       ...,\n",
       "       [0.65613752, 0.65613752, 0.65613752, ..., 0.65613752, 0.65613752,\n",
       "        0.65613752],\n",
       "       [1.75253158, 1.75253158, 1.75253158, ..., 1.75253158, 1.75253158,\n",
       "        1.75253158],\n",
       "       [0.09152167, 0.09152167, 0.09152167, ..., 0.09152167, 0.09152167,\n",
       "        0.09152167]])"
      ]
     },
     "execution_count": 61,
     "metadata": {},
     "output_type": "execute_result"
    }
   ],
   "source": [
    "A_indiv # the same offset over all time steps (but different for each unit)"
   ]
  },
  {
   "cell_type": "markdown",
   "metadata": {},
   "source": [
    "The outcome is the sum of a time trend and individual effects."
   ]
  },
  {
   "cell_type": "code",
   "execution_count": 62,
   "metadata": {
    "ExecuteTime": {
     "end_time": "2018-12-20T17:17:25.293318Z",
     "start_time": "2018-12-20T17:17:25.215540Z"
    }
   },
   "outputs": [],
   "source": [
    "# Now, we'll have the probability of being assigned to treatment depend on Z\n",
    "p_d = 1. / (1. + np.exp(-Z))\n",
    "D_star = np.random.binomial(1, p=p_d)\n",
    "\n",
    "# We need the time-series treatment assignments now. The treatment turns on and\n",
    "# stays on. Let's start by having them all turn on at the same time, to build some\n",
    "# intuition. Then we'll turn them on at random times. \n",
    "#\n",
    "# The assignment matrix has the same dimensions as the outcome matrix.\n",
    "\n",
    "D = np.zeros(shape=Y_0.shape)\n",
    "for i in range(units):\n",
    "    for t in range(time_steps):\n",
    "        if D_star[i] and t > 0:\n",
    "            if t == time_steps - 1 or D[i][t-1] == 1:\n",
    "                D[i][t] = 1\n",
    "            else:\n",
    "                if t == int(float(time_steps) / 2.):\n",
    "                    D[i][t] = 1  # np.random.binomial(1, p=1./float(time_steps))\n",
    "                else:\n",
    "                    D[i][t] = 0"
   ]
  },
  {
   "cell_type": "code",
   "execution_count": 63,
   "metadata": {
    "ExecuteTime": {
     "end_time": "2018-12-20T17:17:25.298093Z",
     "start_time": "2018-12-20T17:17:25.295065Z"
    }
   },
   "outputs": [],
   "source": [
    "# The treatment effect for each unit is a constant plus their Z, so we get confounding.\n",
    "delta = 2.\n",
    "Y_1 = Y_0 + delta + A_indiv\n",
    "Y = (D==1)*Y_1 + (D==0)*Y_0"
   ]
  },
  {
   "cell_type": "code",
   "execution_count": 64,
   "metadata": {
    "ExecuteTime": {
     "end_time": "2018-12-20T17:17:25.455317Z",
     "start_time": "2018-12-20T17:17:25.299722Z"
    },
    "scrolled": true
   },
   "outputs": [
    {
     "data": {
      "image/png": "[encoded data removed]",
      "text/plain": [
       "<Figure size 432x288 with 1 Axes>"
      ]
     },
     "metadata": {},
     "output_type": "display_data"
    }
   ],
   "source": [
    "# Naive expected values\n",
    "\n",
    "df = pd.DataFrame(Y)\n",
    "df['$D^*$'] = D_star\n",
    "d0 = df[df['$D^*$'] == 0]\n",
    "d1 = df[df['$D^*$'] == 1]\n",
    "del d0['$D^*$'], d1['$D^*$']\n",
    "d0.mean(axis=0).plot()\n",
    "d1.mean(axis=0).plot();"
   ]
  },
  {
   "cell_type": "code",
   "execution_count": 65,
   "metadata": {
    "ExecuteTime": {
     "end_time": "2018-12-20T17:17:25.592498Z",
     "start_time": "2018-12-20T17:17:25.457472Z"
    }
   },
   "outputs": [
    {
     "data": {
      "image/png": "[encoded data removed]",
      "text/plain": [
       "<Figure size 432x288 with 1 Axes>"
      ]
     },
     "metadata": {},
     "output_type": "display_data"
    }
   ],
   "source": [
    "# Naive effect\n",
    "\n",
    "# We have nobody in the test state before t=25, so we just get the\n",
    "# Y_0 baseline difference between the D=1 and D=0 groups at t < 25.\n",
    "# Afterward, we get the difference of E[Y_t|D=1] - E[Y_t|D=0]\n",
    "\n",
    "df = pd.DataFrame(Y)\n",
    "df['$D^*$'] = D_star\n",
    "d0 = df[df['$D^*$'] == 0]\n",
    "d1 = df[df['$D^*$'] == 1]\n",
    "del d0['$D^*$'], d1['$D^*$']\n",
    "(d1.T.mean(axis=1) - d0.T.mean(axis=1)).plot();"
   ]
  },
  {
   "cell_type": "code",
   "execution_count": 66,
   "metadata": {
    "ExecuteTime": {
     "end_time": "2018-12-20T17:17:25.784826Z",
     "start_time": "2018-12-20T17:17:25.596818Z"
    }
   },
   "outputs": [
    {
     "data": {
      "image/png": "[encoded data removed]",
      "text/plain": [
       "<Figure size 432x288 with 1 Axes>"
      ]
     },
     "metadata": {},
     "output_type": "display_data"
    }
   ],
   "source": [
    "# True Effect\n",
    "\n",
    "pd.DataFrame({'$E[\\delta_t]$': (Y_1 - Y_0).mean(axis=0), \n",
    "              't': range(Y_0.shape[1])}).plot(x='t');"
   ]
  },
  {
   "cell_type": "code",
   "execution_count": 67,
   "metadata": {
    "ExecuteTime": {
     "end_time": "2018-12-20T17:17:25.965162Z",
     "start_time": "2018-12-20T17:17:25.786996Z"
    }
   },
   "outputs": [
    {
     "data": {
      "image/png": "[encoded data removed]",
      "text/plain": [
       "<Figure size 432x288 with 1 Axes>"
      ]
     },
     "metadata": {},
     "output_type": "display_data"
    }
   ],
   "source": [
    "# For completeness, let's also check out the expected outcome over the whole population:\n",
    "\n",
    "expected_outcome = Y.mean(axis=0)\n",
    "pd.DataFrame({'$E[Y]$': expected_outcome, 't': range(expected_outcome.shape[0])}).plot(x='t');"
   ]
  },
  {
   "cell_type": "code",
   "execution_count": 68,
   "metadata": {
    "ExecuteTime": {
     "end_time": "2018-12-20T17:17:25.972459Z",
     "start_time": "2018-12-20T17:17:25.967312Z"
    }
   },
   "outputs": [
    {
     "data": {
      "text/plain": [
       "array([  0.,   0.,   0.,   0.,   0.,   0.,   0.,   0.,   0.,   0.,   0.,\n",
       "         0.,   0.,   0.,   0.,   0.,   0.,   0.,   0.,   0.,   0.,   0.,\n",
       "         0.,   0.,   0.,   0., 524., 524., 524., 524., 524., 524., 524.,\n",
       "       524., 524., 524., 524., 524., 524., 524., 524., 524., 524., 524.,\n",
       "       524., 524., 524., 524., 524., 524., 524., 524.])"
      ]
     },
     "execution_count": 68,
     "metadata": {},
     "output_type": "execute_result"
    }
   ],
   "source": [
    "# And the number of treated units vs. time:\n",
    "\n",
    "D.sum(axis=0)"
   ]
  },
  {
   "cell_type": "markdown",
   "metadata": {},
   "source": [
    "Now, we'll do propensity score matching on Z to match control units to test units to estimate the ATT. Since the confounding is constant with time, we can just match units (otherwise their propensities would vary over time, and matches might change!)"
   ]
  },
  {
   "cell_type": "code",
   "execution_count": 69,
   "metadata": {
    "ExecuteTime": {
     "end_time": "2018-12-20T17:17:25.976528Z",
     "start_time": "2018-12-20T17:17:25.974479Z"
    }
   },
   "outputs": [],
   "source": [
    "from causality.estimation.parametric import PropensityScoreMatching\n",
    "import pandas as pd"
   ]
  },
  {
   "cell_type": "markdown",
   "metadata": {},
   "source": [
    "First, we'll find matches by matching on propensity scored P(D|Z). As usual, we should check the support."
   ]
  },
  {
   "cell_type": "code",
   "execution_count": 70,
   "metadata": {
    "ExecuteTime": {
     "end_time": "2018-12-20T17:17:27.034753Z",
     "start_time": "2018-12-20T17:17:25.978227Z"
    },
    "scrolled": true
   },
   "outputs": [
    {
     "name": "stdout",
     "output_type": "stream",
     "text": [
      "Optimization terminated successfully.\n",
      "         Current function value: 0.602087\n",
      "         Iterations 5\n"
     ]
    },
    {
     "name": "stderr",
     "output_type": "stream",
     "text": [
      "/home/eric/anaconda3/lib/python3.6/site-packages/pandas/core/indexing.py:362: SettingWithCopyWarning: \n",
      "A value is trying to be set on a copy of a slice from a DataFrame.\n",
      "Try using .loc[row_indexer,col_indexer] = value instead\n",
      "\n",
      "See the caveats in the documentation: http://pandas.pydata.org/pandas-docs/stable/indexing.html#indexing-view-versus-copy\n",
      "  self.obj[key] = _infer_fill_value(value)\n",
      "/home/eric/anaconda3/lib/python3.6/site-packages/pandas/core/indexing.py:543: SettingWithCopyWarning: \n",
      "A value is trying to be set on a copy of a slice from a DataFrame.\n",
      "Try using .loc[row_indexer,col_indexer] = value instead\n",
      "\n",
      "See the caveats in the documentation: http://pandas.pydata.org/pandas-docs/stable/indexing.html#indexing-view-versus-copy\n",
      "  self.obj[item] = s\n"
     ]
    }
   ],
   "source": [
    "matcher = PropensityScoreMatching()\n",
    "df = pd.DataFrame({'D': D_star, 'Z': Z, 'id': range(units)})\n",
    "matcher.score(df, confounder_types={'Z': 'c'}, assignment='D')\n",
    "treated, matched_controls = matcher.get_control_matches(df[df['D'] == 1], df[df['D'] == 0])\n"
   ]
  },
  {
   "cell_type": "code",
   "execution_count": 71,
   "metadata": {
    "ExecuteTime": {
     "end_time": "2018-12-20T17:17:27.224108Z",
     "start_time": "2018-12-20T17:17:27.036857Z"
    }
   },
   "outputs": [
    {
     "data": {
      "image/png": "[encoded data removed]",
      "text/plain": [
       "<Figure size 432x288 with 1 Axes>"
      ]
     },
     "metadata": {},
     "output_type": "display_data"
    }
   ],
   "source": [
    "matcher.check_support(df, confounder_types={'Z': 'c'}, assignment='D')"
   ]
  },
  {
   "cell_type": "markdown",
   "metadata": {},
   "source": [
    "There's some pretty significant non-overlap here, but we'll assume that the propensity score model (the logistic regression) extrapolates well into the non-overlapping region."
   ]
  },
  {
   "cell_type": "markdown",
   "metadata": {},
   "source": [
    "Now, we'll put the match data into two different dataframes (numpy's indexing is handy here!)"
   ]
  },
  {
   "cell_type": "code",
   "execution_count": 72,
   "metadata": {
    "ExecuteTime": {
     "end_time": "2018-12-20T17:17:27.228579Z",
     "start_time": "2018-12-20T17:17:27.225798Z"
    }
   },
   "outputs": [],
   "source": [
    "treated_outcomes = Y[treated.id]\n",
    "control_outcomes = Y[matched_controls.id]"
   ]
  },
  {
   "cell_type": "markdown",
   "metadata": {},
   "source": [
    "Then, we'll average the treated and matched control outcomes over all units at each time step, to estimate $E[Y_{1, t}]$ and $E[Y_{0, t}]$:"
   ]
  },
  {
   "cell_type": "code",
   "execution_count": 73,
   "metadata": {
    "ExecuteTime": {
     "end_time": "2018-12-20T17:17:27.234935Z",
     "start_time": "2018-12-20T17:17:27.230484Z"
    }
   },
   "outputs": [],
   "source": [
    "expected_y_1 = treated_outcomes.mean(axis=0)\n",
    "expected_y_0 = control_outcomes.mean(axis=0)"
   ]
  },
  {
   "cell_type": "markdown",
   "metadata": {},
   "source": [
    "We put the resulting time series into a dataframe so we can plot it."
   ]
  },
  {
   "cell_type": "code",
   "execution_count": 74,
   "metadata": {
    "ExecuteTime": {
     "end_time": "2018-12-20T17:17:27.242287Z",
     "start_time": "2018-12-20T17:17:27.237350Z"
    }
   },
   "outputs": [],
   "source": [
    "result = pd.DataFrame({'t': range(expected_y_0.shape[0]), \n",
    "                      '$E[Y_1]$': expected_y_1, \n",
    "                      '$E[Y_0]$': expected_y_0,\n",
    "                      '$E[\\delta]$': expected_y_1 - expected_y_0})"
   ]
  },
  {
   "cell_type": "code",
   "execution_count": 75,
   "metadata": {
    "ExecuteTime": {
     "end_time": "2018-12-20T17:17:30.465629Z",
     "start_time": "2018-12-20T17:17:30.320764Z"
    },
    "scrolled": true
   },
   "outputs": [
    {
     "data": {
      "image/png": "[encoded data removed]",
      "text/plain": [
       "<Figure size 432x288 with 1 Axes>"
      ]
     },
     "metadata": {},
     "output_type": "display_data"
    }
   ],
   "source": [
    "result.plot(x='t', y='$E[\\delta]$');"
   ]
  },
  {
   "cell_type": "code",
   "execution_count": 76,
   "metadata": {
    "ExecuteTime": {
     "end_time": "2018-12-20T17:17:39.501113Z",
     "start_time": "2018-12-20T17:17:39.489458Z"
    },
    "scrolled": true
   },
   "outputs": [
    {
     "data": {
      "text/html": [
       "<div>\n",
       "<style scoped>\n",
       "    .dataframe tbody tr th:only-of-type {\n",
       "        vertical-align: middle;\n",
       "    }\n",
       "\n",
       "    .dataframe tbody tr th {\n",
       "        vertical-align: top;\n",
       "    }\n",
       "\n",
       "    .dataframe thead th {\n",
       "        text-align: right;\n",
       "    }\n",
       "</style>\n",
       "<table border=\"1\" class=\"dataframe\">\n",
       "  <thead>\n",
       "    <tr style=\"text-align: right;\">\n",
       "      <th></th>\n",
       "      <th>t</th>\n",
       "      <th>$E[Y_1]$</th>\n",
       "      <th>$E[Y_0]$</th>\n",
       "      <th>$E[\\delta]$</th>\n",
       "    </tr>\n",
       "  </thead>\n",
       "  <tbody>\n",
       "    <tr>\n",
       "      <th>47</th>\n",
       "      <td>47</td>\n",
       "      <td>49.927725</td>\n",
       "      <td>47.45771</td>\n",
       "      <td>2.470016</td>\n",
       "    </tr>\n",
       "    <tr>\n",
       "      <th>48</th>\n",
       "      <td>48</td>\n",
       "      <td>50.927725</td>\n",
       "      <td>48.45771</td>\n",
       "      <td>2.470016</td>\n",
       "    </tr>\n",
       "    <tr>\n",
       "      <th>49</th>\n",
       "      <td>49</td>\n",
       "      <td>51.927725</td>\n",
       "      <td>49.45771</td>\n",
       "      <td>2.470016</td>\n",
       "    </tr>\n",
       "    <tr>\n",
       "      <th>50</th>\n",
       "      <td>50</td>\n",
       "      <td>52.927725</td>\n",
       "      <td>50.45771</td>\n",
       "      <td>2.470016</td>\n",
       "    </tr>\n",
       "    <tr>\n",
       "      <th>51</th>\n",
       "      <td>51</td>\n",
       "      <td>53.927725</td>\n",
       "      <td>51.45771</td>\n",
       "      <td>2.470016</td>\n",
       "    </tr>\n",
       "  </tbody>\n",
       "</table>\n",
       "</div>"
      ],
      "text/plain": [
       "     t   $E[Y_1]$  $E[Y_0]$  $E[\\delta]$\n",
       "47  47  49.927725  47.45771     2.470016\n",
       "48  48  50.927725  48.45771     2.470016\n",
       "49  49  51.927725  49.45771     2.470016\n",
       "50  50  52.927725  50.45771     2.470016\n",
       "51  51  53.927725  51.45771     2.470016"
      ]
     },
     "execution_count": 76,
     "metadata": {},
     "output_type": "execute_result"
    }
   ],
   "source": [
    "result.tail()"
   ]
  },
  {
   "cell_type": "markdown",
   "metadata": {},
   "source": [
    "Compare this with the true ATT, "
   ]
  },
  {
   "cell_type": "code",
   "execution_count": 77,
   "metadata": {
    "ExecuteTime": {
     "end_time": "2018-12-20T17:17:53.861355Z",
     "start_time": "2018-12-20T17:17:53.841494Z"
    }
   },
   "outputs": [
    {
     "data": {
      "text/plain": [
       "0    2.463863\n",
       "1    2.463863\n",
       "2    2.463863\n",
       "3    2.463863\n",
       "4    2.463863\n",
       "dtype: float64"
      ]
     },
     "execution_count": 77,
     "metadata": {},
     "output_type": "execute_result"
    }
   ],
   "source": [
    "df = pd.DataFrame(Y_1 - Y_0)\n",
    "df['D'] = D_star\n",
    "df[df['D'] == 1].mean(axis=0).head()"
   ]
  },
  {
   "cell_type": "markdown",
   "metadata": {},
   "source": [
    "Looks pretty good!"
   ]
  },
  {
   "cell_type": "markdown",
   "metadata": {},
   "source": [
    "Now, let's handle this when the units aren't treated at the same times. A simple trick is to mask out values you want to ignore when you're conditioning."
   ]
  },
  {
   "cell_type": "code",
   "execution_count": 78,
   "metadata": {
    "ExecuteTime": {
     "end_time": "2018-12-20T17:18:16.544415Z",
     "start_time": "2018-12-20T17:18:16.312275Z"
    }
   },
   "outputs": [],
   "source": [
    "units = 3000\n",
    "time_steps = 52\n",
    "\n",
    "Z = np.random.normal(size=units)\n",
    "\n",
    "a_trend = np.arange(0, time_steps, 1)\n",
    "individual_effects = Z\n",
    "A_trend = np.tile(a_trend, units).reshape(units, time_steps)\n",
    "A_indiv = np.tile(individual_effects, time_steps).reshape(time_steps, units).T\n",
    "Y_0 = A_trend + A_indiv\n",
    "\n",
    "\n",
    "p_d = 1. / (1. + np.exp(-Z))\n",
    "D_star = np.random.binomial(1, p=p_d)\n",
    "D = np.zeros(shape=Y_0.shape)\n",
    "for i in range(units):\n",
    "    for t in range(time_steps):\n",
    "        if D_star[i] and t > 0:\n",
    "            if t == time_steps - 1 or D[i][t-1] == 1:\n",
    "                D[i][t] = 1\n",
    "            else:\n",
    "                D[i][t] = np.random.binomial(1, p=1./float(time_steps))\n",
    "\n",
    "                    \n",
    "delta = 2.\n",
    "Y_1 = Y_0 + delta + A_indiv\n",
    "Y = (D==1)*Y_1 + (D==0)*Y_0"
   ]
  },
  {
   "cell_type": "code",
   "execution_count": 79,
   "metadata": {
    "ExecuteTime": {
     "end_time": "2018-12-20T17:19:28.746475Z",
     "start_time": "2018-12-20T17:19:28.625767Z"
    }
   },
   "outputs": [
    {
     "data": {
      "image/png": "[encoded data removed]",
      "text/plain": [
       "<Figure size 432x288 with 1 Axes>"
      ]
     },
     "metadata": {},
     "output_type": "display_data"
    }
   ],
   "source": [
    "# Naive effect\n",
    "# Since they all don't start at the same \n",
    "# time, we really need to be careful about \n",
    "# which units we're averaging over at which \n",
    "# times. The old way doesn't work:\n",
    "\n",
    "df = pd.DataFrame(Y)\n",
    "df['$D^*$'] = D_star\n",
    "d0 = df[df['$D^*$'] == 0]\n",
    "d1 = df[df['$D^*$'] == 1]\n",
    "del d0['$D^*$'], d1['$D^*$']\n",
    "(d1.T.mean(axis=1) - d0.T.mean(axis=1)).plot();\n"
   ]
  },
  {
   "cell_type": "markdown",
   "metadata": {},
   "source": [
    "This is because many of the $D^* = 1$ units are still in the $D=0$ state in the earlier times, and more and more go into the $D=1$ state over time. That's why you see the gradual ramp-up in the effect. \n",
    "\n",
    "The correct way to do this is to mask out the $D^*=1$ users who are still in the $D=0$ state at each time step when we take the averages."
   ]
  },
  {
   "cell_type": "code",
   "execution_count": 80,
   "metadata": {
    "ExecuteTime": {
     "end_time": "2018-12-20T17:21:06.365563Z",
     "start_time": "2018-12-20T17:21:06.208135Z"
    }
   },
   "outputs": [
    {
     "data": {
      "image/png": "[encoded data removed]",
      "text/plain": [
       "<Figure size 432x288 with 1 Axes>"
      ]
     },
     "metadata": {},
     "output_type": "display_data"
    }
   ],
   "source": [
    "# Naive expected values\n",
    "\n",
    "mask_0 = (D==1)  # mask out the D=1 values.\n",
    "mask_1 = (D==0)  # mask out the D=0 values.\n",
    "Y_given_0 = np.ma.array(data=Y,\n",
    "                        mask=mask_0,\n",
    "                        fill_value=np.nan).mean(axis=0)\n",
    "Y_given_1 = np.ma.array(data=Y,\n",
    "                        mask=mask_1,\n",
    "                        fill_value=np.nan).mean(axis=0)\n",
    "df = pd.DataFrame({'$E[Y_t|D=0]$': Y_given_0.data,\n",
    "                   '$E[Y_t|D=1]$': Y_given_1.data,\n",
    "                   '$\\delta_t$': Y_given_1.data - Y_given_0.data,\n",
    "                   't': range(Y.shape[1])})\n",
    "df.plot(x='t', y=['$E[Y_t|D=0]$', '$E[Y_t|D=1]$']);"
   ]
  },
  {
   "cell_type": "markdown",
   "metadata": {},
   "source": [
    "This gives us a nicer looking naive effect:"
   ]
  },
  {
   "cell_type": "code",
   "execution_count": 89,
   "metadata": {
    "ExecuteTime": {
     "end_time": "2018-12-20T17:23:25.730597Z",
     "start_time": "2018-12-20T17:23:25.587298Z"
    }
   },
   "outputs": [
    {
     "data": {
      "image/png": "[encoded data removed]",
      "text/plain": [
       "<Figure size 432x288 with 1 Axes>"
      ]
     },
     "metadata": {},
     "output_type": "display_data"
    }
   ],
   "source": [
    "df.plot(x='t', y='$\\delta_t$');"
   ]
  },
  {
   "cell_type": "markdown",
   "metadata": {},
   "source": [
    "There's a good bit of estimation noise at the beginning. The starting value is 0, since there are no units in the 1 state. \n",
    "\n",
    "Now, we can be more careful about propensity score matching."
   ]
  },
  {
   "cell_type": "code",
   "execution_count": 90,
   "metadata": {
    "ExecuteTime": {
     "end_time": "2018-12-20T17:24:16.449858Z",
     "start_time": "2018-12-20T17:24:13.998582Z"
    }
   },
   "outputs": [
    {
     "name": "stdout",
     "output_type": "stream",
     "text": [
      "Optimization terminated successfully.\n",
      "         Current function value: 0.593598\n",
      "         Iterations 5\n"
     ]
    },
    {
     "name": "stderr",
     "output_type": "stream",
     "text": [
      "/home/eric/anaconda3/lib/python3.6/site-packages/pandas/core/indexing.py:362: SettingWithCopyWarning: \n",
      "A value is trying to be set on a copy of a slice from a DataFrame.\n",
      "Try using .loc[row_indexer,col_indexer] = value instead\n",
      "\n",
      "See the caveats in the documentation: http://pandas.pydata.org/pandas-docs/stable/indexing.html#indexing-view-versus-copy\n",
      "  self.obj[key] = _infer_fill_value(value)\n",
      "/home/eric/anaconda3/lib/python3.6/site-packages/pandas/core/indexing.py:543: SettingWithCopyWarning: \n",
      "A value is trying to be set on a copy of a slice from a DataFrame.\n",
      "Try using .loc[row_indexer,col_indexer] = value instead\n",
      "\n",
      "See the caveats in the documentation: http://pandas.pydata.org/pandas-docs/stable/indexing.html#indexing-view-versus-copy\n",
      "  self.obj[item] = s\n"
     ]
    }
   ],
   "source": [
    "matcher = PropensityScoreMatching()\n",
    "df = pd.DataFrame({'D': D_star, 'Z': Z, 'id': range(units)})\n",
    "matcher.score(df, confounder_types={'Z': 'c'}, assignment='D');\n",
    "treated, matched_controls = matcher.get_control_matches(df[df['D'] == 1], df[df['D'] == 0]);\n"
   ]
  },
  {
   "cell_type": "code",
   "execution_count": 91,
   "metadata": {
    "ExecuteTime": {
     "end_time": "2018-12-20T17:24:20.589260Z",
     "start_time": "2018-12-20T17:24:20.404237Z"
    }
   },
   "outputs": [
    {
     "data": {
      "image/png": "[encoded data removed]",
      "text/plain": [
       "<Figure size 432x288 with 1 Axes>"
      ]
     },
     "metadata": {},
     "output_type": "display_data"
    }
   ],
   "source": [
    "treated_outcomes = Y[treated.id]\n",
    "control_outcomes = Y[matched_controls.id]\n",
    "D_treated = D[treated.id]\n",
    "D_control = D[matched_controls.id]\n",
    "\n",
    "mask_0 = (D_control==1)  # mask out the D=1 values.\n",
    "mask_1 = (D_treated==0)  # mask out the D=0 values.\n",
    "Y_given_0 = np.ma.array(data=control_outcomes,\n",
    "                        mask=mask_0,\n",
    "                        fill_value=np.nan).mean(axis=0)\n",
    "Y_given_1 = np.ma.array(data=treated_outcomes,\n",
    "                        mask=mask_1,\n",
    "                        fill_value=np.nan).mean(axis=0)\n",
    "df = pd.DataFrame({'$E[Y_t|D=0]$': Y_given_0.data,\n",
    "                   '$E[Y_t|D=1]$': Y_given_1.data,\n",
    "                   '$\\delta_t$': Y_given_1.data - Y_given_0.data,\n",
    "                   't': range(Y.shape[1])})\n",
    "df.plot(x='t', y=['$E[Y_t|D=0]$', '$E[Y_t|D=1]$']);"
   ]
  },
  {
   "cell_type": "code",
   "execution_count": 92,
   "metadata": {
    "ExecuteTime": {
     "end_time": "2018-12-20T17:24:43.566633Z",
     "start_time": "2018-12-20T17:24:43.425385Z"
    }
   },
   "outputs": [
    {
     "data": {
      "image/png": "[encoded data removed]",
      "text/plain": [
       "<Figure size 432x288 with 1 Axes>"
      ]
     },
     "metadata": {},
     "output_type": "display_data"
    }
   ],
   "source": [
    "df.plot(x='t', y='$\\delta_t$');"
   ]
  },
  {
   "cell_type": "markdown",
   "metadata": {},
   "source": [
    "We get the correct ATT!"
   ]
  },
  {
   "cell_type": "code",
   "execution_count": null,
   "metadata": {},
   "outputs": [],
   "source": []
  }
 ],
 "metadata": {
  "kernelspec": {
   "display_name": "Python 3",
   "language": "python",
   "name": "python3"
  },
  "language_info": {
   "codemirror_mode": {
    "name": "ipython",
    "version": 3
   },
   "file_extension": ".py",
   "mimetype": "text/x-python",
   "name": "python",
   "nbconvert_exporter": "python",
   "pygments_lexer": "ipython3",
   "version": "3.6.5"
  }
 },
 "nbformat": 4,
 "nbformat_minor": 2
}
