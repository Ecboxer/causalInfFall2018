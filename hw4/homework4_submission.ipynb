{
 "cells": [
  {
   "cell_type": "markdown",
   "metadata": {},
   "source": [
    "\n",
    "1. Simulate some panel data. We’ll do some analysis similar to the Eclipse Bug Report paper, https://arxiv.org/pdf/1803.04129.pdf, but without the DID piece. Specifically,\n",
    "  * Simulate N units over T discrete time steps.\n",
    "  * Add confounding through a variable Z  between treated and untreated units which is constant over time. That is, $Z = Z_i$, and not $Z_{it}$ (where $i$ is an index that runs over units, and $t$ runs over time steps). In particular ...\n",
    "  * Add a time-varying causal state where $D^*$ (as we defined it in class) is caused by $Z_i$. It should be a binary treatment which turns on and stays on for each test unit ($D^* = 1$) at a different time, but never turns on for control units ($D^* = 0$)\n",
    "  * Compute counterfactuals $Y^0_{it}$ and $Y^1_{it}$ which are caused by $Z_i$.\n",
    "2. Use your counterfactuals to estimate the time series causal effect. Plot it, and explain from the data generating process why it's correct.\n",
    "3. Create a propensity score model for $D*$.\n",
    "4. Match units to estimate the ATT.\n",
    "5. Estimate the expected counterfactuals for the test group: $E[Y^1_t |D=1]$ and $E[Y^0_t |D=1]$. You’ll have to be careful: since all the units treatments don’t turn on at the same time, you’ll want to mask out the treatment units in the $D_{it}=0$ state when you’re taking your averages. Numpy’s masked array object can be useful here, numpy.ma.array\n",
    "6. Use the time series you estimated in (4) to estimate the time-varying ATT.\n"
   ]
  },
  {
   "cell_type": "code",
   "execution_count": 1,
   "metadata": {},
   "outputs": [],
   "source": [
    "import numpy as np\n",
    "import numpy.ma as ma\n",
    "import pandas as pd\n",
    "import matplotlib.pyplot as plt"
   ]
  },
  {
   "cell_type": "markdown",
   "metadata": {},
   "source": [
    "Question 1"
   ]
  },
  {
   "cell_type": "code",
   "execution_count": 2,
   "metadata": {},
   "outputs": [],
   "source": [
    "units = 5000 #N\n",
    "time_steps = 52 #T\n",
    "\n",
    "p_z = .5\n",
    "z = np.random.binomial(1, p_z, size=units) #Z\n",
    "\n",
    "p_d = .25 + z / 2\n",
    "d = np.random.binomial(1, p_d, size=units) #Causal state\n",
    "\n",
    "start = np.random.randint(1, 52, size=units) #Start time for causal state\n",
    "delta = 5 #Treatment effect\n",
    "\n",
    "#N x T array of causal state over time D_it which stays on for treatment and never activates for control\n",
    "d_it = np.array([[0] * (start[index]) + [delta] * (52 - start[index]) for index in range(len(d))])\n",
    "\n",
    "# taken from matrix_completion.ipynb\n",
    "a_trend = np.arange(0, time_steps, 1)\n",
    "Z1 = np.random.normal(size=units)\n",
    "A_trend = np.tile(a_trend, units).reshape(units, time_steps)\n",
    "A_indiv = np.tile(Z1, time_steps).reshape(time_steps, units).T\n",
    "Y_0 = A_trend + A_indiv #Y_0\n",
    "\n",
    "Y_1 = Y_0 + d_it #Y_1\n",
    "\n",
    "d = d.reshape(5000, 1)\n",
    "#Y = [Y_0[i] if d[i] == 0 else Y_1[i] for i in range(len(d))] #Y_0 if d == 0 ow Y_1\n",
    "Y = (d==1)*Y_1 + (d==0)*Y_0\n",
    "\n",
    "df = pd.DataFrame(Y)\n",
    "df['d'] = d\n",
    "df['Z'] = z\n",
    "df['start'] = start"
   ]
  },
  {
   "cell_type": "markdown",
   "metadata": {},
   "source": [
    "Question 2"
   ]
  },
  {
   "cell_type": "markdown",
   "metadata": {},
   "source": [
    "Naive expected values, determined by the potential outcomes $Y_0, Y_1$"
   ]
  },
  {
   "cell_type": "code",
   "execution_count": 3,
   "metadata": {},
   "outputs": [],
   "source": [
    "df_y0 = pd.DataFrame(Y_0)\n",
    "df_y1 = pd.DataFrame(Y_1)"
   ]
  },
  {
   "cell_type": "code",
   "execution_count": 4,
   "metadata": {},
   "outputs": [
    {
     "data": {
      "text/plain": [
       "<matplotlib.axes._subplots.AxesSubplot at 0x7fa0d290f7b8>"
      ]
     },
     "execution_count": 4,
     "metadata": {},
     "output_type": "execute_result"
    },
    {
     "data": {
      "image/png": "[encoded data removed]",
      "text/plain": [
       "<Figure size 432x288 with 1 Axes>"
      ]
     },
     "metadata": {},
     "output_type": "display_data"
    }
   ],
   "source": [
    "pd.DataFrame({'y0': df_y0.mean(), 'y1': df_y1.mean()}).plot()"
   ]
  },
  {
   "cell_type": "code",
   "execution_count": 5,
   "metadata": {},
   "outputs": [
    {
     "data": {
      "text/plain": [
       "<matplotlib.axes._subplots.AxesSubplot at 0x7fa0d1b95d30>"
      ]
     },
     "execution_count": 5,
     "metadata": {},
     "output_type": "execute_result"
    },
    {
     "data": {
      "image/png": "[encoded data removed]",
      "text/plain": [
       "<Figure size 432x288 with 1 Axes>"
      ]
     },
     "metadata": {},
     "output_type": "display_data"
    }
   ],
   "source": [
    "pd.DataFrame({'y1-y0': df_y1.mean() - df_y0.mean()}).plot()"
   ]
  },
  {
   "cell_type": "markdown",
   "metadata": {},
   "source": [
    "At time $T=52$, the difference in $Y_1$ and $Y_0$ is given by:"
   ]
  },
  {
   "cell_type": "code",
   "execution_count": 6,
   "metadata": {},
   "outputs": [
    {
     "data": {
      "text/plain": [
       "4.999999999999972"
      ]
     },
     "execution_count": 6,
     "metadata": {},
     "output_type": "execute_result"
    }
   ],
   "source": [
    "df_y1.mean()[51] - df_y0.mean()[51]"
   ]
  },
  {
   "cell_type": "markdown",
   "metadata": {},
   "source": [
    "The data generating process adds a constant delta = 5 to the treatment group, beginning at a variable start time and continuing until T = 52. As expected the difference in the potential outcomes $Y_0, Y_1$ after T time steps is equal to that delta.  \n",
    "At time step $t$, the causal effect is equal to $\\frac{5t}{52}$. We can reconstruct that from the data generating process as $\\delta = 5$ times the expected proportion of units in the treatment state $\\frac{t}{52}$."
   ]
  },
  {
   "cell_type": "markdown",
   "metadata": {},
   "source": [
    "Question 3"
   ]
  },
  {
   "cell_type": "markdown",
   "metadata": {},
   "source": [
    "Construct a propensity score model using the causal states $d_{it}$."
   ]
  },
  {
   "cell_type": "code",
   "execution_count": 7,
   "metadata": {},
   "outputs": [],
   "source": [
    "from statsmodels.api import WLS, OLS\n",
    "from sklearn.linear_model import LogisticRegression"
   ]
  },
  {
   "cell_type": "code",
   "execution_count": 8,
   "metadata": {},
   "outputs": [],
   "source": [
    "var_list = [i for i in range(51)]"
   ]
  },
  {
   "cell_type": "code",
   "execution_count": 9,
   "metadata": {},
   "outputs": [],
   "source": [
    "propensity_model = LogisticRegression(C=1e12)\n",
    "propensity_model = propensity_model.fit(df[var_list], df['d'])\n",
    "df['P_d1_t'] = propensity_model.predict_proba(df[var_list])[:, 1]"
   ]
  },
  {
   "cell_type": "code",
   "execution_count": 10,
   "metadata": {},
   "outputs": [
    {
     "data": {
      "text/html": [
       "<div>\n",
       "<style scoped>\n",
       "    .dataframe tbody tr th:only-of-type {\n",
       "        vertical-align: middle;\n",
       "    }\n",
       "\n",
       "    .dataframe tbody tr th {\n",
       "        vertical-align: top;\n",
       "    }\n",
       "\n",
       "    .dataframe thead th {\n",
       "        text-align: right;\n",
       "    }\n",
       "</style>\n",
       "<table border=\"1\" class=\"dataframe\">\n",
       "  <thead>\n",
       "    <tr style=\"text-align: right;\">\n",
       "      <th></th>\n",
       "      <th>d</th>\n",
       "      <th>P_d1_t</th>\n",
       "    </tr>\n",
       "  </thead>\n",
       "  <tbody>\n",
       "    <tr>\n",
       "      <th>0</th>\n",
       "      <td>1</td>\n",
       "      <td>0.999554</td>\n",
       "    </tr>\n",
       "    <tr>\n",
       "      <th>1</th>\n",
       "      <td>1</td>\n",
       "      <td>0.999207</td>\n",
       "    </tr>\n",
       "    <tr>\n",
       "      <th>2</th>\n",
       "      <td>0</td>\n",
       "      <td>0.019754</td>\n",
       "    </tr>\n",
       "    <tr>\n",
       "      <th>3</th>\n",
       "      <td>0</td>\n",
       "      <td>0.020096</td>\n",
       "    </tr>\n",
       "    <tr>\n",
       "      <th>4</th>\n",
       "      <td>0</td>\n",
       "      <td>0.023119</td>\n",
       "    </tr>\n",
       "  </tbody>\n",
       "</table>\n",
       "</div>"
      ],
      "text/plain": [
       "   d    P_d1_t\n",
       "0  1  0.999554\n",
       "1  1  0.999207\n",
       "2  0  0.019754\n",
       "3  0  0.020096\n",
       "4  0  0.023119"
      ]
     },
     "execution_count": 10,
     "metadata": {},
     "output_type": "execute_result"
    }
   ],
   "source": [
    "df[['d', 'P_d1_t']].head()"
   ]
  },
  {
   "cell_type": "markdown",
   "metadata": {},
   "source": [
    "Question 4"
   ]
  },
  {
   "cell_type": "markdown",
   "metadata": {},
   "source": [
    "Construct weights from propensity scores as $w_{i, ATT} = \\frac{p_i}{1 - p_i}$ if $d_i = 0$, 1 if $d_i = 1$."
   ]
  },
  {
   "cell_type": "code",
   "execution_count": 11,
   "metadata": {},
   "outputs": [],
   "source": [
    "df['wATT'] = (df['d'] == 1) * 1 + (df['d'] == 0) * (df['P_d1_t'] / (1 - df['P_d1_t']))"
   ]
  },
  {
   "cell_type": "code",
   "execution_count": 12,
   "metadata": {},
   "outputs": [
    {
     "data": {
      "text/html": [
       "<table class=\"simpletable\">\n",
       "<caption>WLS Regression Results</caption>\n",
       "<tr>\n",
       "  <th>Dep. Variable:</th>           <td>51</td>        <th>  R-squared:         </th> <td>   0.334</td> \n",
       "</tr>\n",
       "<tr>\n",
       "  <th>Model:</th>                   <td>WLS</td>       <th>  Adj. R-squared:    </th> <td>   0.334</td> \n",
       "</tr>\n",
       "<tr>\n",
       "  <th>Method:</th>             <td>Least Squares</td>  <th>  F-statistic:       </th> <td>2.929e+04</td>\n",
       "</tr>\n",
       "<tr>\n",
       "  <th>Date:</th>             <td>Sun, 16 Dec 2018</td> <th>  Prob (F-statistic):</th>  <td>  0.00</td>  \n",
       "</tr>\n",
       "<tr>\n",
       "  <th>Time:</th>                 <td>13:18:46</td>     <th>  Log-Likelihood:    </th> <td> -10169.</td> \n",
       "</tr>\n",
       "<tr>\n",
       "  <th>No. Observations:</th>      <td>  5000</td>      <th>  AIC:               </th> <td>2.034e+04</td>\n",
       "</tr>\n",
       "<tr>\n",
       "  <th>Df Residuals:</th>          <td>  4998</td>      <th>  BIC:               </th> <td>2.035e+04</td>\n",
       "</tr>\n",
       "<tr>\n",
       "  <th>Df Model:</th>              <td>     1</td>      <th>                     </th>     <td> </td>    \n",
       "</tr>\n",
       "<tr>\n",
       "  <th>Covariance Type:</th>         <td>HC3</td>       <th>                     </th>     <td> </td>    \n",
       "</tr>\n",
       "</table>\n",
       "<table class=\"simpletable\">\n",
       "<tr>\n",
       "      <td></td>         <th>coef</th>     <th>std err</th>      <th>z</th>      <th>P>|z|</th>  <th>[0.025</th>    <th>0.975]</th>  \n",
       "</tr>\n",
       "<tr>\n",
       "  <th>d</th>         <td>    4.8727</td> <td>    0.028</td> <td>  171.133</td> <td> 0.000</td> <td>    4.817</td> <td>    4.929</td>\n",
       "</tr>\n",
       "<tr>\n",
       "  <th>intercept</th> <td>   51.1176</td> <td>    0.020</td> <td> 2537.053</td> <td> 0.000</td> <td>   51.078</td> <td>   51.157</td>\n",
       "</tr>\n",
       "</table>\n",
       "<table class=\"simpletable\">\n",
       "<tr>\n",
       "  <th>Omnibus:</th>       <td>310.566</td> <th>  Durbin-Watson:     </th> <td>   1.973</td> \n",
       "</tr>\n",
       "<tr>\n",
       "  <th>Prob(Omnibus):</th> <td> 0.000</td>  <th>  Jarque-Bera (JB):  </th> <td>1412.104</td> \n",
       "</tr>\n",
       "<tr>\n",
       "  <th>Skew:</th>          <td> 0.007</td>  <th>  Prob(JB):          </th> <td>2.32e-307</td>\n",
       "</tr>\n",
       "<tr>\n",
       "  <th>Kurtosis:</th>      <td> 5.603</td>  <th>  Cond. No.          </th> <td>    13.4</td> \n",
       "</tr>\n",
       "</table><br/><br/>Warnings:<br/>[1] Standard Errors are heteroscedasticity robust (HC3)"
      ],
      "text/plain": [
       "<class 'statsmodels.iolib.summary.Summary'>\n",
       "\"\"\"\n",
       "                            WLS Regression Results                            \n",
       "==============================================================================\n",
       "Dep. Variable:                     51   R-squared:                       0.334\n",
       "Model:                            WLS   Adj. R-squared:                  0.334\n",
       "Method:                 Least Squares   F-statistic:                 2.929e+04\n",
       "Date:                Sun, 16 Dec 2018   Prob (F-statistic):               0.00\n",
       "Time:                        13:18:46   Log-Likelihood:                -10169.\n",
       "No. Observations:                5000   AIC:                         2.034e+04\n",
       "Df Residuals:                    4998   BIC:                         2.035e+04\n",
       "Df Model:                           1                                         \n",
       "Covariance Type:                  HC3                                         \n",
       "==============================================================================\n",
       "                 coef    std err          z      P>|z|      [0.025      0.975]\n",
       "------------------------------------------------------------------------------\n",
       "d              4.8727      0.028    171.133      0.000       4.817       4.929\n",
       "intercept     51.1176      0.020   2537.053      0.000      51.078      51.157\n",
       "==============================================================================\n",
       "Omnibus:                      310.566   Durbin-Watson:                   1.973\n",
       "Prob(Omnibus):                  0.000   Jarque-Bera (JB):             1412.104\n",
       "Skew:                           0.007   Prob(JB):                    2.32e-307\n",
       "Kurtosis:                       5.603   Cond. No.                         13.4\n",
       "==============================================================================\n",
       "\n",
       "Warnings:\n",
       "[1] Standard Errors are heteroscedasticity robust (HC3)\n",
       "\"\"\""
      ]
     },
     "execution_count": 12,
     "metadata": {},
     "output_type": "execute_result"
    }
   ],
   "source": [
    "df['intercept'] = 1\n",
    "model = WLS(df[51], df[['d', 'intercept']], weights=df['wATT'])\n",
    "result = model.fit(cov_type='HC3')\n",
    "result.summary()"
   ]
  },
  {
   "cell_type": "markdown",
   "metadata": {},
   "source": [
    "The estimated ATT is the coefficient of $d = 4.8$, which is not far from the ATE $ = \\delta = 5$."
   ]
  },
  {
   "cell_type": "markdown",
   "metadata": {},
   "source": [
    "Question 5"
   ]
  },
  {
   "cell_type": "markdown",
   "metadata": {},
   "source": [
    "Y_1_est contains the measurement of the treatment, $Y | D = 1$  \n",
    "d_it_1 contains the causal states of the treatment, $d_{it} | D=1$  \n",
    "Y_1_est_ma is Y_1_est with $Y^1$ values masked, $Y^1 | D = 1$"
   ]
  },
  {
   "cell_type": "code",
   "execution_count": 13,
   "metadata": {},
   "outputs": [],
   "source": [
    "Y_1_est = [Y[i] for i in range(len(d)) if d[i] == 1]\n",
    "d_it_1 = [d_it[i] for i in range(len(d)) if d[i] == 1]\n",
    "d_it_1_trt = [(1 - d_it[i] / delta) for i in range(len(d)) if d[i] == 1] #After d turns on, d_it = delta\n",
    "Y_1_est_ma = ma.array(Y_1_est, mask=d_it_1)\n",
    "Y_1_est_trt = ma.array(Y_1_est, mask=d_it_1_trt)"
   ]
  },
  {
   "cell_type": "code",
   "execution_count": 14,
   "metadata": {},
   "outputs": [],
   "source": [
    "df_ctrl = pd.DataFrame(Y_1_est_ma)\n",
    "df_trt = pd.DataFrame(Y_1_est_trt)"
   ]
  },
  {
   "cell_type": "markdown",
   "metadata": {},
   "source": [
    "$E[Y^1|D = 1]$"
   ]
  },
  {
   "cell_type": "code",
   "execution_count": 15,
   "metadata": {
    "scrolled": true
   },
   "outputs": [
    {
     "data": {
      "text/plain": [
       "0           NaN\n",
       "1      6.174678\n",
       "2      7.207279\n",
       "3      8.049802\n",
       "4      9.031598\n",
       "5     10.019210\n",
       "6     10.995646\n",
       "7     11.971338\n",
       "8     12.994864\n",
       "9     13.991142\n",
       "10    14.978236\n",
       "11    15.989830\n",
       "12    16.991746\n",
       "13    17.987072\n",
       "14    18.986139\n",
       "15    20.000751\n",
       "16    20.979942\n",
       "17    21.973593\n",
       "18    22.969536\n",
       "19    23.972907\n",
       "20    24.966989\n",
       "21    25.960479\n",
       "22    26.956097\n",
       "23    27.959336\n",
       "24    28.955874\n",
       "25    29.961292\n",
       "26    30.966746\n",
       "27    31.967391\n",
       "28    32.975910\n",
       "29    33.980656\n",
       "30    34.975110\n",
       "31    35.979994\n",
       "32    36.981520\n",
       "33    37.986154\n",
       "34    38.990153\n",
       "35    39.987576\n",
       "36    40.991338\n",
       "37    41.987165\n",
       "38    42.989046\n",
       "39    43.989112\n",
       "40    44.984084\n",
       "41    45.985068\n",
       "42    46.987412\n",
       "43    47.988907\n",
       "44    48.986227\n",
       "45    49.992779\n",
       "46    50.994050\n",
       "47    51.993027\n",
       "48    52.989400\n",
       "49    53.987361\n",
       "50    54.987344\n",
       "51    55.990291\n",
       "dtype: float64"
      ]
     },
     "execution_count": 15,
     "metadata": {},
     "output_type": "execute_result"
    }
   ],
   "source": [
    "df_trt.mean()"
   ]
  },
  {
   "cell_type": "markdown",
   "metadata": {},
   "source": [
    "$E[Y^0|D = 1]$"
   ]
  },
  {
   "cell_type": "code",
   "execution_count": 16,
   "metadata": {
    "scrolled": true
   },
   "outputs": [
    {
     "data": {
      "text/plain": [
       "0     -0.009709\n",
       "1      0.986946\n",
       "2      1.981996\n",
       "3      2.986613\n",
       "4      3.986874\n",
       "5      4.987100\n",
       "6      5.989610\n",
       "7      6.993050\n",
       "8      7.989471\n",
       "9      8.990117\n",
       "10     9.993097\n",
       "11    10.990413\n",
       "12    11.989861\n",
       "13    12.991333\n",
       "14    13.991829\n",
       "15    14.985915\n",
       "16    15.994974\n",
       "17    16.998536\n",
       "18    18.001504\n",
       "19    19.000559\n",
       "20    20.005013\n",
       "21    21.010682\n",
       "22    22.015257\n",
       "23    23.014831\n",
       "24    24.020034\n",
       "25    25.017380\n",
       "26    26.013761\n",
       "27    27.015434\n",
       "28    28.007360\n",
       "29    29.002444\n",
       "30    30.011116\n",
       "31    31.005644\n",
       "32    32.004431\n",
       "33    32.997549\n",
       "34    33.990555\n",
       "35    34.996010\n",
       "36    35.987870\n",
       "37    36.998429\n",
       "38    37.993912\n",
       "39    38.994174\n",
       "40    40.013501\n",
       "41    41.011451\n",
       "42    42.003325\n",
       "43    42.997231\n",
       "44    44.014271\n",
       "45    44.972236\n",
       "46    45.956069\n",
       "47    46.959634\n",
       "48    48.003459\n",
       "49    49.055894\n",
       "50    50.122666\n",
       "51          NaN\n",
       "dtype: float64"
      ]
     },
     "execution_count": 16,
     "metadata": {},
     "output_type": "execute_result"
    }
   ],
   "source": [
    "df_ctrl.mean()"
   ]
  },
  {
   "cell_type": "code",
   "execution_count": 17,
   "metadata": {},
   "outputs": [
    {
     "data": {
      "text/plain": [
       "<matplotlib.axes._subplots.AxesSubplot at 0x7fa0b86e2f60>"
      ]
     },
     "execution_count": 17,
     "metadata": {},
     "output_type": "execute_result"
    },
    {
     "data": {
      "image/png": "[encoded data removed]",
      "text/plain": [
       "<Figure size 432x288 with 1 Axes>"
      ]
     },
     "metadata": {},
     "output_type": "display_data"
    }
   ],
   "source": [
    "df_trt.mean().plot()\n",
    "df_ctrl.mean().plot()"
   ]
  },
  {
   "cell_type": "markdown",
   "metadata": {},
   "source": [
    "As expected, from the data generating process, there looks like a constant difference in the expected counterfactuals for the treatment group."
   ]
  },
  {
   "cell_type": "markdown",
   "metadata": {},
   "source": [
    "Question 6"
   ]
  },
  {
   "cell_type": "code",
   "execution_count": 18,
   "metadata": {},
   "outputs": [],
   "source": [
    "ATT_est = df_trt.mean() - df_ctrl.mean()"
   ]
  },
  {
   "cell_type": "markdown",
   "metadata": {},
   "source": [
    "The ATT at the final time step is:"
   ]
  },
  {
   "cell_type": "code",
   "execution_count": 19,
   "metadata": {},
   "outputs": [
    {
     "data": {
      "text/plain": [
       "4.864678631615881"
      ]
     },
     "execution_count": 19,
     "metadata": {},
     "output_type": "execute_result"
    }
   ],
   "source": [
    "ATT_est[50]"
   ]
  },
  {
   "cell_type": "markdown",
   "metadata": {},
   "source": [
    "This ATT is about equal to that which we retrieved from propensity score matching earlier.  \n",
    "I would expect that the estimated ATT converge as all units move into the treatment group."
   ]
  },
  {
   "cell_type": "code",
   "execution_count": 20,
   "metadata": {},
   "outputs": [
    {
     "data": {
      "text/plain": [
       "<matplotlib.lines.Line2D at 0x7fa0d1c5d240>"
      ]
     },
     "execution_count": 20,
     "metadata": {},
     "output_type": "execute_result"
    },
    {
     "data": {
      "image/png": "[encoded data removed]",
      "text/plain": [
       "<Figure size 432x288 with 1 Axes>"
      ]
     },
     "metadata": {},
     "output_type": "display_data"
    }
   ],
   "source": [
    "g = pd.DataFrame({'ATT_est': ATT_est}).plot()\n",
    "g.axhline(y=5, color='black')"
   ]
  },
  {
   "cell_type": "code",
   "execution_count": 21,
   "metadata": {
    "scrolled": true
   },
   "outputs": [
    {
     "data": {
      "text/plain": [
       "0          NaN\n",
       "1     5.187731\n",
       "2     5.225283\n",
       "3     5.063188\n",
       "4     5.044724\n",
       "5     5.032110\n",
       "6     5.006036\n",
       "7     4.978288\n",
       "8     5.005393\n",
       "9     5.001025\n",
       "10    4.985139\n",
       "11    4.999417\n",
       "12    5.001886\n",
       "13    4.995739\n",
       "14    4.994309\n",
       "15    5.014836\n",
       "16    4.984968\n",
       "17    4.975057\n",
       "18    4.968032\n",
       "19    4.972348\n",
       "20    4.961976\n",
       "21    4.949796\n",
       "22    4.940841\n",
       "23    4.944505\n",
       "24    4.935840\n",
       "25    4.943911\n",
       "26    4.952986\n",
       "27    4.951957\n",
       "28    4.968550\n",
       "29    4.978212\n",
       "30    4.963994\n",
       "31    4.974350\n",
       "32    4.977089\n",
       "33    4.988605\n",
       "34    4.999598\n",
       "35    4.991566\n",
       "36    5.003468\n",
       "37    4.988736\n",
       "38    4.995135\n",
       "39    4.994938\n",
       "40    4.970583\n",
       "41    4.973617\n",
       "42    4.984087\n",
       "43    4.991676\n",
       "44    4.971956\n",
       "45    5.020544\n",
       "46    5.037981\n",
       "47    5.033393\n",
       "48    4.985941\n",
       "49    4.931467\n",
       "50    4.864679\n",
       "51         NaN\n",
       "dtype: float64"
      ]
     },
     "execution_count": 21,
     "metadata": {},
     "output_type": "execute_result"
    }
   ],
   "source": [
    "ATT_est"
   ]
  }
 ],
 "metadata": {
  "kernelspec": {
   "display_name": "Python 3",
   "language": "python",
   "name": "python3"
  },
  "language_info": {
   "codemirror_mode": {
    "name": "ipython",
    "version": 3
   },
   "file_extension": ".py",
   "mimetype": "text/x-python",
   "name": "python",
   "nbconvert_exporter": "python",
   "pygments_lexer": "ipython3",
   "version": "3.6.5"
  }
 },
 "nbformat": 4,
 "nbformat_minor": 2
}
