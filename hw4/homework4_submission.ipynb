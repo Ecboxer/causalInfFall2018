{
 "cells": [
  {
   "cell_type": "markdown",
   "metadata": {},
   "source": [
    "\n",
    "1. Simulate some panel data. We’ll do some analysis similar to the Eclipse Bug Report paper, https://arxiv.org/pdf/1803.04129.pdf, but without the DID piece. Specifically,\n",
    "  * Simulate N units over T discrete time steps.\n",
    "  * Add confounding through a variable Z  between treated and untreated units which is constant over time. That is, $Z = Z_i$, and not $Z_{it}$ (where $i$ is an index that runs over units, and $t$ runs over time steps). In particular ...\n",
    "  * Add a time-varying causal state where $D^*$ (as we defined it in class) is caused by $Z_i$. It should be a binary treatment which turns on and stays on for each test unit ($D^* = 1$) at a different time, but never turns on for control units ($D^* = 0$)\n",
    "  * Compute counterfactuals $Y^0_{it}$ and $Y^1_{it}$ which are caused by $Z_i$.\n",
    "2. Use your counterfactuals to estimate the time series causal effect. Plot it, and explain from the data generating process why it's correct.\n",
    "3. Create a propensity score model for $D*$.\n",
    "4. Match units to estimate the ATT.\n",
    "5. Estimate the expected counterfactuals for the test group: $E[Y^1_t |D=1]$ and $E[Y^0_t |D=1]$. You’ll have to be careful: since all the units treatments don’t turn on at the same time, you’ll want to mask out the treatment units in the $D_{it}=0$ state when you’re taking your averages. Numpy’s masked array object can be useful here, numpy.ma.array\n",
    "6. Use the time series you estimated in (4) to estimate the time-varying ATT.\n"
   ]
  },
  {
   "cell_type": "code",
   "execution_count": 1,
   "metadata": {},
   "outputs": [],
   "source": [
    "import numpy as np\n",
    "import numpy.ma as ma\n",
    "import pandas as pd\n",
    "import matplotlib.pyplot as plt"
   ]
  },
  {
   "cell_type": "markdown",
   "metadata": {},
   "source": [
    "Question 1"
   ]
  },
  {
   "cell_type": "code",
   "execution_count": 2,
   "metadata": {},
   "outputs": [],
   "source": [
    "units = 5000 #N\n",
    "time_steps = 52 #T\n",
    "\n",
    "p_z = .5\n",
    "z = np.random.binomial(1, p_z, size=units) #Z\n",
    "\n",
    "p_d = .25 + z / 2\n",
    "d = np.random.binomial(1, p_d, size=units) #Causal state\n",
    "\n",
    "start = np.random.randint(1, 52, size=units) #Start time for causal state\n",
    "delta = 5 #Treatment effect\n",
    "\n",
    "#N x T array of causal state over time D_it which stays on for treatment and never activates for control\n",
    "d_it = np.array([[0] * (start[index]) + [delta] * (52 - start[index]) for index, treatment in enumerate(d)])\n",
    "\n",
    "# taken from matrix_completion.ipynb\n",
    "a_trend = np.arange(0, time_steps, 1)\n",
    "Z1 = np.random.normal(size=units)\n",
    "A_trend = np.tile(a_trend, units).reshape(units, time_steps)\n",
    "A_indiv = np.tile(Z1, time_steps).reshape(time_steps, units).T\n",
    "Y_0 = A_trend + A_indiv #Y_0\n",
    "\n",
    "Y_1 = A_trend + A_indiv + d_it #Y_1\n",
    "\n",
    "Y = [Y_0[i] if d[i] == 0 else Y_1[i] for i in range(len(d))] #Y_0 if d == 0 ow Y_1\n",
    "\n",
    "df = pd.DataFrame(Y)\n",
    "df['d'] = d\n",
    "df['Z'] = z\n",
    "df['start'] = start"
   ]
  },
  {
   "cell_type": "markdown",
   "metadata": {},
   "source": [
    "Question 2"
   ]
  },
  {
   "cell_type": "markdown",
   "metadata": {},
   "source": [
    "How am I measuring the potential outcomes?  \n",
    "Average y_it at each time step, I suppose  "
   ]
  },
  {
   "cell_type": "code",
   "execution_count": 3,
   "metadata": {},
   "outputs": [],
   "source": [
    "df_y0 = pd.DataFrame(Y_0)\n",
    "df_y1 = pd.DataFrame(Y_1)"
   ]
  },
  {
   "cell_type": "code",
   "execution_count": 4,
   "metadata": {},
   "outputs": [
    {
     "data": {
      "text/plain": [
       "<matplotlib.axes._subplots.AxesSubplot at 0x7fa7aee308d0>"
      ]
     },
     "execution_count": 4,
     "metadata": {},
     "output_type": "execute_result"
    },
    {
     "data": {
      "image/png": "[encoded data removed]",
      "text/plain": [
       "<Figure size 432x288 with 1 Axes>"
      ]
     },
     "metadata": {},
     "output_type": "display_data"
    }
   ],
   "source": [
    "pd.DataFrame({'y0': df_y0.mean(), 'y1': df_y1.mean()}).plot()"
   ]
  },
  {
   "cell_type": "code",
   "execution_count": 5,
   "metadata": {},
   "outputs": [
    {
     "data": {
      "text/plain": [
       "<matplotlib.axes._subplots.AxesSubplot at 0x7fa7ade48b00>"
      ]
     },
     "execution_count": 5,
     "metadata": {},
     "output_type": "execute_result"
    },
    {
     "data": {
      "image/png": "[encoded data removed]",
      "text/plain": [
       "<Figure size 432x288 with 1 Axes>"
      ]
     },
     "metadata": {},
     "output_type": "display_data"
    }
   ],
   "source": [
    "pd.DataFrame({'y1-y0': df_y1.mean() - df_y0.mean()}).plot()"
   ]
  },
  {
   "cell_type": "markdown",
   "metadata": {},
   "source": [
    "At time $T=52$ the difference in $Y_1$ and $Y_0$ is given by:"
   ]
  },
  {
   "cell_type": "code",
   "execution_count": 6,
   "metadata": {},
   "outputs": [
    {
     "data": {
      "text/plain": [
       "5.000000000000021"
      ]
     },
     "execution_count": 6,
     "metadata": {},
     "output_type": "execute_result"
    }
   ],
   "source": [
    "df_y1.mean()[51] - df_y0.mean()[51]"
   ]
  },
  {
   "cell_type": "markdown",
   "metadata": {},
   "source": [
    "The data generating process adds a constant delta = 5 to the treatment group, beginning at a variable start time and continuing until T = 52. As expected the difference in the potential outcomes $Y_0, Y_1$ after T time steps is equal to that delta."
   ]
  },
  {
   "cell_type": "markdown",
   "metadata": {},
   "source": [
    "Question 3"
   ]
  },
  {
   "cell_type": "code",
   "execution_count": 7,
   "metadata": {},
   "outputs": [],
   "source": [
    "from statsmodels.api import WLS, OLS\n",
    "from sklearn.linear_model import LogisticRegression"
   ]
  },
  {
   "cell_type": "code",
   "execution_count": 8,
   "metadata": {},
   "outputs": [],
   "source": [
    "var_list = [i for i in range(51)]"
   ]
  },
  {
   "cell_type": "code",
   "execution_count": 9,
   "metadata": {},
   "outputs": [],
   "source": [
    "propensity_model = LogisticRegression(C=1e12)\n",
    "propensity_model = propensity_model.fit(df[var_list], df['d'])\n",
    "df['P_d1_t'] = propensity_model.predict_proba(df[var_list])[:, 1]"
   ]
  },
  {
   "cell_type": "markdown",
   "metadata": {},
   "source": [
    "Question 4"
   ]
  },
  {
   "cell_type": "markdown",
   "metadata": {},
   "source": [
    "$w_{i, ATT} = \\frac{p_i}{1 - p_i}$ if $d_i = 0$, 1 if $d_i = 1$"
   ]
  },
  {
   "cell_type": "code",
   "execution_count": 10,
   "metadata": {},
   "outputs": [],
   "source": [
    "df['wATT'] = (df['d'] == 1) * 1 + (df['d'] == 0) * df['P_d1_t'] / (1 - df['P_d1_t'])"
   ]
  },
  {
   "cell_type": "markdown",
   "metadata": {},
   "source": [
    "coef_d = ATT = 4.74?"
   ]
  },
  {
   "cell_type": "code",
   "execution_count": 11,
   "metadata": {},
   "outputs": [
    {
     "data": {
      "text/html": [
       "<table class=\"simpletable\">\n",
       "<caption>WLS Regression Results</caption>\n",
       "<tr>\n",
       "  <th>Dep. Variable:</th>           <td>51</td>        <th>  R-squared:         </th> <td>   0.332</td> \n",
       "</tr>\n",
       "<tr>\n",
       "  <th>Model:</th>                   <td>WLS</td>       <th>  Adj. R-squared:    </th> <td>   0.331</td> \n",
       "</tr>\n",
       "<tr>\n",
       "  <th>Method:</th>             <td>Least Squares</td>  <th>  F-statistic:       </th> <td>3.131e+04</td>\n",
       "</tr>\n",
       "<tr>\n",
       "  <th>Date:</th>             <td>Sat, 15 Dec 2018</td> <th>  Prob (F-statistic):</th>  <td>  0.00</td>  \n",
       "</tr>\n",
       "<tr>\n",
       "  <th>Time:</th>                 <td>18:13:40</td>     <th>  Log-Likelihood:    </th> <td> -10295.</td> \n",
       "</tr>\n",
       "<tr>\n",
       "  <th>No. Observations:</th>      <td>  5000</td>      <th>  AIC:               </th> <td>2.059e+04</td>\n",
       "</tr>\n",
       "<tr>\n",
       "  <th>Df Residuals:</th>          <td>  4998</td>      <th>  BIC:               </th> <td>2.061e+04</td>\n",
       "</tr>\n",
       "<tr>\n",
       "  <th>Df Model:</th>              <td>     1</td>      <th>                     </th>     <td> </td>    \n",
       "</tr>\n",
       "<tr>\n",
       "  <th>Covariance Type:</th>         <td>HC3</td>       <th>                     </th>     <td> </td>    \n",
       "</tr>\n",
       "</table>\n",
       "<table class=\"simpletable\">\n",
       "<tr>\n",
       "      <td></td>         <th>coef</th>     <th>std err</th>      <th>z</th>      <th>P>|z|</th>  <th>[0.025</th>    <th>0.975]</th>  \n",
       "</tr>\n",
       "<tr>\n",
       "  <th>d</th>         <td>    5.0332</td> <td>    0.028</td> <td>  176.940</td> <td> 0.000</td> <td>    4.977</td> <td>    5.089</td>\n",
       "</tr>\n",
       "<tr>\n",
       "  <th>intercept</th> <td>   50.9786</td> <td>    0.020</td> <td> 2530.211</td> <td> 0.000</td> <td>   50.939</td> <td>   51.018</td>\n",
       "</tr>\n",
       "</table>\n",
       "<table class=\"simpletable\">\n",
       "<tr>\n",
       "  <th>Omnibus:</th>       <td>433.501</td> <th>  Durbin-Watson:     </th> <td>   2.034</td>\n",
       "</tr>\n",
       "<tr>\n",
       "  <th>Prob(Omnibus):</th> <td> 0.000</td>  <th>  Jarque-Bera (JB):  </th> <td>2713.120</td>\n",
       "</tr>\n",
       "<tr>\n",
       "  <th>Skew:</th>          <td>-0.114</td>  <th>  Prob(JB):          </th> <td>    0.00</td>\n",
       "</tr>\n",
       "<tr>\n",
       "  <th>Kurtosis:</th>      <td> 6.602</td>  <th>  Cond. No.          </th> <td>    14.0</td>\n",
       "</tr>\n",
       "</table><br/><br/>Warnings:<br/>[1] Standard Errors are heteroscedasticity robust (HC3)"
      ],
      "text/plain": [
       "<class 'statsmodels.iolib.summary.Summary'>\n",
       "\"\"\"\n",
       "                            WLS Regression Results                            \n",
       "==============================================================================\n",
       "Dep. Variable:                     51   R-squared:                       0.332\n",
       "Model:                            WLS   Adj. R-squared:                  0.331\n",
       "Method:                 Least Squares   F-statistic:                 3.131e+04\n",
       "Date:                Sat, 15 Dec 2018   Prob (F-statistic):               0.00\n",
       "Time:                        18:13:40   Log-Likelihood:                -10295.\n",
       "No. Observations:                5000   AIC:                         2.059e+04\n",
       "Df Residuals:                    4998   BIC:                         2.061e+04\n",
       "Df Model:                           1                                         \n",
       "Covariance Type:                  HC3                                         \n",
       "==============================================================================\n",
       "                 coef    std err          z      P>|z|      [0.025      0.975]\n",
       "------------------------------------------------------------------------------\n",
       "d              5.0332      0.028    176.940      0.000       4.977       5.089\n",
       "intercept     50.9786      0.020   2530.211      0.000      50.939      51.018\n",
       "==============================================================================\n",
       "Omnibus:                      433.501   Durbin-Watson:                   2.034\n",
       "Prob(Omnibus):                  0.000   Jarque-Bera (JB):             2713.120\n",
       "Skew:                          -0.114   Prob(JB):                         0.00\n",
       "Kurtosis:                       6.602   Cond. No.                         14.0\n",
       "==============================================================================\n",
       "\n",
       "Warnings:\n",
       "[1] Standard Errors are heteroscedasticity robust (HC3)\n",
       "\"\"\""
      ]
     },
     "execution_count": 11,
     "metadata": {},
     "output_type": "execute_result"
    }
   ],
   "source": [
    "df['intercept'] = 1\n",
    "model = WLS(df[51], df[['d', 'intercept']], weights=df['wATT'])\n",
    "result = model.fit(cov_type='HC3')\n",
    "result.summary()"
   ]
  },
  {
   "cell_type": "markdown",
   "metadata": {},
   "source": [
    "Question 5"
   ]
  },
  {
   "cell_type": "markdown",
   "metadata": {},
   "source": [
    "Estimate the expected counterfactuals for the test group: 𝐸[𝑌1𝑡|𝐷=1] and 𝐸[𝑌0𝑡|𝐷=1]. You’ll have to be careful: since all the units treatments don’t turn on at the same time, you’ll want to mask out the treatment units in the 𝐷𝑖𝑡=0 state when you’re taking your averages. Numpy’s masked array object can be useful here, numpy.ma.array"
   ]
  },
  {
   "cell_type": "markdown",
   "metadata": {},
   "source": [
    "Y_1_est contains the measurement of the treatment, $Y | D = 1$  \n",
    "d_it_1 contains the causal states of the treatment, $d_{it} | D=1$  \n",
    "Y_1_est_ma is Y_1_est with $Y^1$ values masked, $Y^1 | D = 1$"
   ]
  },
  {
   "cell_type": "code",
   "execution_count": 12,
   "metadata": {},
   "outputs": [],
   "source": [
    "Y_1_est = [Y[i] for i in range(len(d)) if d[i] == 1]\n",
    "d_it_1 = [d_it[i] for i in range(len(d)) if d[i] == 1]\n",
    "d_it_1_trt = [(1 - d_it[i] / 5) for i in range(len(d)) if d[i] == 1] #After d turns on, d_it = 5\n",
    "Y_1_est_ma = ma.array(Y_1_est, mask=d_it_1)\n",
    "Y_1_est_trt = ma.array(Y_1_est, mask=d_it_1_trt)"
   ]
  },
  {
   "cell_type": "code",
   "execution_count": 13,
   "metadata": {},
   "outputs": [],
   "source": [
    "df_ctrl = pd.DataFrame(Y_1_est_ma)\n",
    "df_trt = pd.DataFrame(Y_1_est_trt)"
   ]
  },
  {
   "cell_type": "markdown",
   "metadata": {},
   "source": [
    "$E[Y^1|D = 1]$"
   ]
  },
  {
   "cell_type": "code",
   "execution_count": 14,
   "metadata": {
    "scrolled": true
   },
   "outputs": [
    {
     "data": {
      "text/plain": [
       "0           NaN\n",
       "1      5.931142\n",
       "2      6.909139\n",
       "3      7.961156\n",
       "4      9.001728\n",
       "5      9.906227\n",
       "6     10.887678\n",
       "7     11.872860\n",
       "8     12.876898\n",
       "9     13.870901\n",
       "10    14.882871\n",
       "11    15.907507\n",
       "12    16.898415\n",
       "13    17.896697\n",
       "14    18.913168\n",
       "15    19.920463\n",
       "16    20.936436\n",
       "17    21.948261\n",
       "18    22.954298\n",
       "19    23.957967\n",
       "20    24.971777\n",
       "21    25.966437\n",
       "22    26.971645\n",
       "23    27.984868\n",
       "24    28.999171\n",
       "25    29.999225\n",
       "26    31.002674\n",
       "27    31.991638\n",
       "28    32.994863\n",
       "29    33.998759\n",
       "30    34.992597\n",
       "31    36.000861\n",
       "32    36.999341\n",
       "33    38.000778\n",
       "34    38.997548\n",
       "35    39.999411\n",
       "36    40.998818\n",
       "37    42.001742\n",
       "38    42.996784\n",
       "39    43.999366\n",
       "40    45.004561\n",
       "41    46.006514\n",
       "42    47.007407\n",
       "43    48.015788\n",
       "44    49.017702\n",
       "45    50.014135\n",
       "46    51.011083\n",
       "47    52.013602\n",
       "48    53.013083\n",
       "49    54.013853\n",
       "50    55.012855\n",
       "51    56.011796\n",
       "dtype: float64"
      ]
     },
     "execution_count": 14,
     "metadata": {},
     "output_type": "execute_result"
    }
   ],
   "source": [
    "df_trt.mean()"
   ]
  },
  {
   "cell_type": "markdown",
   "metadata": {},
   "source": [
    "$E[Y^0|D = 1]$"
   ]
  },
  {
   "cell_type": "code",
   "execution_count": 15,
   "metadata": {
    "scrolled": true
   },
   "outputs": [
    {
     "data": {
      "text/plain": [
       "0      0.011796\n",
       "1      1.013750\n",
       "2      2.016127\n",
       "3      3.015082\n",
       "4      4.012660\n",
       "5      5.023553\n",
       "6      6.027993\n",
       "7      7.033048\n",
       "8      8.035583\n",
       "9      9.039827\n",
       "10    10.040784\n",
       "11    11.038196\n",
       "12    12.045064\n",
       "13    13.050430\n",
       "14    14.048748\n",
       "15    15.048989\n",
       "16    16.045058\n",
       "17    17.043184\n",
       "18    18.042526\n",
       "19    19.043186\n",
       "20    20.037038\n",
       "21    21.042596\n",
       "22    22.041700\n",
       "23    23.033308\n",
       "24    24.022661\n",
       "25    25.023483\n",
       "26    26.020868\n",
       "27    27.033551\n",
       "28    28.031730\n",
       "29    29.028303\n",
       "30    30.038045\n",
       "31    31.028200\n",
       "32    32.032122\n",
       "33    33.031357\n",
       "34    34.039519\n",
       "35    35.037703\n",
       "36    36.042166\n",
       "37    37.037681\n",
       "38    38.055036\n",
       "39    39.052021\n",
       "40    40.037206\n",
       "41    41.032663\n",
       "42    42.031475\n",
       "43    42.990449\n",
       "44    43.976081\n",
       "45    44.994425\n",
       "46    46.018262\n",
       "47    46.989895\n",
       "48    47.988945\n",
       "49    48.954203\n",
       "50    49.949985\n",
       "51          NaN\n",
       "dtype: float64"
      ]
     },
     "execution_count": 15,
     "metadata": {},
     "output_type": "execute_result"
    }
   ],
   "source": [
    "df_ctrl.mean()"
   ]
  },
  {
   "cell_type": "markdown",
   "metadata": {},
   "source": [
    "Question 6"
   ]
  },
  {
   "cell_type": "code",
   "execution_count": 16,
   "metadata": {},
   "outputs": [],
   "source": [
    "ATT_est = df_trt.mean() - df_ctrl.mean()"
   ]
  },
  {
   "cell_type": "code",
   "execution_count": 17,
   "metadata": {},
   "outputs": [
    {
     "data": {
      "text/plain": [
       "5.062869837137413"
      ]
     },
     "execution_count": 17,
     "metadata": {},
     "output_type": "execute_result"
    }
   ],
   "source": [
    "ATT_est[50]"
   ]
  },
  {
   "cell_type": "markdown",
   "metadata": {},
   "source": [
    "The estimation isn't very far off, but is something happening over time?"
   ]
  },
  {
   "cell_type": "code",
   "execution_count": 18,
   "metadata": {},
   "outputs": [
    {
     "data": {
      "text/plain": [
       "<matplotlib.lines.Line2D at 0x7fa796837f98>"
      ]
     },
     "execution_count": 18,
     "metadata": {},
     "output_type": "execute_result"
    },
    {
     "data": {
      "image/png": "[encoded data removed]",
      "text/plain": [
       "<Figure size 432x288 with 1 Axes>"
      ]
     },
     "metadata": {},
     "output_type": "display_data"
    }
   ],
   "source": [
    "g = pd.DataFrame({'ATT_est': ATT_est}).plot()\n",
    "g.axhline(y=5, color='black')"
   ]
  },
  {
   "cell_type": "code",
   "execution_count": 19,
   "metadata": {
    "scrolled": true
   },
   "outputs": [
    {
     "data": {
      "text/plain": [
       "0          NaN\n",
       "1     4.917392\n",
       "2     4.893011\n",
       "3     4.946074\n",
       "4     4.989069\n",
       "5     4.882674\n",
       "6     4.859685\n",
       "7     4.839813\n",
       "8     4.841315\n",
       "9     4.831075\n",
       "10    4.842087\n",
       "11    4.869311\n",
       "12    4.853350\n",
       "13    4.846266\n",
       "14    4.864420\n",
       "15    4.871474\n",
       "16    4.891378\n",
       "17    4.905077\n",
       "18    4.911772\n",
       "19    4.914781\n",
       "20    4.934739\n",
       "21    4.923842\n",
       "22    4.929945\n",
       "23    4.951560\n",
       "24    4.976510\n",
       "25    4.975742\n",
       "26    4.981806\n",
       "27    4.958087\n",
       "28    4.963133\n",
       "29    4.970456\n",
       "30    4.954553\n",
       "31    4.972660\n",
       "32    4.967219\n",
       "33    4.969421\n",
       "34    4.958029\n",
       "35    4.961709\n",
       "36    4.956653\n",
       "37    4.964061\n",
       "38    4.941748\n",
       "39    4.947345\n",
       "40    4.967355\n",
       "41    4.973851\n",
       "42    4.975932\n",
       "43    5.025339\n",
       "44    5.041621\n",
       "45    5.019710\n",
       "46    4.992821\n",
       "47    5.023706\n",
       "48    5.024139\n",
       "49    5.059650\n",
       "50    5.062870\n",
       "51         NaN\n",
       "dtype: float64"
      ]
     },
     "execution_count": 19,
     "metadata": {},
     "output_type": "execute_result"
    }
   ],
   "source": [
    "ATT_est"
   ]
  },
  {
   "cell_type": "markdown",
   "metadata": {},
   "source": [
    "Scratch"
   ]
  },
  {
   "cell_type": "markdown",
   "metadata": {},
   "source": [
    "Removed trend effects"
   ]
  },
  {
   "cell_type": "code",
   "execution_count": 20,
   "metadata": {},
   "outputs": [],
   "source": [
    "units = 5000 #N\n",
    "time_steps = 52 #T\n",
    "\n",
    "p_z = .5\n",
    "z = np.random.binomial(1, p_z, size=units) #Z\n",
    "\n",
    "p_d = .25 + z / 2\n",
    "d = np.random.binomial(1, p_d, size=units) #Causal state\n",
    "\n",
    "start = np.random.randint(1, 52, size=units) #Start time for causal state\n",
    "delta = 5 #Treatment effect\n",
    "\n",
    "#N x T array of causal state over time D_it which stays on for treatment and never activates for control\n",
    "d_it = np.array([[0] * (start[index]) + [delta] * (52 - start[index]) for index, treatment in enumerate(d)])\n",
    "\n",
    "# taken from matrix_completion.ipynb\n",
    "# but removed trend effects\n",
    "a_trend = np.arange(0, time_steps, 1)\n",
    "individual_effects = np.random.normal(size=units)\n",
    "A_indiv = np.tile(individual_effects, time_steps).reshape(time_steps, units).T\n",
    "Y_0 = A_indiv #Y_0\n",
    "\n",
    "Y_1 = A_indiv + d_it #Y_1\n",
    "\n",
    "Y = [Y_0[i] if d[i] == 0 else Y_1[i] for i in range(len(d))] #Y_0 if d == 0 ow Y_1\n",
    "\n",
    "df = pd.DataFrame(Y)\n",
    "df['d'] = d\n",
    "df['Z'] = z\n",
    "df['start'] = start"
   ]
  }
 ],
 "metadata": {
  "kernelspec": {
   "display_name": "Python 3",
   "language": "python",
   "name": "python3"
  },
  "language_info": {
   "codemirror_mode": {
    "name": "ipython",
    "version": 3
   },
   "file_extension": ".py",
   "mimetype": "text/x-python",
   "name": "python",
   "nbconvert_exporter": "python",
   "pygments_lexer": "ipython3",
   "version": "3.6.5"
  }
 },
 "nbformat": 4,
 "nbformat_minor": 2
}
