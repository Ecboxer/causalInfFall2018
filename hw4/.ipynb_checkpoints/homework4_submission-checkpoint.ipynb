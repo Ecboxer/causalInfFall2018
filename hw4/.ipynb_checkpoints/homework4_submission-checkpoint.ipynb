{
 "cells": [
  {
   "cell_type": "markdown",
   "metadata": {},
   "source": [
    "\n",
    "1. Simulate some panel data. We’ll do some analysis similar to the Eclipse Bug Report paper, https://arxiv.org/pdf/1803.04129.pdf, but without the DID piece. Specifically,\n",
    "  * Simulate N units over T discrete time steps.\n",
    "  * Add confounding through a variable Z  between treated and untreated units which is constant over time. That is, $Z = Z_i$, and not $Z_{it}$ (where $i$ is an index that runs over units, and $t$ runs over time steps). In particular ...\n",
    "  * Add a time-varying causal state where $D^*$ (as we defined it in class) is caused by $Z_i$. It should be a binary treatment which turns on and stays on for each test unit ($D^* = 1$) at a different time, but never turns on for control units ($D^* = 0$)\n",
    "  * Compute counterfactuals $Y^0_{it}$ and $Y^1_{it}$ which are caused by $Z_i$.\n",
    "2. Use your counterfactuals to estimate the time series causal effect. Plot it, and explain from the data generating process why it's correct.\n",
    "3. Create a propensity score model for $D*$.\n",
    "4. Match units to estimate the ATT.\n",
    "5. Estimate the expected counterfactuals for the test group: $E[Y^1_t |D=1]$ and $E[Y^0_t |D=1]$. You’ll have to be careful: since all the units treatments don’t turn on at the same time, you’ll want to mask out the treatment units in the $D_{it}=0$ state when you’re taking your averages. Numpy’s masked array object can be useful here, numpy.ma.array\n",
    "6. Use the time series you estimated in (4) to estimate the time-varying ATT.\n"
   ]
  },
  {
   "cell_type": "code",
   "execution_count": 1,
   "metadata": {},
   "outputs": [],
   "source": [
    "import numpy as np\n",
    "import numpy.ma as ma\n",
    "import pandas as pd\n",
    "import matplotlib.pyplot as plt"
   ]
  },
  {
   "cell_type": "markdown",
   "metadata": {},
   "source": [
    "Question 1"
   ]
  },
  {
   "cell_type": "code",
   "execution_count": 2,
   "metadata": {},
   "outputs": [],
   "source": [
    "units = 5000 #N\n",
    "time_steps = 52 #T\n",
    "\n",
    "p_z = .5\n",
    "z = np.random.binomial(1, p_z, size=units) #Z\n",
    "\n",
    "p_d = .25 + z / 2\n",
    "d = np.random.binomial(1, p_d, size=units) #Causal state\n",
    "\n",
    "start = np.random.randint(1, 52, size=units) #Start time for causal state\n",
    "delta = 5 #Treatment effect\n",
    "\n",
    "#N x T array of causal state over time D_it which stays on for treatment and never activates for control\n",
    "d_it = np.array([[0] * (start[index]) + [delta] * (52 - start[index]) for index, treatment in enumerate(d)])\n",
    "\n",
    "# taken from matrix_completion.ipynb\n",
    "a_trend = np.arange(0, time_steps, 1)\n",
    "individual_effects = np.random.normal(size=units)\n",
    "A_trend = np.tile(a_trend, units).reshape(units, time_steps)\n",
    "A_indiv = np.tile(individual_effects, time_steps).reshape(time_steps, units).T\n",
    "Y_0 = A_trend + A_indiv #Y_0\n",
    "\n",
    "Y_1 = A_trend + A_indiv + d_it #Y_1\n",
    "\n",
    "Y = [Y_0[i] if d[i] == 0 else Y_1[i] for i in range(len(d))] #Y_0 if d == 0 ow Y_1\n",
    "\n",
    "df = pd.DataFrame(Y)\n",
    "df['d'] = d\n",
    "df['Z'] = z\n",
    "df['start'] = start"
   ]
  },
  {
   "cell_type": "markdown",
   "metadata": {},
   "source": [
    "Question 2"
   ]
  },
  {
   "cell_type": "markdown",
   "metadata": {},
   "source": [
    "How am I measuring the potential outcomes?  \n",
    "Average y_it at each time step, I suppose  "
   ]
  },
  {
   "cell_type": "code",
   "execution_count": 3,
   "metadata": {},
   "outputs": [],
   "source": [
    "df_y0 = pd.DataFrame(Y_0)\n",
    "df_y1 = pd.DataFrame(Y_1)"
   ]
  },
  {
   "cell_type": "code",
   "execution_count": 4,
   "metadata": {},
   "outputs": [
    {
     "data": {
      "text/plain": [
       "<matplotlib.axes._subplots.AxesSubplot at 0x7f75ed19c490>"
      ]
     },
     "execution_count": 4,
     "metadata": {},
     "output_type": "execute_result"
    },
    {
     "data": {
      "image/png": "[encoded data removed]",
      "text/plain": [
       "<Figure size 432x288 with 1 Axes>"
      ]
     },
     "metadata": {
      "needs_background": "light"
     },
     "output_type": "display_data"
    }
   ],
   "source": [
    "pd.DataFrame({'y0': df_y0.mean(), 'y1': df_y1.mean()}).plot()"
   ]
  },
  {
   "cell_type": "code",
   "execution_count": 5,
   "metadata": {},
   "outputs": [
    {
     "data": {
      "text/plain": [
       "<matplotlib.axes._subplots.AxesSubplot at 0x7f75ea143ad0>"
      ]
     },
     "execution_count": 5,
     "metadata": {},
     "output_type": "execute_result"
    },
    {
     "data": {
      "image/png": "[encoded data removed]",
      "text/plain": [
       "<Figure size 432x288 with 1 Axes>"
      ]
     },
     "metadata": {
      "needs_background": "light"
     },
     "output_type": "display_data"
    }
   ],
   "source": [
    "pd.DataFrame({'y1-y0': df_y1.mean() - df_y0.mean()}).plot()"
   ]
  },
  {
   "cell_type": "markdown",
   "metadata": {},
   "source": [
    "At time $T=52$ the difference in $Y_1$ and $Y_0$ is given by:"
   ]
  },
  {
   "cell_type": "code",
   "execution_count": 6,
   "metadata": {},
   "outputs": [
    {
     "data": {
      "text/plain": [
       "4.9999999999998934"
      ]
     },
     "execution_count": 6,
     "metadata": {},
     "output_type": "execute_result"
    }
   ],
   "source": [
    "df_y1.mean()[51] - df_y0.mean()[51]"
   ]
  },
  {
   "cell_type": "markdown",
   "metadata": {},
   "source": [
    "The data generating process adds a constant delta = 5 to the treatment group, beginning at a variable start time and continuing until T = 52. As expected the difference in the potential outcomes $Y_0, Y_1$ after T time steps is equal to that delta."
   ]
  },
  {
   "cell_type": "markdown",
   "metadata": {},
   "source": [
    "Question 3"
   ]
  },
  {
   "cell_type": "code",
   "execution_count": 7,
   "metadata": {},
   "outputs": [],
   "source": [
    "from statsmodels.api import WLS, OLS\n",
    "from sklearn.linear_model import LogisticRegression"
   ]
  },
  {
   "cell_type": "code",
   "execution_count": 8,
   "metadata": {},
   "outputs": [],
   "source": [
    "var_list = [i for i in range(51)]"
   ]
  },
  {
   "cell_type": "code",
   "execution_count": 9,
   "metadata": {},
   "outputs": [],
   "source": [
    "propensity_model = LogisticRegression(C=1e12)\n",
    "propensity_model = propensity_model.fit(df[var_list], df['d'])\n",
    "df['P_d1_t'] = propensity_model.predict_proba(df[var_list])[:, 1]"
   ]
  },
  {
   "cell_type": "markdown",
   "metadata": {},
   "source": [
    "Question 4"
   ]
  },
  {
   "cell_type": "markdown",
   "metadata": {},
   "source": [
    "$w_{i, ATT} = \\frac{p_i}{1 - p_i}$ if $d_i = 0$, 1 if $d_i = 1$"
   ]
  },
  {
   "cell_type": "code",
   "execution_count": 10,
   "metadata": {},
   "outputs": [],
   "source": [
    "df['wATT'] = (df['d'] == 1) * 1 + (df['d'] == 0) * df['P_d1_t'] / (1 - df['P_d1_t'])"
   ]
  },
  {
   "cell_type": "markdown",
   "metadata": {},
   "source": [
    "coef_d = ATT = 4.74?"
   ]
  },
  {
   "cell_type": "code",
   "execution_count": 11,
   "metadata": {},
   "outputs": [
    {
     "data": {
      "text/html": [
       "<table class=\"simpletable\">\n",
       "<caption>WLS Regression Results</caption>\n",
       "<tr>\n",
       "  <th>Dep. Variable:</th>           <td>51</td>        <th>  R-squared:         </th> <td>   0.408</td> \n",
       "</tr>\n",
       "<tr>\n",
       "  <th>Model:</th>                   <td>WLS</td>       <th>  Adj. R-squared:    </th> <td>   0.408</td> \n",
       "</tr>\n",
       "<tr>\n",
       "  <th>Method:</th>             <td>Least Squares</td>  <th>  F-statistic:       </th> <td>2.240e+04</td>\n",
       "</tr>\n",
       "<tr>\n",
       "  <th>Date:</th>             <td>Sat, 08 Dec 2018</td> <th>  Prob (F-statistic):</th>  <td>  0.00</td>  \n",
       "</tr>\n",
       "<tr>\n",
       "  <th>Time:</th>                 <td>17:40:56</td>     <th>  Log-Likelihood:    </th> <td> -12375.</td> \n",
       "</tr>\n",
       "<tr>\n",
       "  <th>No. Observations:</th>      <td>  5000</td>      <th>  AIC:               </th> <td>2.475e+04</td>\n",
       "</tr>\n",
       "<tr>\n",
       "  <th>Df Residuals:</th>          <td>  4998</td>      <th>  BIC:               </th> <td>2.477e+04</td>\n",
       "</tr>\n",
       "<tr>\n",
       "  <th>Df Model:</th>              <td>     1</td>      <th>                     </th>     <td> </td>    \n",
       "</tr>\n",
       "<tr>\n",
       "  <th>Covariance Type:</th>         <td>HC3</td>       <th>                     </th>     <td> </td>    \n",
       "</tr>\n",
       "</table>\n",
       "<table class=\"simpletable\">\n",
       "<tr>\n",
       "      <td></td>         <th>coef</th>     <th>std err</th>      <th>z</th>      <th>P>|z|</th>  <th>[0.025</th>    <th>0.975]</th>  \n",
       "</tr>\n",
       "<tr>\n",
       "  <th>d</th>         <td>    4.9158</td> <td>    0.033</td> <td>  149.676</td> <td> 0.000</td> <td>    4.851</td> <td>    4.980</td>\n",
       "</tr>\n",
       "<tr>\n",
       "  <th>intercept</th> <td>   51.1004</td> <td>    0.017</td> <td> 3045.706</td> <td> 0.000</td> <td>   51.068</td> <td>   51.133</td>\n",
       "</tr>\n",
       "</table>\n",
       "<table class=\"simpletable\">\n",
       "<tr>\n",
       "  <th>Omnibus:</th>       <td>846.683</td> <th>  Durbin-Watson:     </th> <td>   2.013</td> \n",
       "</tr>\n",
       "<tr>\n",
       "  <th>Prob(Omnibus):</th> <td> 0.000</td>  <th>  Jarque-Bera (JB):  </th> <td>18025.089</td>\n",
       "</tr>\n",
       "<tr>\n",
       "  <th>Skew:</th>          <td> 0.057</td>  <th>  Prob(JB):          </th> <td>    0.00</td> \n",
       "</tr>\n",
       "<tr>\n",
       "  <th>Kurtosis:</th>      <td>12.301</td>  <th>  Cond. No.          </th> <td>    11.7</td> \n",
       "</tr>\n",
       "</table><br/><br/>Warnings:<br/>[1] Standard Errors are heteroscedasticity robust (HC3)"
      ],
      "text/plain": [
       "<class 'statsmodels.iolib.summary.Summary'>\n",
       "\"\"\"\n",
       "                            WLS Regression Results                            \n",
       "==============================================================================\n",
       "Dep. Variable:                     51   R-squared:                       0.408\n",
       "Model:                            WLS   Adj. R-squared:                  0.408\n",
       "Method:                 Least Squares   F-statistic:                 2.240e+04\n",
       "Date:                Sat, 08 Dec 2018   Prob (F-statistic):               0.00\n",
       "Time:                        17:40:56   Log-Likelihood:                -12375.\n",
       "No. Observations:                5000   AIC:                         2.475e+04\n",
       "Df Residuals:                    4998   BIC:                         2.477e+04\n",
       "Df Model:                           1                                         \n",
       "Covariance Type:                  HC3                                         \n",
       "==============================================================================\n",
       "                 coef    std err          z      P>|z|      [0.025      0.975]\n",
       "------------------------------------------------------------------------------\n",
       "d              4.9158      0.033    149.676      0.000       4.851       4.980\n",
       "intercept     51.1004      0.017   3045.706      0.000      51.068      51.133\n",
       "==============================================================================\n",
       "Omnibus:                      846.683   Durbin-Watson:                   2.013\n",
       "Prob(Omnibus):                  0.000   Jarque-Bera (JB):            18025.089\n",
       "Skew:                           0.057   Prob(JB):                         0.00\n",
       "Kurtosis:                      12.301   Cond. No.                         11.7\n",
       "==============================================================================\n",
       "\n",
       "Warnings:\n",
       "[1] Standard Errors are heteroscedasticity robust (HC3)\n",
       "\"\"\""
      ]
     },
     "execution_count": 11,
     "metadata": {},
     "output_type": "execute_result"
    }
   ],
   "source": [
    "df['intercept'] = 1\n",
    "model = WLS(df[51], df[['d', 'intercept']], weights=df['wATT'])\n",
    "result = model.fit(cov_type='HC3')\n",
    "result.summary()"
   ]
  },
  {
   "cell_type": "markdown",
   "metadata": {},
   "source": [
    "Question 5"
   ]
  },
  {
   "cell_type": "markdown",
   "metadata": {},
   "source": [
    "Estimate the expected counterfactuals for the test group: 𝐸[𝑌1𝑡|𝐷=1] and 𝐸[𝑌0𝑡|𝐷=1]. You’ll have to be careful: since all the units treatments don’t turn on at the same time, you’ll want to mask out the treatment units in the 𝐷𝑖𝑡=0 state when you’re taking your averages. Numpy’s masked array object can be useful here, numpy.ma.array"
   ]
  },
  {
   "cell_type": "markdown",
   "metadata": {},
   "source": [
    "Y_1_est contains the measurement of the treatment, $Y | D = 1$  \n",
    "d_it_1 contains the causal states of the treatment, $d_{it} | D=1$  \n",
    "Y_1_est_ma is Y_1_est with $Y^1$ values masked, $Y^1 | D = 1$"
   ]
  },
  {
   "cell_type": "code",
   "execution_count": 84,
   "metadata": {},
   "outputs": [],
   "source": [
    "Y_1_est = [Y[i] for i in range(len(d)) if d[i] == 1]\n",
    "d_it_1 = [d_it[i] for i in range(len(d)) if d[i] == 1]\n",
    "d_it_1_trt = [(1 - d_it[i] / 5) for i in range(len(d)) if d[i] == 1] #After d turns on, d_it = 5\n",
    "Y_1_est_ma = ma.array(Y_1_est, mask=d_it_1)\n",
    "Y_1_est_trt = ma.array(Y_1_est, mask=d_it_1_trt)"
   ]
  },
  {
   "cell_type": "code",
   "execution_count": 85,
   "metadata": {},
   "outputs": [],
   "source": [
    "df_ctrl = pd.DataFrame(Y_1_est_ma)\n",
    "df_trt = pd.DataFrame(Y_1_est_trt)"
   ]
  },
  {
   "cell_type": "markdown",
   "metadata": {},
   "source": [
    "$E[Y^1|D = 1]$"
   ]
  },
  {
   "cell_type": "code",
   "execution_count": 87,
   "metadata": {
    "scrolled": true
   },
   "outputs": [
    {
     "data": {
      "text/plain": [
       "0           NaN\n",
       "1      6.140600\n",
       "2      7.262559\n",
       "3      8.322479\n",
       "4      9.152482\n",
       "5     10.121361\n",
       "6     11.122153\n",
       "7     12.160709\n",
       "8     13.118052\n",
       "9     14.077070\n",
       "10    15.060739\n",
       "11    16.048089\n",
       "12    17.121004\n",
       "13    18.109570\n",
       "14    19.094492\n",
       "15    20.071266\n",
       "16    21.067770\n",
       "17    22.070229\n",
       "18    23.061829\n",
       "19    24.049496\n",
       "20    25.031966\n",
       "21    26.030986\n",
       "22    27.035259\n",
       "23    28.036707\n",
       "24    29.023536\n",
       "25    30.028309\n",
       "26    31.023931\n",
       "27    32.024601\n",
       "28    33.026805\n",
       "29    34.032044\n",
       "30    35.027149\n",
       "31    36.020762\n",
       "32    37.021633\n",
       "33    38.010110\n",
       "34    39.012713\n",
       "35    40.015733\n",
       "36    41.018236\n",
       "37    42.012425\n",
       "38    43.002857\n",
       "39    44.003576\n",
       "40    45.000124\n",
       "41    46.000353\n",
       "42    47.002939\n",
       "43    47.996891\n",
       "44    49.000867\n",
       "45    50.002911\n",
       "46    50.994369\n",
       "47    52.008333\n",
       "48    53.011718\n",
       "49    54.013947\n",
       "50    55.013567\n",
       "51    56.016221\n",
       "dtype: float64"
      ]
     },
     "execution_count": 87,
     "metadata": {},
     "output_type": "execute_result"
    }
   ],
   "source": [
    "df_trt.mean()"
   ]
  },
  {
   "cell_type": "markdown",
   "metadata": {},
   "source": [
    "$E[Y^0|D = 1]$"
   ]
  },
  {
   "cell_type": "code",
   "execution_count": 70,
   "metadata": {
    "scrolled": true
   },
   "outputs": [
    {
     "data": {
      "text/plain": [
       "0      0.016221\n",
       "1      1.014052\n",
       "2      2.008335\n",
       "3      3.001825\n",
       "4      4.006574\n",
       "5      5.006159\n",
       "6      6.004076\n",
       "7      6.996366\n",
       "8      8.000037\n",
       "9      9.004702\n",
       "10    10.006798\n",
       "11    11.008697\n",
       "12    11.987852\n",
       "13    12.987399\n",
       "14    13.989012\n",
       "15    14.994902\n",
       "16    15.994343\n",
       "17    16.991748\n",
       "18    17.993529\n",
       "19    18.998481\n",
       "20    20.006885\n",
       "21    21.006545\n",
       "22    22.002366\n",
       "23    23.000019\n",
       "24    24.009918\n",
       "25    25.004954\n",
       "26    26.008499\n",
       "27    27.007232\n",
       "28    28.003940\n",
       "29    28.996283\n",
       "30    30.001554\n",
       "31    31.009593\n",
       "32    32.007376\n",
       "33    33.027009\n",
       "34    34.022756\n",
       "35    35.017229\n",
       "36    36.011673\n",
       "37    37.025752\n",
       "38    38.053541\n",
       "39    39.057551\n",
       "40    40.074257\n",
       "41    41.077492\n",
       "42    42.074934\n",
       "43    43.115885\n",
       "44    44.108965\n",
       "45    45.112339\n",
       "46    46.200283\n",
       "47    47.101246\n",
       "48    48.081554\n",
       "49    49.069680\n",
       "50    50.118456\n",
       "51          NaN\n",
       "dtype: float64"
      ]
     },
     "execution_count": 70,
     "metadata": {},
     "output_type": "execute_result"
    }
   ],
   "source": [
    "df_ctrl.mean()"
   ]
  },
  {
   "cell_type": "markdown",
   "metadata": {},
   "source": [
    "Question 6"
   ]
  },
  {
   "cell_type": "code",
   "execution_count": 88,
   "metadata": {},
   "outputs": [],
   "source": [
    "ATT_est = df_trt.mean() - df_ctrl.mean()"
   ]
  },
  {
   "cell_type": "code",
   "execution_count": 90,
   "metadata": {},
   "outputs": [
    {
     "data": {
      "text/plain": [
       "4.8951108891606054"
      ]
     },
     "execution_count": 90,
     "metadata": {},
     "output_type": "execute_result"
    }
   ],
   "source": [
    "ATT_est[50]"
   ]
  },
  {
   "cell_type": "markdown",
   "metadata": {},
   "source": [
    "The estimation isn't very far off, but is something happening over time?"
   ]
  },
  {
   "cell_type": "code",
   "execution_count": 96,
   "metadata": {},
   "outputs": [
    {
     "data": {
      "text/plain": [
       "<matplotlib.lines.Line2D at 0x7f75d1ac1590>"
      ]
     },
     "execution_count": 96,
     "metadata": {},
     "output_type": "execute_result"
    },
    {
     "data": {
      "image/png": "[encoded data removed]",
      "text/plain": [
       "<Figure size 432x288 with 1 Axes>"
      ]
     },
     "metadata": {
      "needs_background": "light"
     },
     "output_type": "display_data"
    }
   ],
   "source": [
    "g = pd.DataFrame({'ATT_est': ATT_est}).plot()\n",
    "g.axhline(y=5, color='black')"
   ]
  },
  {
   "cell_type": "code",
   "execution_count": 91,
   "metadata": {
    "scrolled": true
   },
   "outputs": [
    {
     "data": {
      "text/plain": [
       "0          NaN\n",
       "1     5.126548\n",
       "2     5.254224\n",
       "3     5.320654\n",
       "4     5.145909\n",
       "5     5.115202\n",
       "6     5.118076\n",
       "7     5.164343\n",
       "8     5.118015\n",
       "9     5.072368\n",
       "10    5.053941\n",
       "11    5.039392\n",
       "12    5.133152\n",
       "13    5.122171\n",
       "14    5.105481\n",
       "15    5.076364\n",
       "16    5.073427\n",
       "17    5.078481\n",
       "18    5.068299\n",
       "19    5.051016\n",
       "20    5.025080\n",
       "21    5.024441\n",
       "22    5.032893\n",
       "23    5.036689\n",
       "24    5.013618\n",
       "25    5.023355\n",
       "26    5.015431\n",
       "27    5.017369\n",
       "28    5.022865\n",
       "29    5.035760\n",
       "30    5.025594\n",
       "31    5.011170\n",
       "32    5.014257\n",
       "33    4.983101\n",
       "34    4.989957\n",
       "35    4.998504\n",
       "36    5.006563\n",
       "37    4.986673\n",
       "38    4.949316\n",
       "39    4.946025\n",
       "40    4.925867\n",
       "41    4.922861\n",
       "42    4.928005\n",
       "43    4.881006\n",
       "44    4.891902\n",
       "45    4.890572\n",
       "46    4.794086\n",
       "47    4.907088\n",
       "48    4.930164\n",
       "49    4.944266\n",
       "50    4.895111\n",
       "51         NaN\n",
       "dtype: float64"
      ]
     },
     "execution_count": 91,
     "metadata": {},
     "output_type": "execute_result"
    }
   ],
   "source": [
    "ATT_est"
   ]
  },
  {
   "cell_type": "markdown",
   "metadata": {},
   "source": [
    "Removed trend effects"
   ]
  },
  {
   "cell_type": "code",
   "execution_count": 53,
   "metadata": {},
   "outputs": [],
   "source": [
    "units = 5000 #N\n",
    "time_steps = 52 #T\n",
    "\n",
    "p_z = .5\n",
    "z = np.random.binomial(1, p_z, size=units) #Z\n",
    "\n",
    "p_d = .25 + z / 2\n",
    "d = np.random.binomial(1, p_d, size=units) #Causal state\n",
    "\n",
    "start = np.random.randint(1, 52, size=units) #Start time for causal state\n",
    "delta = 5 #Treatment effect\n",
    "\n",
    "#N x T array of causal state over time D_it which stays on for treatment and never activates for control\n",
    "d_it = np.array([[0] * (start[index]) + [delta] * (52 - start[index]) for index, treatment in enumerate(d)])\n",
    "\n",
    "# taken from matrix_completion.ipynb\n",
    "# but removed trend effects\n",
    "a_trend = np.arange(0, time_steps, 1)\n",
    "individual_effects = np.random.normal(size=units)\n",
    "A_indiv = np.tile(individual_effects, time_steps).reshape(time_steps, units).T\n",
    "Y_0 = A_indiv #Y_0\n",
    "\n",
    "Y_1 = A_indiv + d_it #Y_1\n",
    "\n",
    "Y = [Y_0[i] if d[i] == 0 else Y_1[i] for i in range(len(d))] #Y_0 if d == 0 ow Y_1\n",
    "\n",
    "df = pd.DataFrame(Y)\n",
    "df['d'] = d\n",
    "df['Z'] = z\n",
    "df['start'] = start"
   ]
  }
 ],
 "metadata": {
  "kernelspec": {
   "display_name": "Python 2",
   "language": "python",
   "name": "python2"
  },
  "language_info": {
   "codemirror_mode": {
    "name": "ipython",
    "version": 2
   },
   "file_extension": ".py",
   "mimetype": "text/x-python",
   "name": "python",
   "nbconvert_exporter": "python",
   "pygments_lexer": "ipython2",
   "version": "2.7.15"
  }
 },
 "nbformat": 4,
 "nbformat_minor": 2
}
