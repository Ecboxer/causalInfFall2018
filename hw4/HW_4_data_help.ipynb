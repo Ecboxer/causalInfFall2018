{
 "cells": [
  {
   "cell_type": "code",
   "execution_count": 39,
   "metadata": {},
   "outputs": [],
   "source": [
    "%matplotlib inline\n",
    "import numpy as np\n",
    "import pandas as pd\n",
    "\n",
    "units = 1000\n",
    "time_steps = 52\n",
    "\n",
    "Z = np.random.normal(size=units)\n",
    "\n",
    "a_trend = np.arange(0, time_steps, 1)\n",
    "individual_effects = Z\n",
    "A_trend = np.tile(a_trend, units).reshape(units, time_steps)\n",
    "A_indiv = np.tile(individual_effects, time_steps).reshape(time_steps, units).T\n",
    "Y_0 = A_trend + A_indiv\n"
   ]
  },
  {
   "cell_type": "code",
   "execution_count": 40,
   "metadata": {},
   "outputs": [
    {
     "data": {
      "text/plain": [
       "array([ 0,  1,  2,  3,  4,  5,  6,  7,  8,  9, 10, 11, 12, 13, 14, 15, 16,\n",
       "       17, 18, 19, 20, 21, 22, 23, 24, 25, 26, 27, 28, 29, 30, 31, 32, 33,\n",
       "       34, 35, 36, 37, 38, 39, 40, 41, 42, 43, 44, 45, 46, 47, 48, 49, 50,\n",
       "       51])"
      ]
     },
     "execution_count": 40,
     "metadata": {},
     "output_type": "execute_result"
    }
   ],
   "source": [
    "# we have a linear time trend\n",
    "a_trend"
   ]
  },
  {
   "cell_type": "code",
   "execution_count": 41,
   "metadata": {},
   "outputs": [
    {
     "data": {
      "text/plain": [
       "array([[ 0,  1,  2, ..., 49, 50, 51],\n",
       "       [ 0,  1,  2, ..., 49, 50, 51],\n",
       "       [ 0,  1,  2, ..., 49, 50, 51],\n",
       "       ...,\n",
       "       [ 0,  1,  2, ..., 49, 50, 51],\n",
       "       [ 0,  1,  2, ..., 49, 50, 51],\n",
       "       [ 0,  1,  2, ..., 49, 50, 51]])"
      ]
     },
     "execution_count": 41,
     "metadata": {},
     "output_type": "execute_result"
    }
   ],
   "source": [
    "A_trend # the same time trend for all units"
   ]
  },
  {
   "cell_type": "code",
   "execution_count": 42,
   "metadata": {},
   "outputs": [
    {
     "data": {
      "text/plain": [
       "array([-8.93253339e-01, -1.09666136e+00,  4.27353642e-01,  1.44520048e+00,\n",
       "        4.38795580e-01,  8.96686700e-01,  1.62119252e+00, -1.30064478e-01,\n",
       "       -4.43165568e-01, -2.04901639e+00, -1.54718680e+00,  1.40305500e+00,\n",
       "        1.41225225e+00, -1.00809407e+00,  5.68498727e-02, -8.71405945e-01,\n",
       "        2.42546781e-01, -3.07400432e+00, -3.85623050e-01, -1.58357690e-02,\n",
       "        2.65091453e-02,  2.00074199e-01,  5.51215775e-02,  6.83305971e-01,\n",
       "       -7.85775243e-01, -1.74420000e+00,  5.51176439e-01,  1.19879365e+00,\n",
       "        3.32426382e-01, -1.06984475e+00, -2.30336948e-01,  2.66790330e-01,\n",
       "        6.93669309e-01,  3.38674913e-01,  5.98768624e-01, -5.51166254e-01,\n",
       "        6.57236613e-01, -7.31142267e-01, -9.25339620e-01,  5.81513510e-02,\n",
       "        4.65697985e-02,  5.34033238e-01,  4.09487287e-01, -3.76007676e-01,\n",
       "        9.45804019e-01,  1.38889499e+00, -1.22255234e+00, -2.48003678e-01,\n",
       "       -2.40529171e-02, -5.90648158e-01,  1.28590070e+00, -1.14338493e+00,\n",
       "       -5.20295164e-01,  1.63009415e+00, -3.18325375e-01,  2.36846481e+00,\n",
       "       -8.62573545e-01,  7.38623667e-01,  6.65218665e-01, -2.32865048e+00,\n",
       "       -4.31719565e-01,  4.45834176e-01, -7.50646244e-01, -1.71863668e+00,\n",
       "        4.72773319e-01,  1.31829464e-01,  6.04650722e-01,  1.17152973e+00,\n",
       "        1.04958516e+00,  3.97907159e-01,  4.72196619e-01, -9.17354397e-01,\n",
       "        1.00676415e+00, -4.43102924e-01, -1.58839748e+00, -2.51828505e+00,\n",
       "        5.05468967e-01, -2.05093362e+00, -8.64299485e-01,  5.83320094e-01,\n",
       "        3.87600003e-01, -9.59427795e-01,  1.01473621e+00, -3.14535616e-01,\n",
       "       -2.37482608e+00,  1.35894234e+00, -3.74464853e-01,  9.15564486e-01,\n",
       "       -1.72239436e-01,  3.05223285e+00,  1.36763709e-01,  7.35233793e-01,\n",
       "        1.41887172e-01,  8.64627273e-01, -9.13546413e-02,  6.49168297e-01,\n",
       "       -8.58430249e-01, -1.86240057e-01, -4.29936806e-01,  3.50309072e-01,\n",
       "        1.38353060e+00, -4.60139483e-01,  9.56957188e-02,  4.42176297e-01,\n",
       "        4.99564575e-01,  5.57849020e-01, -9.64716300e-01,  4.21163324e-01,\n",
       "        1.66814711e+00,  6.79990087e-01, -5.33032814e-01, -8.00191214e-01,\n",
       "        3.87265767e-01,  8.51363054e-01, -4.07074732e-01,  3.63275590e-01,\n",
       "       -4.80315007e-01, -4.89176920e-01, -8.85785700e-02, -2.15351958e-01,\n",
       "        9.29033182e-01,  5.70158368e-01, -1.77473133e+00, -1.48867550e+00,\n",
       "       -1.41546311e+00, -1.00542769e+00,  8.08227752e-02,  6.43383540e-01,\n",
       "       -1.92836806e+00,  4.16646275e-01, -7.13923641e-01, -7.17000014e-01,\n",
       "       -8.35542859e-01,  1.58729097e+00, -1.12504012e+00,  5.44182913e-01,\n",
       "       -5.38449156e-01,  1.16853274e+00,  1.78846484e-01,  1.51643129e+00,\n",
       "       -1.02510997e+00,  1.47299058e+00, -1.85144276e+00, -4.28477229e-01,\n",
       "        7.38005219e-02,  1.11264576e+00,  3.69494211e-01,  4.73813774e-01,\n",
       "       -4.78184467e-02,  1.62534630e-01,  2.54565588e-01, -9.47224218e-01,\n",
       "       -4.10952430e-01, -2.20703270e+00,  3.74712040e-01,  3.18745609e-01,\n",
       "       -1.45289190e+00, -1.47390529e+00,  1.38225936e+00, -2.13399972e+00,\n",
       "       -2.16662346e+00, -2.54001712e-01, -9.51988645e-01, -6.49297928e-02,\n",
       "        5.92346909e-01,  1.26038059e+00, -2.00282528e+00,  5.16342905e-01,\n",
       "        5.62416941e-01, -7.03677447e-01,  6.19356625e-01, -4.88493661e-02,\n",
       "        2.00958247e+00, -2.78672134e-01,  1.38456291e+00, -4.09998107e-01,\n",
       "       -1.80619025e+00,  8.08373173e-01,  1.03307543e+00, -1.71385673e+00,\n",
       "       -2.26569770e-01, -1.07058350e+00,  5.10717567e-01, -1.07569949e-02,\n",
       "        9.51693702e-01,  1.63718114e+00,  2.00527736e-01, -1.66390001e-01,\n",
       "        8.18183886e-01,  6.15448738e-01, -3.27171957e-01,  6.41134288e-01,\n",
       "       -4.76557047e-01, -5.11535294e-01,  8.17764112e-01,  1.77124603e+00,\n",
       "       -6.15515960e-02,  6.59032787e-01,  8.24551868e-01,  3.48437349e-02,\n",
       "        6.72292649e-02, -1.52673700e+00,  1.77657125e+00, -1.14596836e+00,\n",
       "       -3.22003100e-02, -3.90752110e-01, -1.46531246e-01, -5.94266467e-02,\n",
       "       -7.88344904e-01, -1.18670023e+00, -3.23691897e-02,  7.03003351e-01,\n",
       "       -5.57458280e-01,  1.89021339e+00, -1.45171368e+00,  1.91944489e+00,\n",
       "        1.84541075e+00, -8.20134792e-01, -1.12501257e-02,  4.09327096e-01,\n",
       "       -7.62887270e-01,  3.62170651e-01, -9.85414162e-01,  2.36777336e-02,\n",
       "        1.12527595e+00, -1.30744509e+00,  1.08055669e-02,  7.96716306e-01,\n",
       "       -3.24471620e-01, -1.05673366e-01, -3.13998012e-01, -1.05036065e+00,\n",
       "       -6.27633593e-01, -7.63551979e-01, -1.20262733e+00,  2.46309482e+00,\n",
       "        4.73593507e-02,  8.59593036e-01,  1.50384151e+00, -5.92796792e-01,\n",
       "        1.24838042e+00, -2.46169514e-01,  1.38121879e+00, -6.90289778e-01,\n",
       "        1.26679058e+00, -7.62376323e-01,  2.07367493e-03, -4.69158045e-01,\n",
       "        8.33408777e-01,  8.00257057e-01,  5.25189514e-01,  7.62798620e-01,\n",
       "        8.60808815e-01,  7.56355620e-01, -5.54760805e-01, -1.01756934e+00,\n",
       "        9.72640063e-01,  4.97719947e-01,  1.05953317e+00,  8.23550469e-01,\n",
       "        1.27331153e+00, -1.77618690e-01,  2.78411962e-01, -9.51857519e-01,\n",
       "       -1.44717709e+00, -7.07863991e-03, -1.98941444e+00, -5.54519146e-01,\n",
       "        1.02683406e+00, -1.44614206e+00, -3.03517115e-01,  3.87058964e-02,\n",
       "       -7.54316354e-01,  2.62897301e-01,  5.06478232e-01, -1.56126029e-01,\n",
       "        1.56031578e-01,  8.45779251e-01, -4.47097018e-01,  8.82554197e-01,\n",
       "       -1.38073324e+00,  1.08988133e+00,  2.43111456e-01, -4.35982843e-01,\n",
       "       -6.80034637e-02,  1.77566291e+00, -6.59676964e-01,  4.55449957e-01,\n",
       "        1.30718276e-01,  8.12904805e-01, -1.87675641e+00, -3.25598644e-01,\n",
       "        3.47354345e-02,  1.43364064e+00, -9.63803322e-01, -3.52556979e-01,\n",
       "       -4.76985941e-01, -3.84503696e-01, -8.30815284e-01,  2.46420268e-02,\n",
       "        7.75682852e-02, -1.79655857e-01, -5.13291638e-01, -1.31340393e+00,\n",
       "       -3.38191995e-01,  3.93419992e-01,  2.24215832e+00, -7.84764257e-01,\n",
       "       -3.32746694e-01,  1.18458155e-01, -1.96139626e+00,  1.15443431e+00,\n",
       "        1.13234232e+00, -1.08761438e+00,  1.42604329e+00, -2.59513201e-01,\n",
       "       -6.97784038e-01,  1.55646005e+00,  2.37549418e-01, -1.33524312e+00,\n",
       "        5.81424932e-01, -1.44106557e+00, -9.92630420e-02, -4.86010952e-01,\n",
       "       -7.55970009e-01, -2.68943055e-01, -2.07289529e+00,  1.72353983e+00,\n",
       "       -9.08314773e-01, -1.25817931e+00, -6.40467055e-01, -2.70802558e-01,\n",
       "        7.65097954e-01,  7.30771316e-01, -2.07946854e-01,  4.94072791e-01,\n",
       "        2.92511106e-01,  8.91812067e-01,  6.17560314e-01, -2.25490465e-01,\n",
       "       -7.01340831e-01, -1.34699543e+00, -1.65514175e+00, -2.17593148e-01,\n",
       "       -2.25740857e-01, -2.98482610e-01,  5.49387656e-01,  1.17712205e+00,\n",
       "        1.25081026e+00, -1.65137003e+00, -8.05452779e-01,  5.66787482e-01,\n",
       "        1.42307627e+00,  7.04362796e-01,  3.76333205e-02,  2.99278580e-01,\n",
       "        1.20767986e+00,  2.12618188e+00,  1.25248383e-01, -8.77731190e-01,\n",
       "        7.76436919e-01, -2.50807398e+00, -1.52819465e+00, -1.26918318e+00,\n",
       "        9.17894893e-01,  1.96346321e+00, -8.35611605e-01, -7.31967131e-02,\n",
       "       -1.23863911e+00, -1.53895184e+00,  5.13945914e-01,  1.78266385e+00,\n",
       "       -9.69424564e-01,  6.90014897e-02,  4.86966257e-01,  1.19941006e+00,\n",
       "        8.72775910e-02, -2.90556626e-02, -2.12781444e+00,  1.82168930e+00,\n",
       "        8.28347887e-01, -4.17528401e-01,  5.49018979e-01,  1.98363289e-01,\n",
       "       -1.06948591e+00, -8.26074210e-01, -9.75465437e-01,  1.79976872e+00,\n",
       "        3.89357418e-01, -5.45098477e-01, -4.47787834e-01, -1.32508786e+00,\n",
       "        4.99225371e-01, -1.02770278e-01,  1.82874241e+00,  2.23968092e+00,\n",
       "       -1.28196482e+00, -1.27050540e+00, -1.14643938e+00,  1.69794495e+00,\n",
       "       -7.11219164e-01,  1.10801549e+00,  1.02300746e+00, -9.10277744e-01,\n",
       "       -4.83614361e-01,  1.32281559e-02,  4.95914091e-01, -5.48514417e-01,\n",
       "        8.61668842e-01, -9.90067457e-01,  5.99346073e-01, -9.52840416e-01,\n",
       "        1.11957339e+00,  6.88820704e-01, -1.28619854e-01,  1.57146868e+00,\n",
       "        3.02734934e-02,  4.34492644e-02,  6.91783167e-01, -9.48542641e-03,\n",
       "        7.51566587e-01, -1.06134791e-01,  1.70255568e-01, -1.12593720e-01,\n",
       "        5.80434284e-01, -1.15093304e+00,  2.52101518e+00, -1.48836457e+00,\n",
       "       -4.80933680e-01,  4.32070632e-01,  1.36224330e+00, -1.23403445e+00,\n",
       "       -9.19583865e-01, -1.06897173e+00, -3.88654099e-01, -7.78288433e-01,\n",
       "       -4.41473876e-01, -4.26452006e-01, -3.75123521e-01,  1.49103025e-01,\n",
       "       -2.61990949e-01,  5.84915115e-01,  6.13323524e-01,  1.40658843e+00,\n",
       "        8.19168792e-01, -1.49289433e+00,  9.74931610e-01,  7.15126374e-01,\n",
       "        7.34021347e-01,  6.26123292e-01, -3.11933093e-01, -1.80579328e+00,\n",
       "        1.50806133e+00,  3.98636346e-01, -9.94402235e-01,  9.85447068e-01,\n",
       "       -7.73076519e-01,  1.92171813e-01,  9.15619250e-01, -1.99007538e-01,\n",
       "        9.69075734e-01, -9.24305559e-01, -2.38765707e-01,  2.47588034e-01,\n",
       "        6.03907827e-01,  1.24100520e-01,  5.09032513e-01, -1.14221861e+00,\n",
       "        3.41371710e-01, -8.10110968e-01,  3.29194401e-01, -1.88417907e+00,\n",
       "       -4.34638046e-01, -1.98380810e-02,  1.84997253e+00,  8.34755515e-01,\n",
       "       -2.75145267e+00,  4.62843322e-01, -8.26246505e-01,  1.23211704e+00,\n",
       "       -8.70428517e-01, -3.64639455e-01, -1.33775601e-01, -8.97676467e-01,\n",
       "        4.42429222e-01, -4.84895482e-01,  1.11446792e+00, -1.90307790e+00,\n",
       "        1.10960756e-01, -2.07511919e-01,  1.86003264e+00, -1.68978295e-01,\n",
       "        4.36866694e-02, -6.33705858e-01, -2.15055670e+00, -1.33028944e-01,\n",
       "        1.76833706e+00,  4.89591757e-01, -8.90775692e-02,  9.54393010e-01,\n",
       "        6.44101018e-01,  1.12821061e+00, -7.32197710e-01, -1.66790013e+00,\n",
       "       -1.46989114e+00, -2.59512222e-01,  7.40565247e-02,  1.82039811e+00,\n",
       "        2.35821293e-01,  3.54689294e-02, -1.73939994e+00, -5.20504184e-01,\n",
       "        2.82203892e-02, -1.02149646e-01, -2.10416291e+00,  4.46622839e-01,\n",
       "       -6.54875448e-01,  1.03542735e+00,  1.37365018e+00,  7.94693092e-01,\n",
       "       -3.33918339e+00,  4.71563054e-01, -9.31662301e-01, -4.26374104e-01,\n",
       "        1.73709774e-01,  5.17326745e-01, -1.07854365e+00,  1.92352909e+00,\n",
       "        1.00746010e+00,  4.21597783e-01,  1.11716970e+00, -1.81992022e+00,\n",
       "        3.13151786e-01, -4.03971119e-01, -1.45570771e+00, -2.76220384e-01,\n",
       "        1.31869588e+00, -1.70238059e+00, -8.66568433e-01,  1.37430283e+00,\n",
       "       -1.76013865e-01, -9.83676738e-01, -6.95394773e-01, -5.35603281e-01,\n",
       "        4.21123106e-03,  8.49839670e-01, -4.75852439e-01,  3.81879296e-01,\n",
       "        4.63545833e-02, -7.93781484e-01, -3.71559677e-02, -8.79935037e-02,\n",
       "       -2.95956382e-01, -1.44356453e-01, -2.46789877e-01, -6.19427090e-01,\n",
       "        8.66215818e-01, -8.37734557e-01,  2.33074130e+00, -8.32675407e-02,\n",
       "       -2.83697345e+00, -1.17779604e-01,  7.96016402e-01,  8.56360584e-01,\n",
       "        5.49255730e-01,  3.04467467e-01, -4.27212826e-01, -4.86812849e-01,\n",
       "        9.17632952e-01,  6.28461475e-01,  7.19559304e-01,  6.48377178e-01,\n",
       "        3.21081006e-01,  3.27553640e-01,  2.01240623e+00,  7.31129273e-01,\n",
       "        3.12798790e+00,  1.82839820e+00,  1.72294788e-01,  2.32772351e+00,\n",
       "        5.11196633e-02,  9.50632265e-01,  4.04326764e-01, -2.06903682e+00,\n",
       "       -4.60133529e-01, -7.23978292e-01, -2.37109678e+00,  2.54060709e-01,\n",
       "        2.13283218e+00,  8.07487863e-01, -3.25884183e-01, -4.20560149e-02,\n",
       "        8.73238022e-01,  2.12070303e+00,  9.85574161e-01, -1.54277604e+00,\n",
       "        1.05800934e+00, -1.85108723e+00, -1.09537990e+00,  1.53269535e-01,\n",
       "       -2.90265114e-01,  4.91853255e-01, -4.42697984e-01, -2.77846016e-01,\n",
       "        7.90321323e-01,  2.67850045e+00,  3.86134126e-01, -1.81445282e+00,\n",
       "        3.71064562e-01,  2.56932290e-01, -1.50258845e+00, -6.14746356e-01,\n",
       "       -1.76717503e+00,  9.18810379e-01,  1.10317292e-01, -1.07196989e+00,\n",
       "        2.34150087e+00, -3.96882453e-01, -4.57953019e-01,  6.52897858e-01,\n",
       "       -1.95335705e+00,  1.89662880e-01,  1.10975804e+00, -1.92879820e-01,\n",
       "       -8.34683390e-01,  1.54752890e+00, -1.19099899e+00, -1.32003103e+00,\n",
       "        7.21015113e-01, -2.09969292e-01,  9.19099726e-01,  8.38682276e-01,\n",
       "       -5.72601247e-02,  2.12509496e+00, -9.85034367e-01, -8.48281403e-01,\n",
       "        1.63542341e+00, -1.19265205e+00,  4.49357991e-01,  8.99162572e-01,\n",
       "       -1.24738045e+00, -4.35681212e-01,  7.31655927e-02,  4.80239876e-01,\n",
       "        1.16089919e+00,  8.66348852e-01, -1.65083226e+00,  1.11333267e-01,\n",
       "        1.55708316e-01,  1.69175181e-01,  7.55173361e-01,  1.42504070e+00,\n",
       "        5.91516856e-02, -1.74190439e-01,  6.13291116e-01, -9.43417901e-01,\n",
       "        3.03662829e-01,  3.47341358e-01, -8.97605689e-01, -7.32174959e-01,\n",
       "        7.07010925e-01, -7.71489381e-01,  6.62206093e-01,  1.07576849e+00,\n",
       "       -5.32601671e-01, -6.58547610e-01,  7.19914309e-01, -1.66170109e-01,\n",
       "        1.45737754e+00,  3.78434310e-02,  4.38218536e-01, -1.56076002e-01,\n",
       "        5.58787495e-02,  1.21408564e+00, -4.36754070e-01, -6.03649686e-01,\n",
       "        9.62173545e-01,  5.03770598e-01,  4.20970059e-01, -4.38444531e-01,\n",
       "       -1.41958526e+00,  2.78033917e-01,  1.20561994e+00, -3.96838129e-01,\n",
       "       -6.63189868e-01,  2.13594390e-01,  6.47634393e-01, -2.08448600e-01,\n",
       "       -2.85050056e+00, -9.44686673e-01, -5.85973262e-02,  1.05137287e+00,\n",
       "       -5.93394355e-01, -1.91086524e+00,  7.49168392e-01, -1.82882713e-02,\n",
       "        1.10010326e+00, -5.33088376e-01, -1.16107435e-01,  3.99521417e-01,\n",
       "        1.13563228e-02,  1.69354452e+00, -7.65321524e-01,  2.66812892e-01,\n",
       "       -1.17847006e+00, -5.19107963e-01, -4.79749274e-01,  5.82270397e-01,\n",
       "       -1.24402809e-01,  1.51388821e-01,  5.87527244e-01, -1.72128542e+00,\n",
       "        1.38727379e+00,  1.42985364e-01, -1.30528518e+00,  3.89611175e-01,\n",
       "       -2.95095771e-01,  7.73054390e-01, -1.01943216e-01,  1.16594709e+00,\n",
       "        6.76297642e-01,  1.14297679e+00, -6.07746509e-01, -1.87661784e-01,\n",
       "        2.24861185e-01, -1.07883455e+00,  1.95604280e+00,  1.32949923e-01,\n",
       "        6.42062387e-01, -2.54254048e-01, -5.03334351e-01,  2.14553391e+00,\n",
       "       -1.17437521e+00,  1.79618008e-01,  8.88402059e-01, -5.60762467e-01,\n",
       "       -9.39382768e-01,  1.34036816e-01, -4.66781099e-01, -4.51140795e-01,\n",
       "        4.57346882e-01,  5.68284572e-01,  1.63991146e+00,  7.70025747e-02,\n",
       "       -1.46025640e+00, -1.66533981e+00, -4.42150776e-01,  4.75409901e-01,\n",
       "        1.30246104e+00, -4.87304594e-01, -1.07360483e+00, -1.06436395e+00,\n",
       "       -6.83316992e-01, -8.91402000e-01,  5.10334696e-01, -1.28612508e+00,\n",
       "       -1.58564141e+00,  9.45225773e-01, -7.31477873e-01, -3.09724309e-01,\n",
       "       -6.13623138e-02, -8.43005252e-01, -1.21001516e+00,  8.56011036e-01,\n",
       "       -6.42382315e-01,  9.77471603e-01, -2.99159568e-02,  8.27025235e-01,\n",
       "       -8.45081219e-01,  1.84579689e+00, -1.09177702e+00, -1.37033861e+00,\n",
       "        9.52108657e-01, -7.07342473e-01,  1.29282710e+00, -1.99989366e+00,\n",
       "        1.25021665e+00, -3.70761118e-01,  9.64261037e-02, -1.71612819e+00,\n",
       "       -2.71670859e+00,  1.46134372e-01,  5.21768117e-01, -7.98388578e-01,\n",
       "        2.46256328e-01,  2.65562451e-01,  1.12018156e+00, -8.13124457e-01,\n",
       "        9.27782524e-01,  6.71088767e-01,  6.24934391e-01,  1.44125038e+00,\n",
       "       -1.33009115e+00,  2.21001608e+00,  1.98263826e+00,  1.36907975e+00,\n",
       "       -3.80650083e-01,  1.57219796e+00, -4.81148737e-01,  9.36500325e-01,\n",
       "        1.01876364e+00,  4.97659746e-01,  2.32713159e+00, -2.70252199e-01,\n",
       "       -8.79382778e-01, -8.00485184e-01,  5.66282753e-01,  1.40428700e+00,\n",
       "       -9.66485604e-01, -1.19264747e+00,  7.85225719e-01,  9.01808471e-01,\n",
       "       -1.97272683e-01, -1.61503414e+00,  6.34437496e-01, -3.50968107e-01,\n",
       "        6.96588519e-01,  6.68142623e-01, -7.69500995e-01,  2.45452276e+00,\n",
       "       -4.77781277e-03, -7.74451556e-02, -1.22293609e+00,  4.92063063e-01,\n",
       "        3.45315001e-01,  2.92057162e-01,  2.16565173e+00,  5.54563199e-01,\n",
       "        3.60916781e-01, -1.80456212e+00,  4.90831003e-02,  7.17475883e-01,\n",
       "        3.09855224e-01, -4.17789753e-01,  3.91929478e-01,  1.10825761e+00,\n",
       "       -1.29849337e+00, -1.95361839e+00,  8.79687772e-01,  1.94203565e-01,\n",
       "       -1.33270387e+00,  1.19749374e-01, -1.00448677e+00,  1.59979841e-01,\n",
       "       -2.57470753e+00,  5.20869159e-02,  2.11211196e-01, -1.01994780e+00,\n",
       "       -8.36527968e-01, -1.09160252e+00,  6.16300620e-01, -4.70480411e-02,\n",
       "        4.41768051e-01,  5.10425544e-01,  2.18402191e+00, -2.28552419e-01,\n",
       "       -7.04785361e-01,  4.65351470e-01,  8.52112684e-02,  5.91368652e-02,\n",
       "        9.34597323e-01,  6.91365107e-01,  1.41507355e+00,  8.49304500e-01,\n",
       "       -4.97611803e-02,  1.09561964e+00,  4.38576417e-01, -1.83723201e+00,\n",
       "       -1.19810816e-01,  5.34682351e-01,  5.63240077e-01, -1.31241058e-01,\n",
       "        7.31500563e-02,  1.24109268e+00,  6.62862656e-01, -1.95459509e+00,\n",
       "       -1.81892044e-01, -9.97822410e-03,  8.66932071e-02, -1.65840041e-01,\n",
       "       -1.74844003e+00, -1.61216742e+00,  1.78843272e+00,  1.10920934e+00,\n",
       "        4.76920344e-01,  1.14087417e+00,  9.58222662e-01,  6.42176788e-02,\n",
       "        1.58894143e+00, -3.38053055e-01, -1.28720902e+00, -1.02808049e+00,\n",
       "       -1.73477365e+00,  1.23423497e+00,  1.51105234e+00,  1.16888029e-01,\n",
       "       -4.50157496e-01,  1.94356852e+00,  3.31468058e-01,  1.54071124e+00,\n",
       "        3.58362948e-01,  9.86820117e-01, -8.90457530e-01, -6.14247968e-01,\n",
       "        1.16260000e+00,  1.63597544e+00, -4.09545711e-01,  7.35556009e-01,\n",
       "       -2.65594301e-01, -9.92416755e-01, -3.43065790e-01,  1.33351119e+00,\n",
       "        1.55992490e+00,  1.14002142e-01,  3.63052598e-01, -1.27035355e-01,\n",
       "       -1.94572734e+00, -3.04067304e-01,  5.12157308e-01, -4.72904039e-01,\n",
       "        1.96032932e-02,  3.54398535e-01, -1.23285659e-01,  2.78391144e-01,\n",
       "        2.60729947e-01, -1.15857109e+00,  1.21875437e+00,  2.58921151e-01,\n",
       "        7.08355582e-01,  7.52786636e-01, -6.97698265e-01,  6.38477096e-03,\n",
       "        1.08665839e+00,  5.07577033e-01, -8.81217196e-01, -1.82836545e-01,\n",
       "        2.03708797e+00,  5.75834652e-01, -8.37552984e-01, -1.49938054e+00,\n",
       "        1.62387087e+00,  2.37847970e-01,  1.23986660e+00,  3.75447191e-01,\n",
       "       -5.67630260e-01,  3.11881938e-01, -2.68164640e-01,  1.76047904e+00,\n",
       "       -9.69677323e-01,  1.80264833e+00, -5.06222027e-01, -1.15427831e+00,\n",
       "       -6.86697101e-01,  7.24978040e-01,  1.24565042e-01,  1.72794932e+00,\n",
       "        1.86609957e+00, -5.96198010e-01, -3.41741153e-01,  4.50806581e-01,\n",
       "       -2.24266330e-01, -1.42373988e+00, -5.35957364e-01, -9.08030422e-01,\n",
       "        7.11837174e-01, -5.58041055e-01, -3.18542758e-01,  6.80674893e-01,\n",
       "        1.26522800e+00, -1.65285237e-01,  4.63929726e-01, -2.42282026e-01,\n",
       "        4.31654425e-01, -5.40509061e-01,  2.15827509e+00,  1.69225613e+00,\n",
       "        7.17008641e-01,  1.72868656e-01,  2.12305868e+00,  9.43100345e-01,\n",
       "        7.10634574e-01, -3.87006074e-01,  1.68770121e+00,  1.94064078e+00,\n",
       "       -1.16992799e-01,  8.90049320e-01,  1.32071719e+00, -2.57565487e+00,\n",
       "        1.50109868e+00, -7.25708002e-01, -4.59651999e-01,  6.37478438e-01,\n",
       "        5.19102037e-01,  2.72664248e-01, -2.52690641e-01,  1.95018103e+00,\n",
       "       -2.16333862e+00,  1.53075471e+00, -1.44499589e+00,  1.11394801e+00])"
      ]
     },
     "execution_count": 42,
     "metadata": {},
     "output_type": "execute_result"
    }
   ],
   "source": [
    "# we have individual offsets\n",
    "individual_effects"
   ]
  },
  {
   "cell_type": "code",
   "execution_count": 43,
   "metadata": {},
   "outputs": [
    {
     "data": {
      "text/plain": [
       "array([[-0.89325334, -0.89325334, -0.89325334, ..., -0.89325334,\n",
       "        -0.89325334, -0.89325334],\n",
       "       [-1.09666136, -1.09666136, -1.09666136, ..., -1.09666136,\n",
       "        -1.09666136, -1.09666136],\n",
       "       [ 0.42735364,  0.42735364,  0.42735364, ...,  0.42735364,\n",
       "         0.42735364,  0.42735364],\n",
       "       ...,\n",
       "       [ 1.53075471,  1.53075471,  1.53075471, ...,  1.53075471,\n",
       "         1.53075471,  1.53075471],\n",
       "       [-1.44499589, -1.44499589, -1.44499589, ..., -1.44499589,\n",
       "        -1.44499589, -1.44499589],\n",
       "       [ 1.11394801,  1.11394801,  1.11394801, ...,  1.11394801,\n",
       "         1.11394801,  1.11394801]])"
      ]
     },
     "execution_count": 43,
     "metadata": {},
     "output_type": "execute_result"
    }
   ],
   "source": [
    "A_indiv # the same offset of all time (but different for each unit)"
   ]
  },
  {
   "cell_type": "markdown",
   "metadata": {},
   "source": [
    "The outcome is the sum of a time trend and individual effects."
   ]
  },
  {
   "cell_type": "code",
   "execution_count": 44,
   "metadata": {},
   "outputs": [],
   "source": [
    "# Now, we'll have the probability of being assigned to treatment depend on Z\n",
    "p_d = 1. / (1. + np.exp(-Z))\n",
    "D_star = np.random.binomial(1, p=p_d)\n",
    "\n",
    "# We need the time-series treatment assignments now. The treatment turns on and\n",
    "# stays on. Let's start by having them all turn on at the same time, to build some\n",
    "# intuition. Then we'll turn them on at random times. \n",
    "#\n",
    "# The assignment matrix has the same dimensions as the outcome matrix.\n",
    "\n",
    "D = np.zeros(shape=Y_0.shape)\n",
    "for i in range(units):\n",
    "    for t in range(time_steps):\n",
    "        if D_star[i] and t > 0:\n",
    "            ## modify the remainder of this block to get random start times.\n",
    "            if t == time_steps - 1 or D[i][t-1] == 1:\n",
    "                D[i][t] = 1\n",
    "            else:\n",
    "                if t == int(float(time_steps) / 2.):\n",
    "                    D[i][t] = 1  # np.random.binomial(1, p=1./float(time_steps))\n",
    "                else:\n",
    "                    D[i][t] = 0"
   ]
  },
  {
   "cell_type": "code",
   "execution_count": 45,
   "metadata": {},
   "outputs": [],
   "source": [
    "# The treatment effect for each unit is a constant plus their Z, so we get confounding.\n",
    "delta = 2.\n",
    "Y_1 = Y_0 + delta + A_indiv\n",
    "Y = (D==1)*Y_1 + (D==0)*Y_0"
   ]
  },
  {
   "cell_type": "code",
   "execution_count": 46,
   "metadata": {},
   "outputs": [
    {
     "data": {
      "image/png": "[encoded data removed]",
      "text/plain": [
       "<Figure size 432x288 with 1 Axes>"
      ]
     },
     "metadata": {},
     "output_type": "display_data"
    }
   ],
   "source": [
    "# Naive expected values\n",
    "\n",
    "df = pd.DataFrame(Y)\n",
    "df['$D^*$'] = D_star\n",
    "d0 = df[df['$D^*$'] == 0]\n",
    "d1 = df[df['$D^*$'] == 1]\n",
    "del d0['$D^*$'], d1['$D^*$']\n",
    "d0.mean(axis=0).plot()\n",
    "d1.mean(axis=0).plot();"
   ]
  },
  {
   "cell_type": "code",
   "execution_count": 47,
   "metadata": {},
   "outputs": [
    {
     "data": {
      "image/png": "[encoded data removed]",
      "text/plain": [
       "<Figure size 432x288 with 1 Axes>"
      ]
     },
     "metadata": {},
     "output_type": "display_data"
    }
   ],
   "source": [
    "# Naive effect\n",
    "\n",
    "# We have nobody in the test state before t=25, so we just get the\n",
    "# Y_0 baseline difference between the D=1 and D=0 groups at t < 25.\n",
    "# Afterward, we get the difference of E[Y_t|D=1] - E[Y_t|D=0]\n",
    "\n",
    "df = pd.DataFrame(Y)\n",
    "df['$D^*$'] = D_star\n",
    "d0 = df[df['$D^*$'] == 0]\n",
    "d1 = df[df['$D^*$'] == 1]\n",
    "del d0['$D^*$'], d1['$D^*$']\n",
    "(d1.T.mean(axis=1) - d0.T.mean(axis=1)).plot();\n"
   ]
  },
  {
   "cell_type": "code",
   "execution_count": 48,
   "metadata": {},
   "outputs": [
    {
     "data": {
      "image/png": "[encoded data removed]",
      "text/plain": [
       "<Figure size 432x288 with 1 Axes>"
      ]
     },
     "metadata": {},
     "output_type": "display_data"
    }
   ],
   "source": [
    "# True Effect\n",
    "\n",
    "pd.DataFrame({'$E[\\delta_t]$': (Y_1 - Y_0).mean(axis=0), \n",
    "              't': range(Y_0.shape[1])}).plot(x='t');"
   ]
  },
  {
   "cell_type": "code",
   "execution_count": 49,
   "metadata": {},
   "outputs": [
    {
     "data": {
      "image/png": "[encoded data removed]",
      "text/plain": [
       "<Figure size 432x288 with 1 Axes>"
      ]
     },
     "metadata": {},
     "output_type": "display_data"
    }
   ],
   "source": [
    "# For completeness, let's also check out the expected outcome over the whole population:\n",
    "\n",
    "expected_outcome = Y.mean(axis=0)\n",
    "pd.DataFrame({'$E[Y]$': expected_outcome, 't': range(expected_outcome.shape[0])}).plot(x='t');"
   ]
  },
  {
   "cell_type": "code",
   "execution_count": 50,
   "metadata": {},
   "outputs": [
    {
     "data": {
      "text/plain": [
       "array([  0.,   0.,   0.,   0.,   0.,   0.,   0.,   0.,   0.,   0.,   0.,\n",
       "         0.,   0.,   0.,   0.,   0.,   0.,   0.,   0.,   0.,   0.,   0.,\n",
       "         0.,   0.,   0.,   0., 505., 505., 505., 505., 505., 505., 505.,\n",
       "       505., 505., 505., 505., 505., 505., 505., 505., 505., 505., 505.,\n",
       "       505., 505., 505., 505., 505., 505., 505., 505.])"
      ]
     },
     "execution_count": 50,
     "metadata": {},
     "output_type": "execute_result"
    }
   ],
   "source": [
    "# And the number of treated units vs. time:\n",
    "\n",
    "D.sum(axis=0)"
   ]
  },
  {
   "cell_type": "markdown",
   "metadata": {},
   "source": [
    "Now, we'll do propensity score matching on Z to match control units to test units to estimate the ATT. Since the confounding is constant with time, we can just match units (otherwise their propensities would vary over time, and matches might change!)"
   ]
  },
  {
   "cell_type": "code",
   "execution_count": null,
   "metadata": {},
   "outputs": [],
   "source": [
    "# ... "
   ]
  },
  {
   "cell_type": "code",
   "execution_count": null,
   "metadata": {},
   "outputs": [],
   "source": []
  }
 ],
 "metadata": {
  "kernelspec": {
   "display_name": "Python 2",
   "language": "python",
   "name": "python2"
  },
  "language_info": {
   "codemirror_mode": {
    "name": "ipython",
    "version": 2
   },
   "file_extension": ".py",
   "mimetype": "text/x-python",
   "name": "python",
   "nbconvert_exporter": "python",
   "pygments_lexer": "ipython2",
   "version": "2.7.15"
  }
 },
 "nbformat": 4,
 "nbformat_minor": 2
}
