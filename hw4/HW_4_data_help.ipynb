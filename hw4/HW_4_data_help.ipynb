{
 "cells": [
  {
   "cell_type": "code",
   "execution_count": 10,
   "metadata": {},
   "outputs": [],
   "source": [
    "%matplotlib inline\n",
    "import numpy as np\n",
    "import pandas as pd\n",
    "\n",
    "units = 1000\n",
    "time_steps = 52\n",
    "\n",
    "Z = np.random.normal(size=units)\n",
    "\n",
    "a_trend = np.arange(0, time_steps, 1)\n",
    "individual_effects = Z\n",
    "A_trend = np.tile(a_trend, units).reshape(units, time_steps)\n",
    "A_indiv = np.tile(individual_effects, time_steps).reshape(time_steps, units).T\n",
    "Y_0 = A_trend + A_indiv\n"
   ]
  },
  {
   "cell_type": "code",
   "execution_count": 11,
   "metadata": {},
   "outputs": [
    {
     "data": {
      "text/plain": [
       "array([ 0,  1,  2,  3,  4,  5,  6,  7,  8,  9, 10, 11, 12, 13, 14, 15, 16,\n",
       "       17, 18, 19, 20, 21, 22, 23, 24, 25, 26, 27, 28, 29, 30, 31, 32, 33,\n",
       "       34, 35, 36, 37, 38, 39, 40, 41, 42, 43, 44, 45, 46, 47, 48, 49, 50,\n",
       "       51])"
      ]
     },
     "execution_count": 11,
     "metadata": {},
     "output_type": "execute_result"
    }
   ],
   "source": [
    "# we have a linear time trend\n",
    "a_trend"
   ]
  },
  {
   "cell_type": "code",
   "execution_count": 12,
   "metadata": {},
   "outputs": [
    {
     "data": {
      "text/plain": [
       "array([[ 0,  1,  2, ..., 49, 50, 51],\n",
       "       [ 0,  1,  2, ..., 49, 50, 51],\n",
       "       [ 0,  1,  2, ..., 49, 50, 51],\n",
       "       ...,\n",
       "       [ 0,  1,  2, ..., 49, 50, 51],\n",
       "       [ 0,  1,  2, ..., 49, 50, 51],\n",
       "       [ 0,  1,  2, ..., 49, 50, 51]])"
      ]
     },
     "execution_count": 12,
     "metadata": {},
     "output_type": "execute_result"
    }
   ],
   "source": [
    "A_trend # the same time trend for all units"
   ]
  },
  {
   "cell_type": "code",
   "execution_count": 13,
   "metadata": {},
   "outputs": [
    {
     "data": {
      "text/plain": [
       "array([ 1.05988483e+00,  1.42714617e+00, -4.32156852e-01, -1.40959422e+00,\n",
       "       -1.85873984e-01, -1.87755764e+00, -6.26155412e-01, -5.13182919e-01,\n",
       "       -2.97679308e-01, -3.79453279e-01, -4.88792758e-01, -6.53558522e-01,\n",
       "        3.88604895e-01, -4.43933452e-01,  1.21520784e+00, -2.40654456e-01,\n",
       "        1.21028725e+00, -1.56672782e-01,  8.42777485e-02, -1.06477000e+00,\n",
       "        3.25766094e-01, -5.03194366e-01, -5.31618188e-01, -1.42824427e-01,\n",
       "       -9.27396266e-01, -2.04212424e+00, -1.11598255e+00,  1.32079605e+00,\n",
       "        7.61010939e-01, -9.70070169e-01,  1.50813842e-01,  8.56956244e-01,\n",
       "       -5.12668828e-01, -7.70533774e-02, -9.78348534e-01,  1.22596021e+00,\n",
       "       -3.90558432e-01, -3.97296146e-01,  1.52875701e+00, -4.45639865e-01,\n",
       "       -1.01779369e+00,  1.91390126e+00, -4.36977345e-01, -6.87385161e-01,\n",
       "       -6.87422064e-01,  5.56780140e-01, -9.71590622e-01,  3.52525746e-01,\n",
       "        3.19897779e-01,  3.08306497e-01, -2.11090585e-02,  9.29584896e-01,\n",
       "        1.55666388e-01, -1.89854331e+00, -9.43418414e-01, -6.78702536e-01,\n",
       "        1.33928399e+00,  8.29495549e-02,  4.98557418e-01, -1.05322223e+00,\n",
       "       -7.60999919e-01,  5.27543121e-01, -8.94128962e-01, -1.88503410e+00,\n",
       "       -3.50391922e-01, -4.59072580e-01,  6.30540639e-01, -4.38777698e-02,\n",
       "        2.66397126e-01, -2.64110744e-01,  8.45947545e-01,  3.15658759e-01,\n",
       "       -6.87352448e-01,  8.57537047e-01, -1.46387112e+00,  3.05163429e-01,\n",
       "       -1.73809420e+00,  8.75886079e-01,  1.94601632e-02,  5.14543315e-01,\n",
       "       -4.91063857e-01, -8.57646527e-01,  1.98566116e-01, -1.30456156e+00,\n",
       "       -1.15184041e+00,  1.02443850e+00,  8.71732990e-01, -9.61748221e-02,\n",
       "        4.03887547e-01, -5.23253034e-01,  8.17530512e-01,  2.77253796e+00,\n",
       "        1.00713347e+00,  2.47014782e-01,  7.84526077e-01,  2.37794938e+00,\n",
       "       -9.20893500e-02, -7.48824501e-01, -3.67574970e-01,  6.07137789e-01,\n",
       "        1.37183571e+00, -4.99718370e-01,  4.05630348e-01, -1.35628402e+00,\n",
       "        1.15309007e+00,  1.49422397e+00,  5.98750865e-01, -1.95525987e+00,\n",
       "        1.39272183e+00, -2.69408670e-01,  1.34859703e-01,  7.90811094e-01,\n",
       "        1.36592599e+00, -2.48563977e-01, -2.09035021e+00,  3.34430091e-01,\n",
       "        2.16007742e-01, -1.00030235e+00, -3.71850705e-01, -1.18621280e+00,\n",
       "       -1.97954797e-01, -1.39167129e-01,  6.35891088e-01,  3.58747355e-01,\n",
       "       -1.36209854e+00,  3.74630179e-01,  5.09917151e-01, -1.32225024e+00,\n",
       "       -2.41016083e-01,  6.04956000e-01,  1.13852330e+00, -2.20656939e-01,\n",
       "       -4.96915608e-01, -2.22637681e+00,  8.55754704e-01, -4.45253059e-01,\n",
       "       -1.54210565e+00, -2.35306914e+00, -3.37754137e-01, -2.14348843e+00,\n",
       "       -3.84420481e-02, -5.36832996e-01, -4.93069974e-01,  3.64357387e-01,\n",
       "       -1.96303214e+00, -1.54441937e+00,  7.85659414e-01, -1.02511317e+00,\n",
       "        1.06794090e-03,  4.75620420e-01,  2.52511929e+00,  1.08750353e+00,\n",
       "        8.79584577e-01,  8.28346342e-02, -5.74426637e-01, -4.59438248e-01,\n",
       "        1.36160171e-01,  2.79441140e-01, -6.38201035e-01,  2.48672714e-01,\n",
       "       -4.61459325e-01, -1.39428943e+00, -1.02153303e-02,  9.58979239e-02,\n",
       "       -9.74306374e-01, -3.22433641e-01, -1.12657743e+00,  2.03852071e+00,\n",
       "        9.13229008e-01,  9.52946278e-02, -4.96065220e-01,  9.21864631e-02,\n",
       "        1.15384987e+00, -1.37439910e+00,  1.01812151e+00, -6.81560670e-01,\n",
       "        6.33397514e-01,  1.43671041e+00, -4.04443823e-01,  7.78442960e-01,\n",
       "       -1.46831320e+00,  2.18297853e-01,  5.71037216e-01,  8.70974923e-01,\n",
       "        2.82268134e-01, -4.46981529e-01,  4.99830268e-01,  5.07768073e-01,\n",
       "        1.26554956e+00,  9.14961969e-01,  8.40055039e-01,  5.24861725e-01,\n",
       "        2.23008115e+00, -7.26063417e-01, -1.61365222e-01,  5.30646211e-01,\n",
       "        5.65898825e-01,  2.07988451e+00,  8.11763632e-01, -6.80416546e-01,\n",
       "       -3.74542693e-01, -1.00807292e-01,  5.80039566e-01, -4.07746001e-01,\n",
       "       -4.19313147e-01, -1.64112640e-01, -7.20217095e-01,  2.85533798e-01,\n",
       "       -1.74726083e+00,  7.68889335e-02, -6.28499712e-01, -7.40177649e-02,\n",
       "        6.34693136e-01, -5.00695131e-01, -4.28498011e-01,  1.34949975e+00,\n",
       "       -5.79839900e-01, -1.28894230e+00, -1.06850279e+00,  4.70984478e-01,\n",
       "       -7.24908175e-01,  7.57384206e-01,  2.30240846e-01, -6.87900328e-01,\n",
       "        4.19050977e-02, -3.58964194e-01,  5.05611807e-02, -7.26034520e-01,\n",
       "        1.22861889e+00,  1.03661824e+00, -4.62403723e-01,  6.06091236e-01,\n",
       "        9.73053978e-01, -1.36247825e+00, -9.13124858e-01, -1.47031938e+00,\n",
       "       -1.47789096e-01,  9.05369980e-02, -5.80349243e-01, -1.52125594e+00,\n",
       "       -8.53807331e-02,  7.54238965e-01,  1.40351311e+00,  4.67317875e-01,\n",
       "        9.72507391e-01,  2.07061872e+00,  4.51429905e-02,  1.46183970e-01,\n",
       "        6.19947184e-02,  1.36939961e+00, -8.12158068e-01,  1.73947615e-03,\n",
       "        1.22781266e+00,  7.29449848e-01,  1.47890404e+00,  1.09056127e+00,\n",
       "       -1.70710205e-01,  7.07457732e-01, -6.27531570e-02,  1.35289328e+00,\n",
       "       -2.02447622e-01, -8.35799539e-02,  1.34510929e-01,  9.39327174e-01,\n",
       "        1.48625596e+00, -9.11486981e-01, -7.91710706e-01,  9.70573845e-01,\n",
       "        1.49303530e+00, -1.29762483e+00, -8.67628343e-01,  4.47252430e-01,\n",
       "       -1.94144248e-01, -1.50752870e+00,  2.70041458e-01,  2.41789798e+00,\n",
       "       -6.76192193e-01, -2.18090427e-01,  1.44330504e+00,  6.56775265e-01,\n",
       "       -2.06277563e-01,  1.23339129e+00,  3.03437694e-01,  8.30422447e-01,\n",
       "       -1.30750491e+00,  6.51600802e-01, -1.49050889e+00, -8.93359543e-01,\n",
       "       -9.06637952e-01, -2.87378717e-01, -6.12723259e-01, -1.89825948e-01,\n",
       "        6.25538207e-01, -2.94150705e-01, -1.50985793e+00,  1.10831029e+00,\n",
       "        1.42916509e-01,  1.27099202e+00,  1.45925908e+00,  1.88657838e+00,\n",
       "        3.83042226e-01, -6.67067073e-01, -1.39169498e-01,  3.73226107e-01,\n",
       "        4.33662261e-01, -1.89478269e+00, -7.10602693e-01, -4.70330543e-02,\n",
       "       -2.58254222e-01, -5.03336946e-02,  5.02228420e-01, -1.55951569e+00,\n",
       "       -1.34766577e+00,  8.56478187e-01,  8.34410289e-01,  1.27720805e-01,\n",
       "        9.70876726e-01,  2.10055758e-01,  4.22821982e-01,  1.90322621e-01,\n",
       "        2.70134171e-01,  1.27626529e-01,  3.49941173e-01,  9.97727853e-01,\n",
       "       -2.65675416e+00, -9.38612413e-01, -1.57025178e+00,  6.62100253e-01,\n",
       "        1.31218746e+00, -2.71134560e-01, -8.68409718e-01,  2.07056026e+00,\n",
       "       -5.44480959e-01,  9.28819246e-01,  7.81481053e-01, -6.41996781e-01,\n",
       "        8.55279656e-01,  1.46013763e+00,  1.65046527e+00, -1.02298693e+00,\n",
       "        8.08002684e-01, -2.21994999e-01, -8.95488307e-02, -6.74755878e-01,\n",
       "       -3.02008895e+00,  1.70759703e-01,  3.54172696e-01, -3.52254320e-01,\n",
       "       -1.71661776e-01, -3.43849050e-01,  5.74825263e-01, -1.43126529e+00,\n",
       "        1.56502198e+00,  7.78599567e-01,  5.49437447e-01, -6.57401140e-01,\n",
       "        1.41964077e-01, -1.20641922e+00,  2.71902079e-01, -1.32417013e+00,\n",
       "        5.90477780e-01, -4.08293414e-01,  6.71098804e-01, -1.51482891e-01,\n",
       "        9.84136945e-02, -3.18351032e-01,  1.25379812e+00, -3.57157147e-01,\n",
       "        3.39035418e-01,  4.87482490e-02, -1.11240012e+00, -1.47811384e+00,\n",
       "       -1.42601013e+00,  1.27275822e+00, -1.05159480e+00, -1.56469378e-01,\n",
       "        2.16996849e+00,  1.44598219e+00, -2.01264987e-01,  5.31203498e-02,\n",
       "       -2.76982557e-01,  1.15651419e+00,  5.38907455e-01,  1.59120424e+00,\n",
       "       -8.15515426e-01,  1.04430470e+00, -1.44282669e+00,  3.29136107e-01,\n",
       "       -2.08718966e-01,  3.39910433e+00,  6.27625199e-01,  1.36466997e-02,\n",
       "       -3.34682838e-01, -5.02228164e-01,  7.94428618e-01, -1.23387185e+00,\n",
       "        1.04084458e-01, -1.24364415e+00,  1.13940558e+00, -8.70270306e-01,\n",
       "       -1.70625603e-01, -9.69824112e-01,  3.96737195e-01,  5.73741734e-01,\n",
       "        1.08516366e+00,  3.95676407e-04, -4.93404027e-02, -9.42178487e-01,\n",
       "        1.96204948e+00,  1.48123376e-01, -8.94815625e-03,  1.00810179e-02,\n",
       "       -9.25754112e-01,  1.16097278e+00,  2.69446311e+00,  9.27550451e-01,\n",
       "        9.49099561e-01, -2.14624810e-01, -9.32443373e-01,  9.04169646e-01,\n",
       "        2.34277796e-01, -1.20062005e+00, -5.98712186e-01, -8.75160319e-01,\n",
       "        1.98104059e-01, -4.48421799e-01, -3.85795896e-01,  1.08142569e+00,\n",
       "        3.70095809e-01,  1.41788161e+00, -1.99345981e-01, -2.93452555e+00,\n",
       "       -1.61207569e-01, -2.31507633e+00, -1.65365357e+00,  1.41695532e+00,\n",
       "        1.79959961e+00,  1.76152927e-01,  3.11751607e-01, -6.15996985e-01,\n",
       "       -7.36094200e-01,  1.06211758e-01,  4.12633052e-01, -1.12313037e+00,\n",
       "        6.91435659e-02, -1.62401747e+00, -2.77129412e-01,  1.13141920e+00,\n",
       "       -9.45422386e-03, -4.64046975e-01,  1.58768130e+00, -2.39090608e-01,\n",
       "        4.85435995e-01,  1.04081652e-01, -3.91319385e-01, -3.07519325e-01,\n",
       "        2.19987411e-01, -1.12266155e+00,  3.80864313e-01, -3.55862811e-01,\n",
       "        8.66515862e-01,  3.03943343e-01, -1.79828021e+00, -4.06361594e-01,\n",
       "       -2.27981347e+00,  1.83421674e+00,  6.22338510e-01, -5.04830120e-01,\n",
       "       -8.56570315e-01,  3.13354691e-01,  1.09872129e+00, -1.31684230e+00,\n",
       "       -2.69422295e-02,  4.42049008e-01,  8.48828843e-01,  4.49704814e-01,\n",
       "       -1.10677649e+00,  4.10912186e-01, -8.95052123e-01, -1.35108978e+00,\n",
       "        5.36451912e-01,  6.95284986e-01, -5.06978749e-01,  5.50712400e-01,\n",
       "        1.05732532e+00, -7.80822427e-02,  8.52154960e-02, -1.81334302e-01,\n",
       "        1.32603337e-01, -7.14333788e-01, -1.85283700e+00,  4.93720713e-02,\n",
       "       -6.79445682e-01, -4.33684078e-01,  1.27287716e+00, -1.28370028e+00,\n",
       "        1.41138066e-01,  2.59914958e-01,  2.18470511e+00, -9.18597176e-01,\n",
       "       -2.64941444e+00,  4.02025010e-01,  9.85031072e-01,  1.03308275e+00,\n",
       "       -6.39849777e-01,  9.89538829e-01, -4.00066517e-02, -1.59368108e-01,\n",
       "        1.89200490e+00, -5.14377066e-01, -1.20217048e+00, -2.45800869e-01,\n",
       "        1.21056292e+00,  5.73377797e-01, -8.05167867e-02, -6.59673532e-01,\n",
       "       -2.54675579e+00,  9.13062943e-02, -1.93870119e+00,  1.38002019e-01,\n",
       "        7.51940818e-01, -5.17797135e-01, -6.83407722e-01,  4.48097708e-01,\n",
       "        5.95239488e-01, -1.17206311e+00,  2.20275609e+00, -1.13827929e+00,\n",
       "        2.07452636e-02, -1.74221020e-01,  6.35210858e-01, -5.38290969e-01,\n",
       "        2.76096862e-01,  1.35674895e-01, -2.28998049e+00, -4.40588029e-01,\n",
       "        1.00731231e+00,  1.73157976e-01, -1.84230370e+00, -7.37972030e-01,\n",
       "       -1.90920773e-02,  2.25145051e-01, -4.34251799e-01,  7.91798502e-01,\n",
       "       -2.01255723e+00,  1.27524422e+00, -1.87197049e+00,  8.93490586e-02,\n",
       "       -8.12425322e-01, -3.06044676e-01, -4.94425504e-01,  1.03875161e+00,\n",
       "       -1.01234594e+00, -2.37125481e+00, -1.37801124e+00, -5.04760751e-01,\n",
       "        1.48550959e+00, -2.25504439e+00,  1.25639972e-01,  4.61549010e-01,\n",
       "       -1.14388620e+00,  9.15494071e-01,  1.59502405e+00, -8.60161511e-01,\n",
       "       -3.77607743e-01,  5.03161594e-01, -1.09879291e+00, -4.35540454e-01,\n",
       "        8.12186252e-01, -1.20090268e+00,  1.62795088e+00, -3.25329015e-01,\n",
       "       -1.18374298e+00,  7.29360735e-01,  1.44224602e+00,  7.79828288e-01,\n",
       "        1.30770977e-01,  8.16171012e-01,  8.11092046e-01, -6.44960466e-01,\n",
       "       -1.57766338e+00,  8.48822140e-01, -2.61051121e-01,  1.09459747e+00,\n",
       "        3.35335231e+00, -5.24489286e-01,  3.90470130e-01,  5.73318243e-01,\n",
       "        5.89727358e-01,  1.22513141e+00,  5.85520272e-03, -1.41408008e+00,\n",
       "        7.35928043e-01,  7.25007037e-01, -2.11833078e+00, -3.40092094e-01,\n",
       "       -6.36299801e-01, -1.25290088e-01, -1.31102200e+00,  4.42704471e-01,\n",
       "        1.19211057e-02, -5.73984192e-01, -1.21508305e+00,  1.04825981e+00,\n",
       "       -2.82017455e-01,  3.47807941e-01,  2.36284762e-01,  9.44960504e-01,\n",
       "       -8.28525647e-01,  1.56933632e-01,  1.34421790e+00, -1.61492371e+00,\n",
       "       -5.59051849e-01, -4.94760150e-01, -1.30346559e+00, -5.60274402e-01,\n",
       "       -1.10578148e-03,  5.82979201e-01,  1.30162519e-01, -1.80098603e-01,\n",
       "        2.65107246e+00, -1.50296561e+00, -6.79500140e-01,  7.02044859e-01,\n",
       "        7.71045782e-01, -4.75230448e-01, -9.65559166e-01, -3.21628789e-02,\n",
       "        5.80582124e-01, -5.76866302e-01,  4.38363548e-02, -5.39279726e-01,\n",
       "       -5.20276337e-01, -5.25505766e-01, -9.81077892e-01,  2.04991853e+00,\n",
       "        6.97530110e-01,  2.00874736e-01,  2.15194439e+00,  5.96226447e-01,\n",
       "        2.44196342e-01,  6.98106919e-01,  1.22991663e+00, -1.27985035e+00,\n",
       "       -1.53914749e-01, -1.99344964e-01,  1.44666091e+00,  1.32539413e+00,\n",
       "        4.49584153e-01, -1.03555000e+00, -9.93769052e-02, -1.16232330e+00,\n",
       "        7.61802026e-01, -1.27934936e+00,  1.17532732e-01, -4.24588105e-01,\n",
       "       -1.77530283e+00,  1.17046122e+00,  1.77670583e-01,  1.12249426e+00,\n",
       "       -5.85509504e-01,  6.17931751e-01, -7.37160137e-04, -1.20291237e+00,\n",
       "        1.50339571e+00,  1.14687685e+00,  9.17614823e-01, -1.80324716e+00,\n",
       "        2.86421497e-01,  1.48599723e+00,  2.75933542e-01,  4.97471481e-01,\n",
       "       -1.97543481e-01,  5.32909131e-01,  3.68790897e-01,  1.74966053e+00,\n",
       "        3.56275179e-01,  4.24293260e-01, -6.83231719e-01,  1.54621290e+00,\n",
       "        1.45465313e+00,  2.57279482e-01,  1.79543850e-01, -6.90272593e-01,\n",
       "        1.23461033e+00, -1.21853392e+00,  1.43774005e-01,  2.09816856e+00,\n",
       "        5.07635229e-01, -2.27868199e-01,  8.78653738e-02,  8.51951221e-01,\n",
       "        1.70008155e+00,  1.01072633e+00,  3.07997390e-01,  7.56861777e-01,\n",
       "        2.97789652e-02, -2.08904362e+00,  6.53921663e-01,  7.88287866e-01,\n",
       "        5.66871413e-02, -7.29484361e-01,  3.02543894e-01,  9.39519253e-01,\n",
       "       -1.55010424e+00, -7.10299299e-03,  6.85039952e-01,  1.45356215e+00,\n",
       "        1.16308394e+00,  1.12904381e+00,  5.71101462e-01,  1.21451311e-01,\n",
       "        1.15622817e+00,  2.74078777e-01,  2.22573732e-01, -8.88544013e-01,\n",
       "       -1.14307267e+00, -7.94472656e-01,  1.67784924e-01, -1.30201989e+00,\n",
       "        7.72993819e-01, -5.15599581e-01,  5.94785039e-01,  1.40411324e+00,\n",
       "        1.82876408e+00, -1.21004104e+00,  1.60348963e+00,  3.68238545e-01,\n",
       "       -5.60454737e-03, -9.02909612e-01,  4.18772651e-01, -3.27541321e-01,\n",
       "        1.39109469e+00,  1.78267243e+00, -1.49408950e-01, -1.60111903e-01,\n",
       "        1.04028187e+00,  8.38161377e-02, -3.93743568e-01, -4.27107359e-01,\n",
       "       -2.03962508e+00, -7.94464400e-01,  4.02521942e-01, -2.22832094e-01,\n",
       "       -8.34561630e-02, -1.24035209e-01,  2.62091510e-01, -5.79153017e-02,\n",
       "        1.04062876e+00, -9.27652509e-03, -1.66880416e+00,  7.85846224e-01,\n",
       "        1.13738139e-01,  9.68321513e-01, -2.17774454e+00, -9.24388276e-01,\n",
       "        5.48792377e-01,  1.64841217e+00,  1.20599695e+00, -1.75703182e-01,\n",
       "        9.61054332e-01, -7.46101263e-01, -1.34475033e+00,  8.32729042e-01,\n",
       "       -8.50401309e-01, -1.50693241e-01, -1.85743141e-01,  6.01514099e-02,\n",
       "       -8.08890470e-01, -4.68654810e-01, -2.50086123e+00,  2.51651399e-01,\n",
       "        3.70530261e-01,  1.25509236e-01,  1.11460519e+00, -1.00831221e+00,\n",
       "       -1.98033101e-01,  7.20924483e-01,  1.12181238e-01, -3.86107643e-01,\n",
       "       -4.28572664e-01, -1.07874393e+00, -2.06937053e-01, -1.09765689e-01,\n",
       "       -1.01675515e+00, -8.26776718e-01,  1.64596269e+00, -1.96197400e+00,\n",
       "       -1.28671599e-01,  2.75390903e-01,  9.38578260e-01,  5.47209649e-01,\n",
       "       -3.97329126e-01,  8.81112292e-01,  2.33549393e+00,  9.86849007e-01,\n",
       "       -1.67556082e+00,  4.48061728e-01, -1.10083691e-01, -3.57071879e-01,\n",
       "        6.82146609e-01, -4.41796976e-01,  1.67524774e-01,  1.88204667e+00,\n",
       "       -8.76583065e-01,  2.08558353e-01, -1.02365486e+00, -2.78282098e-01,\n",
       "        6.38676513e-01, -6.96980726e-02,  8.68493765e-01,  1.59334388e+00,\n",
       "        6.09219317e-01, -1.13481732e+00,  7.12081259e-01,  1.45629915e+00,\n",
       "        1.34967307e+00, -6.36611936e-01, -8.51052964e-01,  7.04604122e-01,\n",
       "       -1.35681887e-01, -2.20674995e+00, -7.31899453e-01, -9.82440343e-01,\n",
       "        5.59453686e-01,  2.16242233e+00,  1.43964817e-01, -1.08382751e+00,\n",
       "       -1.24488890e+00,  1.41783962e+00, -1.31238895e+00,  2.08928404e-01,\n",
       "       -6.90297572e-01, -4.39508212e-01,  9.64232385e-01,  9.68188541e-01,\n",
       "        3.13078418e-01, -1.84493633e-01,  1.57147040e+00, -1.44861479e-01,\n",
       "        6.15523505e-01,  4.58294680e-01, -7.04239822e-01,  1.71293082e+00,\n",
       "        1.17649257e+00, -3.19196037e-01,  4.69885618e-01, -1.44468943e+00,\n",
       "       -2.40909627e+00,  7.56937077e-01,  2.18543472e+00,  1.44998642e+00,\n",
       "        1.45269171e+00, -2.88503654e-01,  1.95761810e+00,  2.67058440e-01,\n",
       "        1.18551357e-01, -4.22546404e-01,  1.54719061e+00,  1.21684391e+00,\n",
       "       -5.37342103e-02,  1.64856350e+00,  6.89801859e-02, -3.83899617e-01,\n",
       "       -2.20258891e-01, -1.17890615e+00,  2.47317203e+00,  1.90781081e+00,\n",
       "        6.96940658e-01,  1.54723767e+00,  2.57600740e-01,  5.77725651e-01,\n",
       "       -1.92338884e+00,  3.43325373e-01,  1.16321698e+00, -8.25880054e-01,\n",
       "        1.19064618e+00,  8.39856504e-01, -1.73731447e-01, -9.11644402e-01,\n",
       "       -8.44240388e-01,  5.29044752e-01, -7.29450236e-02,  1.76792518e+00,\n",
       "        8.88559668e-02,  5.89375227e-02, -2.08110585e-02,  1.15262552e+00,\n",
       "       -1.40394623e+00, -9.81371861e-01, -1.19994819e+00,  1.72225996e+00,\n",
       "        5.36190514e-01,  3.18355992e-01,  9.24879129e-01,  3.99977081e-01,\n",
       "        1.34735359e+00,  1.91480121e-01,  1.08465247e+00, -1.92276599e-02,\n",
       "        1.04329876e+00, -2.00018032e+00, -6.50308485e-01,  1.49744458e+00,\n",
       "        1.00578811e+00,  1.34088252e+00,  5.04051224e-01,  1.99512516e-01,\n",
       "        4.67697195e-01, -1.52417746e+00, -4.89366885e-01, -1.79670304e-01,\n",
       "        2.50103015e-01, -1.23727176e+00, -4.17731761e-01, -1.21136671e-01,\n",
       "       -5.24608008e-01,  3.18177628e-01,  6.11048372e-02,  1.15598576e+00,\n",
       "       -7.01570525e-01, -6.00120084e-01, -1.66878994e+00,  1.03759787e+00,\n",
       "       -6.15078529e-01,  5.17948366e-01, -4.04137206e-01, -1.30124335e+00,\n",
       "       -3.03485667e-02,  2.31310015e-01,  5.66205766e-01,  4.14737438e-01,\n",
       "        1.32490739e+00,  1.86542247e-02, -5.35180557e-01,  2.38101352e+00,\n",
       "        4.56502475e-01,  1.92606992e+00, -4.78007921e-01,  6.05034831e-02,\n",
       "       -1.20562598e+00,  1.28237613e+00, -1.51445430e+00,  4.31839581e-01,\n",
       "        1.02685382e+00, -2.86188032e-01,  6.08839465e-01, -3.80292784e-01,\n",
       "        1.67210936e-01, -3.34163013e-01, -8.68337623e-01,  9.96472659e-01,\n",
       "        6.35433800e-01, -1.12630593e+00, -1.96782361e+00, -7.35233900e-01,\n",
       "       -2.09510493e+00,  1.40240085e+00,  2.87660528e-01,  1.88138475e+00,\n",
       "        4.34344517e-01,  2.64145020e+00,  2.80290310e+00,  6.32966683e-02,\n",
       "        2.39963882e-01,  1.98374569e+00, -3.34360075e-01, -3.29289568e-02,\n",
       "        8.65555504e-01, -4.70031291e-01,  4.29184487e-01, -1.48162575e+00,\n",
       "        4.85467431e-01, -3.99045348e-01, -1.44252107e+00,  7.82511892e-01,\n",
       "       -4.06325204e-01,  2.11608145e-01,  5.64094131e-01,  1.27792840e+00,\n",
       "        5.00195321e-01, -9.52478929e-01, -2.37427315e+00,  2.16295061e-01,\n",
       "        3.98254154e-01,  5.26394610e-02, -4.28483758e-01, -5.59603595e-01,\n",
       "        1.05047503e+00,  3.42852504e-01, -1.10083333e+00, -4.34888618e-01,\n",
       "        6.33528028e-01,  2.61228427e-01, -9.01246768e-01,  2.04362178e+00,\n",
       "        1.45736389e+00,  2.16524017e-01, -1.32272506e+00, -1.12346533e+00])"
      ]
     },
     "execution_count": 13,
     "metadata": {},
     "output_type": "execute_result"
    }
   ],
   "source": [
    "# we have individual offsets\n",
    "individual_effects"
   ]
  },
  {
   "cell_type": "code",
   "execution_count": 14,
   "metadata": {},
   "outputs": [
    {
     "data": {
      "text/plain": [
       "array([[ 1.05988483,  1.05988483,  1.05988483, ...,  1.05988483,\n",
       "         1.05988483,  1.05988483],\n",
       "       [ 1.42714617,  1.42714617,  1.42714617, ...,  1.42714617,\n",
       "         1.42714617,  1.42714617],\n",
       "       [-0.43215685, -0.43215685, -0.43215685, ..., -0.43215685,\n",
       "        -0.43215685, -0.43215685],\n",
       "       ...,\n",
       "       [ 0.21652402,  0.21652402,  0.21652402, ...,  0.21652402,\n",
       "         0.21652402,  0.21652402],\n",
       "       [-1.32272506, -1.32272506, -1.32272506, ..., -1.32272506,\n",
       "        -1.32272506, -1.32272506],\n",
       "       [-1.12346533, -1.12346533, -1.12346533, ..., -1.12346533,\n",
       "        -1.12346533, -1.12346533]])"
      ]
     },
     "execution_count": 14,
     "metadata": {},
     "output_type": "execute_result"
    }
   ],
   "source": [
    "A_indiv # the same offset of all time (but different for each unit)"
   ]
  },
  {
   "cell_type": "markdown",
   "metadata": {},
   "source": [
    "The outcome is the sum of a time trend and individual effects."
   ]
  },
  {
   "cell_type": "code",
   "execution_count": 15,
   "metadata": {},
   "outputs": [],
   "source": [
    "# Now, we'll have the probability of being assigned to treatment depend on Z\n",
    "p_d = 1. / (1. + np.exp(-Z))\n",
    "D_star = np.random.binomial(1, p=p_d)\n",
    "\n",
    "# We need the time-series treatment assignments now. The treatment turns on and\n",
    "# stays on. Let's start by having them all turn on at the same time, to build some\n",
    "# intuition. Then we'll turn them on at random times. \n",
    "#\n",
    "# The assignment matrix has the same dimensions as the outcome matrix.\n",
    "\n",
    "D = np.zeros(shape=Y_0.shape)\n",
    "for i in range(units):\n",
    "    for t in range(time_steps):\n",
    "        if D_star[i] and t > 0:\n",
    "            ## modify the remainder of this block to get random start times.\n",
    "            if t == time_steps - 1 or D[i][t-1] == 1:\n",
    "                D[i][t] = 1\n",
    "            else:\n",
    "                if t == int(float(time_steps) / 2.):\n",
    "                    D[i][t] = 1  # np.random.binomial(1, p=1./float(time_steps))\n",
    "                else:\n",
    "                    D[i][t] = 0"
   ]
  },
  {
   "cell_type": "markdown",
   "metadata": {},
   "source": [
    "Why do we add `A_indiv` again to Y_1, since it is included in Y_0?"
   ]
  },
  {
   "cell_type": "code",
   "execution_count": 23,
   "metadata": {},
   "outputs": [],
   "source": [
    "# The treatment effect for each unit is a constant plus their Z, so we get confounding.\n",
    "delta = 2.\n",
    "Y_1 = Y_0 + delta + A_indiv\n",
    "Y = (D==1)*Y_1 + (D==0)*Y_0"
   ]
  },
  {
   "cell_type": "code",
   "execution_count": 27,
   "metadata": {},
   "outputs": [
    {
     "data": {
      "image/png": "[encoded data removed]",
      "text/plain": [
       "<Figure size 432x288 with 1 Axes>"
      ]
     },
     "metadata": {},
     "output_type": "display_data"
    }
   ],
   "source": [
    "# Naive expected values\n",
    "\n",
    "df = pd.DataFrame(Y)\n",
    "df['$D^*$'] = D_star\n",
    "d0 = df[df['$D^*$'] == 0]\n",
    "d1 = df[df['$D^*$'] == 1]\n",
    "del d0['$D^*$'], d1['$D^*$']\n",
    "d0.mean(axis=0).plot()\n",
    "d1.mean(axis=0).plot();"
   ]
  },
  {
   "cell_type": "code",
   "execution_count": 18,
   "metadata": {},
   "outputs": [
    {
     "data": {
      "image/png": "[encoded data removed]",
      "text/plain": [
       "<Figure size 432x288 with 1 Axes>"
      ]
     },
     "metadata": {},
     "output_type": "display_data"
    }
   ],
   "source": [
    "# Naive effect\n",
    "\n",
    "# We have nobody in the test state before t=25, so we just get the\n",
    "# Y_0 baseline difference between the D=1 and D=0 groups at t < 25.\n",
    "# Afterward, we get the difference of E[Y_t|D=1] - E[Y_t|D=0]\n",
    "\n",
    "df = pd.DataFrame(Y)\n",
    "df['$D^*$'] = D_star\n",
    "d0 = df[df['$D^*$'] == 0]\n",
    "d1 = df[df['$D^*$'] == 1]\n",
    "del d0['$D^*$'], d1['$D^*$']\n",
    "(d1.T.mean(axis=1) - d0.T.mean(axis=1)).plot();\n"
   ]
  },
  {
   "cell_type": "code",
   "execution_count": 19,
   "metadata": {},
   "outputs": [
    {
     "data": {
      "image/png": "[encoded data removed]",
      "text/plain": [
       "<Figure size 432x288 with 1 Axes>"
      ]
     },
     "metadata": {},
     "output_type": "display_data"
    }
   ],
   "source": [
    "# True Effect\n",
    "\n",
    "pd.DataFrame({'$E[\\delta_t]$': (Y_1 - Y_0).mean(axis=0), \n",
    "              't': range(Y_0.shape[1])}).plot(x='t');"
   ]
  },
  {
   "cell_type": "code",
   "execution_count": 20,
   "metadata": {},
   "outputs": [
    {
     "data": {
      "image/png": "[encoded data removed]",
      "text/plain": [
       "<Figure size 432x288 with 1 Axes>"
      ]
     },
     "metadata": {},
     "output_type": "display_data"
    }
   ],
   "source": [
    "# For completeness, let's also check out the expected outcome over the whole population:\n",
    "\n",
    "expected_outcome = Y.mean(axis=0)\n",
    "pd.DataFrame({'$E[Y]$': expected_outcome, 't': range(expected_outcome.shape[0])}).plot(x='t');"
   ]
  },
  {
   "cell_type": "code",
   "execution_count": 21,
   "metadata": {},
   "outputs": [
    {
     "data": {
      "text/plain": [
       "array([  0.,   0.,   0.,   0.,   0.,   0.,   0.,   0.,   0.,   0.,   0.,\n",
       "         0.,   0.,   0.,   0.,   0.,   0.,   0.,   0.,   0.,   0.,   0.,\n",
       "         0.,   0.,   0.,   0., 509., 509., 509., 509., 509., 509., 509.,\n",
       "       509., 509., 509., 509., 509., 509., 509., 509., 509., 509., 509.,\n",
       "       509., 509., 509., 509., 509., 509., 509., 509.])"
      ]
     },
     "execution_count": 21,
     "metadata": {},
     "output_type": "execute_result"
    }
   ],
   "source": [
    "# And the number of treated units vs. time:\n",
    "\n",
    "D.sum(axis=0)"
   ]
  },
  {
   "cell_type": "markdown",
   "metadata": {},
   "source": [
    "Now, we'll do propensity score matching on Z to match control units to test units to estimate the ATT. Since the confounding is constant with time, we can just match units (otherwise their propensities would vary over time, and matches might change!)"
   ]
  },
  {
   "cell_type": "code",
   "execution_count": 22,
   "metadata": {},
   "outputs": [],
   "source": [
    "# ... "
   ]
  },
  {
   "cell_type": "code",
   "execution_count": null,
   "metadata": {},
   "outputs": [],
   "source": []
  }
 ],
 "metadata": {
  "kernelspec": {
   "display_name": "Python 3",
   "language": "python",
   "name": "python3"
  },
  "language_info": {
   "codemirror_mode": {
    "name": "ipython",
    "version": 3
   },
   "file_extension": ".py",
   "mimetype": "text/x-python",
   "name": "python",
   "nbconvert_exporter": "python",
   "pygments_lexer": "ipython3",
   "version": "3.6.5"
  }
 },
 "nbformat": 4,
 "nbformat_minor": 2
}
