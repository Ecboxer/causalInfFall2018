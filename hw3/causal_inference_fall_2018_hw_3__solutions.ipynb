{
 "cells": [
  {
   "cell_type": "code",
   "execution_count": 1,
   "metadata": {
    "ExecuteTime": {
     "end_time": "2018-12-20T15:45:22.191804Z",
     "start_time": "2018-12-20T15:45:21.876446Z"
    }
   },
   "outputs": [],
   "source": [
    "%matplotlib inline"
   ]
  },
  {
   "cell_type": "code",
   "execution_count": 23,
   "metadata": {
    "ExecuteTime": {
     "end_time": "2018-12-20T15:45:55.326157Z",
     "start_time": "2018-12-20T15:45:55.321497Z"
    }
   },
   "outputs": [],
   "source": [
    "import numpy as np\n",
    "import pandas as pd"
   ]
  },
  {
   "cell_type": "markdown",
   "metadata": {},
   "source": [
    "Use the following data generating process to answer each of the following questions:"
   ]
  },
  {
   "cell_type": "code",
   "execution_count": 3,
   "metadata": {
    "ExecuteTime": {
     "end_time": "2018-12-20T15:45:22.435557Z",
     "start_time": "2018-12-20T15:45:22.386253Z"
    }
   },
   "outputs": [],
   "source": [
    "N = 10000\n",
    "\n",
    "z1 = np.random.normal(size=N)\n",
    "z2 = np.random.normal(size=N)\n",
    "\n",
    "p_d = 1. / (1. + np.exp(-(z1 + z2)))\n",
    "d = np.random.binomial(1, p=p_d)\n",
    "\n",
    "y0 = np.random.normal(z1 + z2)\n",
    "y1 = y0 + (z1 + z2)**2. + 1.\n",
    "y = (d==0) * y0 + (d==1) * y1\n",
    "\n",
    "df = pd.DataFrame({'z1': z1, 'z2': z2, 'd': d, 'y': y, 'y1': y1, 'y0': y0})"
   ]
  },
  {
   "cell_type": "code",
   "execution_count": 4,
   "metadata": {
    "ExecuteTime": {
     "end_time": "2018-12-20T15:45:22.470586Z",
     "start_time": "2018-12-20T15:45:22.441921Z"
    },
    "scrolled": true
   },
   "outputs": [
    {
     "data": {
      "text/html": [
       "<div>\n",
       "<style scoped>\n",
       "    .dataframe tbody tr th:only-of-type {\n",
       "        vertical-align: middle;\n",
       "    }\n",
       "\n",
       "    .dataframe tbody tr th {\n",
       "        vertical-align: top;\n",
       "    }\n",
       "\n",
       "    .dataframe thead th {\n",
       "        text-align: right;\n",
       "    }\n",
       "</style>\n",
       "<table border=\"1\" class=\"dataframe\">\n",
       "  <thead>\n",
       "    <tr style=\"text-align: right;\">\n",
       "      <th></th>\n",
       "      <th>z1</th>\n",
       "      <th>z2</th>\n",
       "      <th>d</th>\n",
       "      <th>y</th>\n",
       "      <th>y1</th>\n",
       "      <th>y0</th>\n",
       "    </tr>\n",
       "  </thead>\n",
       "  <tbody>\n",
       "    <tr>\n",
       "      <th>z1</th>\n",
       "      <td>1.000000</td>\n",
       "      <td>0.004913</td>\n",
       "      <td>0.381305</td>\n",
       "      <td>0.568586</td>\n",
       "      <td>0.284009</td>\n",
       "      <td>0.574164</td>\n",
       "    </tr>\n",
       "    <tr>\n",
       "      <th>z2</th>\n",
       "      <td>0.004913</td>\n",
       "      <td>1.000000</td>\n",
       "      <td>0.363188</td>\n",
       "      <td>0.583229</td>\n",
       "      <td>0.286727</td>\n",
       "      <td>0.588744</td>\n",
       "    </tr>\n",
       "    <tr>\n",
       "      <th>d</th>\n",
       "      <td>0.381305</td>\n",
       "      <td>0.363188</td>\n",
       "      <td>1.000000</td>\n",
       "      <td>0.610646</td>\n",
       "      <td>0.207459</td>\n",
       "      <td>0.425639</td>\n",
       "    </tr>\n",
       "    <tr>\n",
       "      <th>y</th>\n",
       "      <td>0.568586</td>\n",
       "      <td>0.583229</td>\n",
       "      <td>0.610646</td>\n",
       "      <td>1.000000</td>\n",
       "      <td>0.729131</td>\n",
       "      <td>0.822130</td>\n",
       "    </tr>\n",
       "    <tr>\n",
       "      <th>y1</th>\n",
       "      <td>0.284009</td>\n",
       "      <td>0.286727</td>\n",
       "      <td>0.207459</td>\n",
       "      <td>0.729131</td>\n",
       "      <td>1.000000</td>\n",
       "      <td>0.509059</td>\n",
       "    </tr>\n",
       "    <tr>\n",
       "      <th>y0</th>\n",
       "      <td>0.574164</td>\n",
       "      <td>0.588744</td>\n",
       "      <td>0.425639</td>\n",
       "      <td>0.822130</td>\n",
       "      <td>0.509059</td>\n",
       "      <td>1.000000</td>\n",
       "    </tr>\n",
       "  </tbody>\n",
       "</table>\n",
       "</div>"
      ],
      "text/plain": [
       "          z1        z2         d         y        y1        y0\n",
       "z1  1.000000  0.004913  0.381305  0.568586  0.284009  0.574164\n",
       "z2  0.004913  1.000000  0.363188  0.583229  0.286727  0.588744\n",
       "d   0.381305  0.363188  1.000000  0.610646  0.207459  0.425639\n",
       "y   0.568586  0.583229  0.610646  1.000000  0.729131  0.822130\n",
       "y1  0.284009  0.286727  0.207459  0.729131  1.000000  0.509059\n",
       "y0  0.574164  0.588744  0.425639  0.822130  0.509059  1.000000"
      ]
     },
     "execution_count": 4,
     "metadata": {},
     "output_type": "execute_result"
    }
   ],
   "source": [
    "df.corr()"
   ]
  },
  {
   "cell_type": "markdown",
   "metadata": {},
   "source": [
    "## 1. For this data generating process,\n",
    "\n",
    "a) Is there a set of covariates, $Z$, that satisfies the back-door criterion for the effect of $d$ on $y$?\n",
    "\n"
   ]
  },
  {
   "cell_type": "code",
   "execution_count": 26,
   "metadata": {
    "ExecuteTime": {
     "end_time": "2018-12-20T15:49:05.823570Z",
     "start_time": "2018-12-20T15:49:05.772127Z"
    }
   },
   "outputs": [
    {
     "data": {
      "image/svg+xml": [
       "<?xml version=\"1.0\" encoding=\"UTF-8\" standalone=\"no\"?>\n",
       "<!DOCTYPE svg PUBLIC \"-//W3C//DTD SVG 1.1//EN\"\n",
       " \"http://www.w3.org/Graphics/SVG/1.1/DTD/svg11.dtd\">\n",
       "<!-- Generated by graphviz version 2.40.1 (20161225.0304)\n",
       " -->\n",
       "<!-- Title: %3 Pages: 1 -->\n",
       "<svg width=\"143pt\" height=\"188pt\"\n",
       " viewBox=\"0.00 0.00 143.00 188.00\" xmlns=\"http://www.w3.org/2000/svg\" xmlns:xlink=\"http://www.w3.org/1999/xlink\">\n",
       "<g id=\"graph0\" class=\"graph\" transform=\"scale(1 1) rotate(0) translate(4 184)\">\n",
       "<title>%3</title>\n",
       "<polygon fill=\"#ffffff\" stroke=\"transparent\" points=\"-4,4 -4,-184 139,-184 139,4 -4,4\"/>\n",
       "<!-- y -->\n",
       "<g id=\"node1\" class=\"node\">\n",
       "<title>y</title>\n",
       "<ellipse fill=\"none\" stroke=\"#000000\" cx=\"63\" cy=\"-18\" rx=\"27\" ry=\"18\"/>\n",
       "<text text-anchor=\"middle\" x=\"63\" y=\"-14.3\" font-family=\"Times,serif\" font-size=\"14.00\" fill=\"#000000\">y</text>\n",
       "</g>\n",
       "<!-- d -->\n",
       "<g id=\"node2\" class=\"node\">\n",
       "<title>d</title>\n",
       "<ellipse fill=\"none\" stroke=\"#000000\" cx=\"63\" cy=\"-90\" rx=\"27\" ry=\"18\"/>\n",
       "<text text-anchor=\"middle\" x=\"63\" y=\"-86.3\" font-family=\"Times,serif\" font-size=\"14.00\" fill=\"#000000\">d</text>\n",
       "</g>\n",
       "<!-- d&#45;&gt;y -->\n",
       "<g id=\"edge5\" class=\"edge\">\n",
       "<title>d&#45;&gt;y</title>\n",
       "<path fill=\"none\" stroke=\"#000000\" d=\"M63,-71.8314C63,-64.131 63,-54.9743 63,-46.4166\"/>\n",
       "<polygon fill=\"#000000\" stroke=\"#000000\" points=\"66.5001,-46.4132 63,-36.4133 59.5001,-46.4133 66.5001,-46.4132\"/>\n",
       "</g>\n",
       "<!-- z1 -->\n",
       "<g id=\"node3\" class=\"node\">\n",
       "<title>z1</title>\n",
       "<ellipse fill=\"none\" stroke=\"#000000\" cx=\"27\" cy=\"-162\" rx=\"27\" ry=\"18\"/>\n",
       "<text text-anchor=\"middle\" x=\"27\" y=\"-158.3\" font-family=\"Times,serif\" font-size=\"14.00\" fill=\"#000000\">z1</text>\n",
       "</g>\n",
       "<!-- z1&#45;&gt;y -->\n",
       "<g id=\"edge2\" class=\"edge\">\n",
       "<title>z1&#45;&gt;y</title>\n",
       "<path fill=\"none\" stroke=\"#000000\" d=\"M23.9883,-143.9637C21.5895,-125.4666 19.7101,-96.0768 27,-72 30.2661,-61.2127 36.4764,-50.6108 42.8313,-41.6963\"/>\n",
       "<polygon fill=\"#000000\" stroke=\"#000000\" points=\"45.6285,-43.8001 48.8771,-33.7156 40.0487,-39.5732 45.6285,-43.8001\"/>\n",
       "</g>\n",
       "<!-- z1&#45;&gt;d -->\n",
       "<g id=\"edge1\" class=\"edge\">\n",
       "<title>z1&#45;&gt;d</title>\n",
       "<path fill=\"none\" stroke=\"#000000\" d=\"M35.7146,-144.5708C39.9597,-136.0807 45.1536,-125.6929 49.8663,-116.2674\"/>\n",
       "<polygon fill=\"#000000\" stroke=\"#000000\" points=\"53.024,-117.7782 54.3657,-107.2687 46.763,-114.6477 53.024,-117.7782\"/>\n",
       "</g>\n",
       "<!-- z2 -->\n",
       "<g id=\"node4\" class=\"node\">\n",
       "<title>z2</title>\n",
       "<ellipse fill=\"none\" stroke=\"#000000\" cx=\"108\" cy=\"-162\" rx=\"27\" ry=\"18\"/>\n",
       "<text text-anchor=\"middle\" x=\"108\" y=\"-158.3\" font-family=\"Times,serif\" font-size=\"14.00\" fill=\"#000000\">z2</text>\n",
       "</g>\n",
       "<!-- z2&#45;&gt;y -->\n",
       "<g id=\"edge4\" class=\"edge\">\n",
       "<title>z2&#45;&gt;y</title>\n",
       "<path fill=\"none\" stroke=\"#000000\" d=\"M108.7226,-143.8501C108.885,-125.2626 107.5225,-95.8019 99,-72 95.2398,-61.4982 89.004,-51.0431 82.7697,-42.1692\"/>\n",
       "<polygon fill=\"#000000\" stroke=\"#000000\" points=\"85.393,-39.8305 76.6276,-33.8791 79.7685,-43.9977 85.393,-39.8305\"/>\n",
       "</g>\n",
       "<!-- z2&#45;&gt;d -->\n",
       "<g id=\"edge3\" class=\"edge\">\n",
       "<title>z2&#45;&gt;d</title>\n",
       "<path fill=\"none\" stroke=\"#000000\" d=\"M97.563,-145.3008C92.0765,-136.5224 85.2314,-125.5703 79.0837,-115.7339\"/>\n",
       "<polygon fill=\"#000000\" stroke=\"#000000\" points=\"81.9609,-113.7336 73.6929,-107.1086 76.0249,-117.4436 81.9609,-113.7336\"/>\n",
       "</g>\n",
       "</g>\n",
       "</svg>\n"
      ],
      "text/plain": [
       "<graphviz.dot.Digraph at 0x7f7ee83969b0>"
      ]
     },
     "execution_count": 26,
     "metadata": {},
     "output_type": "execute_result"
    }
   ],
   "source": [
    "from causalgraphicalmodels import CausalGraphicalModel\n",
    "G = CausalGraphicalModel(\n",
    "    nodes=['z1', 'z2', 'd', 'y'],\n",
    "    edges=[\n",
    "        ('z1', 'd'),\n",
    "        ('z2', 'd'),\n",
    "        ('z1', 'y'),\n",
    "        ('z2', 'y'),\n",
    "        ('d', 'y')\n",
    "    ]\n",
    ")\n",
    "G.draw()"
   ]
  },
  {
   "cell_type": "code",
   "execution_count": 29,
   "metadata": {
    "ExecuteTime": {
     "end_time": "2018-12-20T15:49:53.659322Z",
     "start_time": "2018-12-20T15:49:53.648191Z"
    }
   },
   "outputs": [
    {
     "data": {
      "text/plain": [
       "frozenset({frozenset({'z1', 'z2'})})"
      ]
     },
     "execution_count": 29,
     "metadata": {},
     "output_type": "execute_result"
    }
   ],
   "source": [
    "G.get_all_backdoor_adjustment_sets('d', 'y')"
   ]
  },
  {
   "cell_type": "markdown",
   "metadata": {},
   "source": [
    "Yes. The set $Z = {z1, z2}$ block the back-door paths $d \\leftarrow z1 \\rightarrow y$, and $d \\leftarrow z2 \\rightarrow y$."
   ]
  },
  {
   "cell_type": "markdown",
   "metadata": {},
   "source": [
    "b) What is the true ATE?"
   ]
  },
  {
   "cell_type": "markdown",
   "metadata": {},
   "source": [
    "It's the expected value of $Y_1 - Y_0$, which is $E[1 + (z_1 + z_2)^2] = 3.03$"
   ]
  },
  {
   "cell_type": "code",
   "execution_count": 5,
   "metadata": {
    "ExecuteTime": {
     "end_time": "2018-12-20T15:45:22.476603Z",
     "start_time": "2018-12-20T15:45:22.472220Z"
    }
   },
   "outputs": [
    {
     "data": {
      "text/plain": [
       "3.042201607411307"
      ]
     },
     "execution_count": 5,
     "metadata": {},
     "output_type": "execute_result"
    }
   ],
   "source": [
    "((z1 + z2)**2. + 1.).mean()"
   ]
  },
  {
   "cell_type": "markdown",
   "metadata": {},
   "source": [
    "## 2. For a back-door set $Z$ for this process, \n",
    "\n",
    "a) determine whether the requirement $P(Z, d) > 0$ is satisfied. \n",
    "\n",
    "b) Why is this a requirement for estimating the ATE of $d$ on $y$? \n",
    "\n",
    "c) What can we do if it isn't satisfied (hint: is there a CATE we might still care about?)?"
   ]
  },
  {
   "cell_type": "code",
   "execution_count": 30,
   "metadata": {
    "ExecuteTime": {
     "end_time": "2018-12-20T15:50:52.575029Z",
     "start_time": "2018-12-20T15:50:52.139733Z"
    }
   },
   "outputs": [
    {
     "data": {
      "text/plain": [
       "d\n",
       "0    [[AxesSubplot(0.125,0.125;0.336957x0.755), Axe...\n",
       "1    [[AxesSubplot(0.125,0.125;0.336957x0.755), Axe...\n",
       "dtype: object"
      ]
     },
     "execution_count": 30,
     "metadata": {},
     "output_type": "execute_result"
    },
    {
     "data": {
      "image/png": "[encoded data removed]",
      "text/plain": [
       "<Figure size 432x288 with 2 Axes>"
      ]
     },
     "metadata": {},
     "output_type": "display_data"
    },
    {
     "data": {
      "image/png": "[encoded data removed]",
      "text/plain": [
       "<Figure size 432x288 with 2 Axes>"
      ]
     },
     "metadata": {},
     "output_type": "display_data"
    }
   ],
   "source": [
    "# 2.a We can look at P(Z|d), which will be a little easier.\n",
    "\n",
    "df[['z1','z2', 'd']].groupby('d').hist()"
   ]
  },
  {
   "cell_type": "markdown",
   "metadata": {},
   "source": [
    "Visually it looks like there's good support overlap. We can also check the data directly:"
   ]
  },
  {
   "cell_type": "code",
   "execution_count": 7,
   "metadata": {
    "ExecuteTime": {
     "end_time": "2018-12-20T15:45:23.050024Z",
     "start_time": "2018-12-20T15:45:23.002359Z"
    },
    "scrolled": true
   },
   "outputs": [
    {
     "data": {
      "text/html": [
       "<div>\n",
       "<style scoped>\n",
       "    .dataframe tbody tr th:only-of-type {\n",
       "        vertical-align: middle;\n",
       "    }\n",
       "\n",
       "    .dataframe tbody tr th {\n",
       "        vertical-align: top;\n",
       "    }\n",
       "\n",
       "    .dataframe thead tr th {\n",
       "        text-align: left;\n",
       "    }\n",
       "\n",
       "    .dataframe thead tr:last-of-type th {\n",
       "        text-align: right;\n",
       "    }\n",
       "</style>\n",
       "<table border=\"1\" class=\"dataframe\">\n",
       "  <thead>\n",
       "    <tr>\n",
       "      <th></th>\n",
       "      <th colspan=\"8\" halign=\"left\">z1</th>\n",
       "      <th colspan=\"8\" halign=\"left\">z2</th>\n",
       "    </tr>\n",
       "    <tr>\n",
       "      <th></th>\n",
       "      <th>count</th>\n",
       "      <th>mean</th>\n",
       "      <th>std</th>\n",
       "      <th>min</th>\n",
       "      <th>25%</th>\n",
       "      <th>50%</th>\n",
       "      <th>75%</th>\n",
       "      <th>max</th>\n",
       "      <th>count</th>\n",
       "      <th>mean</th>\n",
       "      <th>std</th>\n",
       "      <th>min</th>\n",
       "      <th>25%</th>\n",
       "      <th>50%</th>\n",
       "      <th>75%</th>\n",
       "      <th>max</th>\n",
       "    </tr>\n",
       "    <tr>\n",
       "      <th>d</th>\n",
       "      <th></th>\n",
       "      <th></th>\n",
       "      <th></th>\n",
       "      <th></th>\n",
       "      <th></th>\n",
       "      <th></th>\n",
       "      <th></th>\n",
       "      <th></th>\n",
       "      <th></th>\n",
       "      <th></th>\n",
       "      <th></th>\n",
       "      <th></th>\n",
       "      <th></th>\n",
       "      <th></th>\n",
       "      <th></th>\n",
       "      <th></th>\n",
       "    </tr>\n",
       "  </thead>\n",
       "  <tbody>\n",
       "    <tr>\n",
       "      <th>0</th>\n",
       "      <td>5044.0</td>\n",
       "      <td>-0.381505</td>\n",
       "      <td>0.927005</td>\n",
       "      <td>-3.487244</td>\n",
       "      <td>-1.002230</td>\n",
       "      <td>-0.370300</td>\n",
       "      <td>0.237676</td>\n",
       "      <td>2.919922</td>\n",
       "      <td>5044.0</td>\n",
       "      <td>-0.394660</td>\n",
       "      <td>0.952755</td>\n",
       "      <td>-4.407524</td>\n",
       "      <td>-1.024635</td>\n",
       "      <td>-0.386480</td>\n",
       "      <td>0.247627</td>\n",
       "      <td>2.698753</td>\n",
       "    </tr>\n",
       "    <tr>\n",
       "      <th>1</th>\n",
       "      <td>4956.0</td>\n",
       "      <td>0.380674</td>\n",
       "      <td>0.920895</td>\n",
       "      <td>-3.151905</td>\n",
       "      <td>-0.245305</td>\n",
       "      <td>0.389748</td>\n",
       "      <td>0.997128</td>\n",
       "      <td>3.285680</td>\n",
       "      <td>4956.0</td>\n",
       "      <td>0.343407</td>\n",
       "      <td>0.940639</td>\n",
       "      <td>-2.869097</td>\n",
       "      <td>-0.299962</td>\n",
       "      <td>0.336131</td>\n",
       "      <td>0.975034</td>\n",
       "      <td>3.931089</td>\n",
       "    </tr>\n",
       "  </tbody>\n",
       "</table>\n",
       "</div>"
      ],
      "text/plain": [
       "       z1                                                              \\\n",
       "    count      mean       std       min       25%       50%       75%   \n",
       "d                                                                       \n",
       "0  5044.0 -0.381505  0.927005 -3.487244 -1.002230 -0.370300  0.237676   \n",
       "1  4956.0  0.380674  0.920895 -3.151905 -0.245305  0.389748  0.997128   \n",
       "\n",
       "                 z2                                                    \\\n",
       "        max   count      mean       std       min       25%       50%   \n",
       "d                                                                       \n",
       "0  2.919922  5044.0 -0.394660  0.952755 -4.407524 -1.024635 -0.386480   \n",
       "1  3.285680  4956.0  0.343407  0.940639 -2.869097 -0.299962  0.336131   \n",
       "\n",
       "                       \n",
       "        75%       max  \n",
       "d                      \n",
       "0  0.247627  2.698753  \n",
       "1  0.975034  3.931089  "
      ]
     },
     "execution_count": 7,
     "metadata": {},
     "output_type": "execute_result"
    }
   ],
   "source": [
    "df[['z1','z2', 'd']].groupby('d').describe()"
   ]
  },
  {
   "cell_type": "markdown",
   "metadata": {},
   "source": [
    "So we can see the distributions don't overlap especially well. \n"
   ]
  },
  {
   "cell_type": "markdown",
   "metadata": {},
   "source": [
    "**2 b** : This is a requirement because we need to observe treatment and control cases at the same levels of Z so we can match units. Alternatively, because the do() operation requires division by P(D, Z), so we need it to be nonzero so the do() operation is defined."
   ]
  },
  {
   "cell_type": "code",
   "execution_count": 31,
   "metadata": {
    "ExecuteTime": {
     "end_time": "2018-12-20T15:57:50.335282Z",
     "start_time": "2018-12-20T15:57:50.284694Z"
    }
   },
   "outputs": [
    {
     "data": {
      "image/svg+xml": [
       "<?xml version=\"1.0\" encoding=\"UTF-8\" standalone=\"no\"?>\n",
       "<!DOCTYPE svg PUBLIC \"-//W3C//DTD SVG 1.1//EN\"\n",
       " \"http://www.w3.org/Graphics/SVG/1.1/DTD/svg11.dtd\">\n",
       "<!-- Generated by graphviz version 2.40.1 (20161225.0304)\n",
       " -->\n",
       "<!-- Title: %3 Pages: 1 -->\n",
       "<svg width=\"214pt\" height=\"124pt\"\n",
       " viewBox=\"0.00 0.00 214.00 124.00\" xmlns=\"http://www.w3.org/2000/svg\" xmlns:xlink=\"http://www.w3.org/1999/xlink\">\n",
       "<g id=\"graph0\" class=\"graph\" transform=\"scale(1 1) rotate(0) translate(4 120)\">\n",
       "<title>%3</title>\n",
       "<polygon fill=\"#ffffff\" stroke=\"transparent\" points=\"-4,4 -4,-120 210,-120 210,4 -4,4\"/>\n",
       "<!-- y -->\n",
       "<g id=\"node1\" class=\"node\">\n",
       "<title>y</title>\n",
       "<ellipse fill=\"none\" stroke=\"#000000\" cx=\"107\" cy=\"-18\" rx=\"27\" ry=\"18\"/>\n",
       "<text text-anchor=\"middle\" x=\"107\" y=\"-14.3\" font-family=\"Times,serif\" font-size=\"14.00\" fill=\"#000000\">y</text>\n",
       "</g>\n",
       "<!-- d -->\n",
       "<g id=\"node2\" class=\"node\">\n",
       "<title>d</title>\n",
       "<ellipse fill=\"none\" stroke=\"#000000\" cx=\"31\" cy=\"-94\" rx=\"27\" ry=\"18\"/>\n",
       "<ellipse fill=\"none\" stroke=\"#000000\" cx=\"31\" cy=\"-94\" rx=\"31\" ry=\"22\"/>\n",
       "<text text-anchor=\"middle\" x=\"31\" y=\"-90.3\" font-family=\"Times,serif\" font-size=\"14.00\" fill=\"#000000\">d</text>\n",
       "</g>\n",
       "<!-- d&#45;&gt;y -->\n",
       "<g id=\"edge1\" class=\"edge\">\n",
       "<title>d&#45;&gt;y</title>\n",
       "<path fill=\"none\" stroke=\"#000000\" d=\"M49.0109,-75.9891C59.6692,-65.3308 73.2604,-51.7396 84.6055,-40.3945\"/>\n",
       "<polygon fill=\"#000000\" stroke=\"#000000\" points=\"87.0869,-42.8628 91.6831,-33.3169 82.1372,-37.9131 87.0869,-42.8628\"/>\n",
       "</g>\n",
       "<!-- z1 -->\n",
       "<g id=\"node3\" class=\"node\">\n",
       "<title>z1</title>\n",
       "<ellipse fill=\"none\" stroke=\"#000000\" cx=\"107\" cy=\"-94\" rx=\"27\" ry=\"18\"/>\n",
       "<text text-anchor=\"middle\" x=\"107\" y=\"-90.3\" font-family=\"Times,serif\" font-size=\"14.00\" fill=\"#000000\">z1</text>\n",
       "</g>\n",
       "<!-- z1&#45;&gt;y -->\n",
       "<g id=\"edge2\" class=\"edge\">\n",
       "<title>z1&#45;&gt;y</title>\n",
       "<path fill=\"none\" stroke=\"#000000\" d=\"M107,-75.9891C107,-67.1566 107,-56.3099 107,-46.3965\"/>\n",
       "<polygon fill=\"#000000\" stroke=\"#000000\" points=\"110.5001,-46.145 107,-36.145 103.5001,-46.1451 110.5001,-46.145\"/>\n",
       "</g>\n",
       "<!-- z2 -->\n",
       "<g id=\"node4\" class=\"node\">\n",
       "<title>z2</title>\n",
       "<ellipse fill=\"none\" stroke=\"#000000\" cx=\"179\" cy=\"-94\" rx=\"27\" ry=\"18\"/>\n",
       "<text text-anchor=\"middle\" x=\"179\" y=\"-90.3\" font-family=\"Times,serif\" font-size=\"14.00\" fill=\"#000000\">z2</text>\n",
       "</g>\n",
       "<!-- z2&#45;&gt;y -->\n",
       "<g id=\"edge3\" class=\"edge\">\n",
       "<title>z2&#45;&gt;y</title>\n",
       "<path fill=\"none\" stroke=\"#000000\" d=\"M164.4297,-78.6203C154.1826,-67.8039 140.2935,-53.1432 128.741,-40.9489\"/>\n",
       "<polygon fill=\"#000000\" stroke=\"#000000\" points=\"130.9669,-38.2093 121.5486,-33.3569 125.8852,-43.0235 130.9669,-38.2093\"/>\n",
       "</g>\n",
       "</g>\n",
       "</svg>\n"
      ],
      "text/plain": [
       "<graphviz.dot.Digraph at 0x7f7ee8117a20>"
      ]
     },
     "execution_count": 31,
     "metadata": {},
     "output_type": "execute_result"
    }
   ],
   "source": [
    "G_do = G.do('d')\n",
    "G_do.draw()"
   ]
  },
  {
   "cell_type": "markdown",
   "metadata": {},
   "source": [
    "\n",
    "**2 c**: We can proceed in two ways:\n",
    "\n",
    "1. avoid the problem by assuming our model for P(d|Z) extrapolates into the region for which we have no data, or\n",
    "2. constrain the data to the region of support overlap, and measure the ATE conditional on z1 and z2 falling within this region.\n",
    "\n",
    "I'll take the second approach below."
   ]
  },
  {
   "cell_type": "markdown",
   "metadata": {},
   "source": [
    "## 3.  Propensity score matching: Using R or Python, \n",
    "\n",
    "a) use propensity score matching to estimate the treatment effect (an ATE or CATE) of $d$ on $y$.\n",
    "\n",
    "b) explain whether you achieved good balance on the covariates and on the propensity scores"
   ]
  },
  {
   "cell_type": "markdown",
   "metadata": {},
   "source": [
    "3a) I'll use the causality package to do the matching."
   ]
  },
  {
   "cell_type": "code",
   "execution_count": 32,
   "metadata": {
    "ExecuteTime": {
     "end_time": "2018-12-20T15:58:52.568355Z",
     "start_time": "2018-12-20T15:58:37.692717Z"
    }
   },
   "outputs": [
    {
     "name": "stdout",
     "output_type": "stream",
     "text": [
      "Optimization terminated successfully.\n",
      "         Current function value: 0.531782\n",
      "         Iterations 6\n"
     ]
    },
    {
     "name": "stderr",
     "output_type": "stream",
     "text": [
      "/home/eric/anaconda3/lib/python3.6/site-packages/pandas/core/frame.py:6201: FutureWarning: Sorting because non-concatenation axis is not aligned. A future version\n",
      "of pandas will change to not sort by default.\n",
      "\n",
      "To accept the future behavior, pass 'sort=True'.\n",
      "\n",
      "To retain the current behavior and silence the warning, pass sort=False\n",
      "\n",
      "  sort=sort)\n"
     ]
    },
    {
     "data": {
      "text/plain": [
       "2.9616322235652555"
      ]
     },
     "execution_count": 32,
     "metadata": {},
     "output_type": "execute_result"
    }
   ],
   "source": [
    "from causality.estimation.parametric import PropensityScoreMatching\n",
    "\n",
    "matcher = PropensityScoreMatching()\n",
    "\n",
    "# the most trivial version is to esimate the ATE directly:\n",
    "\n",
    "matcher.estimate_ATE(df, 'd', 'y', {'z1': 'c', 'z2': 'c'})"
   ]
  },
  {
   "cell_type": "markdown",
   "metadata": {},
   "source": [
    "but we can also score, then match."
   ]
  },
  {
   "cell_type": "code",
   "execution_count": 9,
   "metadata": {
    "ExecuteTime": {
     "end_time": "2018-12-20T15:45:39.194404Z",
     "start_time": "2018-12-20T15:45:39.175825Z"
    }
   },
   "outputs": [
    {
     "name": "stdout",
     "output_type": "stream",
     "text": [
      "Optimization terminated successfully.\n",
      "         Current function value: 0.531782\n",
      "         Iterations 6\n"
     ]
    }
   ],
   "source": [
    "scored = matcher.score(df, {'z1': 'c', 'z2': 'c'}, 'd')"
   ]
  },
  {
   "cell_type": "code",
   "execution_count": 10,
   "metadata": {
    "ExecuteTime": {
     "end_time": "2018-12-20T15:45:39.214780Z",
     "start_time": "2018-12-20T15:45:39.196534Z"
    }
   },
   "outputs": [
    {
     "data": {
      "text/html": [
       "<div>\n",
       "<style scoped>\n",
       "    .dataframe tbody tr th:only-of-type {\n",
       "        vertical-align: middle;\n",
       "    }\n",
       "\n",
       "    .dataframe tbody tr th {\n",
       "        vertical-align: top;\n",
       "    }\n",
       "\n",
       "    .dataframe thead th {\n",
       "        text-align: right;\n",
       "    }\n",
       "</style>\n",
       "<table border=\"1\" class=\"dataframe\">\n",
       "  <thead>\n",
       "    <tr style=\"text-align: right;\">\n",
       "      <th></th>\n",
       "      <th>z1</th>\n",
       "      <th>z2</th>\n",
       "      <th>d</th>\n",
       "      <th>y</th>\n",
       "      <th>y1</th>\n",
       "      <th>y0</th>\n",
       "      <th>propensity score</th>\n",
       "    </tr>\n",
       "  </thead>\n",
       "  <tbody>\n",
       "    <tr>\n",
       "      <th>384</th>\n",
       "      <td>0.274844</td>\n",
       "      <td>-0.573587</td>\n",
       "      <td>1</td>\n",
       "      <td>1.844539</td>\n",
       "      <td>1.844539</td>\n",
       "      <td>0.755292</td>\n",
       "      <td>0.431242</td>\n",
       "    </tr>\n",
       "    <tr>\n",
       "      <th>5590</th>\n",
       "      <td>0.857617</td>\n",
       "      <td>0.823512</td>\n",
       "      <td>1</td>\n",
       "      <td>6.433650</td>\n",
       "      <td>6.433650</td>\n",
       "      <td>2.607457</td>\n",
       "      <td>0.848809</td>\n",
       "    </tr>\n",
       "    <tr>\n",
       "      <th>4691</th>\n",
       "      <td>-0.936347</td>\n",
       "      <td>0.064845</td>\n",
       "      <td>0</td>\n",
       "      <td>0.188861</td>\n",
       "      <td>1.948378</td>\n",
       "      <td>0.188861</td>\n",
       "      <td>0.286053</td>\n",
       "    </tr>\n",
       "    <tr>\n",
       "      <th>2621</th>\n",
       "      <td>1.068273</td>\n",
       "      <td>0.337744</td>\n",
       "      <td>1</td>\n",
       "      <td>4.160124</td>\n",
       "      <td>4.160124</td>\n",
       "      <td>1.183240</td>\n",
       "      <td>0.812068</td>\n",
       "    </tr>\n",
       "    <tr>\n",
       "      <th>4558</th>\n",
       "      <td>0.465942</td>\n",
       "      <td>-0.953846</td>\n",
       "      <td>0</td>\n",
       "      <td>0.367596</td>\n",
       "      <td>1.605646</td>\n",
       "      <td>0.367596</td>\n",
       "      <td>0.388367</td>\n",
       "    </tr>\n",
       "    <tr>\n",
       "      <th>3794</th>\n",
       "      <td>0.318499</td>\n",
       "      <td>0.609932</td>\n",
       "      <td>0</td>\n",
       "      <td>3.295629</td>\n",
       "      <td>5.157613</td>\n",
       "      <td>3.295629</td>\n",
       "      <td>0.720368</td>\n",
       "    </tr>\n",
       "    <tr>\n",
       "      <th>1812</th>\n",
       "      <td>0.920350</td>\n",
       "      <td>0.427149</td>\n",
       "      <td>1</td>\n",
       "      <td>3.122357</td>\n",
       "      <td>3.122357</td>\n",
       "      <td>0.306605</td>\n",
       "      <td>0.801704</td>\n",
       "    </tr>\n",
       "    <tr>\n",
       "      <th>6758</th>\n",
       "      <td>-0.396997</td>\n",
       "      <td>0.087476</td>\n",
       "      <td>0</td>\n",
       "      <td>0.364749</td>\n",
       "      <td>1.460552</td>\n",
       "      <td>0.364749</td>\n",
       "      <td>0.419383</td>\n",
       "    </tr>\n",
       "    <tr>\n",
       "      <th>8685</th>\n",
       "      <td>-0.454331</td>\n",
       "      <td>-0.665772</td>\n",
       "      <td>0</td>\n",
       "      <td>0.930970</td>\n",
       "      <td>3.185600</td>\n",
       "      <td>0.930970</td>\n",
       "      <td>0.243280</td>\n",
       "    </tr>\n",
       "    <tr>\n",
       "      <th>5005</th>\n",
       "      <td>-1.184403</td>\n",
       "      <td>0.274504</td>\n",
       "      <td>1</td>\n",
       "      <td>0.132426</td>\n",
       "      <td>0.132426</td>\n",
       "      <td>-1.695490</td>\n",
       "      <td>0.275523</td>\n",
       "    </tr>\n",
       "  </tbody>\n",
       "</table>\n",
       "</div>"
      ],
      "text/plain": [
       "            z1        z2  d         y        y1        y0  propensity score\n",
       "384   0.274844 -0.573587  1  1.844539  1.844539  0.755292          0.431242\n",
       "5590  0.857617  0.823512  1  6.433650  6.433650  2.607457          0.848809\n",
       "4691 -0.936347  0.064845  0  0.188861  1.948378  0.188861          0.286053\n",
       "2621  1.068273  0.337744  1  4.160124  4.160124  1.183240          0.812068\n",
       "4558  0.465942 -0.953846  0  0.367596  1.605646  0.367596          0.388367\n",
       "3794  0.318499  0.609932  0  3.295629  5.157613  3.295629          0.720368\n",
       "1812  0.920350  0.427149  1  3.122357  3.122357  0.306605          0.801704\n",
       "6758 -0.396997  0.087476  0  0.364749  1.460552  0.364749          0.419383\n",
       "8685 -0.454331 -0.665772  0  0.930970  3.185600  0.930970          0.243280\n",
       "5005 -1.184403  0.274504  1  0.132426  0.132426 -1.695490          0.275523"
      ]
     },
     "execution_count": 10,
     "metadata": {},
     "output_type": "execute_result"
    }
   ],
   "source": [
    "scored.sample(10)"
   ]
  },
  {
   "cell_type": "markdown",
   "metadata": {},
   "source": [
    "Let's check the imbalance before matching ..."
   ]
  },
  {
   "cell_type": "code",
   "execution_count": 11,
   "metadata": {
    "ExecuteTime": {
     "end_time": "2018-12-20T15:45:39.243642Z",
     "start_time": "2018-12-20T15:45:39.216484Z"
    }
   },
   "outputs": [
    {
     "data": {
      "text/plain": [
       "{'z1': 0.8249090544465013, 'z2': 0.779607649928028}"
      ]
     },
     "execution_count": 11,
     "metadata": {},
     "output_type": "execute_result"
    }
   ],
   "source": [
    "matcher.assess_balance(df, 'd', {'z1': 'c', 'z2': 'c'})"
   ]
  },
  {
   "cell_type": "markdown",
   "metadata": {},
   "source": [
    "Now we'll match and check again ..."
   ]
  },
  {
   "cell_type": "code",
   "execution_count": 12,
   "metadata": {
    "ExecuteTime": {
     "end_time": "2018-12-20T15:45:46.505353Z",
     "start_time": "2018-12-20T15:45:39.245406Z"
    },
    "scrolled": true
   },
   "outputs": [
    {
     "name": "stderr",
     "output_type": "stream",
     "text": [
      "/home/eric/anaconda3/lib/python3.6/site-packages/ipykernel_launcher.py:2: FutureWarning: Sorting because non-concatenation axis is not aligned. A future version\n",
      "of pandas will change to not sort by default.\n",
      "\n",
      "To accept the future behavior, pass 'sort=True'.\n",
      "\n",
      "To retain the current behavior and silence the warning, pass sort=False\n",
      "\n",
      "  \n"
     ]
    },
    {
     "data": {
      "text/plain": [
       "{'z1': -0.005015641927506125, 'z2': 0.007678514972785846}"
      ]
     },
     "execution_count": 12,
     "metadata": {},
     "output_type": "execute_result"
    }
   ],
   "source": [
    "treated, matched_controls = matcher.match(df, 'd', match_to='treated')\n",
    "matched = pd.concat([treated, matched_controls])\n",
    "matcher.assess_balance(matched, 'd', {'z1': 'c', 'z2': 'c'})"
   ]
  },
  {
   "cell_type": "markdown",
   "metadata": {},
   "source": [
    "Much better!"
   ]
  },
  {
   "cell_type": "markdown",
   "metadata": {},
   "source": [
    "Now, let's estimate the ATT with these."
   ]
  },
  {
   "cell_type": "code",
   "execution_count": 13,
   "metadata": {
    "ExecuteTime": {
     "end_time": "2018-12-20T15:45:46.513974Z",
     "start_time": "2018-12-20T15:45:46.506920Z"
    }
   },
   "outputs": [
    {
     "data": {
      "text/plain": [
       "2.938731927071378"
      ]
     },
     "execution_count": 13,
     "metadata": {},
     "output_type": "execute_result"
    }
   ],
   "source": [
    "att = (treated['y'] - matched_controls['y']).mean()\n",
    "att"
   ]
  },
  {
   "cell_type": "code",
   "execution_count": 14,
   "metadata": {
    "ExecuteTime": {
     "end_time": "2018-12-20T15:45:54.912145Z",
     "start_time": "2018-12-20T15:45:46.515587Z"
    }
   },
   "outputs": [
    {
     "name": "stderr",
     "output_type": "stream",
     "text": [
      "/home/eric/anaconda3/lib/python3.6/site-packages/ipykernel_launcher.py:2: FutureWarning: Sorting because non-concatenation axis is not aligned. A future version\n",
      "of pandas will change to not sort by default.\n",
      "\n",
      "To accept the future behavior, pass 'sort=True'.\n",
      "\n",
      "To retain the current behavior and silence the warning, pass sort=False\n",
      "\n",
      "  \n"
     ]
    },
    {
     "data": {
      "text/plain": [
       "{'z1': -0.017031448035861648, 'z2': 0.02519326308588352}"
      ]
     },
     "execution_count": 14,
     "metadata": {},
     "output_type": "execute_result"
    }
   ],
   "source": [
    "matched_treated, controls = matcher.match(df, 'd', match_to='control')\n",
    "matched = pd.concat([matched_treated, controls])\n",
    "matcher.assess_balance(matched, 'd', {'z1': 'c', 'z2': 'c'})"
   ]
  },
  {
   "cell_type": "code",
   "execution_count": 15,
   "metadata": {
    "ExecuteTime": {
     "end_time": "2018-12-20T15:45:54.918520Z",
     "start_time": "2018-12-20T15:45:54.913674Z"
    }
   },
   "outputs": [
    {
     "data": {
      "text/plain": [
       "2.9851494089728385"
      ]
     },
     "execution_count": 15,
     "metadata": {},
     "output_type": "execute_result"
    }
   ],
   "source": [
    "atc = (matched_treated['y'] - controls['y']).mean()\n",
    "atc"
   ]
  },
  {
   "cell_type": "code",
   "execution_count": 16,
   "metadata": {
    "ExecuteTime": {
     "end_time": "2018-12-20T15:45:54.924803Z",
     "start_time": "2018-12-20T15:45:54.920232Z"
    }
   },
   "outputs": [
    {
     "data": {
      "text/plain": [
       "0.4956"
      ]
     },
     "execution_count": 16,
     "metadata": {},
     "output_type": "execute_result"
    }
   ],
   "source": [
    "p_d = df['d'].mean()\n",
    "p_d"
   ]
  },
  {
   "cell_type": "code",
   "execution_count": 17,
   "metadata": {
    "ExecuteTime": {
     "end_time": "2018-12-20T15:45:54.940953Z",
     "start_time": "2018-12-20T15:45:54.928548Z"
    }
   },
   "outputs": [
    {
     "data": {
      "text/plain": [
       "2.9621449049424746"
      ]
     },
     "execution_count": 17,
     "metadata": {},
     "output_type": "execute_result"
    }
   ],
   "source": [
    "ate = p_d * att + (1-p_d) * atc\n",
    "ate"
   ]
  },
  {
   "cell_type": "markdown",
   "metadata": {},
   "source": [
    "Pretty good!"
   ]
  },
  {
   "cell_type": "markdown",
   "metadata": {},
   "source": [
    "## 4. Weighted regression: Using R or Python, \n",
    "\n",
    "a) use inverse propensity weighted regression to estimate the same treatement effect as in (3), but don't use doubly robust regression yet. (Hint: the data generating process isn't linear. Be careful about your regression specification!)\n",
    "\n",
    "b) Use a doubly robust estimator to estimate the treatment effect."
   ]
  },
  {
   "cell_type": "markdown",
   "metadata": {},
   "source": [
    "4a) We already have the propensity scores, so we just need to make a WLS regression. statsmodels has a good implementation.\n"
   ]
  },
  {
   "cell_type": "code",
   "execution_count": 18,
   "metadata": {
    "ExecuteTime": {
     "end_time": "2018-12-20T15:45:54.974270Z",
     "start_time": "2018-12-20T15:45:54.945177Z"
    }
   },
   "outputs": [
    {
     "data": {
      "text/html": [
       "<div>\n",
       "<style scoped>\n",
       "    .dataframe tbody tr th:only-of-type {\n",
       "        vertical-align: middle;\n",
       "    }\n",
       "\n",
       "    .dataframe tbody tr th {\n",
       "        vertical-align: top;\n",
       "    }\n",
       "\n",
       "    .dataframe thead th {\n",
       "        text-align: right;\n",
       "    }\n",
       "</style>\n",
       "<table border=\"1\" class=\"dataframe\">\n",
       "  <thead>\n",
       "    <tr style=\"text-align: right;\">\n",
       "      <th></th>\n",
       "      <th>z1</th>\n",
       "      <th>z2</th>\n",
       "      <th>d</th>\n",
       "      <th>y</th>\n",
       "      <th>y1</th>\n",
       "      <th>y0</th>\n",
       "      <th>propensity score</th>\n",
       "    </tr>\n",
       "  </thead>\n",
       "  <tbody>\n",
       "    <tr>\n",
       "      <th>3629</th>\n",
       "      <td>-0.635360</td>\n",
       "      <td>0.789607</td>\n",
       "      <td>0</td>\n",
       "      <td>1.050566</td>\n",
       "      <td>2.074358</td>\n",
       "      <td>1.050566</td>\n",
       "      <td>0.530604</td>\n",
       "    </tr>\n",
       "    <tr>\n",
       "      <th>9582</th>\n",
       "      <td>0.572333</td>\n",
       "      <td>0.889176</td>\n",
       "      <td>1</td>\n",
       "      <td>4.883489</td>\n",
       "      <td>4.883489</td>\n",
       "      <td>1.747484</td>\n",
       "      <td>0.816198</td>\n",
       "    </tr>\n",
       "    <tr>\n",
       "      <th>8856</th>\n",
       "      <td>-0.221257</td>\n",
       "      <td>-0.458663</td>\n",
       "      <td>0</td>\n",
       "      <td>-0.564014</td>\n",
       "      <td>0.898278</td>\n",
       "      <td>-0.564014</td>\n",
       "      <td>0.335405</td>\n",
       "    </tr>\n",
       "    <tr>\n",
       "      <th>7256</th>\n",
       "      <td>-0.887068</td>\n",
       "      <td>2.112991</td>\n",
       "      <td>1</td>\n",
       "      <td>3.453899</td>\n",
       "      <td>3.453899</td>\n",
       "      <td>0.951012</td>\n",
       "      <td>0.763932</td>\n",
       "    </tr>\n",
       "    <tr>\n",
       "      <th>7008</th>\n",
       "      <td>1.128232</td>\n",
       "      <td>1.387464</td>\n",
       "      <td>1</td>\n",
       "      <td>9.481065</td>\n",
       "      <td>9.481065</td>\n",
       "      <td>2.152341</td>\n",
       "      <td>0.928947</td>\n",
       "    </tr>\n",
       "    <tr>\n",
       "      <th>8604</th>\n",
       "      <td>-1.299162</td>\n",
       "      <td>-0.871858</td>\n",
       "      <td>0</td>\n",
       "      <td>-2.323566</td>\n",
       "      <td>3.389761</td>\n",
       "      <td>-2.323566</td>\n",
       "      <td>0.097298</td>\n",
       "    </tr>\n",
       "    <tr>\n",
       "      <th>7557</th>\n",
       "      <td>0.115440</td>\n",
       "      <td>-0.745730</td>\n",
       "      <td>1</td>\n",
       "      <td>0.967445</td>\n",
       "      <td>0.967445</td>\n",
       "      <td>-0.429820</td>\n",
       "      <td>0.350799</td>\n",
       "    </tr>\n",
       "    <tr>\n",
       "      <th>6762</th>\n",
       "      <td>-0.762260</td>\n",
       "      <td>0.033593</td>\n",
       "      <td>0</td>\n",
       "      <td>0.194120</td>\n",
       "      <td>1.725076</td>\n",
       "      <td>0.194120</td>\n",
       "      <td>0.318046</td>\n",
       "    </tr>\n",
       "    <tr>\n",
       "      <th>4320</th>\n",
       "      <td>-0.331401</td>\n",
       "      <td>1.045431</td>\n",
       "      <td>1</td>\n",
       "      <td>2.962457</td>\n",
       "      <td>2.962457</td>\n",
       "      <td>1.452618</td>\n",
       "      <td>0.667403</td>\n",
       "    </tr>\n",
       "    <tr>\n",
       "      <th>2257</th>\n",
       "      <td>-3.068234</td>\n",
       "      <td>0.059403</td>\n",
       "      <td>0</td>\n",
       "      <td>-3.171552</td>\n",
       "      <td>6.881516</td>\n",
       "      <td>-3.171552</td>\n",
       "      <td>0.040680</td>\n",
       "    </tr>\n",
       "  </tbody>\n",
       "</table>\n",
       "</div>"
      ],
      "text/plain": [
       "            z1        z2  d         y        y1        y0  propensity score\n",
       "3629 -0.635360  0.789607  0  1.050566  2.074358  1.050566          0.530604\n",
       "9582  0.572333  0.889176  1  4.883489  4.883489  1.747484          0.816198\n",
       "8856 -0.221257 -0.458663  0 -0.564014  0.898278 -0.564014          0.335405\n",
       "7256 -0.887068  2.112991  1  3.453899  3.453899  0.951012          0.763932\n",
       "7008  1.128232  1.387464  1  9.481065  9.481065  2.152341          0.928947\n",
       "8604 -1.299162 -0.871858  0 -2.323566  3.389761 -2.323566          0.097298\n",
       "7557  0.115440 -0.745730  1  0.967445  0.967445 -0.429820          0.350799\n",
       "6762 -0.762260  0.033593  0  0.194120  1.725076  0.194120          0.318046\n",
       "4320 -0.331401  1.045431  1  2.962457  2.962457  1.452618          0.667403\n",
       "2257 -3.068234  0.059403  0 -3.171552  6.881516 -3.171552          0.040680"
      ]
     },
     "execution_count": 18,
     "metadata": {},
     "output_type": "execute_result"
    }
   ],
   "source": [
    "df.sample(10)"
   ]
  },
  {
   "cell_type": "code",
   "execution_count": 19,
   "metadata": {
    "ExecuteTime": {
     "end_time": "2018-12-20T15:45:55.223380Z",
     "start_time": "2018-12-20T15:45:54.976205Z"
    }
   },
   "outputs": [],
   "source": [
    "from statsmodels.api import WLS"
   ]
  },
  {
   "cell_type": "code",
   "execution_count": 20,
   "metadata": {
    "ExecuteTime": {
     "end_time": "2018-12-20T15:45:55.259275Z",
     "start_time": "2018-12-20T15:45:55.225993Z"
    }
   },
   "outputs": [
    {
     "data": {
      "text/html": [
       "<table class=\"simpletable\">\n",
       "<caption>WLS Regression Results</caption>\n",
       "<tr>\n",
       "  <th>Dep. Variable:</th>            <td>y</td>        <th>  R-squared:         </th> <td>   0.240</td> \n",
       "</tr>\n",
       "<tr>\n",
       "  <th>Model:</th>                   <td>WLS</td>       <th>  Adj. R-squared:    </th> <td>   0.240</td> \n",
       "</tr>\n",
       "<tr>\n",
       "  <th>Method:</th>             <td>Least Squares</td>  <th>  F-statistic:       </th> <td>   3160.</td> \n",
       "</tr>\n",
       "<tr>\n",
       "  <th>Date:</th>             <td>Thu, 20 Dec 2018</td> <th>  Prob (F-statistic):</th>  <td>  0.00</td>  \n",
       "</tr>\n",
       "<tr>\n",
       "  <th>Time:</th>                 <td>10:45:55</td>     <th>  Log-Likelihood:    </th> <td> -24484.</td> \n",
       "</tr>\n",
       "<tr>\n",
       "  <th>No. Observations:</th>      <td> 10000</td>      <th>  AIC:               </th> <td>4.897e+04</td>\n",
       "</tr>\n",
       "<tr>\n",
       "  <th>Df Residuals:</th>          <td>  9998</td>      <th>  BIC:               </th> <td>4.899e+04</td>\n",
       "</tr>\n",
       "<tr>\n",
       "  <th>Df Model:</th>              <td>     1</td>      <th>                     </th>     <td> </td>    \n",
       "</tr>\n",
       "<tr>\n",
       "  <th>Covariance Type:</th>      <td>nonrobust</td>    <th>                     </th>     <td> </td>    \n",
       "</tr>\n",
       "</table>\n",
       "<table class=\"simpletable\">\n",
       "<tr>\n",
       "      <td></td>         <th>coef</th>     <th>std err</th>      <th>t</th>      <th>P>|t|</th>  <th>[0.025</th>    <th>0.975]</th>  \n",
       "</tr>\n",
       "<tr>\n",
       "  <th>d</th>         <td>    2.9024</td> <td>    0.052</td> <td>   56.216</td> <td> 0.000</td> <td>    2.801</td> <td>    3.004</td>\n",
       "</tr>\n",
       "<tr>\n",
       "  <th>intercept</th> <td>    0.0164</td> <td>    0.036</td> <td>    0.452</td> <td> 0.651</td> <td>   -0.055</td> <td>    0.088</td>\n",
       "</tr>\n",
       "</table>\n",
       "<table class=\"simpletable\">\n",
       "<tr>\n",
       "  <th>Omnibus:</th>       <td>4872.822</td> <th>  Durbin-Watson:     </th> <td>   2.049</td> \n",
       "</tr>\n",
       "<tr>\n",
       "  <th>Prob(Omnibus):</th>  <td> 0.000</td>  <th>  Jarque-Bera (JB):  </th> <td>48996.386</td>\n",
       "</tr>\n",
       "<tr>\n",
       "  <th>Skew:</th>           <td> 2.104</td>  <th>  Prob(JB):          </th> <td>    0.00</td> \n",
       "</tr>\n",
       "<tr>\n",
       "  <th>Kurtosis:</th>       <td>12.994</td>  <th>  Cond. No.          </th> <td>    2.61</td> \n",
       "</tr>\n",
       "</table><br/><br/>Warnings:<br/>[1] Standard Errors assume that the covariance matrix of the errors is correctly specified."
      ],
      "text/plain": [
       "<class 'statsmodels.iolib.summary.Summary'>\n",
       "\"\"\"\n",
       "                            WLS Regression Results                            \n",
       "==============================================================================\n",
       "Dep. Variable:                      y   R-squared:                       0.240\n",
       "Model:                            WLS   Adj. R-squared:                  0.240\n",
       "Method:                 Least Squares   F-statistic:                     3160.\n",
       "Date:                Thu, 20 Dec 2018   Prob (F-statistic):               0.00\n",
       "Time:                        10:45:55   Log-Likelihood:                -24484.\n",
       "No. Observations:               10000   AIC:                         4.897e+04\n",
       "Df Residuals:                    9998   BIC:                         4.899e+04\n",
       "Df Model:                           1                                         \n",
       "Covariance Type:            nonrobust                                         \n",
       "==============================================================================\n",
       "                 coef    std err          t      P>|t|      [0.025      0.975]\n",
       "------------------------------------------------------------------------------\n",
       "d              2.9024      0.052     56.216      0.000       2.801       3.004\n",
       "intercept      0.0164      0.036      0.452      0.651      -0.055       0.088\n",
       "==============================================================================\n",
       "Omnibus:                     4872.822   Durbin-Watson:                   2.049\n",
       "Prob(Omnibus):                  0.000   Jarque-Bera (JB):            48996.386\n",
       "Skew:                           2.104   Prob(JB):                         0.00\n",
       "Kurtosis:                      12.994   Cond. No.                         2.61\n",
       "==============================================================================\n",
       "\n",
       "Warnings:\n",
       "[1] Standard Errors assume that the covariance matrix of the errors is correctly specified.\n",
       "\"\"\""
      ]
     },
     "execution_count": 20,
     "metadata": {},
     "output_type": "execute_result"
    }
   ],
   "source": [
    "weights = 1. / ((df['d']*df['propensity score']) + (1-df['d'])*(1 - df['propensity score']))\n",
    "df['intercept'] = 1.\n",
    "model = WLS(df['y'], df[['d', 'intercept']], weights=weights)\n",
    "result = model.fit()\n",
    "result.summary()"
   ]
  },
  {
   "cell_type": "markdown",
   "metadata": {},
   "source": [
    "not bad! We can be a little smarter by also regression on the covariates, for a doubly robust estimator."
   ]
  },
  {
   "cell_type": "code",
   "execution_count": 21,
   "metadata": {
    "ExecuteTime": {
     "end_time": "2018-12-20T15:45:55.290757Z",
     "start_time": "2018-12-20T15:45:55.261447Z"
    }
   },
   "outputs": [
    {
     "data": {
      "text/html": [
       "<table class=\"simpletable\">\n",
       "<caption>WLS Regression Results</caption>\n",
       "<tr>\n",
       "  <th>Dep. Variable:</th>            <td>y</td>        <th>  R-squared:         </th> <td>   0.500</td> \n",
       "</tr>\n",
       "<tr>\n",
       "  <th>Model:</th>                   <td>WLS</td>       <th>  Adj. R-squared:    </th> <td>   0.500</td> \n",
       "</tr>\n",
       "<tr>\n",
       "  <th>Method:</th>             <td>Least Squares</td>  <th>  F-statistic:       </th> <td>   3338.</td> \n",
       "</tr>\n",
       "<tr>\n",
       "  <th>Date:</th>             <td>Thu, 20 Dec 2018</td> <th>  Prob (F-statistic):</th>  <td>  0.00</td>  \n",
       "</tr>\n",
       "<tr>\n",
       "  <th>Time:</th>                 <td>10:45:55</td>     <th>  Log-Likelihood:    </th> <td> -22387.</td> \n",
       "</tr>\n",
       "<tr>\n",
       "  <th>No. Observations:</th>      <td> 10000</td>      <th>  AIC:               </th> <td>4.478e+04</td>\n",
       "</tr>\n",
       "<tr>\n",
       "  <th>Df Residuals:</th>          <td>  9996</td>      <th>  BIC:               </th> <td>4.481e+04</td>\n",
       "</tr>\n",
       "<tr>\n",
       "  <th>Df Model:</th>              <td>     3</td>      <th>                     </th>     <td> </td>    \n",
       "</tr>\n",
       "<tr>\n",
       "  <th>Covariance Type:</th>      <td>nonrobust</td>    <th>                     </th>     <td> </td>    \n",
       "</tr>\n",
       "</table>\n",
       "<table class=\"simpletable\">\n",
       "<tr>\n",
       "      <td></td>         <th>coef</th>     <th>std err</th>      <th>t</th>      <th>P>|t|</th>  <th>[0.025</th>    <th>0.975]</th>  \n",
       "</tr>\n",
       "<tr>\n",
       "  <th>d</th>         <td>    2.9126</td> <td>    0.042</td> <td>   69.565</td> <td> 0.000</td> <td>    2.831</td> <td>    2.995</td>\n",
       "</tr>\n",
       "<tr>\n",
       "  <th>z1</th>        <td>    1.0137</td> <td>    0.021</td> <td>   48.897</td> <td> 0.000</td> <td>    0.973</td> <td>    1.054</td>\n",
       "</tr>\n",
       "<tr>\n",
       "  <th>z2</th>        <td>    1.0881</td> <td>    0.021</td> <td>   52.242</td> <td> 0.000</td> <td>    1.047</td> <td>    1.129</td>\n",
       "</tr>\n",
       "<tr>\n",
       "  <th>intercept</th> <td>    0.0086</td> <td>    0.029</td> <td>    0.290</td> <td> 0.771</td> <td>   -0.049</td> <td>    0.066</td>\n",
       "</tr>\n",
       "</table>\n",
       "<table class=\"simpletable\">\n",
       "<tr>\n",
       "  <th>Omnibus:</th>       <td>9944.972</td> <th>  Durbin-Watson:     </th>  <td>   2.051</td>  \n",
       "</tr>\n",
       "<tr>\n",
       "  <th>Prob(Omnibus):</th>  <td> 0.000</td>  <th>  Jarque-Bera (JB):  </th> <td>1652609.538</td>\n",
       "</tr>\n",
       "<tr>\n",
       "  <th>Skew:</th>           <td> 4.465</td>  <th>  Prob(JB):          </th>  <td>    0.00</td>  \n",
       "</tr>\n",
       "<tr>\n",
       "  <th>Kurtosis:</th>       <td>65.342</td>  <th>  Cond. No.          </th>  <td>    2.61</td>  \n",
       "</tr>\n",
       "</table><br/><br/>Warnings:<br/>[1] Standard Errors assume that the covariance matrix of the errors is correctly specified."
      ],
      "text/plain": [
       "<class 'statsmodels.iolib.summary.Summary'>\n",
       "\"\"\"\n",
       "                            WLS Regression Results                            \n",
       "==============================================================================\n",
       "Dep. Variable:                      y   R-squared:                       0.500\n",
       "Model:                            WLS   Adj. R-squared:                  0.500\n",
       "Method:                 Least Squares   F-statistic:                     3338.\n",
       "Date:                Thu, 20 Dec 2018   Prob (F-statistic):               0.00\n",
       "Time:                        10:45:55   Log-Likelihood:                -22387.\n",
       "No. Observations:               10000   AIC:                         4.478e+04\n",
       "Df Residuals:                    9996   BIC:                         4.481e+04\n",
       "Df Model:                           3                                         \n",
       "Covariance Type:            nonrobust                                         \n",
       "==============================================================================\n",
       "                 coef    std err          t      P>|t|      [0.025      0.975]\n",
       "------------------------------------------------------------------------------\n",
       "d              2.9126      0.042     69.565      0.000       2.831       2.995\n",
       "z1             1.0137      0.021     48.897      0.000       0.973       1.054\n",
       "z2             1.0881      0.021     52.242      0.000       1.047       1.129\n",
       "intercept      0.0086      0.029      0.290      0.771      -0.049       0.066\n",
       "==============================================================================\n",
       "Omnibus:                     9944.972   Durbin-Watson:                   2.051\n",
       "Prob(Omnibus):                  0.000   Jarque-Bera (JB):          1652609.538\n",
       "Skew:                           4.465   Prob(JB):                         0.00\n",
       "Kurtosis:                      65.342   Cond. No.                         2.61\n",
       "==============================================================================\n",
       "\n",
       "Warnings:\n",
       "[1] Standard Errors assume that the covariance matrix of the errors is correctly specified.\n",
       "\"\"\""
      ]
     },
     "execution_count": 21,
     "metadata": {},
     "output_type": "execute_result"
    }
   ],
   "source": [
    "weights = 1. / ((df['d']*df['propensity score']) + (1-df['d'])*(1 - df['propensity score']))\n",
    "df['intercept'] = 1.\n",
    "model = WLS(df['y'], df[['d', 'z1', 'z2', 'intercept']], weights=weights)\n",
    "result = model.fit()\n",
    "result.summary()"
   ]
  },
  {
   "cell_type": "markdown",
   "metadata": {},
   "source": [
    "or even smarter by using the right specification, with a quadratic term."
   ]
  },
  {
   "cell_type": "code",
   "execution_count": 22,
   "metadata": {
    "ExecuteTime": {
     "end_time": "2018-12-20T15:45:55.317851Z",
     "start_time": "2018-12-20T15:45:55.292493Z"
    }
   },
   "outputs": [
    {
     "data": {
      "text/html": [
       "<table class=\"simpletable\">\n",
       "<caption>WLS Regression Results</caption>\n",
       "<tr>\n",
       "  <th>Dep. Variable:</th>            <td>y</td>        <th>  R-squared:         </th> <td>   0.419</td> \n",
       "</tr>\n",
       "<tr>\n",
       "  <th>Model:</th>                   <td>WLS</td>       <th>  Adj. R-squared:    </th> <td>   0.419</td> \n",
       "</tr>\n",
       "<tr>\n",
       "  <th>Method:</th>             <td>Least Squares</td>  <th>  F-statistic:       </th> <td>   3606.</td> \n",
       "</tr>\n",
       "<tr>\n",
       "  <th>Date:</th>             <td>Thu, 20 Dec 2018</td> <th>  Prob (F-statistic):</th>  <td>  0.00</td>  \n",
       "</tr>\n",
       "<tr>\n",
       "  <th>Time:</th>                 <td>10:45:55</td>     <th>  Log-Likelihood:    </th> <td> -23141.</td> \n",
       "</tr>\n",
       "<tr>\n",
       "  <th>No. Observations:</th>      <td> 10000</td>      <th>  AIC:               </th> <td>4.629e+04</td>\n",
       "</tr>\n",
       "<tr>\n",
       "  <th>Df Residuals:</th>          <td>  9997</td>      <th>  BIC:               </th> <td>4.631e+04</td>\n",
       "</tr>\n",
       "<tr>\n",
       "  <th>Df Model:</th>              <td>     2</td>      <th>                     </th>     <td> </td>    \n",
       "</tr>\n",
       "<tr>\n",
       "  <th>Covariance Type:</th>      <td>nonrobust</td>    <th>                     </th>     <td> </td>    \n",
       "</tr>\n",
       "</table>\n",
       "<table class=\"simpletable\">\n",
       "<tr>\n",
       "      <td></td>         <th>coef</th>     <th>std err</th>      <th>t</th>      <th>P>|t|</th>  <th>[0.025</th>    <th>0.975]</th>  \n",
       "</tr>\n",
       "<tr>\n",
       "  <th>d</th>         <td>    3.0068</td> <td>    0.045</td> <td>   66.545</td> <td> 0.000</td> <td>    2.918</td> <td>    3.095</td>\n",
       "</tr>\n",
       "<tr>\n",
       "  <th>z1z2</th>      <td>    0.4363</td> <td>    0.008</td> <td>   55.493</td> <td> 0.000</td> <td>    0.421</td> <td>    0.452</td>\n",
       "</tr>\n",
       "<tr>\n",
       "  <th>intercept</th> <td>   -0.9360</td> <td>    0.036</td> <td>  -25.922</td> <td> 0.000</td> <td>   -1.007</td> <td>   -0.865</td>\n",
       "</tr>\n",
       "</table>\n",
       "<table class=\"simpletable\">\n",
       "<tr>\n",
       "  <th>Omnibus:</th>       <td>665.856</td> <th>  Durbin-Watson:     </th> <td>   2.033</td>\n",
       "</tr>\n",
       "<tr>\n",
       "  <th>Prob(Omnibus):</th> <td> 0.000</td>  <th>  Jarque-Bera (JB):  </th> <td>3046.661</td>\n",
       "</tr>\n",
       "<tr>\n",
       "  <th>Skew:</th>          <td> 0.131</td>  <th>  Prob(JB):          </th> <td>    0.00</td>\n",
       "</tr>\n",
       "<tr>\n",
       "  <th>Kurtosis:</th>      <td> 5.691</td>  <th>  Cond. No.          </th> <td>    8.41</td>\n",
       "</tr>\n",
       "</table><br/><br/>Warnings:<br/>[1] Standard Errors assume that the covariance matrix of the errors is correctly specified."
      ],
      "text/plain": [
       "<class 'statsmodels.iolib.summary.Summary'>\n",
       "\"\"\"\n",
       "                            WLS Regression Results                            \n",
       "==============================================================================\n",
       "Dep. Variable:                      y   R-squared:                       0.419\n",
       "Model:                            WLS   Adj. R-squared:                  0.419\n",
       "Method:                 Least Squares   F-statistic:                     3606.\n",
       "Date:                Thu, 20 Dec 2018   Prob (F-statistic):               0.00\n",
       "Time:                        10:45:55   Log-Likelihood:                -23141.\n",
       "No. Observations:               10000   AIC:                         4.629e+04\n",
       "Df Residuals:                    9997   BIC:                         4.631e+04\n",
       "Df Model:                           2                                         \n",
       "Covariance Type:            nonrobust                                         \n",
       "==============================================================================\n",
       "                 coef    std err          t      P>|t|      [0.025      0.975]\n",
       "------------------------------------------------------------------------------\n",
       "d              3.0068      0.045     66.545      0.000       2.918       3.095\n",
       "z1z2           0.4363      0.008     55.493      0.000       0.421       0.452\n",
       "intercept     -0.9360      0.036    -25.922      0.000      -1.007      -0.865\n",
       "==============================================================================\n",
       "Omnibus:                      665.856   Durbin-Watson:                   2.033\n",
       "Prob(Omnibus):                  0.000   Jarque-Bera (JB):             3046.661\n",
       "Skew:                           0.131   Prob(JB):                         0.00\n",
       "Kurtosis:                       5.691   Cond. No.                         8.41\n",
       "==============================================================================\n",
       "\n",
       "Warnings:\n",
       "[1] Standard Errors assume that the covariance matrix of the errors is correctly specified.\n",
       "\"\"\""
      ]
     },
     "execution_count": 22,
     "metadata": {},
     "output_type": "execute_result"
    }
   ],
   "source": [
    "df['z1z2'] = (df['z1'] + df['z2'])**2.\n",
    "df['intercept'] = 1.\n",
    "weights = 1. / ((df['d']*df['propensity score']) + (1-df['d'])*(1 - df['propensity score']))\n",
    "model = WLS(df['y'], df[['d', 'z1z2', 'intercept']], weights=weights)\n",
    "result = model.fit()\n",
    "result.summary()"
   ]
  },
  {
   "cell_type": "markdown",
   "metadata": {},
   "source": [
    "Realistically, you'd just use a full specification, with each linear z term, quadratic versions, and then the z1*z2 cross term."
   ]
  },
  {
   "cell_type": "code",
   "execution_count": 40,
   "metadata": {
    "ExecuteTime": {
     "end_time": "2018-12-20T16:09:49.478179Z",
     "start_time": "2018-12-20T16:09:49.433969Z"
    }
   },
   "outputs": [
    {
     "data": {
      "text/html": [
       "<table class=\"simpletable\">\n",
       "<caption>WLS Regression Results</caption>\n",
       "<tr>\n",
       "  <th>Dep. Variable:</th>            <td>y</td>        <th>  R-squared:         </th> <td>   0.656</td> \n",
       "</tr>\n",
       "<tr>\n",
       "  <th>Model:</th>                   <td>WLS</td>       <th>  Adj. R-squared:    </th> <td>   0.656</td> \n",
       "</tr>\n",
       "<tr>\n",
       "  <th>Method:</th>             <td>Least Squares</td>  <th>  F-statistic:       </th> <td>   3172.</td> \n",
       "</tr>\n",
       "<tr>\n",
       "  <th>Date:</th>             <td>Thu, 20 Dec 2018</td> <th>  Prob (F-statistic):</th>  <td>  0.00</td>  \n",
       "</tr>\n",
       "<tr>\n",
       "  <th>Time:</th>                 <td>11:09:49</td>     <th>  Log-Likelihood:    </th> <td> -20526.</td> \n",
       "</tr>\n",
       "<tr>\n",
       "  <th>No. Observations:</th>      <td> 10000</td>      <th>  AIC:               </th> <td>4.107e+04</td>\n",
       "</tr>\n",
       "<tr>\n",
       "  <th>Df Residuals:</th>          <td>  9993</td>      <th>  BIC:               </th> <td>4.112e+04</td>\n",
       "</tr>\n",
       "<tr>\n",
       "  <th>Df Model:</th>              <td>     6</td>      <th>                     </th>     <td> </td>    \n",
       "</tr>\n",
       "<tr>\n",
       "  <th>Covariance Type:</th>      <td>nonrobust</td>    <th>                     </th>     <td> </td>    \n",
       "</tr>\n",
       "</table>\n",
       "<table class=\"simpletable\">\n",
       "<tr>\n",
       "      <td></td>         <th>coef</th>     <th>std err</th>      <th>t</th>      <th>P>|t|</th>  <th>[0.025</th>    <th>0.975]</th>  \n",
       "</tr>\n",
       "<tr>\n",
       "  <th>d</th>         <td>    3.0076</td> <td>    0.035</td> <td>   86.429</td> <td> 0.000</td> <td>    2.939</td> <td>    3.076</td>\n",
       "</tr>\n",
       "<tr>\n",
       "  <th>z1</th>        <td>    0.9790</td> <td>    0.017</td> <td>   56.820</td> <td> 0.000</td> <td>    0.945</td> <td>    1.013</td>\n",
       "</tr>\n",
       "<tr>\n",
       "  <th>z2</th>        <td>    1.0281</td> <td>    0.017</td> <td>   59.342</td> <td> 0.000</td> <td>    0.994</td> <td>    1.062</td>\n",
       "</tr>\n",
       "<tr>\n",
       "  <th>z1^2</th>      <td>    0.4499</td> <td>    0.012</td> <td>   36.045</td> <td> 0.000</td> <td>    0.425</td> <td>    0.474</td>\n",
       "</tr>\n",
       "<tr>\n",
       "  <th>z2^2</th>      <td>    0.3887</td> <td>    0.013</td> <td>   30.953</td> <td> 0.000</td> <td>    0.364</td> <td>    0.413</td>\n",
       "</tr>\n",
       "<tr>\n",
       "  <th>z1*z2</th>     <td>    0.7892</td> <td>    0.017</td> <td>   46.041</td> <td> 0.000</td> <td>    0.756</td> <td>    0.823</td>\n",
       "</tr>\n",
       "<tr>\n",
       "  <th>intercept</th> <td>   -0.9038</td> <td>    0.031</td> <td>  -29.551</td> <td> 0.000</td> <td>   -0.964</td> <td>   -0.844</td>\n",
       "</tr>\n",
       "</table>\n",
       "<table class=\"simpletable\">\n",
       "<tr>\n",
       "  <th>Omnibus:</th>       <td>4568.151</td> <th>  Durbin-Watson:     </th>  <td>   2.039</td>  \n",
       "</tr>\n",
       "<tr>\n",
       "  <th>Prob(Omnibus):</th>  <td> 0.000</td>  <th>  Jarque-Bera (JB):  </th> <td>2176239.617</td>\n",
       "</tr>\n",
       "<tr>\n",
       "  <th>Skew:</th>           <td>-0.846</td>  <th>  Prob(JB):          </th>  <td>    0.00</td>  \n",
       "</tr>\n",
       "<tr>\n",
       "  <th>Kurtosis:</th>       <td>75.250</td>  <th>  Cond. No.          </th>  <td>    5.19</td>  \n",
       "</tr>\n",
       "</table><br/><br/>Warnings:<br/>[1] Standard Errors assume that the covariance matrix of the errors is correctly specified."
      ],
      "text/plain": [
       "<class 'statsmodels.iolib.summary.Summary'>\n",
       "\"\"\"\n",
       "                            WLS Regression Results                            \n",
       "==============================================================================\n",
       "Dep. Variable:                      y   R-squared:                       0.656\n",
       "Model:                            WLS   Adj. R-squared:                  0.656\n",
       "Method:                 Least Squares   F-statistic:                     3172.\n",
       "Date:                Thu, 20 Dec 2018   Prob (F-statistic):               0.00\n",
       "Time:                        11:09:49   Log-Likelihood:                -20526.\n",
       "No. Observations:               10000   AIC:                         4.107e+04\n",
       "Df Residuals:                    9993   BIC:                         4.112e+04\n",
       "Df Model:                           6                                         \n",
       "Covariance Type:            nonrobust                                         \n",
       "==============================================================================\n",
       "                 coef    std err          t      P>|t|      [0.025      0.975]\n",
       "------------------------------------------------------------------------------\n",
       "d              3.0076      0.035     86.429      0.000       2.939       3.076\n",
       "z1             0.9790      0.017     56.820      0.000       0.945       1.013\n",
       "z2             1.0281      0.017     59.342      0.000       0.994       1.062\n",
       "z1^2           0.4499      0.012     36.045      0.000       0.425       0.474\n",
       "z2^2           0.3887      0.013     30.953      0.000       0.364       0.413\n",
       "z1*z2          0.7892      0.017     46.041      0.000       0.756       0.823\n",
       "intercept     -0.9038      0.031    -29.551      0.000      -0.964      -0.844\n",
       "==============================================================================\n",
       "Omnibus:                     4568.151   Durbin-Watson:                   2.039\n",
       "Prob(Omnibus):                  0.000   Jarque-Bera (JB):          2176239.617\n",
       "Skew:                          -0.846   Prob(JB):                         0.00\n",
       "Kurtosis:                      75.250   Cond. No.                         5.19\n",
       "==============================================================================\n",
       "\n",
       "Warnings:\n",
       "[1] Standard Errors assume that the covariance matrix of the errors is correctly specified.\n",
       "\"\"\""
      ]
     },
     "execution_count": 40,
     "metadata": {},
     "output_type": "execute_result"
    }
   ],
   "source": [
    "df['z1z2'] = (df['z1'] + df['z2'])**2.\n",
    "df['z1*z2'] = df['z1'] * df['z2']\n",
    "df['z1^2'] = df['z1']**2\n",
    "df['z2^2'] = df['z2']**2\n",
    "df['intercept'] = 1.\n",
    "weights = 1. / ((df['d']*df['propensity score']) + (1-df['d'])*(1 - df['propensity score']))\n",
    "model = WLS(df['y'], df[['d', 'z1', 'z2', 'z1^2', 'z2^2', 'z1*z2', 'intercept']], weights=weights)\n",
    "result = model.fit()\n",
    "result.summary()"
   ]
  },
  {
   "cell_type": "code",
   "execution_count": null,
   "metadata": {},
   "outputs": [],
   "source": []
  }
 ],
 "metadata": {
  "kernelspec": {
   "display_name": "Python 3",
   "language": "python",
   "name": "python3"
  },
  "language_info": {
   "codemirror_mode": {
    "name": "ipython",
    "version": 3
   },
   "file_extension": ".py",
   "mimetype": "text/x-python",
   "name": "python",
   "nbconvert_exporter": "python",
   "pygments_lexer": "ipython3",
   "version": "3.6.5"
  }
 },
 "nbformat": 4,
 "nbformat_minor": 2
}
