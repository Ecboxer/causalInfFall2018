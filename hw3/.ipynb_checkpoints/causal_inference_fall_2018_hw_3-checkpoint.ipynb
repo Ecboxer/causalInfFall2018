{
 "cells": [
  {
   "cell_type": "code",
   "execution_count": 2,
   "metadata": {},
   "outputs": [],
   "source": [
    "import numpy as np\n",
    "import pandas as pd\n"
   ]
  },
  {
   "cell_type": "markdown",
   "metadata": {},
   "source": [
    "Use the following data generating process to answer each of the following questions:"
   ]
  },
  {
   "cell_type": "code",
   "execution_count": 8,
   "metadata": {},
   "outputs": [],
   "source": [
    "N = 5000\n",
    "\n",
    "z1 = np.random.normal(size=N)\n",
    "z2 = np.random.normal(size=N)\n",
    "\n",
    "p_d = 1. / (1. + np.exp(-(z1 + z2)))\n",
    "d = np.random.binomial(1, p=p_d)\n",
    "\n",
    "y0 = np.random.normal(z1 + z2)\n",
    "y1 = y0 + (z1 + z2)**2. + 1.\n",
    "y = (d==0) * y0 + (d==1) * y1\n",
    "\n",
    "df = pd.DataFrame({'z1': z1, 'z2': z2, 'd': d, 'y': y, 'y1': y1, 'y0': y0})"
   ]
  },
  {
   "cell_type": "code",
   "execution_count": 9,
   "metadata": {},
   "outputs": [
    {
     "data": {
      "text/html": [
       "<div>\n",
       "<style scoped>\n",
       "    .dataframe tbody tr th:only-of-type {\n",
       "        vertical-align: middle;\n",
       "    }\n",
       "\n",
       "    .dataframe tbody tr th {\n",
       "        vertical-align: top;\n",
       "    }\n",
       "\n",
       "    .dataframe thead th {\n",
       "        text-align: right;\n",
       "    }\n",
       "</style>\n",
       "<table border=\"1\" class=\"dataframe\">\n",
       "  <thead>\n",
       "    <tr style=\"text-align: right;\">\n",
       "      <th></th>\n",
       "      <th>z1</th>\n",
       "      <th>z2</th>\n",
       "      <th>d</th>\n",
       "      <th>y</th>\n",
       "      <th>y1</th>\n",
       "      <th>y0</th>\n",
       "    </tr>\n",
       "  </thead>\n",
       "  <tbody>\n",
       "    <tr>\n",
       "      <th>z1</th>\n",
       "      <td>1.000000</td>\n",
       "      <td>-0.013072</td>\n",
       "      <td>0.342984</td>\n",
       "      <td>0.555004</td>\n",
       "      <td>0.332301</td>\n",
       "      <td>0.569789</td>\n",
       "    </tr>\n",
       "    <tr>\n",
       "      <th>z2</th>\n",
       "      <td>-0.013072</td>\n",
       "      <td>1.000000</td>\n",
       "      <td>0.361578</td>\n",
       "      <td>0.572208</td>\n",
       "      <td>0.331286</td>\n",
       "      <td>0.568438</td>\n",
       "    </tr>\n",
       "    <tr>\n",
       "      <th>d</th>\n",
       "      <td>0.342984</td>\n",
       "      <td>0.361578</td>\n",
       "      <td>1.000000</td>\n",
       "      <td>0.593836</td>\n",
       "      <td>0.230004</td>\n",
       "      <td>0.408971</td>\n",
       "    </tr>\n",
       "    <tr>\n",
       "      <th>y</th>\n",
       "      <td>0.555004</td>\n",
       "      <td>0.572208</td>\n",
       "      <td>0.593836</td>\n",
       "      <td>1.000000</td>\n",
       "      <td>0.783992</td>\n",
       "      <td>0.810776</td>\n",
       "    </tr>\n",
       "    <tr>\n",
       "      <th>y1</th>\n",
       "      <td>0.332301</td>\n",
       "      <td>0.331286</td>\n",
       "      <td>0.230004</td>\n",
       "      <td>0.783992</td>\n",
       "      <td>1.000000</td>\n",
       "      <td>0.563094</td>\n",
       "    </tr>\n",
       "    <tr>\n",
       "      <th>y0</th>\n",
       "      <td>0.569789</td>\n",
       "      <td>0.568438</td>\n",
       "      <td>0.408971</td>\n",
       "      <td>0.810776</td>\n",
       "      <td>0.563094</td>\n",
       "      <td>1.000000</td>\n",
       "    </tr>\n",
       "  </tbody>\n",
       "</table>\n",
       "</div>"
      ],
      "text/plain": [
       "          z1        z2         d         y        y1        y0\n",
       "z1  1.000000 -0.013072  0.342984  0.555004  0.332301  0.569789\n",
       "z2 -0.013072  1.000000  0.361578  0.572208  0.331286  0.568438\n",
       "d   0.342984  0.361578  1.000000  0.593836  0.230004  0.408971\n",
       "y   0.555004  0.572208  0.593836  1.000000  0.783992  0.810776\n",
       "y1  0.332301  0.331286  0.230004  0.783992  1.000000  0.563094\n",
       "y0  0.569789  0.568438  0.408971  0.810776  0.563094  1.000000"
      ]
     },
     "execution_count": 9,
     "metadata": {},
     "output_type": "execute_result"
    }
   ],
   "source": [
    "df.corr()"
   ]
  },
  {
   "cell_type": "markdown",
   "metadata": {},
   "source": [
    "## 1. For this data generating process, \n",
    "\n",
    "a) Is there a set of covariates, $Z$, that satisfies the back-door criterion for the effect of $d$ on $y$?\n",
    "\n",
    "b) What is the true ATE?"
   ]
  },
  {
   "cell_type": "markdown",
   "metadata": {},
   "source": [
    "## 2. For a back-door set $Z$ for this process, \n",
    "a) determine whether the requirement $P(Z, d) > 0$ is satisfied. \n",
    "\n",
    "b) Why is this a requirement for estimating the ATE of $d$ on $y$? \n",
    "\n",
    "c) What can we do if it isn't satisfied (hint: is there a CATE we might still care about? or can we avoid the problem entirely with extra assumptions?)?"
   ]
  },
  {
   "cell_type": "markdown",
   "metadata": {},
   "source": [
    "## 3.  Propensity score matching: Using R or Python, \n",
    "\n",
    "a) use propensity score matching to estimate the treatment effect (an ATE or CATE) of $d$ on $y$.\n",
    "\n",
    "b) explain whether you achieved good balance on the covariates and on the propensity scores"
   ]
  },
  {
   "cell_type": "markdown",
   "metadata": {},
   "source": [
    "## 4. Weighted regression: Using R or Python, \n",
    "\n",
    "a) use inverse propensity weighted regression to estimate the same treatement effect as in (3), but don't use doubly robust regression yet. (Hint: the data generating process isn't linear. Be careful about your regression specification!)\n",
    "\n",
    "b) Use a doubly robust estimator to estimate the treatment effect."
   ]
  },
  {
   "cell_type": "code",
   "execution_count": null,
   "metadata": {},
   "outputs": [],
   "source": []
  }
 ],
 "metadata": {
  "kernelspec": {
   "display_name": "Python 3",
   "language": "python",
   "name": "python3"
  },
  "language_info": {
   "codemirror_mode": {
    "name": "ipython",
    "version": 3
   },
   "file_extension": ".py",
   "mimetype": "text/x-python",
   "name": "python",
   "nbconvert_exporter": "python",
   "pygments_lexer": "ipython3",
   "version": "3.6.6"
  }
 },
 "nbformat": 4,
 "nbformat_minor": 2
}
