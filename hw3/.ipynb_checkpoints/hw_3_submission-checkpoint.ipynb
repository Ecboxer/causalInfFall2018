{
 "cells": [
  {
   "cell_type": "code",
   "execution_count": 1,
   "metadata": {},
   "outputs": [],
   "source": [
    "import numpy as np\n",
    "import pandas as pd\n",
    "import matplotlib as plt"
   ]
  },
  {
   "cell_type": "markdown",
   "metadata": {},
   "source": [
    "Use the following data generating process to answer each of the following questions:"
   ]
  },
  {
   "cell_type": "code",
   "execution_count": 2,
   "metadata": {},
   "outputs": [],
   "source": [
    "N = 5000\n",
    "\n",
    "z1 = np.random.normal(size=N)\n",
    "z2 = np.random.normal(size=N)\n",
    "\n",
    "p_d = 1. / (1. + np.exp(-(z1 + z2)))\n",
    "d = np.random.binomial(1, p=p_d)\n",
    "\n",
    "y0 = np.random.normal(z1 + z2)\n",
    "y1 = y0 + (z1 + z2)**2. + 1.\n",
    "y = (d==0) * y0 + (d==1) * y1\n",
    "\n",
    "df = pd.DataFrame({'z1': z1, 'z2': z2, 'd': d, 'y': y, 'y1': y1, 'y0': y0})"
   ]
  },
  {
   "cell_type": "code",
   "execution_count": 3,
   "metadata": {},
   "outputs": [
    {
     "data": {
      "text/html": [
       "<div>\n",
       "<style scoped>\n",
       "    .dataframe tbody tr th:only-of-type {\n",
       "        vertical-align: middle;\n",
       "    }\n",
       "\n",
       "    .dataframe tbody tr th {\n",
       "        vertical-align: top;\n",
       "    }\n",
       "\n",
       "    .dataframe thead th {\n",
       "        text-align: right;\n",
       "    }\n",
       "</style>\n",
       "<table border=\"1\" class=\"dataframe\">\n",
       "  <thead>\n",
       "    <tr style=\"text-align: right;\">\n",
       "      <th></th>\n",
       "      <th>d</th>\n",
       "      <th>y</th>\n",
       "      <th>y0</th>\n",
       "      <th>y1</th>\n",
       "      <th>z1</th>\n",
       "      <th>z2</th>\n",
       "    </tr>\n",
       "  </thead>\n",
       "  <tbody>\n",
       "    <tr>\n",
       "      <th>d</th>\n",
       "      <td>1.000000</td>\n",
       "      <td>0.608483</td>\n",
       "      <td>0.422806</td>\n",
       "      <td>0.235216</td>\n",
       "      <td>0.357448</td>\n",
       "      <td>0.370158</td>\n",
       "    </tr>\n",
       "    <tr>\n",
       "      <th>y</th>\n",
       "      <td>0.608483</td>\n",
       "      <td>1.000000</td>\n",
       "      <td>0.815784</td>\n",
       "      <td>0.758005</td>\n",
       "      <td>0.570102</td>\n",
       "      <td>0.567715</td>\n",
       "    </tr>\n",
       "    <tr>\n",
       "      <th>y0</th>\n",
       "      <td>0.422806</td>\n",
       "      <td>0.815784</td>\n",
       "      <td>1.000000</td>\n",
       "      <td>0.526766</td>\n",
       "      <td>0.573894</td>\n",
       "      <td>0.575718</td>\n",
       "    </tr>\n",
       "    <tr>\n",
       "      <th>y1</th>\n",
       "      <td>0.235216</td>\n",
       "      <td>0.758005</td>\n",
       "      <td>0.526766</td>\n",
       "      <td>1.000000</td>\n",
       "      <td>0.316580</td>\n",
       "      <td>0.297381</td>\n",
       "    </tr>\n",
       "    <tr>\n",
       "      <th>z1</th>\n",
       "      <td>0.357448</td>\n",
       "      <td>0.570102</td>\n",
       "      <td>0.573894</td>\n",
       "      <td>0.316580</td>\n",
       "      <td>1.000000</td>\n",
       "      <td>-0.010168</td>\n",
       "    </tr>\n",
       "    <tr>\n",
       "      <th>z2</th>\n",
       "      <td>0.370158</td>\n",
       "      <td>0.567715</td>\n",
       "      <td>0.575718</td>\n",
       "      <td>0.297381</td>\n",
       "      <td>-0.010168</td>\n",
       "      <td>1.000000</td>\n",
       "    </tr>\n",
       "  </tbody>\n",
       "</table>\n",
       "</div>"
      ],
      "text/plain": [
       "           d         y        y0        y1        z1        z2\n",
       "d   1.000000  0.608483  0.422806  0.235216  0.357448  0.370158\n",
       "y   0.608483  1.000000  0.815784  0.758005  0.570102  0.567715\n",
       "y0  0.422806  0.815784  1.000000  0.526766  0.573894  0.575718\n",
       "y1  0.235216  0.758005  0.526766  1.000000  0.316580  0.297381\n",
       "z1  0.357448  0.570102  0.573894  0.316580  1.000000 -0.010168\n",
       "z2  0.370158  0.567715  0.575718  0.297381 -0.010168  1.000000"
      ]
     },
     "execution_count": 3,
     "metadata": {},
     "output_type": "execute_result"
    }
   ],
   "source": [
    "df.corr()"
   ]
  },
  {
   "cell_type": "markdown",
   "metadata": {},
   "source": [
    "## 1. For this data generating process, \n",
    "\n",
    "a) Is there a set of covariates, $Z$, that satisfies the back-door criterion for the effect of $d$ on $y$?\n",
    "\n",
    "b) What is the true ATE?"
   ]
  },
  {
   "cell_type": "markdown",
   "metadata": {},
   "source": [
    "a) $Z = \\{ Z_1, Z_2 \\}$ satisfies the back-door criterion for the effect of $d$ on $y$"
   ]
  },
  {
   "cell_type": "markdown",
   "metadata": {},
   "source": [
    "b) ATE $= \\mathbb{E} [Y_1] - \\mathbb{E} [Y_0]$  \n",
    "$\\mathbb{E} [Z_1] = \\mathbb{E} [Z_2] = 0$  \n",
    "$\\mathbb{E} [Y_0] = \\mathbb{E} [Z_1 + Z_2] = \\mathbb{E} [Z_1] + \\mathbb{E} [Z_2] = 0$  \n",
    "$\\mathbb{E} [Y_1] = \\mathbb{E} [Y_0] + \\mathbb{E} [(Z_1 + Z_2)^2] + 1 = 0 + 2 + 1 = 3$ since $Z_1 + Z_2 \\text{ ~ } N(0, 2)$  \n",
    "so ATE $= 3 - 0 = 3$"
   ]
  },
  {
   "cell_type": "code",
   "execution_count": 4,
   "metadata": {},
   "outputs": [
    {
     "data": {
      "text/plain": [
       "2.9497341363964713"
      ]
     },
     "execution_count": 4,
     "metadata": {},
     "output_type": "execute_result"
    }
   ],
   "source": [
    "df.y1.mean() - df.y0.mean()"
   ]
  },
  {
   "cell_type": "markdown",
   "metadata": {},
   "source": [
    "This is approximately equal to the true ATE we found from the data-generating process."
   ]
  },
  {
   "cell_type": "markdown",
   "metadata": {},
   "source": [
    "## 2. For a back-door set $Z$ for this process, \n",
    "a) determine whether the requirement $P(Z, d) > 0$ is satisfied. \n",
    "\n",
    "b) Why is this a requirement for estimating the ATE of $d$ on $y$? \n",
    "\n",
    "c) What can we do if it isn't satisfied (hint: is there a CATE we might still care about? or can we avoid the problem entirely with extra assumptions?)?"
   ]
  },
  {
   "cell_type": "markdown",
   "metadata": {},
   "source": [
    "a) Determine whether $Z = \\{Z_1, Z_2\\}$ have sufficient common support over $d = \\{0, 1\\}$"
   ]
  },
  {
   "cell_type": "code",
   "execution_count": 6,
   "metadata": {},
   "outputs": [
    {
     "data": {
      "image/png": "[encoded data removed]",
      "text/plain": [
       "<Figure size 432x288 with 1 Axes>"
      ]
     },
     "metadata": {
      "needs_background": "light"
     },
     "output_type": "display_data"
    },
    {
     "data": {
      "image/png": "[encoded data removed]",
      "text/plain": [
       "<Figure size 432x288 with 1 Axes>"
      ]
     },
     "metadata": {
      "needs_background": "light"
     },
     "output_type": "display_data"
    }
   ],
   "source": [
    "from causality.estimation.parametric import PropensityScoreMatching\n",
    "\n",
    "matcher = PropensityScoreMatching()\n",
    "matcher.check_support(df, 'd', {'z1': 'c', 'z2': 'c'})"
   ]
  },
  {
   "cell_type": "markdown",
   "metadata": {},
   "source": [
    "The distributions of $Z_1$ and $Z_2$ overlap conditioned on $d$, but not sufficiently enough to say that they share a common support (particularly $Z_1$)."
   ]
  },
  {
   "cell_type": "markdown",
   "metadata": {},
   "source": [
    "b) Without sufficient common support, treatment cases may have no counterparts among the control group to be matched with, ditto for control cases. Trying to do exact matching or nearest-neighbor will result in a lot of imbalance in our estimates."
   ]
  },
  {
   "cell_type": "markdown",
   "metadata": {},
   "source": [
    "c) We can estimate a CATE by performing propensity score matching over a period of common support for the conditioning variables. In this case we could choose the periods $-2 < Z_1 < 2$ and $-2 < Z_2 < 2$ (this might be an overly conservative estimate). This region is the result of setting a positive 'trimming level' on the required density of the conditioning set, in accord with the method of Heckman, Ichimura, and Todd."
   ]
  },
  {
   "cell_type": "markdown",
   "metadata": {},
   "source": [
    "## 3.  Propensity score matching: Using R or Python, \n",
    "\n",
    "a) use propensity score matching to estimate the treatment effect (an ATE or CATE) of $d$ on $y$.\n",
    "\n",
    "b) explain whether you achieved good balance on the covariates and on the propensity scores"
   ]
  },
  {
   "cell_type": "code",
   "execution_count": 7,
   "metadata": {},
   "outputs": [
    {
     "name": "stderr",
     "output_type": "stream",
     "text": [
      "/home/eric/anaconda3/envs/causalInf/lib/python2.7/site-packages/ipykernel_launcher.py:1: UserWarning: Boolean Series key will be reindexed to match DataFrame index.\n",
      "  \"\"\"Entry point for launching an IPython kernel.\n",
      "/home/eric/anaconda3/envs/causalInf/lib/python2.7/site-packages/ipykernel_launcher.py:1: UserWarning: Boolean Series key will be reindexed to match DataFrame index.\n",
      "  \"\"\"Entry point for launching an IPython kernel.\n",
      "/home/eric/anaconda3/envs/causalInf/lib/python2.7/site-packages/ipykernel_launcher.py:1: UserWarning: Boolean Series key will be reindexed to match DataFrame index.\n",
      "  \"\"\"Entry point for launching an IPython kernel.\n"
     ]
    }
   ],
   "source": [
    "df_common = df[df.z1 > -2][df.z1 < 2][df.z2 > -2][df.z2 < 2]"
   ]
  },
  {
   "cell_type": "code",
   "execution_count": 18,
   "metadata": {},
   "outputs": [
    {
     "name": "stdout",
     "output_type": "stream",
     "text": [
      "Optimization terminated successfully.\n",
      "         Current function value: 0.557405\n",
      "         Iterations 6\n"
     ]
    },
    {
     "data": {
      "text/plain": [
       "2.5288341882281915"
      ]
     },
     "execution_count": 18,
     "metadata": {},
     "output_type": "execute_result"
    }
   ],
   "source": [
    "from causality.estimation.parametric import PropensityScoreMatching\n",
    "\n",
    "matcher = PropensityScoreMatching()\n",
    "matcher.estimate_ATE(df_common, 'd', 'y', {'z1': 'c', 'z2': 'c'})"
   ]
  },
  {
   "cell_type": "code",
   "execution_count": 19,
   "metadata": {},
   "outputs": [
    {
     "name": "stdout",
     "output_type": "stream",
     "text": [
      "Optimization terminated successfully.\n",
      "         Current function value: 0.537262\n",
      "         Iterations 6\n"
     ]
    },
    {
     "data": {
      "text/plain": [
       "2.9267410251356747"
      ]
     },
     "execution_count": 19,
     "metadata": {},
     "output_type": "execute_result"
    }
   ],
   "source": [
    "from causality.estimation.parametric import PropensityScoreMatching\n",
    "\n",
    "matcher = PropensityScoreMatching()\n",
    "matcher.estimate_ATE(df, 'd', 'y', {'z1': 'c', 'z2': 'c'})"
   ]
  },
  {
   "cell_type": "markdown",
   "metadata": {},
   "source": [
    "Our estimate of the CATE over the common support is about 2.5; expectedly, this is not equal to the true ATE of 3.  \n",
    "The estimate of the ATE over the entire distribution is about 2.93, which is close to the true ATE. The bias is expected because we found that there is not perfect shared support between the distribution of $Z_1$ conditioned on $d$ and of the distribution of $Z_2$ conditioned on $d$."
   ]
  },
  {
   "cell_type": "code",
   "execution_count": 11,
   "metadata": {},
   "outputs": [
    {
     "data": {
      "text/plain": [
       "{'z1': 0.71813674419093898, 'z2': 0.74945605378398017}"
      ]
     },
     "execution_count": 11,
     "metadata": {},
     "output_type": "execute_result"
    }
   ],
   "source": [
    "matcher.assess_balance(df_common, 'd', {'z1': 'c', 'z2': 'c'})"
   ]
  },
  {
   "cell_type": "code",
   "execution_count": 20,
   "metadata": {},
   "outputs": [
    {
     "data": {
      "text/plain": [
       "{'z1': 0.76520271560861985, 'z2': 0.79671172295056691}"
      ]
     },
     "execution_count": 20,
     "metadata": {},
     "output_type": "execute_result"
    }
   ],
   "source": [
    "matcher.assess_balance(df, 'd', {'z1': 'c', 'z2': 'c'})"
   ]
  },
  {
   "cell_type": "markdown",
   "metadata": {},
   "source": [
    "There was imbalance before matching"
   ]
  },
  {
   "cell_type": "code",
   "execution_count": 12,
   "metadata": {},
   "outputs": [
    {
     "name": "stdout",
     "output_type": "stream",
     "text": [
      "Optimization terminated successfully.\n",
      "         Current function value: 0.557405\n",
      "         Iterations 6\n"
     ]
    }
   ],
   "source": [
    "df_common = matcher.score(df_common, assignment='d', confounder_types={'z1': 'c', 'z2': 'c'})"
   ]
  },
  {
   "cell_type": "code",
   "execution_count": 14,
   "metadata": {},
   "outputs": [],
   "source": [
    "treated, control = matcher.match(df_common, assignment='d')"
   ]
  },
  {
   "cell_type": "code",
   "execution_count": 15,
   "metadata": {},
   "outputs": [
    {
     "name": "stderr",
     "output_type": "stream",
     "text": [
      "/home/eric/anaconda3/envs/causalInf/lib/python2.7/site-packages/pandas/core/frame.py:6211: FutureWarning: Sorting because non-concatenation axis is not aligned. A future version\n",
      "of pandas will change to not sort by default.\n",
      "\n",
      "To accept the future behavior, pass 'sort=False'.\n",
      "\n",
      "To retain the current behavior and silence the warning, pass 'sort=True'.\n",
      "\n",
      "  sort=sort)\n"
     ]
    },
    {
     "data": {
      "text/plain": [
       "{'z1': 0.0068861230081258516, 'z2': 0.0057903427158561074}"
      ]
     },
     "execution_count": 15,
     "metadata": {},
     "output_type": "execute_result"
    }
   ],
   "source": [
    "matcher.assess_balance(treated.append(control), 'd', {'z1': 'c', 'z2': 'c'})"
   ]
  },
  {
   "cell_type": "markdown",
   "metadata": {},
   "source": [
    "There is almost no imbalance after matching."
   ]
  },
  {
   "cell_type": "code",
   "execution_count": 14,
   "metadata": {},
   "outputs": [],
   "source": [
    "treated, control = matcher.match(df_common, assignment='d')"
   ]
  },
  {
   "cell_type": "code",
   "execution_count": 16,
   "metadata": {},
   "outputs": [
    {
     "data": {
      "text/plain": [
       "{'propensity score': 1.1339574042681437,\n",
       " 'z1': 0.71813674419093898,\n",
       " 'z2': 0.74945605378398017}"
      ]
     },
     "execution_count": 16,
     "metadata": {},
     "output_type": "execute_result"
    }
   ],
   "source": [
    "matcher.assess_balance(df_common, 'd', {'z1': 'c', 'z2': 'c', 'propensity score': 'c'})"
   ]
  },
  {
   "cell_type": "code",
   "execution_count": 17,
   "metadata": {},
   "outputs": [
    {
     "data": {
      "text/plain": [
       "{'propensity score': 0.002831338634794654,\n",
       " 'z1': 0.0068861230081258516,\n",
       " 'z2': 0.0057903427158561074}"
      ]
     },
     "execution_count": 17,
     "metadata": {},
     "output_type": "execute_result"
    }
   ],
   "source": [
    "matcher.assess_balance(treated.append(control), 'd', {'z1': 'c', 'z2': 'c', 'propensity score': 'c'})"
   ]
  },
  {
   "cell_type": "markdown",
   "metadata": {},
   "source": [
    "Again, showing that balance has improved after propensity score matching on the common support."
   ]
  },
  {
   "cell_type": "code",
   "execution_count": 22,
   "metadata": {},
   "outputs": [],
   "source": [
    "treated, control = matcher.match(df, assignment='d')"
   ]
  },
  {
   "cell_type": "code",
   "execution_count": 23,
   "metadata": {},
   "outputs": [
    {
     "data": {
      "text/plain": [
       "{'propensity score': 1.235171544914446,\n",
       " 'z1': 0.76520271560861985,\n",
       " 'z2': 0.79671172295056691}"
      ]
     },
     "execution_count": 23,
     "metadata": {},
     "output_type": "execute_result"
    }
   ],
   "source": [
    "matcher.assess_balance(df, 'd', {'z1': 'c', 'z2': 'c', 'propensity score': 'c'})"
   ]
  },
  {
   "cell_type": "code",
   "execution_count": 24,
   "metadata": {},
   "outputs": [
    {
     "data": {
      "text/plain": [
       "{'propensity score': 0.0021466830080987564,\n",
       " 'z1': 0.0056361044576214454,\n",
       " 'z2': 0.010920875827136252}"
      ]
     },
     "execution_count": 24,
     "metadata": {},
     "output_type": "execute_result"
    }
   ],
   "source": [
    "matcher.assess_balance(treated.append(control), 'd', {'z1': 'c', 'z2': 'c', 'propensity score': 'c'})"
   ]
  },
  {
   "cell_type": "markdown",
   "metadata": {},
   "source": [
    "The full data set ATE show improved balance after propensity score matching, but arguably less than the common support CATE data. In particular, the imbalance of $Z_2$ is higher on our estimate of the ATE, but the imbalance of $Z_1$ is slightly lower."
   ]
  },
  {
   "cell_type": "markdown",
   "metadata": {},
   "source": [
    "## 4. Weighted regression: Using R or Python, \n",
    "\n",
    "a) use inverse propensity weighted regression to estimate the same treatement effect as in (3), but don't use doubly robust regression yet. (Hint: the data generating process isn't linear. Be careful about your regression specification!)\n",
    "\n",
    "b) Use a doubly robust estimator to estimate the treatment effect."
   ]
  },
  {
   "cell_type": "code",
   "execution_count": 25,
   "metadata": {},
   "outputs": [],
   "source": [
    "from statsmodels.api import WLS, OLS\n",
    "from sklearn.linear_model import LogisticRegression"
   ]
  },
  {
   "cell_type": "markdown",
   "metadata": {},
   "source": [
    "a) Inverse propensity weighted regression  \n",
    "First, compute propensity scores, $P(d=1|z1, z2)$"
   ]
  },
  {
   "cell_type": "code",
   "execution_count": 27,
   "metadata": {},
   "outputs": [],
   "source": [
    "propensity_model = LogisticRegression(C=1e12)\n",
    "propensity_model = propensity_model.fit(df[['z1', 'z2']], df['d'])\n",
    "df['$P(d=1|z1, z2)$'] = propensity_model.predict_proba(df[['z1', 'z2']])[:, 1]"
   ]
  },
  {
   "cell_type": "code",
   "execution_count": 29,
   "metadata": {},
   "outputs": [
    {
     "data": {
      "text/html": [
       "<div>\n",
       "<style scoped>\n",
       "    .dataframe tbody tr th:only-of-type {\n",
       "        vertical-align: middle;\n",
       "    }\n",
       "\n",
       "    .dataframe tbody tr th {\n",
       "        vertical-align: top;\n",
       "    }\n",
       "\n",
       "    .dataframe thead th {\n",
       "        text-align: right;\n",
       "    }\n",
       "</style>\n",
       "<table border=\"1\" class=\"dataframe\">\n",
       "  <thead>\n",
       "    <tr style=\"text-align: right;\">\n",
       "      <th></th>\n",
       "      <th>d</th>\n",
       "      <th>y</th>\n",
       "      <th>y0</th>\n",
       "      <th>y1</th>\n",
       "      <th>z1</th>\n",
       "      <th>z2</th>\n",
       "      <th>propensity score</th>\n",
       "      <th>$P(d=1|z1, z2)$</th>\n",
       "    </tr>\n",
       "  </thead>\n",
       "  <tbody>\n",
       "    <tr>\n",
       "      <th>0</th>\n",
       "      <td>0</td>\n",
       "      <td>-1.106116</td>\n",
       "      <td>-1.106116</td>\n",
       "      <td>0.034064</td>\n",
       "      <td>-0.742189</td>\n",
       "      <td>0.367783</td>\n",
       "      <td>0.407705</td>\n",
       "      <td>0.407701</td>\n",
       "    </tr>\n",
       "    <tr>\n",
       "      <th>1</th>\n",
       "      <td>0</td>\n",
       "      <td>1.255033</td>\n",
       "      <td>1.255033</td>\n",
       "      <td>3.227619</td>\n",
       "      <td>-0.482489</td>\n",
       "      <td>1.468687</td>\n",
       "      <td>0.736351</td>\n",
       "      <td>0.736345</td>\n",
       "    </tr>\n",
       "    <tr>\n",
       "      <th>2</th>\n",
       "      <td>0</td>\n",
       "      <td>0.330154</td>\n",
       "      <td>0.330154</td>\n",
       "      <td>1.476920</td>\n",
       "      <td>0.180064</td>\n",
       "      <td>-0.563166</td>\n",
       "      <td>0.398458</td>\n",
       "      <td>0.398458</td>\n",
       "    </tr>\n",
       "    <tr>\n",
       "      <th>3</th>\n",
       "      <td>1</td>\n",
       "      <td>5.684608</td>\n",
       "      <td>1.915878</td>\n",
       "      <td>5.684608</td>\n",
       "      <td>1.386726</td>\n",
       "      <td>0.277225</td>\n",
       "      <td>0.841472</td>\n",
       "      <td>0.841472</td>\n",
       "    </tr>\n",
       "    <tr>\n",
       "      <th>4</th>\n",
       "      <td>0</td>\n",
       "      <td>0.731564</td>\n",
       "      <td>0.731564</td>\n",
       "      <td>1.737645</td>\n",
       "      <td>-0.985179</td>\n",
       "      <td>1.063160</td>\n",
       "      <td>0.525657</td>\n",
       "      <td>0.525650</td>\n",
       "    </tr>\n",
       "  </tbody>\n",
       "</table>\n",
       "</div>"
      ],
      "text/plain": [
       "   d         y        y0        y1        z1        z2  propensity score  \\\n",
       "0  0 -1.106116 -1.106116  0.034064 -0.742189  0.367783          0.407705   \n",
       "1  0  1.255033  1.255033  3.227619 -0.482489  1.468687          0.736351   \n",
       "2  0  0.330154  0.330154  1.476920  0.180064 -0.563166          0.398458   \n",
       "3  1  5.684608  1.915878  5.684608  1.386726  0.277225          0.841472   \n",
       "4  0  0.731564  0.731564  1.737645 -0.985179  1.063160          0.525657   \n",
       "\n",
       "   $P(d=1|z1, z2)$  \n",
       "0         0.407701  \n",
       "1         0.736345  \n",
       "2         0.398458  \n",
       "3         0.841472  \n",
       "4         0.525650  "
      ]
     },
     "execution_count": 29,
     "metadata": {},
     "output_type": "execute_result"
    }
   ],
   "source": [
    "df.head()"
   ]
  },
  {
   "cell_type": "markdown",
   "metadata": {},
   "source": [
    "Compute weights $1/p_i$ for $d=1$ and $1/(1-p_i)$ otherwise"
   ]
  },
  {
   "cell_type": "code",
   "execution_count": 33,
   "metadata": {},
   "outputs": [],
   "source": [
    "df['w'] = (df['d'] == 1) * 1 / df['$P(d=1|z1, z2)$'] + (df['d'] == 0) * 1 / (1 - df['$P(d=1|z1, z2)$'])"
   ]
  },
  {
   "cell_type": "code",
   "execution_count": 34,
   "metadata": {},
   "outputs": [
    {
     "data": {
      "text/html": [
       "<div>\n",
       "<style scoped>\n",
       "    .dataframe tbody tr th:only-of-type {\n",
       "        vertical-align: middle;\n",
       "    }\n",
       "\n",
       "    .dataframe tbody tr th {\n",
       "        vertical-align: top;\n",
       "    }\n",
       "\n",
       "    .dataframe thead th {\n",
       "        text-align: right;\n",
       "    }\n",
       "</style>\n",
       "<table border=\"1\" class=\"dataframe\">\n",
       "  <thead>\n",
       "    <tr style=\"text-align: right;\">\n",
       "      <th></th>\n",
       "      <th>d</th>\n",
       "      <th>y</th>\n",
       "      <th>y0</th>\n",
       "      <th>y1</th>\n",
       "      <th>z1</th>\n",
       "      <th>z2</th>\n",
       "      <th>propensity score</th>\n",
       "      <th>$P(d=1|z1, z2)$</th>\n",
       "      <th>w</th>\n",
       "    </tr>\n",
       "  </thead>\n",
       "  <tbody>\n",
       "    <tr>\n",
       "      <th>0</th>\n",
       "      <td>0</td>\n",
       "      <td>-1.106116</td>\n",
       "      <td>-1.106116</td>\n",
       "      <td>0.034064</td>\n",
       "      <td>-0.742189</td>\n",
       "      <td>0.367783</td>\n",
       "      <td>0.407705</td>\n",
       "      <td>0.407701</td>\n",
       "      <td>1.688336</td>\n",
       "    </tr>\n",
       "    <tr>\n",
       "      <th>1</th>\n",
       "      <td>0</td>\n",
       "      <td>1.255033</td>\n",
       "      <td>1.255033</td>\n",
       "      <td>3.227619</td>\n",
       "      <td>-0.482489</td>\n",
       "      <td>1.468687</td>\n",
       "      <td>0.736351</td>\n",
       "      <td>0.736345</td>\n",
       "      <td>3.792840</td>\n",
       "    </tr>\n",
       "    <tr>\n",
       "      <th>2</th>\n",
       "      <td>0</td>\n",
       "      <td>0.330154</td>\n",
       "      <td>0.330154</td>\n",
       "      <td>1.476920</td>\n",
       "      <td>0.180064</td>\n",
       "      <td>-0.563166</td>\n",
       "      <td>0.398458</td>\n",
       "      <td>0.398458</td>\n",
       "      <td>1.662395</td>\n",
       "    </tr>\n",
       "    <tr>\n",
       "      <th>3</th>\n",
       "      <td>1</td>\n",
       "      <td>5.684608</td>\n",
       "      <td>1.915878</td>\n",
       "      <td>5.684608</td>\n",
       "      <td>1.386726</td>\n",
       "      <td>0.277225</td>\n",
       "      <td>0.841472</td>\n",
       "      <td>0.841472</td>\n",
       "      <td>1.188394</td>\n",
       "    </tr>\n",
       "    <tr>\n",
       "      <th>4</th>\n",
       "      <td>0</td>\n",
       "      <td>0.731564</td>\n",
       "      <td>0.731564</td>\n",
       "      <td>1.737645</td>\n",
       "      <td>-0.985179</td>\n",
       "      <td>1.063160</td>\n",
       "      <td>0.525657</td>\n",
       "      <td>0.525650</td>\n",
       "      <td>2.108146</td>\n",
       "    </tr>\n",
       "  </tbody>\n",
       "</table>\n",
       "</div>"
      ],
      "text/plain": [
       "   d         y        y0        y1        z1        z2  propensity score  \\\n",
       "0  0 -1.106116 -1.106116  0.034064 -0.742189  0.367783          0.407705   \n",
       "1  0  1.255033  1.255033  3.227619 -0.482489  1.468687          0.736351   \n",
       "2  0  0.330154  0.330154  1.476920  0.180064 -0.563166          0.398458   \n",
       "3  1  5.684608  1.915878  5.684608  1.386726  0.277225          0.841472   \n",
       "4  0  0.731564  0.731564  1.737645 -0.985179  1.063160          0.525657   \n",
       "\n",
       "   $P(d=1|z1, z2)$         w  \n",
       "0         0.407701  1.688336  \n",
       "1         0.736345  3.792840  \n",
       "2         0.398458  1.662395  \n",
       "3         0.841472  1.188394  \n",
       "4         0.525650  2.108146  "
      ]
     },
     "execution_count": 34,
     "metadata": {},
     "output_type": "execute_result"
    }
   ],
   "source": [
    "df.head()"
   ]
  },
  {
   "cell_type": "markdown",
   "metadata": {},
   "source": [
    "Compute weighted regression estimate"
   ]
  },
  {
   "cell_type": "code",
   "execution_count": 35,
   "metadata": {},
   "outputs": [
    {
     "data": {
      "text/html": [
       "<table class=\"simpletable\">\n",
       "<caption>WLS Regression Results</caption>\n",
       "<tr>\n",
       "  <th>Dep. Variable:</th>            <td>y</td>        <th>  R-squared:         </th> <td>   0.260</td> \n",
       "</tr>\n",
       "<tr>\n",
       "  <th>Model:</th>                   <td>WLS</td>       <th>  Adj. R-squared:    </th> <td>   0.260</td> \n",
       "</tr>\n",
       "<tr>\n",
       "  <th>Method:</th>             <td>Least Squares</td>  <th>  F-statistic:       </th> <td>   921.0</td> \n",
       "</tr>\n",
       "<tr>\n",
       "  <th>Date:</th>             <td>Sun, 18 Nov 2018</td> <th>  Prob (F-statistic):</th> <td>7.84e-186</td>\n",
       "</tr>\n",
       "<tr>\n",
       "  <th>Time:</th>                 <td>17:27:38</td>     <th>  Log-Likelihood:    </th> <td> -12113.</td> \n",
       "</tr>\n",
       "<tr>\n",
       "  <th>No. Observations:</th>      <td>  5000</td>      <th>  AIC:               </th> <td>2.423e+04</td>\n",
       "</tr>\n",
       "<tr>\n",
       "  <th>Df Residuals:</th>          <td>  4998</td>      <th>  BIC:               </th> <td>2.424e+04</td>\n",
       "</tr>\n",
       "<tr>\n",
       "  <th>Df Model:</th>              <td>     1</td>      <th>                     </th>     <td> </td>    \n",
       "</tr>\n",
       "<tr>\n",
       "  <th>Covariance Type:</th>         <td>HC3</td>       <th>                     </th>     <td> </td>    \n",
       "</tr>\n",
       "</table>\n",
       "<table class=\"simpletable\">\n",
       "<tr>\n",
       "      <td></td>         <th>coef</th>     <th>std err</th>      <th>z</th>      <th>P>|z|</th>  <th>[0.025</th>    <th>0.975]</th>  \n",
       "</tr>\n",
       "<tr>\n",
       "  <th>d</th>         <td>    3.0036</td> <td>    0.099</td> <td>   30.348</td> <td> 0.000</td> <td>    2.810</td> <td>    3.198</td>\n",
       "</tr>\n",
       "<tr>\n",
       "  <th>intercept</th> <td>   -0.0605</td> <td>    0.049</td> <td>   -1.242</td> <td> 0.214</td> <td>   -0.156</td> <td>    0.035</td>\n",
       "</tr>\n",
       "</table>\n",
       "<table class=\"simpletable\">\n",
       "<tr>\n",
       "  <th>Omnibus:</th>       <td>2736.103</td> <th>  Durbin-Watson:     </th> <td>   1.990</td> \n",
       "</tr>\n",
       "<tr>\n",
       "  <th>Prob(Omnibus):</th>  <td> 0.000</td>  <th>  Jarque-Bera (JB):  </th> <td>40652.710</td>\n",
       "</tr>\n",
       "<tr>\n",
       "  <th>Skew:</th>           <td> 2.286</td>  <th>  Prob(JB):          </th> <td>    0.00</td> \n",
       "</tr>\n",
       "<tr>\n",
       "  <th>Kurtosis:</th>       <td>16.199</td>  <th>  Cond. No.          </th> <td>    2.63</td> \n",
       "</tr>\n",
       "</table><br/><br/>Warnings:<br/>[1] Standard Errors are heteroscedasticity robust (HC3)"
      ],
      "text/plain": [
       "<class 'statsmodels.iolib.summary.Summary'>\n",
       "\"\"\"\n",
       "                            WLS Regression Results                            \n",
       "==============================================================================\n",
       "Dep. Variable:                      y   R-squared:                       0.260\n",
       "Model:                            WLS   Adj. R-squared:                  0.260\n",
       "Method:                 Least Squares   F-statistic:                     921.0\n",
       "Date:                Sun, 18 Nov 2018   Prob (F-statistic):          7.84e-186\n",
       "Time:                        17:27:38   Log-Likelihood:                -12113.\n",
       "No. Observations:                5000   AIC:                         2.423e+04\n",
       "Df Residuals:                    4998   BIC:                         2.424e+04\n",
       "Df Model:                           1                                         \n",
       "Covariance Type:                  HC3                                         \n",
       "==============================================================================\n",
       "                 coef    std err          z      P>|z|      [0.025      0.975]\n",
       "------------------------------------------------------------------------------\n",
       "d              3.0036      0.099     30.348      0.000       2.810       3.198\n",
       "intercept     -0.0605      0.049     -1.242      0.214      -0.156       0.035\n",
       "==============================================================================\n",
       "Omnibus:                     2736.103   Durbin-Watson:                   1.990\n",
       "Prob(Omnibus):                  0.000   Jarque-Bera (JB):            40652.710\n",
       "Skew:                           2.286   Prob(JB):                         0.00\n",
       "Kurtosis:                      16.199   Cond. No.                         2.63\n",
       "==============================================================================\n",
       "\n",
       "Warnings:\n",
       "[1] Standard Errors are heteroscedasticity robust (HC3)\n",
       "\"\"\""
      ]
     },
     "execution_count": 35,
     "metadata": {},
     "output_type": "execute_result"
    }
   ],
   "source": [
    "df['intercept'] = 1\n",
    "model = WLS(df['y'], df[['d', 'intercept']], weights=df['w'])\n",
    "result = model.fit(cov_type='HC3')\n",
    "result.summary()"
   ]
  },
  {
   "cell_type": "markdown",
   "metadata": {},
   "source": [
    "Our estimate for the ATE is 3.0036, almost equal to the true ATE and closer than the estimate derived from matching that we found above."
   ]
  },
  {
   "cell_type": "markdown",
   "metadata": {},
   "source": [
    "b) Doubly robust"
   ]
  },
  {
   "cell_type": "code",
   "execution_count": 40,
   "metadata": {},
   "outputs": [
    {
     "data": {
      "text/html": [
       "<table class=\"simpletable\">\n",
       "<caption>WLS Regression Results</caption>\n",
       "<tr>\n",
       "  <th>Dep. Variable:</th>            <td>y</td>        <th>  R-squared:         </th> <td>   0.711</td> \n",
       "</tr>\n",
       "<tr>\n",
       "  <th>Model:</th>                   <td>WLS</td>       <th>  Adj. R-squared:    </th> <td>   0.711</td> \n",
       "</tr>\n",
       "<tr>\n",
       "  <th>Method:</th>             <td>Least Squares</td>  <th>  F-statistic:       </th> <td>   2046.</td> \n",
       "</tr>\n",
       "<tr>\n",
       "  <th>Date:</th>             <td>Sun, 18 Nov 2018</td> <th>  Prob (F-statistic):</th>  <td>  0.00</td>  \n",
       "</tr>\n",
       "<tr>\n",
       "  <th>Time:</th>                 <td>17:45:02</td>     <th>  Log-Likelihood:    </th> <td> -9764.3</td> \n",
       "</tr>\n",
       "<tr>\n",
       "  <th>No. Observations:</th>      <td>  5000</td>      <th>  AIC:               </th> <td>1.954e+04</td>\n",
       "</tr>\n",
       "<tr>\n",
       "  <th>Df Residuals:</th>          <td>  4993</td>      <th>  BIC:               </th> <td>1.959e+04</td>\n",
       "</tr>\n",
       "<tr>\n",
       "  <th>Df Model:</th>              <td>     6</td>      <th>                     </th>     <td> </td>    \n",
       "</tr>\n",
       "<tr>\n",
       "  <th>Covariance Type:</th>      <td>nonrobust</td>    <th>                     </th>     <td> </td>    \n",
       "</tr>\n",
       "</table>\n",
       "<table class=\"simpletable\">\n",
       "<tr>\n",
       "      <td></td>         <th>coef</th>     <th>std err</th>      <th>t</th>      <th>P>|t|</th>  <th>[0.025</th>    <th>0.975]</th>  \n",
       "</tr>\n",
       "<tr>\n",
       "  <th>d</th>         <td>    2.8442</td> <td>    0.045</td> <td>   63.409</td> <td> 0.000</td> <td>    2.756</td> <td>    2.932</td>\n",
       "</tr>\n",
       "<tr>\n",
       "  <th>z1^2</th>      <td>    0.5921</td> <td>    0.016</td> <td>   36.563</td> <td> 0.000</td> <td>    0.560</td> <td>    0.624</td>\n",
       "</tr>\n",
       "<tr>\n",
       "  <th>z2^2</th>      <td>    0.4902</td> <td>    0.017</td> <td>   28.944</td> <td> 0.000</td> <td>    0.457</td> <td>    0.523</td>\n",
       "</tr>\n",
       "<tr>\n",
       "  <th>z1</th>        <td>    1.0789</td> <td>    0.023</td> <td>   47.120</td> <td> 0.000</td> <td>    1.034</td> <td>    1.124</td>\n",
       "</tr>\n",
       "<tr>\n",
       "  <th>z2</th>        <td>    1.1218</td> <td>    0.023</td> <td>   48.800</td> <td> 0.000</td> <td>    1.077</td> <td>    1.167</td>\n",
       "</tr>\n",
       "<tr>\n",
       "  <th>z1z2</th>      <td>    1.0942</td> <td>    0.025</td> <td>   44.020</td> <td> 0.000</td> <td>    1.045</td> <td>    1.143</td>\n",
       "</tr>\n",
       "<tr>\n",
       "  <th>intercept</th> <td>   -0.9253</td> <td>    0.039</td> <td>  -23.779</td> <td> 0.000</td> <td>   -1.002</td> <td>   -0.849</td>\n",
       "</tr>\n",
       "</table>\n",
       "<table class=\"simpletable\">\n",
       "<tr>\n",
       "  <th>Omnibus:</th>       <td>1325.120</td> <th>  Durbin-Watson:     </th> <td>   1.975</td> \n",
       "</tr>\n",
       "<tr>\n",
       "  <th>Prob(Omnibus):</th>  <td> 0.000</td>  <th>  Jarque-Bera (JB):  </th> <td>78025.494</td>\n",
       "</tr>\n",
       "<tr>\n",
       "  <th>Skew:</th>           <td> 0.377</td>  <th>  Prob(JB):          </th> <td>    0.00</td> \n",
       "</tr>\n",
       "<tr>\n",
       "  <th>Kurtosis:</th>       <td>22.338</td>  <th>  Cond. No.          </th> <td>    4.93</td> \n",
       "</tr>\n",
       "</table><br/><br/>Warnings:<br/>[1] Standard Errors assume that the covariance matrix of the errors is correctly specified."
      ],
      "text/plain": [
       "<class 'statsmodels.iolib.summary.Summary'>\n",
       "\"\"\"\n",
       "                            WLS Regression Results                            \n",
       "==============================================================================\n",
       "Dep. Variable:                      y   R-squared:                       0.711\n",
       "Model:                            WLS   Adj. R-squared:                  0.711\n",
       "Method:                 Least Squares   F-statistic:                     2046.\n",
       "Date:                Sun, 18 Nov 2018   Prob (F-statistic):               0.00\n",
       "Time:                        17:45:02   Log-Likelihood:                -9764.3\n",
       "No. Observations:                5000   AIC:                         1.954e+04\n",
       "Df Residuals:                    4993   BIC:                         1.959e+04\n",
       "Df Model:                           6                                         \n",
       "Covariance Type:            nonrobust                                         \n",
       "==============================================================================\n",
       "                 coef    std err          t      P>|t|      [0.025      0.975]\n",
       "------------------------------------------------------------------------------\n",
       "d              2.8442      0.045     63.409      0.000       2.756       2.932\n",
       "z1^2           0.5921      0.016     36.563      0.000       0.560       0.624\n",
       "z2^2           0.4902      0.017     28.944      0.000       0.457       0.523\n",
       "z1             1.0789      0.023     47.120      0.000       1.034       1.124\n",
       "z2             1.1218      0.023     48.800      0.000       1.077       1.167\n",
       "z1z2           1.0942      0.025     44.020      0.000       1.045       1.143\n",
       "intercept     -0.9253      0.039    -23.779      0.000      -1.002      -0.849\n",
       "==============================================================================\n",
       "Omnibus:                     1325.120   Durbin-Watson:                   1.975\n",
       "Prob(Omnibus):                  0.000   Jarque-Bera (JB):            78025.494\n",
       "Skew:                           0.377   Prob(JB):                         0.00\n",
       "Kurtosis:                      22.338   Cond. No.                         4.93\n",
       "==============================================================================\n",
       "\n",
       "Warnings:\n",
       "[1] Standard Errors assume that the covariance matrix of the errors is correctly specified.\n",
       "\"\"\""
      ]
     },
     "execution_count": 40,
     "metadata": {},
     "output_type": "execute_result"
    }
   ],
   "source": [
    "df['intercept'] = 1\n",
    "df['z1^2'] = df['z1'] ** 2\n",
    "df['z2^2'] = df['z2'] ** 2\n",
    "df['z1z2'] = df['z1'] * df['z2']\n",
    "\n",
    "model = WLS(df['y'], df[['d', 'z1^2', 'z2^2', 'z1', 'z2', 'z1z2', 'intercept']], weights=df['w'])\n",
    "result = model.fit()\n",
    "result.summary()"
   ]
  },
  {
   "cell_type": "markdown",
   "metadata": {},
   "source": [
    "The doubly robust regression does not do as good a job estimating the ATE, but is not far off."
   ]
  },
  {
   "cell_type": "markdown",
   "metadata": {},
   "source": [
    "Trying to estimate the ATT and ATC"
   ]
  },
  {
   "cell_type": "code",
   "execution_count": 44,
   "metadata": {},
   "outputs": [
    {
     "data": {
      "text/plain": [
       "2.9937132433851001"
      ]
     },
     "execution_count": 44,
     "metadata": {},
     "output_type": "execute_result"
    }
   ],
   "source": [
    "ATT = df[df['d'] == 1].y1.mean() - df[df['d'] == 1].y0.mean()\n",
    "ATT"
   ]
  },
  {
   "cell_type": "code",
   "execution_count": 45,
   "metadata": {},
   "outputs": [
    {
     "data": {
      "text/plain": [
       "2.9066603791954146"
      ]
     },
     "execution_count": 45,
     "metadata": {},
     "output_type": "execute_result"
    }
   ],
   "source": [
    "ATC = df[df['d'] == 0].y1.mean() - df[df['d'] == 0].y0.mean()\n",
    "ATC"
   ]
  },
  {
   "cell_type": "markdown",
   "metadata": {},
   "source": [
    "Weights for the ATT are 1 if $d = 1$ and $p_i / (1-p_i)$ otherwise.  \n",
    "Weights for the ATC are $(1-p_i)/p_i$ if $d=1$ and 1 otherwise."
   ]
  },
  {
   "cell_type": "code",
   "execution_count": 47,
   "metadata": {},
   "outputs": [],
   "source": [
    "df['wT'] = (df['d'] == 1) * 1 + (df['d'] == 0) * df['$P(d=1|z1, z2)$'] / (1 - df['$P(d=1|z1, z2)$'])"
   ]
  },
  {
   "cell_type": "code",
   "execution_count": 48,
   "metadata": {},
   "outputs": [],
   "source": [
    "df['wC'] = (df['d'] == 1) * (1 - df['$P(d=1|z1, z2)$']) / df['$P(d=1|z1, z2)$'] + (df['d'] == 0) * 1"
   ]
  },
  {
   "cell_type": "code",
   "execution_count": 49,
   "metadata": {},
   "outputs": [
    {
     "data": {
      "text/html": [
       "<table class=\"simpletable\">\n",
       "<caption>WLS Regression Results</caption>\n",
       "<tr>\n",
       "  <th>Dep. Variable:</th>            <td>y</td>        <th>  R-squared:         </th> <td>   0.223</td> \n",
       "</tr>\n",
       "<tr>\n",
       "  <th>Model:</th>                   <td>WLS</td>       <th>  Adj. R-squared:    </th> <td>   0.222</td> \n",
       "</tr>\n",
       "<tr>\n",
       "  <th>Method:</th>             <td>Least Squares</td>  <th>  F-statistic:       </th> <td>   1431.</td> \n",
       "</tr>\n",
       "<tr>\n",
       "  <th>Date:</th>             <td>Sun, 18 Nov 2018</td> <th>  Prob (F-statistic):</th> <td>1.45e-275</td>\n",
       "</tr>\n",
       "<tr>\n",
       "  <th>Time:</th>                 <td>17:57:16</td>     <th>  Log-Likelihood:    </th> <td> -13292.</td> \n",
       "</tr>\n",
       "<tr>\n",
       "  <th>No. Observations:</th>      <td>  5000</td>      <th>  AIC:               </th> <td>2.659e+04</td>\n",
       "</tr>\n",
       "<tr>\n",
       "  <th>Df Residuals:</th>          <td>  4998</td>      <th>  BIC:               </th> <td>2.660e+04</td>\n",
       "</tr>\n",
       "<tr>\n",
       "  <th>Df Model:</th>              <td>     1</td>      <th>                     </th>     <td> </td>    \n",
       "</tr>\n",
       "<tr>\n",
       "  <th>Covariance Type:</th>      <td>nonrobust</td>    <th>                     </th>     <td> </td>    \n",
       "</tr>\n",
       "</table>\n",
       "<table class=\"simpletable\">\n",
       "<tr>\n",
       "      <td></td>         <th>coef</th>     <th>std err</th>      <th>t</th>      <th>P>|t|</th>  <th>[0.025</th>    <th>0.975]</th>  \n",
       "</tr>\n",
       "<tr>\n",
       "  <th>d</th>         <td>    3.1019</td> <td>    0.082</td> <td>   37.825</td> <td> 0.000</td> <td>    2.941</td> <td>    3.263</td>\n",
       "</tr>\n",
       "<tr>\n",
       "  <th>intercept</th> <td>    0.6220</td> <td>    0.059</td> <td>   10.626</td> <td> 0.000</td> <td>    0.507</td> <td>    0.737</td>\n",
       "</tr>\n",
       "</table>\n",
       "<table class=\"simpletable\">\n",
       "<tr>\n",
       "  <th>Omnibus:</th>       <td>3319.289</td> <th>  Durbin-Watson:     </th> <td>   1.972</td> \n",
       "</tr>\n",
       "<tr>\n",
       "  <th>Prob(Omnibus):</th>  <td> 0.000</td>  <th>  Jarque-Bera (JB):  </th> <td>60678.785</td>\n",
       "</tr>\n",
       "<tr>\n",
       "  <th>Skew:</th>           <td> 2.915</td>  <th>  Prob(JB):          </th> <td>    0.00</td> \n",
       "</tr>\n",
       "<tr>\n",
       "  <th>Kurtosis:</th>       <td>19.039</td>  <th>  Cond. No.          </th> <td>    2.64</td> \n",
       "</tr>\n",
       "</table><br/><br/>Warnings:<br/>[1] Standard Errors assume that the covariance matrix of the errors is correctly specified."
      ],
      "text/plain": [
       "<class 'statsmodels.iolib.summary.Summary'>\n",
       "\"\"\"\n",
       "                            WLS Regression Results                            \n",
       "==============================================================================\n",
       "Dep. Variable:                      y   R-squared:                       0.223\n",
       "Model:                            WLS   Adj. R-squared:                  0.222\n",
       "Method:                 Least Squares   F-statistic:                     1431.\n",
       "Date:                Sun, 18 Nov 2018   Prob (F-statistic):          1.45e-275\n",
       "Time:                        17:57:16   Log-Likelihood:                -13292.\n",
       "No. Observations:                5000   AIC:                         2.659e+04\n",
       "Df Residuals:                    4998   BIC:                         2.660e+04\n",
       "Df Model:                           1                                         \n",
       "Covariance Type:            nonrobust                                         \n",
       "==============================================================================\n",
       "                 coef    std err          t      P>|t|      [0.025      0.975]\n",
       "------------------------------------------------------------------------------\n",
       "d              3.1019      0.082     37.825      0.000       2.941       3.263\n",
       "intercept      0.6220      0.059     10.626      0.000       0.507       0.737\n",
       "==============================================================================\n",
       "Omnibus:                     3319.289   Durbin-Watson:                   1.972\n",
       "Prob(Omnibus):                  0.000   Jarque-Bera (JB):            60678.785\n",
       "Skew:                           2.915   Prob(JB):                         0.00\n",
       "Kurtosis:                      19.039   Cond. No.                         2.64\n",
       "==============================================================================\n",
       "\n",
       "Warnings:\n",
       "[1] Standard Errors assume that the covariance matrix of the errors is correctly specified.\n",
       "\"\"\""
      ]
     },
     "execution_count": 49,
     "metadata": {},
     "output_type": "execute_result"
    }
   ],
   "source": [
    "model = WLS(df['y'], df[['d', 'intercept']], weights=df['wT'])\n",
    "result = model.fit()\n",
    "result.summary()"
   ]
  },
  {
   "cell_type": "code",
   "execution_count": 50,
   "metadata": {},
   "outputs": [
    {
     "data": {
      "text/html": [
       "<table class=\"simpletable\">\n",
       "<caption>WLS Regression Results</caption>\n",
       "<tr>\n",
       "  <th>Dep. Variable:</th>            <td>y</td>        <th>  R-squared:         </th> <td>   0.373</td> \n",
       "</tr>\n",
       "<tr>\n",
       "  <th>Model:</th>                   <td>WLS</td>       <th>  Adj. R-squared:    </th> <td>   0.373</td> \n",
       "</tr>\n",
       "<tr>\n",
       "  <th>Method:</th>             <td>Least Squares</td>  <th>  F-statistic:       </th> <td>   2976.</td> \n",
       "</tr>\n",
       "<tr>\n",
       "  <th>Date:</th>             <td>Sun, 18 Nov 2018</td> <th>  Prob (F-statistic):</th>  <td>  0.00</td>  \n",
       "</tr>\n",
       "<tr>\n",
       "  <th>Time:</th>                 <td>17:57:47</td>     <th>  Log-Likelihood:    </th> <td> -11160.</td> \n",
       "</tr>\n",
       "<tr>\n",
       "  <th>No. Observations:</th>      <td>  5000</td>      <th>  AIC:               </th> <td>2.232e+04</td>\n",
       "</tr>\n",
       "<tr>\n",
       "  <th>Df Residuals:</th>          <td>  4998</td>      <th>  BIC:               </th> <td>2.234e+04</td>\n",
       "</tr>\n",
       "<tr>\n",
       "  <th>Df Model:</th>              <td>     1</td>      <th>                     </th>     <td> </td>    \n",
       "</tr>\n",
       "<tr>\n",
       "  <th>Covariance Type:</th>      <td>nonrobust</td>    <th>                     </th>     <td> </td>    \n",
       "</tr>\n",
       "</table>\n",
       "<table class=\"simpletable\">\n",
       "<tr>\n",
       "      <td></td>         <th>coef</th>     <th>std err</th>      <th>t</th>      <th>P>|t|</th>  <th>[0.025</th>    <th>0.975]</th>  \n",
       "</tr>\n",
       "<tr>\n",
       "  <th>d</th>         <td>    2.8896</td> <td>    0.053</td> <td>   54.553</td> <td> 0.000</td> <td>    2.786</td> <td>    2.993</td>\n",
       "</tr>\n",
       "<tr>\n",
       "  <th>intercept</th> <td>   -0.7038</td> <td>    0.038</td> <td>  -18.744</td> <td> 0.000</td> <td>   -0.777</td> <td>   -0.630</td>\n",
       "</tr>\n",
       "</table>\n",
       "<table class=\"simpletable\">\n",
       "<tr>\n",
       "  <th>Omnibus:</th>       <td>5616.488</td> <th>  Durbin-Watson:     </th>  <td>   1.982</td>  \n",
       "</tr>\n",
       "<tr>\n",
       "  <th>Prob(Omnibus):</th>  <td> 0.000</td>  <th>  Jarque-Bera (JB):  </th> <td>2862698.335</td>\n",
       "</tr>\n",
       "<tr>\n",
       "  <th>Skew:</th>           <td> 5.098</td>  <th>  Prob(JB):          </th>  <td>    0.00</td>  \n",
       "</tr>\n",
       "<tr>\n",
       "  <th>Kurtosis:</th>       <td>119.777</td> <th>  Cond. No.          </th>  <td>    2.62</td>  \n",
       "</tr>\n",
       "</table><br/><br/>Warnings:<br/>[1] Standard Errors assume that the covariance matrix of the errors is correctly specified."
      ],
      "text/plain": [
       "<class 'statsmodels.iolib.summary.Summary'>\n",
       "\"\"\"\n",
       "                            WLS Regression Results                            \n",
       "==============================================================================\n",
       "Dep. Variable:                      y   R-squared:                       0.373\n",
       "Model:                            WLS   Adj. R-squared:                  0.373\n",
       "Method:                 Least Squares   F-statistic:                     2976.\n",
       "Date:                Sun, 18 Nov 2018   Prob (F-statistic):               0.00\n",
       "Time:                        17:57:47   Log-Likelihood:                -11160.\n",
       "No. Observations:                5000   AIC:                         2.232e+04\n",
       "Df Residuals:                    4998   BIC:                         2.234e+04\n",
       "Df Model:                           1                                         \n",
       "Covariance Type:            nonrobust                                         \n",
       "==============================================================================\n",
       "                 coef    std err          t      P>|t|      [0.025      0.975]\n",
       "------------------------------------------------------------------------------\n",
       "d              2.8896      0.053     54.553      0.000       2.786       2.993\n",
       "intercept     -0.7038      0.038    -18.744      0.000      -0.777      -0.630\n",
       "==============================================================================\n",
       "Omnibus:                     5616.488   Durbin-Watson:                   1.982\n",
       "Prob(Omnibus):                  0.000   Jarque-Bera (JB):          2862698.335\n",
       "Skew:                           5.098   Prob(JB):                         0.00\n",
       "Kurtosis:                     119.777   Cond. No.                         2.62\n",
       "==============================================================================\n",
       "\n",
       "Warnings:\n",
       "[1] Standard Errors assume that the covariance matrix of the errors is correctly specified.\n",
       "\"\"\""
      ]
     },
     "execution_count": 50,
     "metadata": {},
     "output_type": "execute_result"
    }
   ],
   "source": [
    "model = WLS(df['y'], df[['d', 'intercept']], weights=df['wC'])\n",
    "result = model.fit()\n",
    "result.summary()"
   ]
  },
  {
   "cell_type": "markdown",
   "metadata": {},
   "source": [
    "The estimate for the ATC is quite close to the true value, 2.8896 compared to 2.9066. But the estimate for the ATT is not so close, 3.1019 compared to 2.9937"
   ]
  }
 ],
 "metadata": {
  "kernelspec": {
   "display_name": "Python 2",
   "language": "python",
   "name": "python2"
  },
  "language_info": {
   "codemirror_mode": {
    "name": "ipython",
    "version": 2
   },
   "file_extension": ".py",
   "mimetype": "text/x-python",
   "name": "python",
   "nbconvert_exporter": "python",
   "pygments_lexer": "ipython2",
   "version": "2.7.15"
  }
 },
 "nbformat": 4,
 "nbformat_minor": 2
}
