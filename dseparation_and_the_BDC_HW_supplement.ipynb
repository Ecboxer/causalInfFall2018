{
 "cells": [
  {
   "cell_type": "code",
   "execution_count": 5,
   "metadata": {},
   "outputs": [],
   "source": [
    "%matplotlib inline"
   ]
  },
  {
   "cell_type": "code",
   "execution_count": 6,
   "metadata": {},
   "outputs": [],
   "source": [
    "# We'll use this to draw some graphs.\n",
    "import networkx as nx"
   ]
  },
  {
   "cell_type": "markdown",
   "metadata": {},
   "source": [
    "# D-separation and the back-door criterion"
   ]
  },
  {
   "cell_type": "markdown",
   "metadata": {},
   "source": [
    "Let's build up the intuition for d-separation and the back-door criterion. We'll start with the 3-node graphs with two edges. Here, we'll be working with causal graphs. Remember that d-separation is more general, and applies to all bayesian networks. The causal interpretations of the arrows only apply to causal graphs, and not bayesian networks in general!"
   ]
  },
  {
   "cell_type": "markdown",
   "metadata": {},
   "source": [
    "## D-separation\n",
    "\n",
    "We'll start by looking at d-separation, which will be a tool we'll use to cut paths in a graph. By cutting the _right_ paths, we can get causal estimates from statistical data! Let's build the definition by looking at 3-node graphs, and developing intuition."
   ]
  },
  {
   "cell_type": "markdown",
   "metadata": {},
   "source": [
    "### Chain Graphs"
   ]
  },
  {
   "cell_type": "code",
   "execution_count": 99,
   "metadata": {},
   "outputs": [
    {
     "data": {
      "image/png": "[encoded data removed]",
      "text/plain": [
       "<Figure size 432x288 with 1 Axes>"
      ]
     },
     "metadata": {},
     "output_type": "display_data"
    }
   ],
   "source": [
    "g = nx.DiGraph([('$X_1$', '$X_2$'), ('$X_2$', '$X_3$')])\n",
    "nx.draw(g, with_labels=True, node_color='w', font_size=16, node_size=1000)"
   ]
  },
  {
   "cell_type": "markdown",
   "metadata": {},
   "source": [
    "Here, $X_1$ causes $X_2$, which causes $X_3$. This could be, for example, running ($X_1$) causes you to be tired ($X_2$), which causes you to sleep ($X_3$). If I know you're tired, $X_2=1$, then it doesn't matter whether that's from running or something else. You'll have the same propensity to sleep: $P(X_3|X_2, X_1) = P(X_3|X_2)$. \n",
    "\n",
    "This relationship is called \"conditional independence\". It's that \"sleep\" is independent of \"running\" conditional on the fact that we know how \"tired\" you are. More technically, knowing $X_2$, $X_1$ gives us no additional information about $X_3$. We sometimes say that $X_2$ \"blocks\" the path between $X_3$ and $X_1$.\n",
    "\n",
    "You can rewrite \n",
    "\n",
    "$$P(X_3|X_2, X_1) = P(X_3|X_2)$$\n",
    "\n",
    "as \n",
    "\n",
    "$$P(X_3, X_1|X_2) = P(X_3|X_2) P(X_1|X_2)$$.\n",
    "\n",
    "This way, it looks much more like statistical independence. Remember $X$ and $Y$ are statistically independent if and only if $P(X,Y) = P(X)P(Y)$. Here, it's independence conditional on $X_2$. We can explore this with a little data. We'll generate some data with the same statistical structure as this graph."
   ]
  },
  {
   "cell_type": "code",
   "execution_count": 92,
   "metadata": {},
   "outputs": [],
   "source": [
    "import numpy as np\n",
    "import pandas as pd\n",
    "\n",
    "N = 100000\n",
    "\n",
    "x1 = np.random.binomial(1, p=0.5, size=N)\n",
    "x2 = np.random.binomial(1, p=0.25 + 0.6 * x1, size=N)\n",
    "x3 = np.random.binomial(1, p=0.25 + 0.6 * x2, size=N)\n",
    "\n",
    "df = pd.DataFrame({'$X_1$': x1, '$X_2$': x2, '$X_3$': x3})"
   ]
  },
  {
   "cell_type": "markdown",
   "metadata": {},
   "source": [
    "First, notice that $X_1$ and $X_3$ are statistically dependent. They have a non-zero correlation!"
   ]
  },
  {
   "cell_type": "code",
   "execution_count": 93,
   "metadata": {},
   "outputs": [
    {
     "data": {
      "text/html": [
       "<div>\n",
       "<style scoped>\n",
       "    .dataframe tbody tr th:only-of-type {\n",
       "        vertical-align: middle;\n",
       "    }\n",
       "\n",
       "    .dataframe tbody tr th {\n",
       "        vertical-align: top;\n",
       "    }\n",
       "\n",
       "    .dataframe thead th {\n",
       "        text-align: right;\n",
       "    }\n",
       "</style>\n",
       "<table border=\"1\" class=\"dataframe\">\n",
       "  <thead>\n",
       "    <tr style=\"text-align: right;\">\n",
       "      <th></th>\n",
       "      <th>$X_1$</th>\n",
       "      <th>$X_3$</th>\n",
       "    </tr>\n",
       "  </thead>\n",
       "  <tbody>\n",
       "    <tr>\n",
       "      <th>$X_1$</th>\n",
       "      <td>1.000000</td>\n",
       "      <td>0.362736</td>\n",
       "    </tr>\n",
       "    <tr>\n",
       "      <th>$X_3$</th>\n",
       "      <td>0.362736</td>\n",
       "      <td>1.000000</td>\n",
       "    </tr>\n",
       "  </tbody>\n",
       "</table>\n",
       "</div>"
      ],
      "text/plain": [
       "          $X_1$     $X_3$\n",
       "$X_1$  1.000000  0.362736\n",
       "$X_3$  0.362736  1.000000"
      ]
     },
     "execution_count": 93,
     "metadata": {},
     "output_type": "execute_result"
    }
   ],
   "source": [
    "df[['$X_1$', '$X_3$']].corr()"
   ]
  },
  {
   "cell_type": "markdown",
   "metadata": {},
   "source": [
    "But let's condition on $X_2$, by restricting down to some value of $X_2$."
   ]
  },
  {
   "cell_type": "code",
   "execution_count": 94,
   "metadata": {},
   "outputs": [
    {
     "data": {
      "text/html": [
       "<div>\n",
       "<style scoped>\n",
       "    .dataframe tbody tr th:only-of-type {\n",
       "        vertical-align: middle;\n",
       "    }\n",
       "\n",
       "    .dataframe tbody tr th {\n",
       "        vertical-align: top;\n",
       "    }\n",
       "\n",
       "    .dataframe thead th {\n",
       "        text-align: right;\n",
       "    }\n",
       "</style>\n",
       "<table border=\"1\" class=\"dataframe\">\n",
       "  <thead>\n",
       "    <tr style=\"text-align: right;\">\n",
       "      <th></th>\n",
       "      <th>$X_1$</th>\n",
       "      <th>$X_3$</th>\n",
       "    </tr>\n",
       "  </thead>\n",
       "  <tbody>\n",
       "    <tr>\n",
       "      <th>$X_1$</th>\n",
       "      <td>1.000000</td>\n",
       "      <td>0.000023</td>\n",
       "    </tr>\n",
       "    <tr>\n",
       "      <th>$X_3$</th>\n",
       "      <td>0.000023</td>\n",
       "      <td>1.000000</td>\n",
       "    </tr>\n",
       "  </tbody>\n",
       "</table>\n",
       "</div>"
      ],
      "text/plain": [
       "          $X_1$     $X_3$\n",
       "$X_1$  1.000000  0.000023\n",
       "$X_3$  0.000023  1.000000"
      ]
     },
     "execution_count": 94,
     "metadata": {},
     "output_type": "execute_result"
    }
   ],
   "source": [
    "df_with_x2_0 = df[df['$X_2$'] == 0]\n",
    "df_with_x2_0[['$X_1$', '$X_3$']].corr()"
   ]
  },
  {
   "cell_type": "markdown",
   "metadata": {},
   "source": [
    "and the correlation goes away! We can do the same thing with $X_2 = 1$. The value doesn't matter. Just knowing the value is what matters."
   ]
  },
  {
   "cell_type": "code",
   "execution_count": 97,
   "metadata": {},
   "outputs": [
    {
     "data": {
      "text/html": [
       "<div>\n",
       "<style scoped>\n",
       "    .dataframe tbody tr th:only-of-type {\n",
       "        vertical-align: middle;\n",
       "    }\n",
       "\n",
       "    .dataframe tbody tr th {\n",
       "        vertical-align: top;\n",
       "    }\n",
       "\n",
       "    .dataframe thead th {\n",
       "        text-align: right;\n",
       "    }\n",
       "</style>\n",
       "<table border=\"1\" class=\"dataframe\">\n",
       "  <thead>\n",
       "    <tr style=\"text-align: right;\">\n",
       "      <th></th>\n",
       "      <th>$X_1$</th>\n",
       "      <th>$X_3$</th>\n",
       "    </tr>\n",
       "  </thead>\n",
       "  <tbody>\n",
       "    <tr>\n",
       "      <th>$X_1$</th>\n",
       "      <td>1.000000</td>\n",
       "      <td>-0.002916</td>\n",
       "    </tr>\n",
       "    <tr>\n",
       "      <th>$X_3$</th>\n",
       "      <td>-0.002916</td>\n",
       "      <td>1.000000</td>\n",
       "    </tr>\n",
       "  </tbody>\n",
       "</table>\n",
       "</div>"
      ],
      "text/plain": [
       "          $X_1$     $X_3$\n",
       "$X_1$  1.000000 -0.002916\n",
       "$X_3$ -0.002916  1.000000"
      ]
     },
     "execution_count": 97,
     "metadata": {},
     "output_type": "execute_result"
    }
   ],
   "source": [
    "df_with_x2_1 = df[df['$X_2$'] == 1]\n",
    "df_with_x2_1[['$X_1$', '$X_3$']].corr()"
   ]
  },
  {
   "cell_type": "markdown",
   "metadata": {},
   "source": [
    "Another term for \"blocking\" is \"d-separation\". We can say that conditioning on the middle node of a chain _d-separates_ the ends on the chain."
   ]
  },
  {
   "cell_type": "markdown",
   "metadata": {},
   "source": [
    "Now, let's look at the other 3-variable, 2-edge graphs. First, the \"fork\"."
   ]
  },
  {
   "cell_type": "markdown",
   "metadata": {},
   "source": [
    "### Fork Graphs"
   ]
  },
  {
   "cell_type": "code",
   "execution_count": 101,
   "metadata": {},
   "outputs": [
    {
     "data": {
      "image/png": "[encoded data removed]",
      "text/plain": [
       "<Figure size 432x288 with 1 Axes>"
      ]
     },
     "metadata": {},
     "output_type": "display_data"
    }
   ],
   "source": [
    "g = nx.DiGraph([('$X_2$', '$X_1$'), ('$X_2$', '$X_3$')])\n",
    "nx.draw(g, with_labels=True, node_color='w', font_size=16, node_size=1000)"
   ]
  },
  {
   "cell_type": "markdown",
   "metadata": {},
   "source": [
    "What's a system that might have this structure? An example we used in class was $X_1$ is \"a crime was committed today\", $X_2$ is \"the weather was warm today\", and $X_1$ is \"a lot of lemonade was sold today\". \n",
    "\n",
    "In this graph, you'll find that on warm days, more lemonade is sold. On warm days, more crimes are committed (because more people are outside doing things). This common dependence on the weather makes lemonade sales tend to be higher on the same days that crime is more likely. This will result in a correlation between lemonade sales and crime.\n",
    "\n",
    "From the graph, you can see there's no directed path from $X_1$ to $X_3$ or vice versa. In a sense, these variables don't cause each other. This is a spurious, or non-causal, correlation. There is statistical dependence between $X_1$ and $X_3$, even though there's no causal dependence.\n",
    "\n",
    "If we restrict our data to only warm days, we should remove the co-variation between $X_1$ and $X_3$ due to the weather. That should render them independent of each other. Let's see if it works. First, let's generate data."
   ]
  },
  {
   "cell_type": "code",
   "execution_count": 102,
   "metadata": {},
   "outputs": [],
   "source": [
    "N = 100000\n",
    "\n",
    "x2 = np.random.binomial(1, p=0.5, size=N)\n",
    "x1 = np.random.binomial(1, p=0.25 + 0.6 * x2, size=N)\n",
    "x3 = np.random.binomial(1, p=0.25 + 0.6 * x2, size=N)\n",
    "\n",
    "df = pd.DataFrame({'$X_1$': x1, '$X_2$': x2, '$X_3$': x3})"
   ]
  },
  {
   "cell_type": "markdown",
   "metadata": {},
   "source": [
    "Now, let's confirm that $X_1$ and $X_3$ are statistically dependent."
   ]
  },
  {
   "cell_type": "code",
   "execution_count": 105,
   "metadata": {},
   "outputs": [
    {
     "data": {
      "text/html": [
       "<div>\n",
       "<style scoped>\n",
       "    .dataframe tbody tr th:only-of-type {\n",
       "        vertical-align: middle;\n",
       "    }\n",
       "\n",
       "    .dataframe tbody tr th {\n",
       "        vertical-align: top;\n",
       "    }\n",
       "\n",
       "    .dataframe thead th {\n",
       "        text-align: right;\n",
       "    }\n",
       "</style>\n",
       "<table border=\"1\" class=\"dataframe\">\n",
       "  <thead>\n",
       "    <tr style=\"text-align: right;\">\n",
       "      <th></th>\n",
       "      <th>$X_1$</th>\n",
       "      <th>$X_3$</th>\n",
       "    </tr>\n",
       "  </thead>\n",
       "  <tbody>\n",
       "    <tr>\n",
       "      <th>$X_1$</th>\n",
       "      <td>1.000000</td>\n",
       "      <td>0.362382</td>\n",
       "    </tr>\n",
       "    <tr>\n",
       "      <th>$X_3$</th>\n",
       "      <td>0.362382</td>\n",
       "      <td>1.000000</td>\n",
       "    </tr>\n",
       "  </tbody>\n",
       "</table>\n",
       "</div>"
      ],
      "text/plain": [
       "          $X_1$     $X_3$\n",
       "$X_1$  1.000000  0.362382\n",
       "$X_3$  0.362382  1.000000"
      ]
     },
     "execution_count": 105,
     "metadata": {},
     "output_type": "execute_result"
    }
   ],
   "source": [
    "df[['$X_1$', '$X_3$']].corr()"
   ]
  },
  {
   "cell_type": "markdown",
   "metadata": {},
   "source": [
    "There's a nonzero correlation! We've confirmed that there's spurious statistical dependence. Now, let's see if we can get rid of the statistical dependence by conditioning on the weather, $X_2$."
   ]
  },
  {
   "cell_type": "code",
   "execution_count": 106,
   "metadata": {},
   "outputs": [
    {
     "data": {
      "text/html": [
       "<div>\n",
       "<style scoped>\n",
       "    .dataframe tbody tr th:only-of-type {\n",
       "        vertical-align: middle;\n",
       "    }\n",
       "\n",
       "    .dataframe tbody tr th {\n",
       "        vertical-align: top;\n",
       "    }\n",
       "\n",
       "    .dataframe thead th {\n",
       "        text-align: right;\n",
       "    }\n",
       "</style>\n",
       "<table border=\"1\" class=\"dataframe\">\n",
       "  <thead>\n",
       "    <tr style=\"text-align: right;\">\n",
       "      <th></th>\n",
       "      <th>$X_1$</th>\n",
       "      <th>$X_3$</th>\n",
       "    </tr>\n",
       "  </thead>\n",
       "  <tbody>\n",
       "    <tr>\n",
       "      <th>$X_1$</th>\n",
       "      <td>1.0000</td>\n",
       "      <td>0.0006</td>\n",
       "    </tr>\n",
       "    <tr>\n",
       "      <th>$X_3$</th>\n",
       "      <td>0.0006</td>\n",
       "      <td>1.0000</td>\n",
       "    </tr>\n",
       "  </tbody>\n",
       "</table>\n",
       "</div>"
      ],
      "text/plain": [
       "        $X_1$   $X_3$\n",
       "$X_1$  1.0000  0.0006\n",
       "$X_3$  0.0006  1.0000"
      ]
     },
     "execution_count": 106,
     "metadata": {},
     "output_type": "execute_result"
    }
   ],
   "source": [
    "df[df['$X_2$'] == 1][['$X_1$', '$X_3$']].corr()"
   ]
  },
  {
   "cell_type": "code",
   "execution_count": 107,
   "metadata": {},
   "outputs": [
    {
     "data": {
      "text/html": [
       "<div>\n",
       "<style scoped>\n",
       "    .dataframe tbody tr th:only-of-type {\n",
       "        vertical-align: middle;\n",
       "    }\n",
       "\n",
       "    .dataframe tbody tr th {\n",
       "        vertical-align: top;\n",
       "    }\n",
       "\n",
       "    .dataframe thead th {\n",
       "        text-align: right;\n",
       "    }\n",
       "</style>\n",
       "<table border=\"1\" class=\"dataframe\">\n",
       "  <thead>\n",
       "    <tr style=\"text-align: right;\">\n",
       "      <th></th>\n",
       "      <th>$X_1$</th>\n",
       "      <th>$X_3$</th>\n",
       "    </tr>\n",
       "  </thead>\n",
       "  <tbody>\n",
       "    <tr>\n",
       "      <th>$X_1$</th>\n",
       "      <td>1.000000</td>\n",
       "      <td>0.007077</td>\n",
       "    </tr>\n",
       "    <tr>\n",
       "      <th>$X_3$</th>\n",
       "      <td>0.007077</td>\n",
       "      <td>1.000000</td>\n",
       "    </tr>\n",
       "  </tbody>\n",
       "</table>\n",
       "</div>"
      ],
      "text/plain": [
       "          $X_1$     $X_3$\n",
       "$X_1$  1.000000  0.007077\n",
       "$X_3$  0.007077  1.000000"
      ]
     },
     "execution_count": 107,
     "metadata": {},
     "output_type": "execute_result"
    }
   ],
   "source": [
    "df[df['$X_2$'] == 0][['$X_1$', '$X_3$']].corr()"
   ]
  },
  {
   "cell_type": "markdown",
   "metadata": {},
   "source": [
    "Looks good! We've shown that conditioning on the middle node of a fork will render the ends statistically independent. Now, let's look at the last of the 3-node, 2-edge graphs: the \"collider\"."
   ]
  },
  {
   "cell_type": "markdown",
   "metadata": {},
   "source": [
    "### Collider Graphs"
   ]
  },
  {
   "cell_type": "code",
   "execution_count": 108,
   "metadata": {},
   "outputs": [
    {
     "data": {
      "image/png": "[encoded data removed]",
      "text/plain": [
       "<Figure size 432x288 with 1 Axes>"
      ]
     },
     "metadata": {},
     "output_type": "display_data"
    }
   ],
   "source": [
    "g = nx.DiGraph([('$X_1$', '$X_2$'), ('$X_3$', '$X_2$')])\n",
    "nx.draw(g, with_labels=True, node_color='w', font_size=16, node_size=1000)"
   ]
  },
  {
   "cell_type": "markdown",
   "metadata": {},
   "source": [
    "In class, we used the example of $X_1$ is \"a person has good math skils\", $X_3$ is \"a person has good social skills\", and $X_2$ is \"the person is admitted to college\". In this example, math skills and social skills are uncorrelated in the general population. You will only be admitted to college if one skill, the other, or both are good.\n",
    "\n",
    "In the college population, $X_2 = 1$, we've selected a subset of the general population. While $X_1$ and $X_3$ were uncorrelated in the general population, we're not guaranteed they are in the selected population. \n",
    "\n",
    "Consider: If we know someone was admitted to college, $X_2 = 1$, and that they have bad math skills, what must we know about their social skills? Since they were admitted, their social skills must be good. Conditional on admittance to college, knowledge about their math skills has told us something about their social skills. In other words, math and social skills are _conditionally dependent_, given college admittance.\n",
    "\n",
    "Let's check this with some data."
   ]
  },
  {
   "cell_type": "code",
   "execution_count": 114,
   "metadata": {},
   "outputs": [],
   "source": [
    "N = 1000000\n",
    "\n",
    "x1 = np.random.binomial(1, p=0.5, size=N)\n",
    "x3 = np.random.binomial(1, p=0.5, size=N)\n",
    "x2 = np.random.binomial(1, p=0.25 + 0.25 * x1 + 0.25 * x3, size=N)\n",
    "\n",
    "df = pd.DataFrame({'$X_1$': x1, '$X_2$': x2, '$X_3$': x3})"
   ]
  },
  {
   "cell_type": "markdown",
   "metadata": {},
   "source": [
    "Let's confirm that these are independent in the general population:"
   ]
  },
  {
   "cell_type": "code",
   "execution_count": 115,
   "metadata": {},
   "outputs": [
    {
     "data": {
      "text/html": [
       "<div>\n",
       "<style scoped>\n",
       "    .dataframe tbody tr th:only-of-type {\n",
       "        vertical-align: middle;\n",
       "    }\n",
       "\n",
       "    .dataframe tbody tr th {\n",
       "        vertical-align: top;\n",
       "    }\n",
       "\n",
       "    .dataframe thead th {\n",
       "        text-align: right;\n",
       "    }\n",
       "</style>\n",
       "<table border=\"1\" class=\"dataframe\">\n",
       "  <thead>\n",
       "    <tr style=\"text-align: right;\">\n",
       "      <th></th>\n",
       "      <th>$X_1$</th>\n",
       "      <th>$X_3$</th>\n",
       "    </tr>\n",
       "  </thead>\n",
       "  <tbody>\n",
       "    <tr>\n",
       "      <th>$X_1$</th>\n",
       "      <td>1.000000</td>\n",
       "      <td>0.000585</td>\n",
       "    </tr>\n",
       "    <tr>\n",
       "      <th>$X_3$</th>\n",
       "      <td>0.000585</td>\n",
       "      <td>1.000000</td>\n",
       "    </tr>\n",
       "  </tbody>\n",
       "</table>\n",
       "</div>"
      ],
      "text/plain": [
       "          $X_1$     $X_3$\n",
       "$X_1$  1.000000  0.000585\n",
       "$X_3$  0.000585  1.000000"
      ]
     },
     "execution_count": 115,
     "metadata": {},
     "output_type": "execute_result"
    }
   ],
   "source": [
    "df[['$X_1$', '$X_3$']].corr()"
   ]
  },
  {
   "cell_type": "markdown",
   "metadata": {},
   "source": [
    "and now let's see if they become dependent when we restrict to the admitted (or not) populations."
   ]
  },
  {
   "cell_type": "code",
   "execution_count": 116,
   "metadata": {},
   "outputs": [
    {
     "data": {
      "text/html": [
       "<div>\n",
       "<style scoped>\n",
       "    .dataframe tbody tr th:only-of-type {\n",
       "        vertical-align: middle;\n",
       "    }\n",
       "\n",
       "    .dataframe tbody tr th {\n",
       "        vertical-align: top;\n",
       "    }\n",
       "\n",
       "    .dataframe thead th {\n",
       "        text-align: right;\n",
       "    }\n",
       "</style>\n",
       "<table border=\"1\" class=\"dataframe\">\n",
       "  <thead>\n",
       "    <tr style=\"text-align: right;\">\n",
       "      <th></th>\n",
       "      <th>$X_1$</th>\n",
       "      <th>$X_3$</th>\n",
       "    </tr>\n",
       "  </thead>\n",
       "  <tbody>\n",
       "    <tr>\n",
       "      <th>$X_1$</th>\n",
       "      <td>1.000000</td>\n",
       "      <td>-0.066144</td>\n",
       "    </tr>\n",
       "    <tr>\n",
       "      <th>$X_3$</th>\n",
       "      <td>-0.066144</td>\n",
       "      <td>1.000000</td>\n",
       "    </tr>\n",
       "  </tbody>\n",
       "</table>\n",
       "</div>"
      ],
      "text/plain": [
       "          $X_1$     $X_3$\n",
       "$X_1$  1.000000 -0.066144\n",
       "$X_3$ -0.066144  1.000000"
      ]
     },
     "execution_count": 116,
     "metadata": {},
     "output_type": "execute_result"
    }
   ],
   "source": [
    "df[df['$X_2$'] == 1][['$X_1$', '$X_3$']].corr()"
   ]
  },
  {
   "cell_type": "code",
   "execution_count": 117,
   "metadata": {},
   "outputs": [
    {
     "data": {
      "text/html": [
       "<div>\n",
       "<style scoped>\n",
       "    .dataframe tbody tr th:only-of-type {\n",
       "        vertical-align: middle;\n",
       "    }\n",
       "\n",
       "    .dataframe tbody tr th {\n",
       "        vertical-align: top;\n",
       "    }\n",
       "\n",
       "    .dataframe thead th {\n",
       "        text-align: right;\n",
       "    }\n",
       "</style>\n",
       "<table border=\"1\" class=\"dataframe\">\n",
       "  <thead>\n",
       "    <tr style=\"text-align: right;\">\n",
       "      <th></th>\n",
       "      <th>$X_1$</th>\n",
       "      <th>$X_3$</th>\n",
       "    </tr>\n",
       "  </thead>\n",
       "  <tbody>\n",
       "    <tr>\n",
       "      <th>$X_1$</th>\n",
       "      <td>1.000000</td>\n",
       "      <td>-0.065696</td>\n",
       "    </tr>\n",
       "    <tr>\n",
       "      <th>$X_3$</th>\n",
       "      <td>-0.065696</td>\n",
       "      <td>1.000000</td>\n",
       "    </tr>\n",
       "  </tbody>\n",
       "</table>\n",
       "</div>"
      ],
      "text/plain": [
       "          $X_1$     $X_3$\n",
       "$X_1$  1.000000 -0.065696\n",
       "$X_3$ -0.065696  1.000000"
      ]
     },
     "execution_count": 117,
     "metadata": {},
     "output_type": "execute_result"
    }
   ],
   "source": [
    "df[df['$X_2$'] == 0][['$X_1$', '$X_3$']].corr()"
   ]
  },
  {
   "cell_type": "markdown",
   "metadata": {},
   "source": [
    "Now there's a small, negative correlation between math and social skills in the admitted and un-admitted populations. $X_1$ and $X_3$ are statistically independent, but they're _conditionally_ dependent."
   ]
  },
  {
   "cell_type": "markdown",
   "metadata": {},
   "source": [
    "### Summary and Definition of d-separation\n",
    "\n",
    "To summarize, we looked at three graphs. In each, we checked whether the ends were statistically dependent, and whether they were conditionally statistically dependent given the middle node. For the chain graph, the ends are statistically dependent, but blocked by conditioning on the middle node. For the fork, the ends are again statistically dependent, but again conditionally independent given the middle node. Finally, for the collider, the ends are statistically independent, but statistically dependent given the middle node. We can summarize all of this into the definition of d-separation. If two nodes on a path are d-separated by some other node, then they will be conditionally independent given that node.\n",
    "\n",
    "> **Definition: d-separation**\n",
    ">\n",
    "> Let $p$ be a path (not necessarily directed) in a DAG $G$ between nodes $X_i$ and $X_j$. Then the path will be \"blocked,\" or the nodes will be \"d-separated\" by a set of nodes $Z$ if\n",
    ">\n",
    "> 1. $p$ contains a chain, $X_l \\rightarrow X_k \\rightarrow X_m$  or a fork $X_l \\leftarrow X_k \\rightarrow X_m$ such that the middle node is in $Z$, or\n",
    "> 2. $p$ contains a collider $X_l \\rightarrow X_k \\leftarrow X_m$ such that the middle node is _not_ in $Z$, and no descendant of the middle node is in $Z$.\n",
    "\n",
    "Notice that the path just has to contain these nodes: $X_i$ and $X_j$ don't have to be members of these 3-node pieces!"
   ]
  },
  {
   "cell_type": "markdown",
   "metadata": {},
   "source": [
    "## The Back-Door Criterion\n",
    "\n",
    "Now, we can build up to the back-door criterion. The basic intuition is this: directed paths from $X_i$ to $X_j$ lead to causal dependence between $X_i$ and $X_j$. There are two ways to accidentally get non-causal statistical dependence between $X_i$ and $X_j$: confounding paths between $X_i$ and $X_j$, and accidentally conditioning on colliders on paths between $X_i$ and $X_j$. Let's start reasoning from the do() operation."
   ]
  },
  {
   "cell_type": "markdown",
   "metadata": {},
   "source": [
    "Consider the causal effect of $X_1$ on $X_3$ in this graph."
   ]
  },
  {
   "cell_type": "code",
   "execution_count": 141,
   "metadata": {},
   "outputs": [
    {
     "data": {
      "image/png": "[encoded data removed]",
      "text/plain": [
       "<Figure size 432x288 with 1 Axes>"
      ]
     },
     "metadata": {},
     "output_type": "display_data"
    }
   ],
   "source": [
    "pos = nx.layout.spring_layout(g)\n",
    "g = nx.DiGraph([('$X_1$', '$X_2$'), ('$X_2$', '$X_3$'),  # a directed path from x1 to x3\n",
    "                ('$X_1$', '$X_4$'), ('$X_3$', '$X_4$'),  # a collider at x4\n",
    "                ('$X_5$', '$X_1$'), ('$X_5$', '$X_3$')]) # a fork from x5\n",
    "nx.draw(g, with_labels=True, node_color='w', font_size=16, node_size=1000, pos=pos)"
   ]
  },
  {
   "cell_type": "markdown",
   "metadata": {},
   "source": [
    "Consider the graph we get if we want to $do(X_1=x_1)$. The procedure is to cut all edges going into $X_1$ (i.e. disrupt its usual causes), force all children of $X_1$ to take the value $X_1 = x_1$, and assume the other conditional distributions are un-disrupted. That gives us the new graph where we cut the edges going into $X_1$, and leave the rest of the graph untouched."
   ]
  },
  {
   "cell_type": "code",
   "execution_count": 142,
   "metadata": {},
   "outputs": [
    {
     "data": {
      "image/png": "[encoded data removed]",
      "text/plain": [
       "<Figure size 432x288 with 1 Axes>"
      ]
     },
     "metadata": {},
     "output_type": "display_data"
    }
   ],
   "source": [
    "g = nx.DiGraph([('$X_1$', '$X_2$'), ('$X_2$', '$X_3$'),  # a directed path from x1 to x3\n",
    "                ('$X_1$', '$X_4$'), ('$X_3$', '$X_4$'),  # a collider at x4\n",
    "                ('$X_5$', '$X_3$')]) # no longer a fork from x5, we cut ('$X_5$', '$X_1$'),\n",
    "nx.draw(g, with_labels=True, node_color='w', font_size=16, node_size=1000, pos=pos)"
   ]
  },
  {
   "cell_type": "markdown",
   "metadata": {},
   "source": [
    "In this new graph, which paths are distrupted? From the do() operation, it's any path with an arrow into $X_1$. Here, that's the fork! Notice that the collider leads to no statistical dependence between $X_1$ and $X_3$. The only remaining statistical dependence is due to the directed path from $X_1$ to $X_3$.\n",
    "\n",
    "Now, let's relate this with d-separation. This operation is a model for what an intervention looks like in the world. We say we distrupt the causes of $X_1$, leave everything else alone, and study the statistics of the new system. If we can't do that, we can have the same effect by disrupting the same paths. In other words, if we can block the path $X_1 \\leftarrow X_5 \\rightarrow X_3$ in our observational data, we can still compute the same statistics (e.g. conditional distributions) that we would in an experiment! We can summarize this reasoning in a rule for which paths you should cut."
   ]
  },
  {
   "cell_type": "markdown",
   "metadata": {},
   "source": [
    "> **Definition: The Back-Door Criterion**\n",
    ">\n",
    "> A set of variables $Z$ satisfies the _back-door criterion_ relative to an ordered pair of variables $(X_i, X_j)$ in a DAG $G$ if:\n",
    "> 1. no node in $Z$ is a descendant of $X_i$, and \n",
    "> 2. $Z$ blocks every path between $X_i$ and $X_j$ that contains an arrow into $X_i$.\n",
    ">\n",
    "> Similarly, if $X$ and $Y$ are two disjoint subsets of nodes in $G$, then $Z$ is said to satisfy the back-door criterion relative to any pair $(X, Y)$ if it satisfies the criterion relative to any pair $(X_i, X_j)$ such that $X_i \\in X$ and $X_j \\in Y$."
   ]
  },
  {
   "cell_type": "markdown",
   "metadata": {},
   "source": [
    "The first condition of the criterion keeps us from conditioning on nodes that fall along directed paths. It also keeps us from conditioning on colliders, or descendants of colliders.\n",
    "\n",
    "The second condition makes sure we block all confounding paths between $X_i$ and $X_j$. \n",
    "\n",
    "All that remains is causal statistical dependence. \n",
    "\n",
    "Now, how do we estimate quantities like $P(Y|X)$ in a experimental study, given our observational data? We'll label the experimental version of this $P(Y|do(X=x))$, and the observational version of this quanitity $P(Y|X)$. Then, the answer is given by the formula:\n",
    "\n",
    "> **Theorem: Back Door Adjustment**\n",
    ">\n",
    "> If a set of variables $Z$ satisfies the back-door criterion relative to $(X, Y)$, then the causal effect of $X$ on $Y$ is identifiable, and is given by the formula \n",
    ">\n",
    "> $$ P(Y|do(X=x)) = \\sum_Z P(Y|X=x, Z=z)P(Z=z)$$\n",
    ">"
   ]
  },
  {
   "cell_type": "markdown",
   "metadata": {},
   "source": [
    "The first factor inside the sum is $P(Y|X)$ conditional also on $Z$. The reason we have to do the extra conditioning is so that we block the noncausal association between $X$ and $Y$, and we're only left with the causal part. In other words, $P(Y|X, Z) = P(Y|do(X),Z)$. Then, we want to get rid of the extra $Z$ part, which we don't really care about. We can do that by averaging over the $Z$. Hence, we multiply by $P(Z)$ and sum over $Z$."
   ]
  },
  {
   "cell_type": "code",
   "execution_count": null,
   "metadata": {},
   "outputs": [],
   "source": []
  }
 ],
 "metadata": {
  "kernelspec": {
   "display_name": "Python 3",
   "language": "python",
   "name": "python3"
  },
  "language_info": {
   "codemirror_mode": {
    "name": "ipython",
    "version": 3
   },
   "file_extension": ".py",
   "mimetype": "text/x-python",
   "name": "python",
   "nbconvert_exporter": "python",
   "pygments_lexer": "ipython3",
   "version": "3.6.6"
  }
 },
 "nbformat": 4,
 "nbformat_minor": 2
}
