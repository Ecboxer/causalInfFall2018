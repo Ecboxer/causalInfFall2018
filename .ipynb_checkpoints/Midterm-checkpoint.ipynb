{
 "cells": [
  {
   "cell_type": "markdown",
   "metadata": {},
   "source": [
    "Eric Boxer UNI ecb2198"
   ]
  },
  {
   "cell_type": "code",
   "execution_count": 1,
   "metadata": {},
   "outputs": [],
   "source": [
    "import numpy as np\n",
    "import pandas as pd"
   ]
  },
  {
   "cell_type": "markdown",
   "metadata": {},
   "source": [
    "## Part i"
   ]
  },
  {
   "cell_type": "code",
   "execution_count": 2,
   "metadata": {},
   "outputs": [
    {
     "data": {
      "text/html": [
       "<div>\n",
       "<style scoped>\n",
       "    .dataframe tbody tr th:only-of-type {\n",
       "        vertical-align: middle;\n",
       "    }\n",
       "\n",
       "    .dataframe tbody tr th {\n",
       "        vertical-align: top;\n",
       "    }\n",
       "\n",
       "    .dataframe thead th {\n",
       "        text-align: right;\n",
       "    }\n",
       "</style>\n",
       "<table border=\"1\" class=\"dataframe\">\n",
       "  <thead>\n",
       "    <tr style=\"text-align: right;\">\n",
       "      <th></th>\n",
       "      <th>X1</th>\n",
       "      <th>X2</th>\n",
       "      <th>X3</th>\n",
       "      <th>X4</th>\n",
       "      <th>D</th>\n",
       "      <th>Y</th>\n",
       "    </tr>\n",
       "  </thead>\n",
       "  <tbody>\n",
       "    <tr>\n",
       "      <th>0</th>\n",
       "      <td>0.466780</td>\n",
       "      <td>1</td>\n",
       "      <td>1</td>\n",
       "      <td>0</td>\n",
       "      <td>1</td>\n",
       "      <td>1</td>\n",
       "    </tr>\n",
       "    <tr>\n",
       "      <th>1</th>\n",
       "      <td>0.382831</td>\n",
       "      <td>0</td>\n",
       "      <td>0</td>\n",
       "      <td>0</td>\n",
       "      <td>0</td>\n",
       "      <td>1</td>\n",
       "    </tr>\n",
       "    <tr>\n",
       "      <th>2</th>\n",
       "      <td>0.031418</td>\n",
       "      <td>0</td>\n",
       "      <td>0</td>\n",
       "      <td>0</td>\n",
       "      <td>0</td>\n",
       "      <td>1</td>\n",
       "    </tr>\n",
       "    <tr>\n",
       "      <th>3</th>\n",
       "      <td>0.518304</td>\n",
       "      <td>1</td>\n",
       "      <td>0</td>\n",
       "      <td>0</td>\n",
       "      <td>1</td>\n",
       "      <td>1</td>\n",
       "    </tr>\n",
       "    <tr>\n",
       "      <th>4</th>\n",
       "      <td>0.752407</td>\n",
       "      <td>1</td>\n",
       "      <td>0</td>\n",
       "      <td>0</td>\n",
       "      <td>0</td>\n",
       "      <td>1</td>\n",
       "    </tr>\n",
       "  </tbody>\n",
       "</table>\n",
       "</div>"
      ],
      "text/plain": [
       "         X1  X2  X3  X4  D  Y\n",
       "0  0.466780   1   1   0  1  1\n",
       "1  0.382831   0   0   0  0  1\n",
       "2  0.031418   0   0   0  0  1\n",
       "3  0.518304   1   0   0  1  1\n",
       "4  0.752407   1   0   0  0  1"
      ]
     },
     "execution_count": 2,
     "metadata": {},
     "output_type": "execute_result"
    }
   ],
   "source": [
    "N = 1000000\n",
    "\n",
    "x1 = np.random.uniform(0, 1, size=N)\n",
    "\n",
    "x2 = np.random.binomial(1, p=x1)\n",
    "\n",
    "x3 = np.random.binomial(1, p=x1)\n",
    "\n",
    "p_x4 = .25\n",
    "x4 = np.random.binomial(1, p=p_x4 + (x2 + x3) / 4)\n",
    "\n",
    "p_d = .25\n",
    "d = np.random.binomial(1, p=p_d + (x2 + x3) / 4)\n",
    "\n",
    "p_y = .5\n",
    "y = np.random.binomial(1, p=p_y + (x4 + d) / 4)\n",
    "\n",
    "df = pd.DataFrame({'X1':x1, 'X2':x2, 'X3':x3, 'X4':x4, 'D':d, 'Y':y})\n",
    "df.head()"
   ]
  },
  {
   "cell_type": "code",
   "execution_count": 3,
   "metadata": {},
   "outputs": [
    {
     "data": {
      "text/html": [
       "<div>\n",
       "<style scoped>\n",
       "    .dataframe tbody tr th:only-of-type {\n",
       "        vertical-align: middle;\n",
       "    }\n",
       "\n",
       "    .dataframe tbody tr th {\n",
       "        vertical-align: top;\n",
       "    }\n",
       "\n",
       "    .dataframe thead th {\n",
       "        text-align: right;\n",
       "    }\n",
       "</style>\n",
       "<table border=\"1\" class=\"dataframe\">\n",
       "  <thead>\n",
       "    <tr style=\"text-align: right;\">\n",
       "      <th></th>\n",
       "      <th>X1</th>\n",
       "      <th>X2</th>\n",
       "      <th>X3</th>\n",
       "      <th>X4</th>\n",
       "      <th>D</th>\n",
       "      <th>Y</th>\n",
       "    </tr>\n",
       "  </thead>\n",
       "  <tbody>\n",
       "    <tr>\n",
       "      <th>0</th>\n",
       "      <td>0.479041</td>\n",
       "      <td>0</td>\n",
       "      <td>1</td>\n",
       "      <td>0</td>\n",
       "      <td>1</td>\n",
       "      <td>1</td>\n",
       "    </tr>\n",
       "    <tr>\n",
       "      <th>1</th>\n",
       "      <td>0.544387</td>\n",
       "      <td>1</td>\n",
       "      <td>0</td>\n",
       "      <td>0</td>\n",
       "      <td>0</td>\n",
       "      <td>1</td>\n",
       "    </tr>\n",
       "    <tr>\n",
       "      <th>2</th>\n",
       "      <td>0.352033</td>\n",
       "      <td>0</td>\n",
       "      <td>0</td>\n",
       "      <td>0</td>\n",
       "      <td>0</td>\n",
       "      <td>0</td>\n",
       "    </tr>\n",
       "    <tr>\n",
       "      <th>3</th>\n",
       "      <td>0.060990</td>\n",
       "      <td>0</td>\n",
       "      <td>1</td>\n",
       "      <td>0</td>\n",
       "      <td>1</td>\n",
       "      <td>1</td>\n",
       "    </tr>\n",
       "    <tr>\n",
       "      <th>4</th>\n",
       "      <td>0.423438</td>\n",
       "      <td>1</td>\n",
       "      <td>0</td>\n",
       "      <td>0</td>\n",
       "      <td>1</td>\n",
       "      <td>0</td>\n",
       "    </tr>\n",
       "  </tbody>\n",
       "</table>\n",
       "</div>"
      ],
      "text/plain": [
       "         X1  X2  X3  X4  D  Y\n",
       "0  0.479041   0   1   0  1  1\n",
       "1  0.544387   1   0   0  0  1\n",
       "2  0.352033   0   0   0  0  0\n",
       "3  0.060990   0   1   0  1  1\n",
       "4  0.423438   1   0   0  1  0"
      ]
     },
     "execution_count": 3,
     "metadata": {},
     "output_type": "execute_result"
    }
   ],
   "source": [
    "N = 1000000\n",
    "\n",
    "x1 = np.random.uniform(0, 1, size=N)\n",
    "\n",
    "x2 = np.random.binomial(1, p=x1)\n",
    "\n",
    "x3 = np.random.binomial(1, p=x1)\n",
    "\n",
    "p_x4 = .25\n",
    "x4 = np.random.binomial(1, p=p_x4 + (x2 + x3) / 4)\n",
    "\n",
    "p_d = .25\n",
    "d = np.random.binomial(1, p=p_d + (x2 + x3) / 4)\n",
    "\n",
    "p_y0 = .5\n",
    "y0 = np.random.binomial(1, p=p_y0 + x4 / 4)\n",
    "\n",
    "p_y1 = .75\n",
    "y1 = np.random.binomial(1, p=p_y1 + x4 / 4)\n",
    "\n",
    "y = (d==0) * y0 + (d==1) * y1\n",
    "\n",
    "df = pd.DataFrame({'X1':x1, 'X2':x2, 'X3':x3, 'X4':x4, 'D':d, 'Y':y})\n",
    "df.head()"
   ]
  },
  {
   "cell_type": "markdown",
   "metadata": {},
   "source": [
    "## Part ii"
   ]
  },
  {
   "cell_type": "code",
   "execution_count": 4,
   "metadata": {},
   "outputs": [
    {
     "data": {
      "text/plain": [
       "0.249999"
      ]
     },
     "execution_count": 4,
     "metadata": {},
     "output_type": "execute_result"
    }
   ],
   "source": [
    "ATE = (y1 - y0).mean()\n",
    "ATE"
   ]
  },
  {
   "cell_type": "markdown",
   "metadata": {},
   "source": [
    "## Part iii"
   ]
  },
  {
   "cell_type": "markdown",
   "metadata": {},
   "source": [
    "BDC satisfying $Z = \\{X_2, X_3\\}$"
   ]
  },
  {
   "cell_type": "markdown",
   "metadata": {},
   "source": [
    "## Part iv"
   ]
  },
  {
   "cell_type": "code",
   "execution_count": 5,
   "metadata": {},
   "outputs": [
    {
     "data": {
      "text/plain": [
       "X2  X3  D\n",
       "0   0   0    0.562395\n",
       "        1    0.811119\n",
       "    1   0    0.624429\n",
       "        1    0.875065\n",
       "1   0   0    0.624821\n",
       "        1    0.875405\n",
       "    1   0    0.686913\n",
       "        1    0.936789\n",
       "Name: Y, dtype: float64"
      ]
     },
     "execution_count": 5,
     "metadata": {},
     "output_type": "execute_result"
    }
   ],
   "source": [
    "dfz = df.groupby(['X2', 'X3', 'D'])['Y'].mean()\n",
    "dfz"
   ]
  },
  {
   "cell_type": "markdown",
   "metadata": {},
   "source": [
    "CATE for X2 = 0, X3 = 0"
   ]
  },
  {
   "cell_type": "code",
   "execution_count": 6,
   "metadata": {},
   "outputs": [
    {
     "data": {
      "text/plain": [
       "0.24872395636185185"
      ]
     },
     "execution_count": 6,
     "metadata": {},
     "output_type": "execute_result"
    }
   ],
   "source": [
    "CATE00 = dfz[0][0][1] - dfz[0][0][0]\n",
    "CATE00"
   ]
  },
  {
   "cell_type": "markdown",
   "metadata": {},
   "source": [
    "CATE for X2 = 0, X3 = 1"
   ]
  },
  {
   "cell_type": "code",
   "execution_count": 7,
   "metadata": {},
   "outputs": [
    {
     "data": {
      "text/plain": [
       "0.2506353337487299"
      ]
     },
     "execution_count": 7,
     "metadata": {},
     "output_type": "execute_result"
    }
   ],
   "source": [
    "CATE01 = dfz[0][1][1] - dfz[0][1][0]\n",
    "CATE01"
   ]
  },
  {
   "cell_type": "markdown",
   "metadata": {},
   "source": [
    "CATE for X2 = 1, X3 = 0"
   ]
  },
  {
   "cell_type": "code",
   "execution_count": 8,
   "metadata": {},
   "outputs": [
    {
     "data": {
      "text/plain": [
       "0.2505848678941801"
      ]
     },
     "execution_count": 8,
     "metadata": {},
     "output_type": "execute_result"
    }
   ],
   "source": [
    "CATE10 = dfz[1][0][1] - dfz[1][0][0]\n",
    "CATE10"
   ]
  },
  {
   "cell_type": "markdown",
   "metadata": {},
   "source": [
    "CATE for X2 = 1, X3 = 1"
   ]
  },
  {
   "cell_type": "code",
   "execution_count": 9,
   "metadata": {},
   "outputs": [
    {
     "data": {
      "text/plain": [
       "0.24987626606062818"
      ]
     },
     "execution_count": 9,
     "metadata": {},
     "output_type": "execute_result"
    }
   ],
   "source": [
    "CATE11 = dfz[1][1][1] - dfz[1][1][0]\n",
    "CATE11"
   ]
  },
  {
   "cell_type": "markdown",
   "metadata": {},
   "source": [
    "## Part v"
   ]
  },
  {
   "cell_type": "markdown",
   "metadata": {},
   "source": [
    "Proportion of the data in each stratum"
   ]
  },
  {
   "cell_type": "code",
   "execution_count": 10,
   "metadata": {},
   "outputs": [
    {
     "data": {
      "text/plain": [
       "X2  X3\n",
       "0   0     0.333424\n",
       "    1     0.166620\n",
       "1   0     0.166838\n",
       "    1     0.333118\n",
       "Name: Y, dtype: float64"
      ]
     },
     "execution_count": 10,
     "metadata": {},
     "output_type": "execute_result"
    }
   ],
   "source": [
    "df_strata = df.groupby(['X2', 'X3'])['Y'].count() / N\n",
    "df_strata"
   ]
  },
  {
   "cell_type": "code",
   "execution_count": 11,
   "metadata": {},
   "outputs": [
    {
     "data": {
      "text/plain": [
       "0.249736755922521"
      ]
     },
     "execution_count": 11,
     "metadata": {},
     "output_type": "execute_result"
    }
   ],
   "source": [
    "ATE = df_strata[0][0] * CATE00 + df_strata[0][1] * CATE01 + df_strata[1][0] * CATE10 + df_strata[1][1] * CATE11\n",
    "ATE"
   ]
  },
  {
   "cell_type": "markdown",
   "metadata": {},
   "source": [
    "### Scratch"
   ]
  },
  {
   "cell_type": "markdown",
   "metadata": {},
   "source": [
    "For fun, this is the naive estimator from the Pearlian framework. There should be bias so we should get a difference with the ATE"
   ]
  },
  {
   "cell_type": "code",
   "execution_count": 12,
   "metadata": {},
   "outputs": [
    {
     "data": {
      "text/plain": [
       "0.2914534823300411"
      ]
     },
     "execution_count": 12,
     "metadata": {},
     "output_type": "execute_result"
    }
   ],
   "source": [
    "d_naive = df.groupby('D')['Y'].mean()[1] - df.groupby('D')['Y'].mean()[0]\n",
    "d_naive"
   ]
  }
 ],
 "metadata": {
  "kernelspec": {
   "display_name": "Python 3",
   "language": "python",
   "name": "python3"
  },
  "language_info": {
   "codemirror_mode": {
    "name": "ipython",
    "version": 3
   },
   "file_extension": ".py",
   "mimetype": "text/x-python",
   "name": "python",
   "nbconvert_exporter": "python",
   "pygments_lexer": "ipython3",
   "version": "3.7.0"
  }
 },
 "nbformat": 4,
 "nbformat_minor": 2
}
