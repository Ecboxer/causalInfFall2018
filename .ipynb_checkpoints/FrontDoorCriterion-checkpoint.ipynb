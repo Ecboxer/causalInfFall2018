{
 "cells": [
  {
   "cell_type": "code",
   "execution_count": 13,
   "metadata": {
    "collapsed": true
   },
   "outputs": [],
   "source": [
    "%matplotlib inline"
   ]
  },
  {
   "cell_type": "code",
   "execution_count": 28,
   "metadata": {
    "collapsed": true
   },
   "outputs": [],
   "source": [
    "import numpy as np\n",
    "import pandas as pd\n",
    "from sklearn.linear_model import LogisticRegression, LinearRegression"
   ]
  },
  {
   "cell_type": "code",
   "execution_count": 184,
   "metadata": {
    "collapsed": false
   },
   "outputs": [],
   "source": [
    "N = 5000\n",
    "u = np.random.normal(size=N)\n",
    "\n",
    "p_d = 1./(1. + np.exp(-u))\n",
    "d = np.random.binomial(1, p=p_d)\n",
    "\n",
    "p_z = 1./(1. + np.exp(-(d + 0.1 * np.random.normal(size=N))))\n",
    "z = np.random.binomial(1, p=p_z)\n",
    "\n",
    "y = 2. * u + 2.*z + 0.2* np.random.normal(size=N) \n",
    "df = pd.DataFrame({'D': d, 'Y': y, 'Z': z})"
   ]
  },
  {
   "cell_type": "code",
   "execution_count": 185,
   "metadata": {
    "collapsed": false
   },
   "outputs": [
    {
     "data": {
      "text/plain": [
       "D    1.000000\n",
       "Y    2.279199\n",
       "Z    0.724349\n",
       "dtype: float64"
      ]
     },
     "execution_count": 185,
     "metadata": {},
     "output_type": "execute_result"
    }
   ],
   "source": [
    "df[df['D'] == 1].mean()"
   ]
  },
  {
   "cell_type": "code",
   "execution_count": 186,
   "metadata": {
    "collapsed": false
   },
   "outputs": [
    {
     "data": {
      "text/plain": [
       "D    0.000000\n",
       "Y    0.136311\n",
       "Z    0.501965\n",
       "dtype: float64"
      ]
     },
     "execution_count": 186,
     "metadata": {},
     "output_type": "execute_result"
    }
   ],
   "source": [
    "df[df['D'] == 0].mean()"
   ]
  },
  {
   "cell_type": "code",
   "execution_count": 187,
   "metadata": {
    "collapsed": false
   },
   "outputs": [
    {
     "data": {
      "image/png": "[encoded data removed]",
      "text/plain": [
       "<matplotlib.figure.Figure at 0x11707cf10>"
      ]
     },
     "metadata": {},
     "output_type": "display_data"
    }
   ],
   "source": [
    "df.hist();"
   ]
  },
  {
   "cell_type": "markdown",
   "metadata": {},
   "source": [
    "We want to estimate $E(Y|do(D=d)) = \\sum_Z P(Z|D) \\sum_{D'} E[Y|D', Z]P(D') = \\sum_Z P(Z|D) P(Y|do(Z=z))$, so we need each component. Y is real-valued, but Z and X are discrete (binary).\n",
    "\n",
    "* $P(Z|D)$ we can use a logistic regression\n",
    "* $E[Y|D', Z]$ we can use linear regression \n",
    "* $\\sum_{D'}E[Y|D', Z] P(D')$ we can do our usual trick, so we don't have to compute P(D'), or since it's discrete, we can just calculate it\n",
    "\n",
    "Let's start with $P(Z|D)$."
   ]
  },
  {
   "cell_type": "markdown",
   "metadata": {},
   "source": [
    "### What do we do first? CHECK SUPPORT\n",
    "\n",
    "We're measuring two effects, so we should check both. We need P(Y, Z) >0, and P(Z, D) > 0.\n",
    "\n",
    "\n",
    "\n"
   ]
  },
  {
   "cell_type": "code",
   "execution_count": 203,
   "metadata": {
    "collapsed": false
   },
   "outputs": [
    {
     "data": {
      "text/plain": [
       "Z\n",
       "0    [[AxesSubplot(0.125,0.125;0.775x0.755)]]\n",
       "1    [[AxesSubplot(0.125,0.125;0.775x0.755)]]\n",
       "dtype: object"
      ]
     },
     "execution_count": 203,
     "metadata": {},
     "output_type": "execute_result"
    },
    {
     "data": {
      "image/png": "[encoded data removed]",
      "text/plain": [
       "<matplotlib.figure.Figure at 0x115c1bed0>"
      ]
     },
     "metadata": {},
     "output_type": "display_data"
    },
    {
     "data": {
      "image/png": "[encoded data removed]",
      "text/plain": [
       "<matplotlib.figure.Figure at 0x11566c150>"
      ]
     },
     "metadata": {},
     "output_type": "display_data"
    }
   ],
   "source": [
    "df.groupby('Z').hist('D')"
   ]
  },
  {
   "cell_type": "code",
   "execution_count": 205,
   "metadata": {
    "collapsed": false
   },
   "outputs": [
    {
     "data": {
      "text/plain": [
       "Z\n",
       "0    [[AxesSubplot(0.125,0.125;0.775x0.755)]]\n",
       "1    [[AxesSubplot(0.125,0.125;0.775x0.755)]]\n",
       "dtype: object"
      ]
     },
     "execution_count": 205,
     "metadata": {},
     "output_type": "execute_result"
    },
    {
     "data": {
      "image/png": "[encoded data removed]",
      "text/plain": [
       "<matplotlib.figure.Figure at 0x115f4fd10>"
      ]
     },
     "metadata": {},
     "output_type": "display_data"
    },
    {
     "data": {
      "image/png": "[encoded data removed]",
      "text/plain": [
       "<matplotlib.figure.Figure at 0x115be4d90>"
      ]
     },
     "metadata": {},
     "output_type": "display_data"
    }
   ],
   "source": [
    "df.groupby('Z').hist('Y', bins=30)"
   ]
  },
  {
   "cell_type": "markdown",
   "metadata": {},
   "source": [
    "The support isn't great on the high and low side of Y, but the density there is small, and we'll plan to extrapolate with our models. That's always something to be concerned about! If the extrapolation fails, your estimator is probably biased."
   ]
  },
  {
   "cell_type": "code",
   "execution_count": 188,
   "metadata": {
    "collapsed": false
   },
   "outputs": [
    {
     "data": {
      "text/html": [
       "<div>\n",
       "<style scoped>\n",
       "    .dataframe tbody tr th:only-of-type {\n",
       "        vertical-align: middle;\n",
       "    }\n",
       "\n",
       "    .dataframe tbody tr th {\n",
       "        vertical-align: top;\n",
       "    }\n",
       "\n",
       "    .dataframe thead th {\n",
       "        text-align: right;\n",
       "    }\n",
       "</style>\n",
       "<table border=\"1\" class=\"dataframe\">\n",
       "  <thead>\n",
       "    <tr style=\"text-align: right;\">\n",
       "      <th></th>\n",
       "      <th>D</th>\n",
       "      <th>Y</th>\n",
       "      <th>Z</th>\n",
       "      <th>$P(D|Z)$</th>\n",
       "    </tr>\n",
       "  </thead>\n",
       "  <tbody>\n",
       "    <tr>\n",
       "      <th>0</th>\n",
       "      <td>0</td>\n",
       "      <td>1.813351</td>\n",
       "      <td>1</td>\n",
       "      <td>0.501965</td>\n",
       "    </tr>\n",
       "    <tr>\n",
       "      <th>1</th>\n",
       "      <td>1</td>\n",
       "      <td>1.207073</td>\n",
       "      <td>0</td>\n",
       "      <td>0.724348</td>\n",
       "    </tr>\n",
       "    <tr>\n",
       "      <th>2</th>\n",
       "      <td>1</td>\n",
       "      <td>0.317765</td>\n",
       "      <td>0</td>\n",
       "      <td>0.724348</td>\n",
       "    </tr>\n",
       "    <tr>\n",
       "      <th>3</th>\n",
       "      <td>1</td>\n",
       "      <td>1.855845</td>\n",
       "      <td>1</td>\n",
       "      <td>0.724348</td>\n",
       "    </tr>\n",
       "    <tr>\n",
       "      <th>4</th>\n",
       "      <td>1</td>\n",
       "      <td>4.678077</td>\n",
       "      <td>1</td>\n",
       "      <td>0.724348</td>\n",
       "    </tr>\n",
       "  </tbody>\n",
       "</table>\n",
       "</div>"
      ],
      "text/plain": [
       "   D         Y  Z  $P(D|Z)$\n",
       "0  0  1.813351  1  0.501965\n",
       "1  1  1.207073  0  0.724348\n",
       "2  1  0.317765  0  0.724348\n",
       "3  1  1.855845  1  0.724348\n",
       "4  1  4.678077  1  0.724348"
      ]
     },
     "execution_count": 188,
     "metadata": {},
     "output_type": "execute_result"
    }
   ],
   "source": [
    "p_z_given_d = LogisticRegression(C=1e12)\n",
    "p_z_given_d = p_z_given_x.fit(df[['D']], df['Z'])\n",
    "df[\"$P(D|Z)$\"] = p_z_given_d.predict_proba(df[['D']])[:,1]\n",
    "df.head()"
   ]
  },
  {
   "cell_type": "markdown",
   "metadata": {},
   "source": [
    "Now let's get $E[Y|D', Z]$"
   ]
  },
  {
   "cell_type": "code",
   "execution_count": 189,
   "metadata": {
    "collapsed": false
   },
   "outputs": [],
   "source": [
    "y_given_d_z = LinearRegression()\n",
    "y_given_d_z = y_given_d_z.fit(df[['D', 'Z']], df['Y'])\n",
    "df[\"$E[Y| D', Z]$\"] = y_given_d_z.predict(df[['D', 'Z']])"
   ]
  },
  {
   "cell_type": "code",
   "execution_count": 190,
   "metadata": {
    "collapsed": false,
    "scrolled": true
   },
   "outputs": [
    {
     "data": {
      "text/html": [
       "<div>\n",
       "<style scoped>\n",
       "    .dataframe tbody tr th:only-of-type {\n",
       "        vertical-align: middle;\n",
       "    }\n",
       "\n",
       "    .dataframe tbody tr th {\n",
       "        vertical-align: top;\n",
       "    }\n",
       "\n",
       "    .dataframe thead th {\n",
       "        text-align: right;\n",
       "    }\n",
       "</style>\n",
       "<table border=\"1\" class=\"dataframe\">\n",
       "  <thead>\n",
       "    <tr style=\"text-align: right;\">\n",
       "      <th></th>\n",
       "      <th>D</th>\n",
       "      <th>Y</th>\n",
       "      <th>Z</th>\n",
       "      <th>$P(D|Z)$</th>\n",
       "      <th>$E[Y| D', Z]$</th>\n",
       "    </tr>\n",
       "  </thead>\n",
       "  <tbody>\n",
       "    <tr>\n",
       "      <th>0</th>\n",
       "      <td>0</td>\n",
       "      <td>1.813351</td>\n",
       "      <td>1</td>\n",
       "      <td>0.501965</td>\n",
       "      <td>1.105574</td>\n",
       "    </tr>\n",
       "    <tr>\n",
       "      <th>1</th>\n",
       "      <td>1</td>\n",
       "      <td>1.207073</td>\n",
       "      <td>0</td>\n",
       "      <td>0.724348</td>\n",
       "      <td>0.869490</td>\n",
       "    </tr>\n",
       "    <tr>\n",
       "      <th>2</th>\n",
       "      <td>1</td>\n",
       "      <td>0.317765</td>\n",
       "      <td>0</td>\n",
       "      <td>0.724348</td>\n",
       "      <td>0.869490</td>\n",
       "    </tr>\n",
       "    <tr>\n",
       "      <th>3</th>\n",
       "      <td>1</td>\n",
       "      <td>1.855845</td>\n",
       "      <td>1</td>\n",
       "      <td>0.724348</td>\n",
       "      <td>2.815666</td>\n",
       "    </tr>\n",
       "    <tr>\n",
       "      <th>4</th>\n",
       "      <td>1</td>\n",
       "      <td>4.678077</td>\n",
       "      <td>1</td>\n",
       "      <td>0.724348</td>\n",
       "      <td>2.815666</td>\n",
       "    </tr>\n",
       "    <tr>\n",
       "      <th>5</th>\n",
       "      <td>0</td>\n",
       "      <td>2.862237</td>\n",
       "      <td>1</td>\n",
       "      <td>0.501965</td>\n",
       "      <td>1.105574</td>\n",
       "    </tr>\n",
       "    <tr>\n",
       "      <th>6</th>\n",
       "      <td>1</td>\n",
       "      <td>1.914817</td>\n",
       "      <td>1</td>\n",
       "      <td>0.724348</td>\n",
       "      <td>2.815666</td>\n",
       "    </tr>\n",
       "    <tr>\n",
       "      <th>7</th>\n",
       "      <td>1</td>\n",
       "      <td>0.391702</td>\n",
       "      <td>1</td>\n",
       "      <td>0.724348</td>\n",
       "      <td>2.815666</td>\n",
       "    </tr>\n",
       "    <tr>\n",
       "      <th>8</th>\n",
       "      <td>0</td>\n",
       "      <td>-1.753199</td>\n",
       "      <td>0</td>\n",
       "      <td>0.501965</td>\n",
       "      <td>-0.840601</td>\n",
       "    </tr>\n",
       "    <tr>\n",
       "      <th>9</th>\n",
       "      <td>0</td>\n",
       "      <td>1.555124</td>\n",
       "      <td>1</td>\n",
       "      <td>0.501965</td>\n",
       "      <td>1.105574</td>\n",
       "    </tr>\n",
       "    <tr>\n",
       "      <th>10</th>\n",
       "      <td>1</td>\n",
       "      <td>2.222936</td>\n",
       "      <td>1</td>\n",
       "      <td>0.724348</td>\n",
       "      <td>2.815666</td>\n",
       "    </tr>\n",
       "    <tr>\n",
       "      <th>11</th>\n",
       "      <td>1</td>\n",
       "      <td>2.152429</td>\n",
       "      <td>1</td>\n",
       "      <td>0.724348</td>\n",
       "      <td>2.815666</td>\n",
       "    </tr>\n",
       "    <tr>\n",
       "      <th>12</th>\n",
       "      <td>0</td>\n",
       "      <td>-4.815750</td>\n",
       "      <td>0</td>\n",
       "      <td>0.501965</td>\n",
       "      <td>-0.840601</td>\n",
       "    </tr>\n",
       "    <tr>\n",
       "      <th>13</th>\n",
       "      <td>1</td>\n",
       "      <td>-1.869212</td>\n",
       "      <td>0</td>\n",
       "      <td>0.724348</td>\n",
       "      <td>0.869490</td>\n",
       "    </tr>\n",
       "    <tr>\n",
       "      <th>14</th>\n",
       "      <td>1</td>\n",
       "      <td>1.575286</td>\n",
       "      <td>1</td>\n",
       "      <td>0.724348</td>\n",
       "      <td>2.815666</td>\n",
       "    </tr>\n",
       "    <tr>\n",
       "      <th>15</th>\n",
       "      <td>0</td>\n",
       "      <td>0.775557</td>\n",
       "      <td>1</td>\n",
       "      <td>0.501965</td>\n",
       "      <td>1.105574</td>\n",
       "    </tr>\n",
       "    <tr>\n",
       "      <th>16</th>\n",
       "      <td>1</td>\n",
       "      <td>3.589573</td>\n",
       "      <td>1</td>\n",
       "      <td>0.724348</td>\n",
       "      <td>2.815666</td>\n",
       "    </tr>\n",
       "    <tr>\n",
       "      <th>17</th>\n",
       "      <td>1</td>\n",
       "      <td>3.947033</td>\n",
       "      <td>1</td>\n",
       "      <td>0.724348</td>\n",
       "      <td>2.815666</td>\n",
       "    </tr>\n",
       "    <tr>\n",
       "      <th>18</th>\n",
       "      <td>0</td>\n",
       "      <td>-2.040981</td>\n",
       "      <td>0</td>\n",
       "      <td>0.501965</td>\n",
       "      <td>-0.840601</td>\n",
       "    </tr>\n",
       "    <tr>\n",
       "      <th>19</th>\n",
       "      <td>0</td>\n",
       "      <td>-1.035452</td>\n",
       "      <td>0</td>\n",
       "      <td>0.501965</td>\n",
       "      <td>-0.840601</td>\n",
       "    </tr>\n",
       "    <tr>\n",
       "      <th>20</th>\n",
       "      <td>1</td>\n",
       "      <td>9.153940</td>\n",
       "      <td>1</td>\n",
       "      <td>0.724348</td>\n",
       "      <td>2.815666</td>\n",
       "    </tr>\n",
       "    <tr>\n",
       "      <th>21</th>\n",
       "      <td>1</td>\n",
       "      <td>3.093233</td>\n",
       "      <td>1</td>\n",
       "      <td>0.724348</td>\n",
       "      <td>2.815666</td>\n",
       "    </tr>\n",
       "    <tr>\n",
       "      <th>22</th>\n",
       "      <td>1</td>\n",
       "      <td>0.585575</td>\n",
       "      <td>0</td>\n",
       "      <td>0.724348</td>\n",
       "      <td>0.869490</td>\n",
       "    </tr>\n",
       "    <tr>\n",
       "      <th>23</th>\n",
       "      <td>1</td>\n",
       "      <td>2.369515</td>\n",
       "      <td>1</td>\n",
       "      <td>0.724348</td>\n",
       "      <td>2.815666</td>\n",
       "    </tr>\n",
       "    <tr>\n",
       "      <th>24</th>\n",
       "      <td>0</td>\n",
       "      <td>1.512505</td>\n",
       "      <td>0</td>\n",
       "      <td>0.501965</td>\n",
       "      <td>-0.840601</td>\n",
       "    </tr>\n",
       "    <tr>\n",
       "      <th>25</th>\n",
       "      <td>1</td>\n",
       "      <td>3.437692</td>\n",
       "      <td>1</td>\n",
       "      <td>0.724348</td>\n",
       "      <td>2.815666</td>\n",
       "    </tr>\n",
       "    <tr>\n",
       "      <th>26</th>\n",
       "      <td>1</td>\n",
       "      <td>0.649377</td>\n",
       "      <td>1</td>\n",
       "      <td>0.724348</td>\n",
       "      <td>2.815666</td>\n",
       "    </tr>\n",
       "    <tr>\n",
       "      <th>27</th>\n",
       "      <td>0</td>\n",
       "      <td>1.113973</td>\n",
       "      <td>0</td>\n",
       "      <td>0.501965</td>\n",
       "      <td>-0.840601</td>\n",
       "    </tr>\n",
       "    <tr>\n",
       "      <th>28</th>\n",
       "      <td>1</td>\n",
       "      <td>2.839603</td>\n",
       "      <td>1</td>\n",
       "      <td>0.724348</td>\n",
       "      <td>2.815666</td>\n",
       "    </tr>\n",
       "    <tr>\n",
       "      <th>29</th>\n",
       "      <td>0</td>\n",
       "      <td>-4.086222</td>\n",
       "      <td>0</td>\n",
       "      <td>0.501965</td>\n",
       "      <td>-0.840601</td>\n",
       "    </tr>\n",
       "    <tr>\n",
       "      <th>...</th>\n",
       "      <td>...</td>\n",
       "      <td>...</td>\n",
       "      <td>...</td>\n",
       "      <td>...</td>\n",
       "      <td>...</td>\n",
       "    </tr>\n",
       "    <tr>\n",
       "      <th>4970</th>\n",
       "      <td>0</td>\n",
       "      <td>-1.334995</td>\n",
       "      <td>0</td>\n",
       "      <td>0.501965</td>\n",
       "      <td>-0.840601</td>\n",
       "    </tr>\n",
       "    <tr>\n",
       "      <th>4971</th>\n",
       "      <td>0</td>\n",
       "      <td>-3.746823</td>\n",
       "      <td>0</td>\n",
       "      <td>0.501965</td>\n",
       "      <td>-0.840601</td>\n",
       "    </tr>\n",
       "    <tr>\n",
       "      <th>4972</th>\n",
       "      <td>1</td>\n",
       "      <td>2.555232</td>\n",
       "      <td>1</td>\n",
       "      <td>0.724348</td>\n",
       "      <td>2.815666</td>\n",
       "    </tr>\n",
       "    <tr>\n",
       "      <th>4973</th>\n",
       "      <td>1</td>\n",
       "      <td>2.639780</td>\n",
       "      <td>1</td>\n",
       "      <td>0.724348</td>\n",
       "      <td>2.815666</td>\n",
       "    </tr>\n",
       "    <tr>\n",
       "      <th>4974</th>\n",
       "      <td>0</td>\n",
       "      <td>-1.421910</td>\n",
       "      <td>1</td>\n",
       "      <td>0.501965</td>\n",
       "      <td>1.105574</td>\n",
       "    </tr>\n",
       "    <tr>\n",
       "      <th>4975</th>\n",
       "      <td>0</td>\n",
       "      <td>-0.019750</td>\n",
       "      <td>0</td>\n",
       "      <td>0.501965</td>\n",
       "      <td>-0.840601</td>\n",
       "    </tr>\n",
       "    <tr>\n",
       "      <th>4976</th>\n",
       "      <td>0</td>\n",
       "      <td>0.228803</td>\n",
       "      <td>0</td>\n",
       "      <td>0.501965</td>\n",
       "      <td>-0.840601</td>\n",
       "    </tr>\n",
       "    <tr>\n",
       "      <th>4977</th>\n",
       "      <td>0</td>\n",
       "      <td>-1.248309</td>\n",
       "      <td>1</td>\n",
       "      <td>0.501965</td>\n",
       "      <td>1.105574</td>\n",
       "    </tr>\n",
       "    <tr>\n",
       "      <th>4978</th>\n",
       "      <td>0</td>\n",
       "      <td>0.938322</td>\n",
       "      <td>1</td>\n",
       "      <td>0.501965</td>\n",
       "      <td>1.105574</td>\n",
       "    </tr>\n",
       "    <tr>\n",
       "      <th>4979</th>\n",
       "      <td>0</td>\n",
       "      <td>-0.113057</td>\n",
       "      <td>0</td>\n",
       "      <td>0.501965</td>\n",
       "      <td>-0.840601</td>\n",
       "    </tr>\n",
       "    <tr>\n",
       "      <th>4980</th>\n",
       "      <td>0</td>\n",
       "      <td>1.210678</td>\n",
       "      <td>0</td>\n",
       "      <td>0.501965</td>\n",
       "      <td>-0.840601</td>\n",
       "    </tr>\n",
       "    <tr>\n",
       "      <th>4981</th>\n",
       "      <td>1</td>\n",
       "      <td>-1.036083</td>\n",
       "      <td>1</td>\n",
       "      <td>0.724348</td>\n",
       "      <td>2.815666</td>\n",
       "    </tr>\n",
       "    <tr>\n",
       "      <th>4982</th>\n",
       "      <td>0</td>\n",
       "      <td>-0.347940</td>\n",
       "      <td>1</td>\n",
       "      <td>0.501965</td>\n",
       "      <td>1.105574</td>\n",
       "    </tr>\n",
       "    <tr>\n",
       "      <th>4983</th>\n",
       "      <td>0</td>\n",
       "      <td>-0.098543</td>\n",
       "      <td>0</td>\n",
       "      <td>0.501965</td>\n",
       "      <td>-0.840601</td>\n",
       "    </tr>\n",
       "    <tr>\n",
       "      <th>4984</th>\n",
       "      <td>1</td>\n",
       "      <td>7.214081</td>\n",
       "      <td>1</td>\n",
       "      <td>0.724348</td>\n",
       "      <td>2.815666</td>\n",
       "    </tr>\n",
       "    <tr>\n",
       "      <th>4985</th>\n",
       "      <td>1</td>\n",
       "      <td>8.972760</td>\n",
       "      <td>1</td>\n",
       "      <td>0.724348</td>\n",
       "      <td>2.815666</td>\n",
       "    </tr>\n",
       "    <tr>\n",
       "      <th>4986</th>\n",
       "      <td>1</td>\n",
       "      <td>2.063666</td>\n",
       "      <td>1</td>\n",
       "      <td>0.724348</td>\n",
       "      <td>2.815666</td>\n",
       "    </tr>\n",
       "    <tr>\n",
       "      <th>4987</th>\n",
       "      <td>1</td>\n",
       "      <td>4.867444</td>\n",
       "      <td>1</td>\n",
       "      <td>0.724348</td>\n",
       "      <td>2.815666</td>\n",
       "    </tr>\n",
       "    <tr>\n",
       "      <th>4988</th>\n",
       "      <td>1</td>\n",
       "      <td>3.401611</td>\n",
       "      <td>1</td>\n",
       "      <td>0.724348</td>\n",
       "      <td>2.815666</td>\n",
       "    </tr>\n",
       "    <tr>\n",
       "      <th>4989</th>\n",
       "      <td>0</td>\n",
       "      <td>-1.991439</td>\n",
       "      <td>0</td>\n",
       "      <td>0.501965</td>\n",
       "      <td>-0.840601</td>\n",
       "    </tr>\n",
       "    <tr>\n",
       "      <th>4990</th>\n",
       "      <td>1</td>\n",
       "      <td>0.220615</td>\n",
       "      <td>1</td>\n",
       "      <td>0.724348</td>\n",
       "      <td>2.815666</td>\n",
       "    </tr>\n",
       "    <tr>\n",
       "      <th>4991</th>\n",
       "      <td>0</td>\n",
       "      <td>-1.517893</td>\n",
       "      <td>0</td>\n",
       "      <td>0.501965</td>\n",
       "      <td>-0.840601</td>\n",
       "    </tr>\n",
       "    <tr>\n",
       "      <th>4992</th>\n",
       "      <td>1</td>\n",
       "      <td>3.627046</td>\n",
       "      <td>1</td>\n",
       "      <td>0.724348</td>\n",
       "      <td>2.815666</td>\n",
       "    </tr>\n",
       "    <tr>\n",
       "      <th>4993</th>\n",
       "      <td>1</td>\n",
       "      <td>1.361454</td>\n",
       "      <td>0</td>\n",
       "      <td>0.724348</td>\n",
       "      <td>0.869490</td>\n",
       "    </tr>\n",
       "    <tr>\n",
       "      <th>4994</th>\n",
       "      <td>1</td>\n",
       "      <td>2.889220</td>\n",
       "      <td>1</td>\n",
       "      <td>0.724348</td>\n",
       "      <td>2.815666</td>\n",
       "    </tr>\n",
       "    <tr>\n",
       "      <th>4995</th>\n",
       "      <td>0</td>\n",
       "      <td>1.348715</td>\n",
       "      <td>0</td>\n",
       "      <td>0.501965</td>\n",
       "      <td>-0.840601</td>\n",
       "    </tr>\n",
       "    <tr>\n",
       "      <th>4996</th>\n",
       "      <td>1</td>\n",
       "      <td>2.383191</td>\n",
       "      <td>1</td>\n",
       "      <td>0.724348</td>\n",
       "      <td>2.815666</td>\n",
       "    </tr>\n",
       "    <tr>\n",
       "      <th>4997</th>\n",
       "      <td>0</td>\n",
       "      <td>-0.533678</td>\n",
       "      <td>1</td>\n",
       "      <td>0.501965</td>\n",
       "      <td>1.105574</td>\n",
       "    </tr>\n",
       "    <tr>\n",
       "      <th>4998</th>\n",
       "      <td>1</td>\n",
       "      <td>1.741694</td>\n",
       "      <td>1</td>\n",
       "      <td>0.724348</td>\n",
       "      <td>2.815666</td>\n",
       "    </tr>\n",
       "    <tr>\n",
       "      <th>4999</th>\n",
       "      <td>1</td>\n",
       "      <td>2.364081</td>\n",
       "      <td>1</td>\n",
       "      <td>0.724348</td>\n",
       "      <td>2.815666</td>\n",
       "    </tr>\n",
       "  </tbody>\n",
       "</table>\n",
       "<p>5000 rows × 5 columns</p>\n",
       "</div>"
      ],
      "text/plain": [
       "      D         Y  Z  $P(D|Z)$  $E[Y| D', Z]$\n",
       "0     0  1.813351  1  0.501965       1.105574\n",
       "1     1  1.207073  0  0.724348       0.869490\n",
       "2     1  0.317765  0  0.724348       0.869490\n",
       "3     1  1.855845  1  0.724348       2.815666\n",
       "4     1  4.678077  1  0.724348       2.815666\n",
       "5     0  2.862237  1  0.501965       1.105574\n",
       "6     1  1.914817  1  0.724348       2.815666\n",
       "7     1  0.391702  1  0.724348       2.815666\n",
       "8     0 -1.753199  0  0.501965      -0.840601\n",
       "9     0  1.555124  1  0.501965       1.105574\n",
       "10    1  2.222936  1  0.724348       2.815666\n",
       "11    1  2.152429  1  0.724348       2.815666\n",
       "12    0 -4.815750  0  0.501965      -0.840601\n",
       "13    1 -1.869212  0  0.724348       0.869490\n",
       "14    1  1.575286  1  0.724348       2.815666\n",
       "15    0  0.775557  1  0.501965       1.105574\n",
       "16    1  3.589573  1  0.724348       2.815666\n",
       "17    1  3.947033  1  0.724348       2.815666\n",
       "18    0 -2.040981  0  0.501965      -0.840601\n",
       "19    0 -1.035452  0  0.501965      -0.840601\n",
       "20    1  9.153940  1  0.724348       2.815666\n",
       "21    1  3.093233  1  0.724348       2.815666\n",
       "22    1  0.585575  0  0.724348       0.869490\n",
       "23    1  2.369515  1  0.724348       2.815666\n",
       "24    0  1.512505  0  0.501965      -0.840601\n",
       "25    1  3.437692  1  0.724348       2.815666\n",
       "26    1  0.649377  1  0.724348       2.815666\n",
       "27    0  1.113973  0  0.501965      -0.840601\n",
       "28    1  2.839603  1  0.724348       2.815666\n",
       "29    0 -4.086222  0  0.501965      -0.840601\n",
       "...  ..       ... ..       ...            ...\n",
       "4970  0 -1.334995  0  0.501965      -0.840601\n",
       "4971  0 -3.746823  0  0.501965      -0.840601\n",
       "4972  1  2.555232  1  0.724348       2.815666\n",
       "4973  1  2.639780  1  0.724348       2.815666\n",
       "4974  0 -1.421910  1  0.501965       1.105574\n",
       "4975  0 -0.019750  0  0.501965      -0.840601\n",
       "4976  0  0.228803  0  0.501965      -0.840601\n",
       "4977  0 -1.248309  1  0.501965       1.105574\n",
       "4978  0  0.938322  1  0.501965       1.105574\n",
       "4979  0 -0.113057  0  0.501965      -0.840601\n",
       "4980  0  1.210678  0  0.501965      -0.840601\n",
       "4981  1 -1.036083  1  0.724348       2.815666\n",
       "4982  0 -0.347940  1  0.501965       1.105574\n",
       "4983  0 -0.098543  0  0.501965      -0.840601\n",
       "4984  1  7.214081  1  0.724348       2.815666\n",
       "4985  1  8.972760  1  0.724348       2.815666\n",
       "4986  1  2.063666  1  0.724348       2.815666\n",
       "4987  1  4.867444  1  0.724348       2.815666\n",
       "4988  1  3.401611  1  0.724348       2.815666\n",
       "4989  0 -1.991439  0  0.501965      -0.840601\n",
       "4990  1  0.220615  1  0.724348       2.815666\n",
       "4991  0 -1.517893  0  0.501965      -0.840601\n",
       "4992  1  3.627046  1  0.724348       2.815666\n",
       "4993  1  1.361454  0  0.724348       0.869490\n",
       "4994  1  2.889220  1  0.724348       2.815666\n",
       "4995  0  1.348715  0  0.501965      -0.840601\n",
       "4996  1  2.383191  1  0.724348       2.815666\n",
       "4997  0 -0.533678  1  0.501965       1.105574\n",
       "4998  1  1.741694  1  0.724348       2.815666\n",
       "4999  1  2.364081  1  0.724348       2.815666\n",
       "\n",
       "[5000 rows x 5 columns]"
      ]
     },
     "execution_count": 190,
     "metadata": {},
     "output_type": "execute_result"
    }
   ],
   "source": [
    "df"
   ]
  },
  {
   "cell_type": "code",
   "execution_count": 191,
   "metadata": {
    "collapsed": false
   },
   "outputs": [
    {
     "data": {
      "text/plain": [
       "D\n",
       "0    0.5088\n",
       "1    0.4912\n",
       "Name: Y, dtype: float64"
      ]
     },
     "execution_count": 191,
     "metadata": {},
     "output_type": "execute_result"
    }
   ],
   "source": [
    "p_d = df.groupby('D').count()['Y'] / len(df)\n",
    "p_d"
   ]
  },
  {
   "cell_type": "markdown",
   "metadata": {},
   "source": [
    "Let's do D=1. We see $P(D=1) = 0.485$"
   ]
  },
  {
   "cell_type": "code",
   "execution_count": 192,
   "metadata": {
    "collapsed": false
   },
   "outputs": [],
   "source": [
    "# compute E[Y|do(Z=z)] for each z. We need to perform the sum over D'.\n",
    "from collections import defaultdict\n",
    "\n",
    "E_y_do_z = defaultdict(lambda : 0.)\n",
    "\n",
    "for zi in df['Z'].unique():\n",
    "    for di in df['D'].unique():\n",
    "        E_y_do_z[zi] += y_given_d_z.predict([[di, zi]])[0] * p_d[di]\n",
    "        "
   ]
  },
  {
   "cell_type": "code",
   "execution_count": 193,
   "metadata": {
    "collapsed": false
   },
   "outputs": [],
   "source": [
    "# Now, we can evaluate the outer sum\n",
    "E_y_do_d = defaultdict(lambda : 0.)\n",
    "for di in df['D'].unique():\n",
    "    for zi in df['Z'].unique():\n",
    "        E_y_do_d[di] += E_y_do_z[zi] * p_z_given_d.predict_proba([[di]])[0][1]\n"
   ]
  },
  {
   "cell_type": "code",
   "execution_count": 194,
   "metadata": {
    "collapsed": false
   },
   "outputs": [
    {
     "data": {
      "text/plain": [
       "defaultdict(<function __main__.<lambda>>,\n",
       "            {0: 0.9763059836877175, 1: 1.40883365975047})"
      ]
     },
     "execution_count": 194,
     "metadata": {},
     "output_type": "execute_result"
    }
   ],
   "source": [
    "E_y_do_d"
   ]
  },
  {
   "cell_type": "code",
   "execution_count": 195,
   "metadata": {
    "collapsed": true
   },
   "outputs": [],
   "source": [
    "# We can check by intervening! Then, the naive estimator should work.\n",
    "\n",
    "N = 5000\n",
    "u = np.random.normal(size=N)\n",
    "\n",
    "p_d = 0.5 # 1./(1. + np.exp(-u)) replace with random assignment to break confounding, keep the same marginal of p(D)\n",
    "d = np.random.binomial(1, p=p_d, size=N)\n",
    "\n",
    "p_z = 1./(1. + np.exp(-(d + 0.1 * np.random.normal(size=N))))\n",
    "z = np.random.binomial(1, p=p_z)\n",
    "\n",
    "y = 2. * u + 2.*z + 0.2* np.random.normal(size=N) \n",
    "df = pd.DataFrame({'D': d, 'Y': y, 'Z': z})"
   ]
  },
  {
   "cell_type": "code",
   "execution_count": 199,
   "metadata": {
    "collapsed": false
   },
   "outputs": [
    {
     "data": {
      "text/plain": [
       "1.433817023841926"
      ]
     },
     "execution_count": 199,
     "metadata": {},
     "output_type": "execute_result"
    }
   ],
   "source": [
    "df[df['D'] == 1].mean()['Y']"
   ]
  },
  {
   "cell_type": "code",
   "execution_count": 198,
   "metadata": {
    "collapsed": false
   },
   "outputs": [
    {
     "data": {
      "text/plain": [
       "0.9729122633926304"
      ]
     },
     "execution_count": 198,
     "metadata": {},
     "output_type": "execute_result"
    }
   ],
   "source": [
    "df[df['D'] == 0].mean()['Y']"
   ]
  },
  {
   "cell_type": "code",
   "execution_count": null,
   "metadata": {
    "collapsed": true
   },
   "outputs": [],
   "source": []
  }
 ],
 "metadata": {
  "kernelspec": {
   "display_name": "Python 2",
   "language": "python",
   "name": "python2"
  },
  "language_info": {
   "codemirror_mode": {
    "name": "ipython",
    "version": 2
   },
   "file_extension": ".py",
   "mimetype": "text/x-python",
   "name": "python",
   "nbconvert_exporter": "python",
   "pygments_lexer": "ipython2",
   "version": "2.7.11"
  }
 },
 "nbformat": 4,
 "nbformat_minor": 2
}
